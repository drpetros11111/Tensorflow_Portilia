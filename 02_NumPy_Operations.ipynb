{
  "cells": [
    {
      "cell_type": "markdown",
      "metadata": {
        "id": "view-in-github",
        "colab_type": "text"
      },
      "source": [
        "<a href=\"https://colab.research.google.com/github/drpetros11111/Tensorflow_Portilia/blob/Numpy/02_NumPy_Operations.ipynb\" target=\"_parent\"><img src=\"https://colab.research.google.com/assets/colab-badge.svg\" alt=\"Open In Colab\"/></a>"
      ]
    },
    {
      "cell_type": "markdown",
      "metadata": {
        "id": "bwJzPjxclShy"
      },
      "source": [
        "___\n",
        "\n",
        "<a href='http://www.pieriandata.com'><img src='../Pierian_Data_Logo.png'/></a>\n",
        "___\n",
        "<center><em>Copyright Pierian Data</em></center>\n",
        "<center><em>For more information, visit us at <a href='http://www.pieriandata.com'>www.pieriandata.com</a></em></center>"
      ]
    },
    {
      "cell_type": "markdown",
      "metadata": {
        "collapsed": true,
        "id": "dzdNdU-xlSh1"
      },
      "source": [
        "# NumPy Operations"
      ]
    },
    {
      "cell_type": "markdown",
      "metadata": {
        "id": "_W0o0u1xlSh1"
      },
      "source": [
        "## Arithmetic\n",
        "\n",
        "You can easily perform *array with array* arithmetic, or *scalar with array* arithmetic. Let's see some examples:"
      ]
    },
    {
      "cell_type": "code",
      "execution_count": 1,
      "metadata": {
        "colab": {
          "base_uri": "https://localhost:8080/"
        },
        "id": "qLpvfOi4lSh2",
        "outputId": "37f1faaa-1446-4a64-c9b5-0a3727d844a7"
      },
      "outputs": [
        {
          "output_type": "execute_result",
          "data": {
            "text/plain": [
              "array([0, 1, 2, 3, 4, 5, 6, 7, 8, 9])"
            ]
          },
          "metadata": {},
          "execution_count": 1
        }
      ],
      "source": [
        "import numpy as np\n",
        "arr = np.arange(0,10)\n",
        "arr"
      ]
    },
    {
      "cell_type": "code",
      "execution_count": 2,
      "metadata": {
        "colab": {
          "base_uri": "https://localhost:8080/"
        },
        "id": "pJNk14DVlSh3",
        "outputId": "f042dd62-ee13-415c-86bd-1d25eb3c2db3"
      },
      "outputs": [
        {
          "output_type": "execute_result",
          "data": {
            "text/plain": [
              "array([ 0,  2,  4,  6,  8, 10, 12, 14, 16, 18])"
            ]
          },
          "metadata": {},
          "execution_count": 2
        }
      ],
      "source": [
        "arr + arr"
      ]
    },
    {
      "cell_type": "code",
      "execution_count": 3,
      "metadata": {
        "colab": {
          "base_uri": "https://localhost:8080/"
        },
        "id": "EF65xKYPlSh3",
        "outputId": "0bf55d31-4ac6-4b5c-f43d-e085ed2ab6fa"
      },
      "outputs": [
        {
          "output_type": "execute_result",
          "data": {
            "text/plain": [
              "array([ 0,  1,  4,  9, 16, 25, 36, 49, 64, 81])"
            ]
          },
          "metadata": {},
          "execution_count": 3
        }
      ],
      "source": [
        "arr * arr"
      ]
    },
    {
      "cell_type": "code",
      "execution_count": 4,
      "metadata": {
        "colab": {
          "base_uri": "https://localhost:8080/"
        },
        "id": "HINaOcpllSh3",
        "outputId": "1deb0af2-9e50-40ee-e6ea-c86a28fa36a1"
      },
      "outputs": [
        {
          "output_type": "execute_result",
          "data": {
            "text/plain": [
              "array([0, 0, 0, 0, 0, 0, 0, 0, 0, 0])"
            ]
          },
          "metadata": {},
          "execution_count": 4
        }
      ],
      "source": [
        "arr - arr"
      ]
    },
    {
      "cell_type": "code",
      "execution_count": 5,
      "metadata": {
        "colab": {
          "base_uri": "https://localhost:8080/"
        },
        "id": "fjroMNEulSh3",
        "outputId": "35e4cfdf-551b-43de-8c75-2c023dcca402"
      },
      "outputs": [
        {
          "output_type": "stream",
          "name": "stderr",
          "text": [
            "<ipython-input-5-11ca4d9cc351>:3: RuntimeWarning: invalid value encountered in divide\n",
            "  arr/arr\n"
          ]
        },
        {
          "output_type": "execute_result",
          "data": {
            "text/plain": [
              "array([nan,  1.,  1.,  1.,  1.,  1.,  1.,  1.,  1.,  1.])"
            ]
          },
          "metadata": {},
          "execution_count": 5
        }
      ],
      "source": [
        "# This will raise a Warning on division by zero, but not an error!\n",
        "# It just fills the spot with nan\n",
        "arr/arr"
      ]
    },
    {
      "cell_type": "code",
      "execution_count": 6,
      "metadata": {
        "colab": {
          "base_uri": "https://localhost:8080/"
        },
        "id": "tGhViYp0lSh4",
        "outputId": "dc853d6d-3e4f-4764-98a9-4349ca36a53b"
      },
      "outputs": [
        {
          "output_type": "stream",
          "name": "stderr",
          "text": [
            "<ipython-input-6-9b0f118908c2>:2: RuntimeWarning: divide by zero encountered in divide\n",
            "  1/arr\n"
          ]
        },
        {
          "output_type": "execute_result",
          "data": {
            "text/plain": [
              "array([       inf, 1.        , 0.5       , 0.33333333, 0.25      ,\n",
              "       0.2       , 0.16666667, 0.14285714, 0.125     , 0.11111111])"
            ]
          },
          "metadata": {},
          "execution_count": 6
        }
      ],
      "source": [
        "# Also a warning (but not an error) relating to infinity\n",
        "1/arr"
      ]
    },
    {
      "cell_type": "code",
      "execution_count": 7,
      "metadata": {
        "colab": {
          "base_uri": "https://localhost:8080/"
        },
        "id": "RaGymsf7lSh4",
        "outputId": "ba50be73-db62-493c-e33a-3d52f2a8dfb3"
      },
      "outputs": [
        {
          "output_type": "execute_result",
          "data": {
            "text/plain": [
              "array([  0,   1,   8,  27,  64, 125, 216, 343, 512, 729])"
            ]
          },
          "metadata": {},
          "execution_count": 7
        }
      ],
      "source": [
        "arr**3"
      ]
    },
    {
      "cell_type": "markdown",
      "metadata": {
        "id": "SwHU2174lSh4"
      },
      "source": [
        "## Universal Array Functions\n",
        "\n",
        "NumPy comes with many [universal array functions](http://docs.scipy.org/doc/numpy/reference/ufuncs.html), or <em>ufuncs</em>, which are essentially just mathematical operations that can be applied across the array.<br>Let's show some common ones:"
      ]
    },
    {
      "cell_type": "code",
      "execution_count": 8,
      "metadata": {
        "colab": {
          "base_uri": "https://localhost:8080/"
        },
        "id": "mnTzfvkIlSh5",
        "outputId": "19133f5f-8544-458f-aec5-cbb4c460c65f"
      },
      "outputs": [
        {
          "output_type": "execute_result",
          "data": {
            "text/plain": [
              "array([0.        , 1.        , 1.41421356, 1.73205081, 2.        ,\n",
              "       2.23606798, 2.44948974, 2.64575131, 2.82842712, 3.        ])"
            ]
          },
          "metadata": {},
          "execution_count": 8
        }
      ],
      "source": [
        "# Taking Square Roots\n",
        "np.sqrt(arr)"
      ]
    },
    {
      "cell_type": "code",
      "execution_count": 9,
      "metadata": {
        "colab": {
          "base_uri": "https://localhost:8080/"
        },
        "id": "yCDlPicKlSh5",
        "outputId": "be647604-15a3-4ab2-dac0-626cd89d2593"
      },
      "outputs": [
        {
          "output_type": "execute_result",
          "data": {
            "text/plain": [
              "array([1.00000000e+00, 2.71828183e+00, 7.38905610e+00, 2.00855369e+01,\n",
              "       5.45981500e+01, 1.48413159e+02, 4.03428793e+02, 1.09663316e+03,\n",
              "       2.98095799e+03, 8.10308393e+03])"
            ]
          },
          "metadata": {},
          "execution_count": 9
        }
      ],
      "source": [
        "# Calculating exponential (e^)\n",
        "np.exp(arr)"
      ]
    },
    {
      "cell_type": "code",
      "execution_count": 10,
      "metadata": {
        "colab": {
          "base_uri": "https://localhost:8080/"
        },
        "id": "u0KhShLYlSh5",
        "outputId": "56bc8e82-bbc9-4870-dd8e-2ae90858130f"
      },
      "outputs": [
        {
          "output_type": "execute_result",
          "data": {
            "text/plain": [
              "array([ 0.        ,  0.84147098,  0.90929743,  0.14112001, -0.7568025 ,\n",
              "       -0.95892427, -0.2794155 ,  0.6569866 ,  0.98935825,  0.41211849])"
            ]
          },
          "metadata": {},
          "execution_count": 10
        }
      ],
      "source": [
        "# Trigonometric Functions like sine\n",
        "np.sin(arr)"
      ]
    },
    {
      "cell_type": "markdown",
      "source": [
        "# Trigonometric Function: Sine (sin)\n",
        "The sine function is one of the primary trigonometric functions, and it relates the angles of a right triangle to the ratio of two sides. It's defined as:\n",
        "![image.png](data:image/png;base64,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)\n",
        "\n",
        "-------------------------------\n",
        "#Sine Function in Real Life\n",
        "##1. Oscillatory Motion (Waves)\n",
        "The sine function is heavily used to model oscillatory behavior, such as waves:\n",
        "\n",
        "##Sound waves:\n",
        "\n",
        "Vibrations in the air can be described as sine waves. The loudness (amplitude) and pitch (frequency) of sound are modeled using the sine function.\n",
        "\n",
        "##Light waves:\n",
        "\n",
        "The behavior of electromagnetic waves, including light, can also be modeled using sine waves.\n",
        "\n",
        "Radio waves: Antenna radiation patterns and signals can be represented as sine waves.\n",
        "\n",
        "The general equation for a wave is:\n",
        "![image.png](data:image/png;base64,iVBORw0KGgoAAAANSUhEUgAAAkcAAADvCAIAAAB38ecKAAAgAElEQVR4Ae2dv2sjybbH3z/Qf4BzhQObXHiBs3E4ZoM1bHAFhmtwsJgNRr7BIiYYxAaimWAQE1zzgsFMsNDBgjcY0MKCJ1loBYMcXJgNBjTgQMEECgwKNujHqZ+nqqvbktySW62veLzpH1WnzvlU9fl2VZf3/k+GHwiAAAiAAAg0hcD/NCUQxAECIAACIAACGVQNgwAEQAAEQKA5BKBqzelLRAICIAACIABVwxgAARAAARBoDgGoWnP6EpGAAAiAAAhA1TAGQAAEQAAEmkMAqtacvkQkIAACIAACUDWMARAAARAAgeYQgKo1py8RCQiAAAiAAFQNYwAEQAAEQKA5BKBqzelLRAICIAACIABVwxgAARAAARBoDgGoWnP6EpGAAAiAAAhA1TAGQAAEQAAEmkMAqtacvkQk201gPpv/XRxB+d3iett5Zz672yLHt8vbLQK7oqtQtRXBoRoIVEngy7D7UzIpsXiXxv+K08fK9bfXF+/SWYl7Vd6aDH/qJl+qtFi5rfndnNmcp69O4hG/wm7icOMEoGobR44GQcAjMB/Hz86HX72rudPPl+3TUuXL1ajowvz6RSv655JN340vn5/Hf5Qpdci9+fjV4fn7TQloyIP7r82vuy+uXRGbXP7zpOZKfH9cTSkBVWtKTyKOrSUwfnNw9C6f/ccXx4e93538Pn69306mGw50Por3oyiK4nSphkcxVTpe0t2bwcF3l3kWi7UcILZYxSVL3QzO82HdDPaXDXbJZlF8QQJQtQVBoRgIrIfA16uz6OwqP1G7GexH+4Mbt9HPl0etnjdNcEtUfjYefN9ufxtFUXfJdmfpu4urv9wpzT3eza5+iM5+c4T8nhr8dpAYL8CPp1dnr8b8wuLHk7dnl5/zxSeX37V6H5aKN28EVyogAFWrACJMgMDKBKZJO3o+zCfyyS/tkJBMLr+Nun9sLnVOk5Pz97O0H0VRO7ldOcrFKt4m7eg8wGKx2gXECirfJu3+cpNPbWh69UMc1MPJ28PIX5nUlfDvBglA1TYIG03tIoH59OY6/cuRrfnMyNJs+Dxq/+Isuc1ns9lskvwQRafJZDbzdgOOX7Win1dLx8vT/zo8P6W1NqFqh6EJirD59VP6e5L8dj2+nX36OBGxURDTv9Lrj1MZKp1/GV9/+EQg7ibjD9fXN+qWcWv2/jz49W5669BT5e8m6Ui2lZUTM/adg9VU7W76aXRxdnwx9n0Xtj/Grai3qb5xosEJJwBV4zRwDALVEphc/Xh28ftV79vWuflC9t+Lg+hIK0QaR1E8Yo3ejZPXg8HLk/0o2j/tDV4PBu8/sdsZze2W3bjB6y9xPE/7J9JPatTzU9uZ/X5++GJI6jubXL86aslvS7P04vnRP1rmu9rkSp5GveTXbvfd8PrD8OK01XI3v5B25uZPs/fnB/3UvAXoZrP051YkV2jvI2aqOAfLqtr0evCvw5N+Mvy/s6P+1dV/zo6+6w69jZo012xjz4jD+TFOoGqPQR1t7gaB2fvzHq0WpnErMvtBaJ3KvNFTHgzNgUo+EdEujMKNG5/enRx+e3jP//3r0tHJor64GbRfjaWcSFULrXxOr06j3p/GxHjw3O6jSH82qkYFxAoh+2z2Z0/Jkqo9TY6jw7fOtDXLxoPvesG/Z5jfDI6iVvxRN11CTBdx/l1G1eaj+PAbtcXRfFSb/XYWPR24S5G5dxSnSZxsiABUbUOg0czuEZinrynrzT/0WnZyRkuO9kOafLvPfa8q+0REqrbsxo0V2E+S0+61/vO4+R9d8WEtv/1ShPP07OK39NOU1lX5H3LR3IttCxTSyD6biU2SbJ5Kqubt8Jx/6J1YlZyPfxkM/zKxTJPjkyvtURkxUUOsUs7s77+X7ZdDeyqOwn8Ff3t10mppRZ8N/61fKajvvO08pGq6ZIbfYxGAqj0WebS7IwTm1y9bkdmtPr/uRuxDWljVXOXzOJEY2Gzu3azqdPb+vEUb853f/ht3ZiIb+zI8f6qLfdO+uLGLhSFV05KQZdkCqjZ+xVRwenXiaMbk8kfzNwClxLIs+/vT1esBLeea/3t5sv/duT0V1y9HgQ9449e0F1VHnvbMfhCaHbLJItEgVTv5VSttVZ0BO0sSgKotCQzFQWA5ArT8aBfWaEMBe8EPq1rai1gVrzkSA6YN3l1/SjIL/azweLXV6V3aOzWCIa6Rn4GPXrr6fPZXOkwGZ89aUcv+OfmDVW2aHLNIR3HE/6rh8+WJVdlSYtpL599FVyBpBmm357C/VJu8O3L8IetYgXQYP9YJVO2xyKPd3SAg9MCss4mPamz9kKZu3vt+lvFJwOfL7i/Ouz8tBrbCO8uzLJt/Sa8/XN/3f2IjYiH++fhV2/87Oalqp2bBz1SeJqdMeO6uuy27+WVJVZtfv4hazt+QTZNj++cEtMZo/wRikpy29Y6be4gZX52DRVVNzAL1HpbJL+eq0bu0t9868f5zK8HedFrFySYIQNU2QRlt7C4BsW6mVO0ujZ+yj2oEZTzYj7z/QBRtcFdfzibJT/5/+9FN7tVznX2ID753J2q0gnfdC/+HQqbJsfnmJMOxOuSpmvj0xTa++yuQ2fjNPtOtLMtIUVrf95Lfry5/Omp98+RJ1Dp6mQx/uzh71jrQO1moXCmxMKNFVS2bf4wP9uWOFfqoRkuRs0+Xp0+O3qitNNb+lwf9vZ21g6OHEYCqPYwfaoPAPQTm6avDJ993B69759/TXndvQ0Tab/nfq75ed5/un7wcdJ/n9o5nNKHxLNzT/sK3Z7/3Dr5RX8haTy/0l6Tp8KdD8lv8Wv97ePKO76CcJqdHZz8enbygT1bdfx1134tNjNNh95mq9ORpdzgdX+jT6JuD7vuxtdn6x+FPQzUbHcUt+wWL/J6P4gPZ7rPu8MssfXUoHGkd/jR09kqWESuIf2FVIxX7c3Dy7KT7+vxo/6T34uzwh/jqv4EvcDSNZrtjChrG5bUTgKqtHTEa2GkC8zl9xbqbzWbz+Yh2+Nt1M8GFdkh+m5sbiT8sDnz+ml/3Wr6Fx8UrwsvkH0IHHF7KOYou93cO9KXQGqYzvTPTte2Wc+8FzpZRNVl9/md89u5TeJ8klaBtQebvNwIt4tKmCEDVNkUa7ewgAdoUbr4VTa9OWy37ZcjgmFx+x/aPmMuhg/kf3SdmD16owLZfm7w92n+tZ4lrDWY+Hn5wPlje25r9qBYsenfd/cb+LUSwCC5uhgBUbTOc0cpOEvgYt1pHA9rsPhu/OXry/WAcmmfMP8aHAbXLE5s0/3/uZMH/UZ48m7Vf0R/VChqavG37m0cKSuLyuglA1dZNGPZ3mcAsfX3W/uHs7Pgs/q1s5+EkOTvzNtTlsE3ets9+dT4n5Yo04sKX5OyH+1g8QqDji1eB/3CXcuTzZfuHqx3om0fgvkKTULUVoKEKCFROYP7pXS8J/O+bqIbmHy97ciNG5S3Xz+D8r8ue+198rp+PzKP5+PJnd/cKu4nDzROAqm2eOVoEARAAARBYFwGo2rrIwi4IgAAIgMDmCUDVNs8cLYIACIAACKyLAFRtXWRhFwRAAARAYPMEoGqbZ44WQQAEQAAE1kUAqrYusrALAiAAAiCweQJQtc0zR4sgAAIgAALrIgBVWxdZ2AUBEAABENg8Aaja5pmjRRAAARAAgXURgKqtiyzsggAIgAAIbJ4AVG3zzNEiCIAACIDAughA1dZFFnZBAARAAAQ2TwCqtnnmaBEEQAAEQGBdBKBq6yILuyAAAiAAApsnAFXbPHO0CAIgAAIgsC4CULV1kYVdEAABEACBzROAqm2eOVoEARAAARBYFwGo2rrIwi4IgAAIgMDmCUDVNs8cLYIACIAACKyLAFRtXWRhFwRAAARAYPMEoGqbZ44WQQAEQAAE1kUAqrYusrALAiAAAiCweQJQtc0zR4sgAAIgAALrIgBVWxdZ2AUBEAABENg8Aaja5pmjRRAAARAAgXURgKqtiyzsggAIgAAIbJ4AVG3zzNEiCIAACIDAughA1dZFFnZBAARAAAQ2TwCqtnnmaBEEQAAEQGBdBKBq6yILuyAAAiAAApsnAFXbPHO0CAIgAAIgsC4Ca1a126QdtZPbdXkPuyAAAiAAAiDACSytau0oikfcQpb2o+g4mfJroziSYgZV41hwDAIgAAIgsGYCS6tachy1HQlL4yhSGqZ9nSZtpXNQNc0E/4IACIAACGyAwNKqZhVLeiemZW1H6qZW+aBqG+hDNAECIAACIKAJLK1qmVldFCZI5PopLUL2U2WTK5k6lvM5OafjS5X2OlvDlKKYJsdUXq92hkqScVNAB4R/QQAEQAAEdpjA8qqWkcBosSEFomOSuljJGj8WwuPeMptHuB3+cY5sukuaBSWhajs8cBE6CIAACAQJrKBqQoHkzExNxbKMSV1u3mYkMMsyuzgpJ3nWJ2tKqJqZ+VEdmg6GStprOAIBEAABEACBLMtWUTUzM+Pf2NK+3EXizKsyq1WStlU1Ej//J6dxtoysU1wSPQgCIAACIAACDoGVVE3PzLSSkUWlcJ6MeadsrsbrOh6xMvJ6cUm3Hs5AAARAAAR2nsBqqianU0nM/8JaCFjc13v6JdliVePzPLcX/LlacUm3Hs5AAARAAAR2nsBqqiZnZu222SFCHEmNxDYPtsuxWNXE4iT/07c0Vh/PfFUrLEnG+Ue7ne9MAAABEACBnSewoqpJpXE2cWRiFwmfvWVZyXc1Ii9kSX9cM3sjc6pWVBKqtvPDFwBAAARAwCOwqqp5ZnAKAiAAAiAAAjUgAFWrQSfABRAAARAAgYoIQNUqAgkzIAACIAACNSAAVatBJ8AFEAABEACBighA1SoCCTMgAAIgAAI1IABVq0EnwAUQAAEQAIGKCEDVKgIJMyAAAiAAAjUgAFWrQSfABRAAARAAgYoIQNUqAgkzIAACIAACNSAAVatBJ8AFEAABEACBighA1SoCCTMgAAIgAAI1IABVq0EnwAUQAAEQAIGKCEDVKgIJMyAAAiAAAjUgAFWrQSfABRAAARAAgYoIQNUqAgkzIAACIAACNSAAVatBJ8AFEAABEACBighA1SoCCTMgAAIgAAI1IABVq0EnwAUQAAEQAIGKCEDVKgIJMyAAAiAAAjUgAFWrQSfABRAAARAAgYoIQNUqAgkzIAACIAACNSAAVatBJ8AFEAABEACBighsk6pNP1xcjmYVBQ4zIAACIAACDSSwPap2d91tRe1fJg3sBIQEAiAAAiBQEYFtUbV52t+Poijqp4WB3ybtKIpHhffLb6T9UuPlldd/l7tHx8fJ9KGNTpPjqP1wM9aNyg1a06sc0XhoJ7flVVfyeRRH91vOsoUcKHev4C45EN3vw/ocKPALl0GgDgS2RNVuBkfH7cMoil5cz4uwQdWKyISvr5TQs2wqXh5CLxcrGgx79/CrC+X0lXx+XFVbKC6Bb/GSD6f9MAsVvag9zAnUbgqBrVC1aXJ6Pvya0gtqBXMU2XV+OuOToRp2bpF7pDErMvEJLBS1kyipR9jkeCWDC7W6UiHH1SIL6/S5zIEHtEuaGofeKrLMu1XmQBGQx7r+ACCP5TLarSuBLVC12fvzE1ooE6r27WVFH9b8p6hINmrScUXubVjVqDm7CAxVKx0dZaLiD79SQ+5NT7r4Te9WmQO8Wj2OPefr4RS82EYCVapap9PZE79Op1MZi3kan0olo0RQ+JaaeZ8xZGHx9SH/CYSedvuT35akbIjlNXnLeR1m1/nsxI2Sm7XzJ5m/UuE8WRaTG6HQoh0711E5iHlu9SPjqqaPWUk9i3VVx2MiT1Xg7YRc4t/VyKy5Gf4cRS0qhykH2Z+4KCOdWjsWAoGy1/M9IkGWEsjU4qdq1HJzLGv3/PEggTt9KtpcyWc3/7Kx0U5G7GOeCsf2taLNxwl9HAt+IbW1+PczxtBft3BuyclckQNq2LIm3J5S9wNhWoBpX3vOw9F2yBk2eqnr2GBjrvIPn+QP71blBv4BgSUJVKZqnU7HJrkoqkrYxm/a8Uf5KY0ejCjqFn5YU88wAeAP1TSJQ1sGnMfM5FydYkRb+rGktKUfV7EFIPzspX3zzPPq0m319OoMyE91LZUdzHMuko72gUfEjx3fZN7XVQgEY+J5LjOLjtchJhayjBtsQJE17a3A7KYhGamBQ/4vb59vgnAIOJEKVioD3iaxEQZKxNpzGzvvDhYOHa7kM0v3okMNE+Gw4wB7D+O+uVne80n2lEEnusNQzS0z8srMMbosKNkXQccBctVICA0GM8KtQV4mAEpWDw97zxN2ykevO9KoCRu1dQNHILAcgcpUbW9vj6va3t7eco4ES39JTuz2kPn1C57ychXcLHbf4+E/Qv6DbZ/DNDZ5SrTpPJY5L+QFloK9hihTMN9Y4uCZWlqxPjiqwx1gDVEdOi1QNV5LmGeOUdMmNatcz5yU3oh86uQ+5rxs/Nh5Q7e+LWi/jMCCvcBcImvt5JbCDKVsGZS4y4gt5LPtF9actKcaFSd+OAx4qarlesrpff/jmWxX/n/r2D0OlIwTbs+dkMWxMz/jA0ZVsvTE9wJHNSVkYsIrciZumNwPHIPAMgTqrGqz4fMWV0pxvD+4KYiPJxR6vNlrcqCG8zh50zsqbhKEyE2+GywPctuUj8xPCYDXkJcH2Sn3XxplV3im48csj1Cd4mxFbpgsI8wzxxQu4zodrKZqvJb1bUH7LF5F1Vyhg9zP9IJ7V4Up6rbLJC2g3wv57IwNnqPzk2M9cZSdY+ciDL4K1fyT7yn3fcK0bmqYA++WoacK2Eadgaq4cldNBb1KMYrpbWkUy/cDb5g51vR7DyvD3khKRwKrYkLCAQgsTaAyVat8BXL+Z+/krbM1hAY9WzbxY/WfYbkHvUjb7BMu7XCpoCsmQZBZN3P5DYtzKmZnKuTqdqmaTkbB4NRFndR0GSbJdMlHaiH4FbUB799cD9oV1OJeECnVZGTmkuiR9jH9EWN4x+DKPpeMDR4CP/bb8lkxEnTLff9Yi6rx9w/WunuoQ0j70iWpT8xDAdksD9geV+ufgjzvfX7sNhV4J8sVwAUQWIRAZaqWZVmVu0Xm4/h4MHYjkKp28mvw67r7mmwrsjRnLwZScKGquWspjg124jzPcs70YFXjNrl7/JiXUXmB6xPlX5nxKROZ7CMcJzIqtenkxQIKHfopyWPrZ2rr24L2c8WshcJe8Hxgp9qakL0iYVvJZ0fVXAWywPMDkrfFj33UvH/lPeeKad2vx17F5C1NQBe0jTKw+mb4X6oSj9JYvxkIebOnnh33VNaldUWroL5LTqtOmM4dnIDAEgSqVLUlmi0v+vfsun9w9M6ZqFGND73wypi0Zh+YadI3+wdYmnMb9R4h79TO1dQWO5sWw9tPeK4hT8y3HJtKRPueP+xU1tLpw9sywN3jx9xPsi+M6Dd9Mq5VTaY8m4LJiFE1uWmCySHbAsCokXHLITc58yIVc2Um7XrySgaL7bO5tYjFJEThsG1d94LTqAyKr0DKjUJeXRaSU919LaBbYZ9ZX7uWXeDkv5lE+i9SVNGsoDKH6NANXHQxs8Na9+rZqa28UeKA10SWxgXOkFB5ixB2bLs6KmxyYuR5PzaKKJwqpsrn+sKUHsZ+lDgHgXICdVO12fDlwRO10N86+I+erU2H3Wf/0B/ZWv94dnL5Vy4u+wyLJ0cZsXncryAfQp3Z/Szj5g6RvLTFguffljlO0pVXIGlruPqZhO599nNd1cFqTVJpiGzEqWUioqeg1C8eUUXWhLYj7rPrHBvTYHlZGxQJyDPIVU3ldN04b5fZl94WEDD7VJUR0wu6H8XqNPPQiV1Fl0uUK/lcODZc4I4DvqpJ6WIvFoyDFjaNy2o5FXJbd6uJDRdUTVRZzAHRClNNz6LAa7mJUz48Coa9tCJk3vSUslw00ry+K35yPQ9xCgIugbqpmuvdTp35OaiOwbuCWrWH20DgnpgbEMI9Ea7tdqlar61VGG4gAahabTp1KxLiWp1cq/GN9LP7YWkjTTakEX/S3JCwEMZjEICqPQb1YJtbktPFCqe7JhYMZ4WLW0KAR5b22dqdWI+1i3W8HI5LCdAagF5CLy2ImyBwPwGo2v2MNlRiC3N6xWS2kAD7iik+Z636P4RUMUmYA4EdJgBV2+HOR+ggAAIg0DgCULXGdSkCAgEQAIEdJgBV2+HOR+ggAAIg0DgCULXGdSkCAgEQAIEdJgBV2+HOR+ggAAIg0DgCULXGdSkCAgEQAIEdJgBV2+HOR+ggAAIg0DgCULXGdSkCAgEQAIEdJgBV2+HOR+ggAAIg0DgCULXGdSkCAgEQAIEdJgBV2+HOR+ggAAIg0DgCULXGdSkCAgEQAIEdJgBV2+HOR+ggAAIg0DgCULXGdSkCAgEQAIEdJgBV2+HOR+ggAAIg0DgCULXGdSkCAgEQAIEdJgBV2+HOR+ggAAIg0DgCULXGdSkCAgEQAIEdJgBV2+HOR+ggAAIg0DgCULXGdSkCAgEQAIEdJtAIVbtN2lEUj1bsxrQfRf10xcobrkaRtpPbh7ZKIUdRdJxMH2qp5vWnyXHU3kyUYhBGDxiHC6EcxVEUb8lgXSigJQtRh6qnlT8L/HhJiyjePAJQtWzXVG2atJuuZ2kcSTHbmKpRiyu/Vy2RVqBqj6FqlCKa/wq4xDCsedFGqNqSjL20vmuqtk3xLtmzsjgLcFOq9pC5QqlQeWM1Ky28Eq2trcSZ8+PCgB4yGB5St9Ah3FgTgVqq2t/T6ddAvPMvafplHrix5CUvU7AkuKShzRdf6Om9x61tiveeUIK309gu0m4qGT2kX0qFyhurUDXb5Zw5P7YlvKOHDYbSbvJawunjEqhS1Tqdzp74dTqdB0Q1Gz4/iEc59fo77bWiaH8wzpt2xzRlbf3LLQrRyLY/saogszylD/Vzv1uQcf0r/PxGC1D6Z6uXW2YttpMR+2A2it3lDra65UbKLLCvR7IMGaSvPO43GO6nqBIqzM26AFn1fsrUkajykmSBrdiEDco0wfByC1nG2iKVyqckhoUPCYeeqmWHBPMqyzLumP226uYvUcZiTPsMtWjXMaKAc+dtXWrQDj/6PmodC3QWL6xXwMqhMZg2HAaHdZmI3qzmURn7NsAj0l8ly/mzeF3CrHHZhH5K7JuHaDv8zDKzqjxzQw5d+Y2ZH2cOVTWoOBm1Ok3t8kjZ8OPkzWfsgvHmRoizOhCoTNU6nY4ZsFEUrS5sN4Ojn9OcpmVZNh+/OYpacbmq0TA1z9UoZiPV0nbK6GeAP702IzhPixjrIWGbJrHZwUGJQzsgc1bQsnicTL6TT69+fpy8rHIBezh1sSyNjTPioWVlrA82bH3kpDb5tGuH1XNuTrlZITM6Fp0OlANEhqPmhPlxxg1SgrZ+OkBEMdYW4XXsZFnRrMVVHZWetG/E2ZgVvWO6QJRUgfP8FbCgrWmgWSbiMv2SlY0H3WW2jCuizCgdhqIugWZ8EG7rtqxN3pbsevPeY2+Fx5XnCTvluISimPFjG5aILHzRfWrMMFPUrXwYm87SuCgudZH81/G6x7HZH0RB6TLilcIY9NkKGrJp/oDodkVx0zSPC8f1I1CZqu3t7XFV29vbWynY+fXLE6MQ2d04eT38ZAzdJu3Tq8C2PTam+Yg09bwD5ymSqsafQ/t40yPKH4OiTOrYd6sbhaMy9paTCOgWC4GKcX+EnLBH3TylvFnvaXc0hpcjkeR7PtnDLIrZF3ZZyxT2oLl2qHWe61nhQoOCBo/FMjGNup47pvyuUUU9T+jUvqNwkeDAZV12xRqni3FshoE4dae/ojKr6/rMO531ES9kRwW/qo4ZSXGFChdCW2CsWoZkuR+b1Vpxmo+M+ezEaK/7FZ1iNqJ8n5or5sCW9kapvWHbdR6ZgkbljF+PTFaXDFoU0rx2wytm29YF7BUc1ZNA3VRtHP97ONOopr+eRFH32kzcPl+evZ3om+xfPqbpOHKffFZSHHqZwh+sNsvQ+M79zNu9Y5Zs2p8qU2iZnHTt8BCWUDVSAvMLvMM6PqoTxyverhJXY08fiFd+m+i1TWaHQOncQbctYdUd2pT8V84hLGdp0aiab003yF8y/JSky3h16ZTneuuYD1m9jMsonGL91Lxn0PX8BMh7KRGuUEn7031NIeeWhX0OOhRjh7/i+IUdaLZBdaTbtSYtkLRPXaa71eMWGldCadgYY4Pcb5jrrmzbsy8umi5Qg4TXCpWnStb/MlVzR50emaxu6VAX71u5bpKjOtj7Fi+OakGgMlWrZgXyNmmzcZP2o9ZLK2qTtyeDmxA1LzWrWVGhttmcJYyx7CzObeIoerQ8H0QKMKnHVndnRXyuRg67GYeHYJ521Y7JXM6UTubNwBPLTXmeilMnXq9w3jFtQac/fe68TfugLOFigyJ3cAgmTN+abdKQGcVhdRFZTzNxk6CwYh0zpqx11q7GIlO/fq9nBWwtcaTLi5PC8SAryY6znzzZgPGsOu8H8p5feAForlFNII3lCJQcWDdJ9zRDCtm+FmhoVEY/p/mB4TYoz0LotDVVnkIzz2yoPJVj/nDm7JiGt53OGj5uXaVqfPj5XvvdBFXzCdX3vDJVy7Ksgt0it0nbyEM2SY6j8/d65vYlOfnnZWim5uR6Rpo9AOxqPlM4WZ5rj5O4XRP8zEs07LTQMj2EzuTGWY5jFqgdXtg+vV507NSW4V7aY8crvzDPAraKWm+0XaNyhE5trHVRiZpQhQsNFqta7m3AOjJNjumNXouNvaGPyBOdkXOJTCYm6ZgfuDeKpB2d+sVIiEf2VDen/+XWvO7zTlUNhiVcQJXTIqQb8gtbO0636uKBf8nVOLWvBSIoe+p1pXcqp8gOZN/DQJN0Ke9e/goXrdBdt0M5c3tsgQhH+Gk+Fj5Ugn7z6oEQgnVw8dEJVKlqFQQzG55HraOXyfC3y+73rSffPIlaR5N/jcwAABE6SURBVL1kePWfs8PWQfzRrEW6TdkxnaV98/7lDWJWxU0N/vPD79IxG/q3if0Qbeyx1uU6vnkNL7FMt+x0jR4e7wVTvyBTFNYH1hY3Lt8r2eoQX8wxjqoDXtFZxhH3XcfYxgdq2r62qzdZ/cIuTjV5AU2rmsgFNlJmkHOmplkG8duym3GmSbudJGqe4UcmrJhvYHTmjwGegt1IBWcdjqgplhD1FRWvo+usedYvLlLZs5LMNOmbbQxesMX95VHyTjk0gd0qenCsaiZ2RAlEYvCpD9Z8eMio9VCUldvtfsxePdVbFyvDNpswQvLlzBYjb1XU4Wc2PAZYh4aZswJSStnzy0NTQhsYmQXd5Iwl6j4bCw8TxzUgUDNVy+Zp/0AsRLQOfxpOZmn8rEWnrcPu+/A8jRiy8S1SlTBQNuxECtMb8Lyx7s8hRLJQFtkzwPtOpTwqJN6CdbFyy8zVOGUhkGXbaDu5LcqAMmNSq+0ktStFninuqDh2vAoVZo45Wy1kYpIo2snUsaOTI93tp1w8dPqQ9ZhBilELITnGwtQzVFWHawk5XJZQ3KadHKe0ilnjkfpJSjTERaKsXRdjwXjQo05EZS3r5OvSMN2ma0m3y6HZYcPfmYwpdSDcs+TFKZfVgnElawf5i4u6g7kpt2mnmHWgsBd4edVrrEPprm7LP1a+iOm181Yqv3aavuZN84UHHQur64xPQmSMuEHi7PEJ1E3ViMh8NpvdGTR0Nv/bnDb0gD+WWxKiq2qbcvpeUPcW2JSnaKdRBPz3iUYF17Bg6qhqDUO8SDjuDGORGo9f5lFUbRFQj+LY4/cHPFgjATZHXGMrMF0NAahaNRyXtZL29eKJXm/kS1LLWnuU8o8hHu4qZWHYWCAqRIMbKxCgoc4WrlewgCqbJABV2yRt25b4mGFW7/nyvS1T86MNqxo1h48ZNR8TcA8EakAAqlaDToALIAACIAACFRGAqlUEEmZAAARAAARqQACqVoNOgAsgAAIgAAIVEYCqVQQSZkAABEAABGpAAKpWg06ACyAAAiAAAhURgKpVBBJmQAAEQAAEakAAqlaDToALIAACIAACFRGAqlUEEmZAAARAAARqQACqVoNOgAsgAAIgAAIVEYCqVQQSZkAABEAABGpAAKpWg06ACyAAAiAAAhURgKpVBBJmQAAEQAAEakAAqlaDToALIAACIAACFRGAqlUEEmZAAARAAARqQACqVoNOgAsgAAIgAAIVEYCqVQQSZkAABEAABGpAAKpWg06ACyAAAiAAAhURgKpVBBJmQAAEQAAEakAAqlaDToALIAACIAACFRGAqlUEEmZAAARAAARqQKC2qja+OD7s/T4LIkr7UXScTIP37r04iqOondzeWw4FQAAEQAAEto9AXVXtZrAf7Q9uwkChamEuuAoCIAACO0+gpqo2+aUdRd3reRX9Q5OzOK3CEmyAAAiAAAjUnEDtVG0+m81mk+SHKDpNJrPZ7O7BAKFqD0YIAyAAAiCwLQSqVLVOp7Mnfp1OZ8X478bJ68Hg5cl+FO2f9gavB4P3n/KmaAWyr2dfJFr6Zy7qOlTS/sSMjYucPDYWxLe6adJWNdxPd/Z6FMUj3QD+BQEQAAEQqBOBylSt0+lY+Yii1YUty7LSj2pZlllVu03adutHGudUjVBzGfNOpZ6pWqmSR3ba1ltSSNKMyFGjELY6jWL4AgIgAAKaQGWqtre3x1Vtb29PN7H0v/d+VLOq5ilWsCmvDD/lx1kmZmP2CxxTsjS22kltWAeCLeIiCIAACIDAIxGooarNhs+j6PkwvKlfYGKiMk2OSUzNpCqA0ZUuZ+rm3mIyRmbsqZiccc2m4+C8MNA8LoEACIAACGyOQGWqVt0KZNqLosO3kxIGTNVkKbV4GNY2V7pWVTU7hytxDLdAAARAAAQel0BlqpZlWQW7RdRHtVb8UWD5fNn9JfDH1jlVo8J2auURfbiqZaSa2CHiccUpCIAACNSQQJWqVkl4s/fn+i/VJslPcRra2W9VbRQbsSlUNWdHibt5xBU8zwI/pRbZH71Nk1j+10moDLteCQEYAQEQAAEQWJlA7VQt+3rdfbp/8nLQfd4dfgnHxVXNfu4yexRzlYQmaVniSsaPc7M9rmpqh4hpTH9Ug6rlYOMCCIAACDwmgfqpGtGgP8Wu5L8r8pho0TYIgAAIgMDGCdRT1TaOAQ2CAAiAAAg0ggBUrRHdiCBAAARAAAQEAagaBgIIgAAIgEBzCEDVmtOXiAQEQAAEQACqhjEAAiAAAiDQHAJQteb0JSIBARAAARCAqmEMgAAIgAAINIcAVK05fYlIQAAEQAAEoGoYAyAAAiAAAs0hAFVrTl8iEhAAARAAAagaxgAIgAAIgEBzCEDVmtOXiAQEQAAEQACqhjEAAiAAAiDQHAJQteb0JSIBARAAARCAqmEMgAAIgAAINIcAVK05fYlIQAAEQAAEoGoYAyAAAiAAAs0hAFVrTl8iEhAAARAAAagaxgAIgAAIgEBzCEDVmtOXiAQEQAAEQACqhjEAAiAAAiDQHAJbomp38+YgRyQgAAIgAAJrI7AVqja5/PFysjYEMAwCIAACINAYAtugarPheT8tJH6btKMoHhXeL7+R9qOoxHh55fvurtX4fY3L+9PkOGon01BhusVjJ2+jKDoOlw5ZENdGcRTFxd1TWM+/QXbaya1/eXPnSwVSUtgfkIJz5KBeLahFO6jEt9UaRi0Q2CoCW6Bq8z+63T+KVyD9JLIc/rUKz1qNLxbnoqo2TdpL6RmVl2JWVQ4lOw1UtarGwBIdVFWPLDbCHlDKf696gClUBQFLYAtUbfzq7Co42bBRLH7kZ/mqkk7Qg7UaD7aYu+jHmyugLriu3leL3iS0AtU+hy6qB0sFsmhhj2RKE9uV1hXcDnK60Q9wUd8cI490sjqQR3IYzW4BgXqr2nw2ubnqHXeHX2bFk7WlKHtZJitJFkvZDRZeq/Fgi7mLfry5AuqC6+o9tSiNmmXb2udQP+kXIVgqkEULeyRXT+JuBzkx+AEu6ptj5LFOfOcfyw+02yACVapap9PZE79Op/NQRLNPyYujox8vrn7tHT2/HCZx+2n74iYkbXzekFES0T89mTCuiLVKfVd9bZLJgh4t9XM+EbHrRa/YKm2xktZCuXG6q3/s/T0cArNf5EmWUTrTP6U6yj3blv1spm5lGaVa82v/5/8Mi4jWBPPTZKpoHZY5lLG1t4g8N857RLaeyv6iKiYX8yikW9bncmvTXJjUiv1pO7YYnzkZB8yA0QeB8iVRmwHJmERRFF9yzAygboX+5bFrb12GXo+EAizxLcsy7pV5NWE+ULD2urBvT9PYzNG5HeWq7FM+YLiKs76zoUl/+MBgruAQBFYiUJmqdTodmz6i6EHC9uXq7JuD+M9ZlmX2o9rNYL91Pvyai9IkkcyZeE2TOLT1wH/wZMLSudt5hklIzOMnnmE3X0tPRBWW/YVBJWwlxrPbJDaCQWlIPdg8p5gQFvKEcaA8yFSNUqpa9aLMwoPVxw66TLwcmFs+cWrIKrdKxBqUUF99V0CzdkTK1p5IbiydyVzsNcYv3m8tGGbm0BNpPUjeyqrrg1N9FCv/RSxmeOSiNnF5441nebcZgt42w4BeB+ilR5N0x7ZX0/HQSGNhjzi+MQHTVnPMrRvsVto3vtmnxvOEnTqBU2jaPanZelRoH/AvCDyAQGWqtre3x1Vtb29vRa/m4/hpdPRW7eQfvznX4kQPxvl7kjrnZ7O5l0GcUvrEL+M+YGzGQJMM8/xTba432lomBcBNDfYBLjbODAjb+nOL754ot5gnLOMw6zbjyIss0ThtudE5t5g1cTiKWUqSxDgoN3z7mk91WSu+YwFRETJm8h2rqzxiV3xrLMycqjnxWG8DDoiSrBVWk2iHoxaTIXPLI8maY8ZkO3oMmBtO4bAboiwPli4U+5b2zTuNqBkeM3a8keV+bB4EcRrY7modsA+jejTkO41fsaCYiRwHIPAQArVTtdlvZ1F0dqXmZJPk3/ov1WbD8yg6+ZWvb4jA+RNCT6nzhptD42UZnmdFWfOci5TKdZqO3RwtKvgG+UTHz0TGuHTLbcKZBLCXdGfJyDhU4EluzdB3zyYgd0LmuurXcjAGVM28tqslRxELGTGapCzYurkmPDhyMdmGuZw1FmZI1QrJ80B00KqwESpx3feWKRCVN4W9MFkxbV79S7X81rkIuR3kVObB0o1C38iZ3M9v1BvA8YieESFOfheQS+an5166sFxaVMadkqqKQWTsO0HhBARWJlCZqlW1AkkPwD8TNVNjf6k2/9BrRUeXn3OROkmE7tJDTr/84+q8P0pDfrIwGSGUZXJtBwx6ScERQmNcrS+ZB9tPdk4Ii3qiApLCrtf9vKzKU7xzy+Xg3PKjtsok7rCgxLmJxU+CdNfWzTXh2vEztRC5xTWSV+fHemUvRN51IBA1DSpd0S9sovY+FHlhsmJeA6FetgrhTHO9mrxPxa1C30I94hujc00sjeVDJHuNe0jH9iVPl9etC4Wji/qlhAeSb7D8br48roBAOYHKVC3Lskp2i4zf7NsFrj97+i/VJslxdNBPA9tF6AHTucbGWpQ+vCxTPFcT2xz8NGrtmyPfIF+AcqWCv0R77nmn0ri5aA5Mo/ccsCzju1d0y3XVr+W0Z5VJXC7MoTm2TmrONcHthPrU9ZCaZld8ayxMk6NlEB5MdsodcAI2J6wVvzCz4zjPqgiXc8uMxjizoK45V1iwpoo64MHSpWLfSow4RimEOB3FWpaEvNlTD6l3KhcwKXDz+PgeOo15iJx7OAGBFQhUqWorNB+ocnt10monX+jO+M05/aXa39Phy4ODfw/D/9Esm0SmSd9swHAyAm/Fe7C9U54R6Bab8Jm9G9yanJlRObUdgx5Ro8rFxp0nWTQkLYRDWMgTs5HBvmsHppIsv+R80G/WrmC44apNdGweXJxD5dqpnjXKbGveP5zWqQ1rh/rO1jLtU0ez61S+0BoLk1v2gTDyXjHTauZti1COWW9lSTbe7ID0m+PzeNuAPiKfbURCs/Wy3j094jnjnfL3M7plxipNK+3GGe2G+FcMY1tSndpO4U2IfjFjXk712v24zZz3R4LdzUSRWaUXpvSj5DiEExBYnED9VC3L5n8l3e+Pzn7unewfnf983j4+v/iQ+5xmQrRJRD17ct2+8NmQD6HOj8XCQw3IrCcN6vdW07A8kNlZ7VCnkuxhLjOu3RBZxjzYhSHc74lIWMpV64N0z9Jj6d655buq3bOJzMZtvBWXeIKjC+5dbUc4xrTQ/apH9bQdJ1IZjwlnYWssTCUttmuYkXjEvNUO2EDFEffH0vALMztkv1BuRZjkS3B8CmGTMdv1PemP30GOl3rYSFAlvinOugn20ubYky9G7K6nuM6jcZykfLew/uMBy0qaZti5ePO1DSl+QTKeezgFgRICdVQ15e5tcvbzdVV/fV2C4GG3HG14mKmtqV2aYbcmCjhaBwLu+0cdPIIPW0+gxqpmP6rVmfIuqprzfl3nzoFvdSfA5rh1dxX+bQ2B+qqa+qhWd5I7qWq5Faq69xL8qyMBsXDKvubW0Uf4tIUEaqtq0+Ervb+/1lh3VNVq3SdwDgRAYIcJ1FbVdrhPEDoIgAAIgMCqBKBqq5JDPRAAARAAgfoRgKrVr0/gEQiAAAiAwKoEoGqrkkM9EAABEACB+hGAqtWvT+ARCIAACIDAqgSgaquSQz0QAAEQAIH6EYCq1a9P4BEIgAAIgMCqBKBqq5JDPRAAARAAgfoRgKrVr0/gEQiAAAiAwKoEoGqrkkM9EAABEACB+hGAqtWvT+ARCIAACIDAqgSgaquSQz0QAAEQAIH6EYCq1a9P4BEIgAAIgMCqBP4fZq2lyr4PQxQAAAAASUVORK5CYII=)\n",
        "\n",
        "-----------------------------------\n",
        "##2. Electrical Engineering\n",
        "In alternating current (AC) circuits, voltages and currents vary sinusoidally with time:\n",
        "\n",
        "![image.png](data:image/png;base64,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)\n",
        "\n",
        "---------------------------------------------\n",
        "\n",
        "##3. Modeling Periodic Behavior\n",
        "The sine function is used to describe any phenomenon that repeats periodically. Examples include:\n",
        "\n",
        "Tides: Ocean tides rise and fall in a periodic fashion, which can be modeled using sine waves.\n",
        "\n",
        "Seasonal temperature variations: Average temperatures over the year can be modeled with a sine function to account for the changing seasons.\n",
        "\n",
        "-----------------------------\n",
        "##4. Mechanical Systems\n",
        "In pendulum motion and spring oscillations (like a mass attached to a spring), the position of the mass as a function of time is often described by a sine or cosine function.\n",
        "\n",
        "5. Rotational Motion\n",
        "In physics and engineering, when an object moves in circular motion, the projection of its movement on any axis can be described using the sine (and cosine) functions.\n",
        "\n",
        "This applies to the motion of gears, wheels, and other rotating machinery.\n",
        "\n",
        "----------------------------------\n",
        "##6. Signal Processing\n",
        "The sine function is central in signal processing, which involves analyzing signals (like audio, video, or sensor data).\n",
        "\n",
        "Many signals are decomposed into sinusoidal components using Fourier analysis, which expresses any periodic signal as a sum of sine (and cosine) functions.\n",
        "\n",
        "--------------------------------------\n",
        "##Practical Uses of Sine:\n",
        "Physics: To model oscillatory phenomena like pendulums, springs, and waves.\n",
        "Engineering: For designing AC electrical circuits and understanding mechanical systems.\n",
        "\n",
        "Music and Audio: Sine waves represent pure tones in sound synthesis.\n",
        "Astronomy: Modeling the motion of celestial bodies.\n",
        "\n",
        "Computer Graphics: To simulate oscillatory motion like bouncing balls or waves.\n",
        "\n",
        "Economics: Sine waves are sometimes used to model cyclical patterns in markets, like stock market fluctuations.\n",
        "\n",
        "----------------------------\n",
        "#Summary\n",
        "The sine function is fundamental in trigonometry and has wide applications in physics, engineering, and many fields dealing with periodic or oscillatory phenomena.\n",
        "\n",
        "It is used to model waveforms, mechanical movements, circular motion, and signals, helping us describe natural patterns and man-made systems accurately.\n",
        "\n",
        "\n",
        "\n",
        "\n",
        "\n",
        "\n",
        "\n",
        "\n",
        "\n",
        "\n"
      ],
      "metadata": {
        "id": "v_fKlL7WovLV"
      }
    },
    {
      "cell_type": "code",
      "execution_count": 11,
      "metadata": {
        "colab": {
          "base_uri": "https://localhost:8080/"
        },
        "id": "14fZg8KZlSh5",
        "outputId": "f8f3fa28-a4d3-4e2c-ff3b-59a84fdf4f38"
      },
      "outputs": [
        {
          "output_type": "stream",
          "name": "stderr",
          "text": [
            "<ipython-input-11-f71dc4fc6401>:2: RuntimeWarning: divide by zero encountered in log\n",
            "  np.log(arr)\n"
          ]
        },
        {
          "output_type": "execute_result",
          "data": {
            "text/plain": [
              "array([      -inf, 0.        , 0.69314718, 1.09861229, 1.38629436,\n",
              "       1.60943791, 1.79175947, 1.94591015, 2.07944154, 2.19722458])"
            ]
          },
          "metadata": {},
          "execution_count": 11
        }
      ],
      "source": [
        "# Taking the Natural Logarithm\n",
        "np.log(arr)"
      ]
    },
    {
      "cell_type": "markdown",
      "metadata": {
        "id": "j0K5ta5IlSh6"
      },
      "source": [
        "## Summary Statistics on Arrays\n",
        "\n",
        "NumPy also offers common summary statistics like <em>sum</em>, <em>mean</em> and <em>max</em>. You would call these as methods on an array."
      ]
    },
    {
      "cell_type": "code",
      "execution_count": 12,
      "metadata": {
        "colab": {
          "base_uri": "https://localhost:8080/"
        },
        "id": "yzYB4rAGlSh6",
        "outputId": "18f55c85-79c4-4330-9808-3302e363be59"
      },
      "outputs": [
        {
          "output_type": "execute_result",
          "data": {
            "text/plain": [
              "array([0, 1, 2, 3, 4, 5, 6, 7, 8, 9])"
            ]
          },
          "metadata": {},
          "execution_count": 12
        }
      ],
      "source": [
        "arr = np.arange(0,10)\n",
        "arr"
      ]
    },
    {
      "cell_type": "code",
      "execution_count": 13,
      "metadata": {
        "colab": {
          "base_uri": "https://localhost:8080/"
        },
        "id": "kfPZEYbrlSh6",
        "outputId": "5866481f-ba43-4e17-82b7-ffd6b0b5e5c7"
      },
      "outputs": [
        {
          "output_type": "execute_result",
          "data": {
            "text/plain": [
              "45"
            ]
          },
          "metadata": {},
          "execution_count": 13
        }
      ],
      "source": [
        "arr.sum()"
      ]
    },
    {
      "cell_type": "code",
      "execution_count": 14,
      "metadata": {
        "colab": {
          "base_uri": "https://localhost:8080/"
        },
        "id": "jadeEt0DlSh6",
        "outputId": "9e7d407f-9ca5-4dad-ddac-e1afb0e34c17"
      },
      "outputs": [
        {
          "output_type": "execute_result",
          "data": {
            "text/plain": [
              "4.5"
            ]
          },
          "metadata": {},
          "execution_count": 14
        }
      ],
      "source": [
        "arr.mean()"
      ]
    },
    {
      "cell_type": "code",
      "execution_count": 15,
      "metadata": {
        "colab": {
          "base_uri": "https://localhost:8080/"
        },
        "id": "o6w7orbZlSh6",
        "outputId": "7df3a4a1-43ed-42aa-8873-f79515f0bdf0"
      },
      "outputs": [
        {
          "output_type": "execute_result",
          "data": {
            "text/plain": [
              "9"
            ]
          },
          "metadata": {},
          "execution_count": 15
        }
      ],
      "source": [
        "arr.max()"
      ]
    },
    {
      "cell_type": "markdown",
      "metadata": {
        "id": "S-oJy-x_lSh6"
      },
      "source": [
        "<strong>Other summary statistics include:</strong>\n",
        "<pre>\n",
        "arr.min() returns 0                   minimum\n",
        "arr.var() returns 8.25                variance\n",
        "arr.std() returns 2.8722813232690143  standard deviation\n",
        "</pre>"
      ]
    },
    {
      "cell_type": "markdown",
      "metadata": {
        "id": "uXpf8rWElSh7"
      },
      "source": [
        "## Axis Logic\n",
        "When working with 2-dimensional arrays (matrices) we have to consider rows and columns. This becomes very important when we get to the section on pandas. In array terms, axis 0 (zero) is the vertical axis (rows), and axis 1 is the horizonal axis (columns). These values (0,1) correspond to the order in which <tt>arr.shape</tt> values are returned.\n",
        "\n",
        "Let's see how this affects our summary statistic calculations from above."
      ]
    },
    {
      "cell_type": "code",
      "execution_count": 16,
      "metadata": {
        "colab": {
          "base_uri": "https://localhost:8080/"
        },
        "id": "iVHqAHoDlSh7",
        "outputId": "75605f2c-de09-49d4-e9e9-717acec670f1"
      },
      "outputs": [
        {
          "output_type": "execute_result",
          "data": {
            "text/plain": [
              "array([[ 1,  2,  3,  4],\n",
              "       [ 5,  6,  7,  8],\n",
              "       [ 9, 10, 11, 12]])"
            ]
          },
          "metadata": {},
          "execution_count": 16
        }
      ],
      "source": [
        "arr_2d = np.array([[1,2,3,4],[5,6,7,8],[9,10,11,12]])\n",
        "arr_2d"
      ]
    },
    {
      "cell_type": "code",
      "execution_count": 17,
      "metadata": {
        "colab": {
          "base_uri": "https://localhost:8080/"
        },
        "id": "lIirScIPlSh7",
        "outputId": "f9b22fc4-5a6e-4bd1-d165-89f60f03941d"
      },
      "outputs": [
        {
          "output_type": "execute_result",
          "data": {
            "text/plain": [
              "array([15, 18, 21, 24])"
            ]
          },
          "metadata": {},
          "execution_count": 17
        }
      ],
      "source": [
        "arr_2d.sum(axis=0)"
      ]
    },
    {
      "cell_type": "markdown",
      "metadata": {
        "id": "yW5jLhdClSh7"
      },
      "source": [
        "By passing in <tt>axis=0</tt>, we're returning an array of sums along the vertical axis, essentially <tt>[(1+5+9), (2+6+10), (3+7+11), (4+8+12)]</tt>\n",
        "\n",
        "<img src='axis_logic.png' width=400/>"
      ]
    },
    {
      "cell_type": "code",
      "execution_count": 18,
      "metadata": {
        "colab": {
          "base_uri": "https://localhost:8080/"
        },
        "id": "JJUcOhjFlSh7",
        "outputId": "a54bc3eb-0739-4fab-f37b-24b83e326122"
      },
      "outputs": [
        {
          "output_type": "execute_result",
          "data": {
            "text/plain": [
              "(3, 4)"
            ]
          },
          "metadata": {},
          "execution_count": 18
        }
      ],
      "source": [
        "arr_2d.shape"
      ]
    },
    {
      "cell_type": "code",
      "execution_count": null,
      "metadata": {
        "colab": {
          "base_uri": "https://localhost:8080/"
        },
        "outputId": "75605f2c-de09-49d4-e9e9-717acec670f1",
        "id": "-TNbhGHatCWB"
      },
      "outputs": [
        {
          "output_type": "execute_result",
          "data": {
            "text/plain": [
              "array([[ 1,  2,  3,  4],\n",
              "       [ 5,  6,  7,  8],\n",
              "       [ 9, 10, 11, 12]])"
            ]
          },
          "metadata": {},
          "execution_count": 16
        }
      ],
      "source": [
        "arr_2d = np.array([[1,2,3,4],[5,6,7,8],[9,10,11,12]])\n",
        "arr_2d"
      ]
    },
    {
      "cell_type": "markdown",
      "metadata": {
        "id": "Zps99EQplSh8"
      },
      "source": [
        "This tells us that <tt>arr_2d</tt> has 3 rows and 4 columns.\n",
        "\n",
        "In <tt>arr_2d.sum(axis=0)</tt> above, the first element in each row was summed, then the second element, and so forth.\n",
        "\n",
        "So what should <tt>arr_2d.sum(axis=1)</tt> return?"
      ]
    },
    {
      "cell_type": "code",
      "execution_count": 19,
      "metadata": {
        "colab": {
          "base_uri": "https://localhost:8080/"
        },
        "id": "E0GlJWhilSh8",
        "outputId": "07ac4462-d3f4-476f-a108-6d5030feea4a"
      },
      "outputs": [
        {
          "output_type": "execute_result",
          "data": {
            "text/plain": [
              "array([10, 26, 42])"
            ]
          },
          "metadata": {},
          "execution_count": 19
        }
      ],
      "source": [
        "# THINK ABOUT WHAT THIS WILL RETURN BEFORE RUNNING THE CELL!\n",
        "arr_2d.sum(axis=1)"
      ]
    },
    {
      "cell_type": "markdown",
      "metadata": {
        "id": "P65ZqmrtlSh8"
      },
      "source": [
        "# Great Job!\n",
        "\n",
        "That's all we need to know for now!"
      ]
    }
  ],
  "metadata": {
    "kernelspec": {
      "display_name": "Python 3",
      "language": "python",
      "name": "python3"
    },
    "language_info": {
      "codemirror_mode": {
        "name": "ipython",
        "version": 3
      },
      "file_extension": ".py",
      "mimetype": "text/x-python",
      "name": "python",
      "nbconvert_exporter": "python",
      "pygments_lexer": "ipython3",
      "version": "3.7.4"
    },
    "colab": {
      "provenance": [],
      "include_colab_link": true
    }
  },
  "nbformat": 4,
  "nbformat_minor": 0
}
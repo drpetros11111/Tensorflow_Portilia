{
  "cells": [
    {
      "cell_type": "markdown",
      "metadata": {
        "id": "view-in-github",
        "colab_type": "text"
      },
      "source": [
        "<a href=\"https://colab.research.google.com/github/drpetros11111/Tensorflow_Portilia/blob/CNN/02_Keras_CNN_CIFAR_10.ipynb\" target=\"_parent\"><img src=\"https://colab.research.google.com/assets/colab-badge.svg\" alt=\"Open In Colab\"/></a>"
      ]
    },
    {
      "cell_type": "markdown",
      "metadata": {
        "id": "xOkhN0ZFjtVZ"
      },
      "source": [
        "<a href=\"https://www.pieriandata.com\"><img src=\"../Pierian_Data_Logo.PNG\"></a>\n",
        "<strong><center>Copyright by Pierian Data Inc.</center></strong>\n",
        "<strong><center>Created by Jose Marcial Portilla.</center></strong>\n",
        "# CIFAR-10 Multiple Classes\n",
        "\n",
        "Let's go over another example of using Keras and building out CNNs. This time will use another famous data set, the CIFAR-10 dataset which consists of 10 different image types."
      ]
    },
    {
      "cell_type": "code",
      "execution_count": 58,
      "metadata": {
        "id": "VhuKbz-rjtVc"
      },
      "outputs": [],
      "source": [
        "import pandas as pd\n",
        "import numpy as np"
      ]
    },
    {
      "cell_type": "markdown",
      "metadata": {
        "id": "iN3sSA8yjtVd"
      },
      "source": [
        "-----"
      ]
    },
    {
      "cell_type": "markdown",
      "metadata": {
        "id": "15Hitbi0jtVd"
      },
      "source": [
        "# The Data\n",
        "\n",
        "CIFAR-10 is a dataset of 50,000 32x32 color training images, labeled over 10 categories, and 10,000 test images."
      ]
    },
    {
      "cell_type": "code",
      "execution_count": 59,
      "metadata": {
        "id": "AiqZAqFGjtVd"
      },
      "outputs": [],
      "source": [
        "from tensorflow.keras.datasets import cifar10\n",
        "\n",
        "(x_train, y_train), (x_test, y_test) = cifar10.load_data()"
      ]
    },
    {
      "cell_type": "code",
      "execution_count": 60,
      "metadata": {
        "colab": {
          "base_uri": "https://localhost:8080/"
        },
        "id": "u4mCbKBHjtVe",
        "outputId": "a87d5e19-95bf-4b3c-e432-ecbecc2d597a"
      },
      "outputs": [
        {
          "output_type": "execute_result",
          "data": {
            "text/plain": [
              "(50000, 32, 32, 3)"
            ]
          },
          "metadata": {},
          "execution_count": 60
        }
      ],
      "source": [
        "x_train.shape"
      ]
    },
    {
      "cell_type": "code",
      "execution_count": 61,
      "metadata": {
        "colab": {
          "base_uri": "https://localhost:8080/"
        },
        "id": "wdSj5HwIjtVf",
        "outputId": "804c7a2f-c709-47b8-89ec-975ae2fcdf61"
      },
      "outputs": [
        {
          "output_type": "execute_result",
          "data": {
            "text/plain": [
              "(32, 32, 3)"
            ]
          },
          "metadata": {},
          "execution_count": 61
        }
      ],
      "source": [
        "x_train[0].shape"
      ]
    },
    {
      "source": [
        "import matplotlib.pyplot as plt # Import the pyplot module from matplotlib and alias it as plt.\n",
        "\n",
        "plt.imshow(x_train[0]) # Now you can use plt to access the imshow function."
      ],
      "cell_type": "code",
      "metadata": {
        "colab": {
          "base_uri": "https://localhost:8080/",
          "height": 447
        },
        "id": "hTZU04FjpFdl",
        "outputId": "13192ae6-4fc1-450e-92d1-0c19c3b09ff9"
      },
      "execution_count": 62,
      "outputs": [
        {
          "output_type": "execute_result",
          "data": {
            "text/plain": [
              "<matplotlib.image.AxesImage at 0x7f1c3dd3ada0>"
            ]
          },
          "metadata": {},
          "execution_count": 62
        },
        {
          "output_type": "display_data",
          "data": {
            "text/plain": [
              "<Figure size 640x480 with 1 Axes>"
            ],
            "image/png": "[encoded data removed]"
          },
          "metadata": {}
        }
      ]
    },
    {
      "cell_type": "code",
      "execution_count": 63,
      "metadata": {
        "colab": {
          "base_uri": "https://localhost:8080/",
          "height": 447
        },
        "id": "S3QINOp_jtVg",
        "outputId": "2f1cbf5b-1dfd-4834-c740-b0e27eea511f"
      },
      "outputs": [
        {
          "output_type": "execute_result",
          "data": {
            "text/plain": [
              "<matplotlib.image.AxesImage at 0x7f1c3da77760>"
            ]
          },
          "metadata": {},
          "execution_count": 63
        },
        {
          "output_type": "display_data",
          "data": {
            "text/plain": [
              "<Figure size 640x480 with 1 Axes>"
            ],
            "image/png": "[encoded data removed]"
          },
          "metadata": {}
        }
      ],
      "source": [
        "# FROG\n",
        "plt.imshow(x_train[12])"
      ]
    },
    {
      "cell_type": "code",
      "execution_count": 64,
      "metadata": {
        "colab": {
          "base_uri": "https://localhost:8080/",
          "height": 447
        },
        "id": "Oc5tCXftjtVg",
        "outputId": "960b14a3-e3c4-4aa0-c974-59519eead6cb"
      },
      "outputs": [
        {
          "output_type": "execute_result",
          "data": {
            "text/plain": [
              "<matplotlib.image.AxesImage at 0x7f1c3d9dcd60>"
            ]
          },
          "metadata": {},
          "execution_count": 64
        },
        {
          "output_type": "display_data",
          "data": {
            "text/plain": [
              "<Figure size 640x480 with 1 Axes>"
            ],
            "image/png": "[encoded data removed]"
          },
          "metadata": {}
        }
      ],
      "source": [
        "# HORSE\n",
        "plt.imshow(x_train[12])"
      ]
    },
    {
      "cell_type": "markdown",
      "metadata": {
        "id": "srRxHsVBjtVh"
      },
      "source": [
        "# PreProcessing"
      ]
    },
    {
      "cell_type": "code",
      "execution_count": 65,
      "metadata": {
        "colab": {
          "base_uri": "https://localhost:8080/",
          "height": 72
        },
        "id": "DP0BISL_jtVh",
        "outputId": "2ed822bb-f180-4a4c-cff7-1af384955685"
      },
      "outputs": [
        {
          "output_type": "execute_result",
          "data": {
            "text/plain": [
              "array([[[ 59,  62,  63],\n",
              "        [ 43,  46,  45],\n",
              "        [ 50,  48,  43],\n",
              "        ...,\n",
              "        [158, 132, 108],\n",
              "        [152, 125, 102],\n",
              "        [148, 124, 103]],\n",
              "\n",
              "       [[ 16,  20,  20],\n",
              "        [  0,   0,   0],\n",
              "        [ 18,   8,   0],\n",
              "        ...,\n",
              "        [123,  88,  55],\n",
              "        [119,  83,  50],\n",
              "        [122,  87,  57]],\n",
              "\n",
              "       [[ 25,  24,  21],\n",
              "        [ 16,   7,   0],\n",
              "        [ 49,  27,   8],\n",
              "        ...,\n",
              "        [118,  84,  50],\n",
              "        [120,  84,  50],\n",
              "        [109,  73,  42]],\n",
              "\n",
              "       ...,\n",
              "\n",
              "       [[208, 170,  96],\n",
              "        [201, 153,  34],\n",
              "        [198, 161,  26],\n",
              "        ...,\n",
              "        [160, 133,  70],\n",
              "        [ 56,  31,   7],\n",
              "        [ 53,  34,  20]],\n",
              "\n",
              "       [[180, 139,  96],\n",
              "        [173, 123,  42],\n",
              "        [186, 144,  30],\n",
              "        ...,\n",
              "        [184, 148,  94],\n",
              "        [ 97,  62,  34],\n",
              "        [ 83,  53,  34]],\n",
              "\n",
              "       [[177, 144, 116],\n",
              "        [168, 129,  94],\n",
              "        [179, 142,  87],\n",
              "        ...,\n",
              "        [216, 184, 140],\n",
              "        [151, 118,  84],\n",
              "        [123,  92,  72]]], dtype=uint8)"
            ],
            "text/html": [
              "<style>\n",
              "      .ndarray_repr .ndarray_raw_data {\n",
              "        display: none;\n",
              "      }\n",
              "      .ndarray_repr.show_array .ndarray_raw_data {\n",
              "        display: block;\n",
              "      }\n",
              "      .ndarray_repr.show_array .ndarray_image_preview {\n",
              "        display: none;\n",
              "      }\n",
              "      </style>\n",
              "      <div id=\"id-5fb1b8cd-b463-4810-8a07-2d57d495912d\" class=\"ndarray_repr\"><pre>ndarray (32, 32, 3) <button style=\"padding: 0 2px;\">show data</button></pre><img src=\"data:image/png;base64,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\" class=\"ndarray_image_preview\" /><pre class=\"ndarray_raw_data\">array([[[ 59,  62,  63],\n",
              "        [ 43,  46,  45],\n",
              "        [ 50,  48,  43],\n",
              "        ...,\n",
              "        [158, 132, 108],\n",
              "        [152, 125, 102],\n",
              "        [148, 124, 103]],\n",
              "\n",
              "       [[ 16,  20,  20],\n",
              "        [  0,   0,   0],\n",
              "        [ 18,   8,   0],\n",
              "        ...,\n",
              "        [123,  88,  55],\n",
              "        [119,  83,  50],\n",
              "        [122,  87,  57]],\n",
              "\n",
              "       [[ 25,  24,  21],\n",
              "        [ 16,   7,   0],\n",
              "        [ 49,  27,   8],\n",
              "        ...,\n",
              "        [118,  84,  50],\n",
              "        [120,  84,  50],\n",
              "        [109,  73,  42]],\n",
              "\n",
              "       ...,\n",
              "\n",
              "       [[208, 170,  96],\n",
              "        [201, 153,  34],\n",
              "        [198, 161,  26],\n",
              "        ...,\n",
              "        [160, 133,  70],\n",
              "        [ 56,  31,   7],\n",
              "        [ 53,  34,  20]],\n",
              "\n",
              "       [[180, 139,  96],\n",
              "        [173, 123,  42],\n",
              "        [186, 144,  30],\n",
              "        ...,\n",
              "        [184, 148,  94],\n",
              "        [ 97,  62,  34],\n",
              "        [ 83,  53,  34]],\n",
              "\n",
              "       [[177, 144, 116],\n",
              "        [168, 129,  94],\n",
              "        [179, 142,  87],\n",
              "        ...,\n",
              "        [216, 184, 140],\n",
              "        [151, 118,  84],\n",
              "        [123,  92,  72]]], dtype=uint8)</pre></div><script>\n",
              "      (() => {\n",
              "      const titles = ['show data', 'hide data'];\n",
              "      let index = 0\n",
              "      document.querySelector('#id-5fb1b8cd-b463-4810-8a07-2d57d495912d button').onclick = (e) => {\n",
              "        document.querySelector('#id-5fb1b8cd-b463-4810-8a07-2d57d495912d').classList.toggle('show_array');\n",
              "        index = (++index) % 2;\n",
              "        document.querySelector('#id-5fb1b8cd-b463-4810-8a07-2d57d495912d button').textContent = titles[index];\n",
              "        e.preventDefault();\n",
              "        e.stopPropagation();\n",
              "      }\n",
              "      })();\n",
              "    </script>"
            ]
          },
          "metadata": {},
          "execution_count": 65
        }
      ],
      "source": [
        "x_train[0]"
      ]
    },
    {
      "cell_type": "code",
      "execution_count": 66,
      "metadata": {
        "colab": {
          "base_uri": "https://localhost:8080/"
        },
        "id": "IRojTR8SjtVh",
        "outputId": "21a25f5c-4e64-4bbf-ced3-2a84fae856aa"
      },
      "outputs": [
        {
          "output_type": "execute_result",
          "data": {
            "text/plain": [
              "(32, 32, 3)"
            ]
          },
          "metadata": {},
          "execution_count": 66
        }
      ],
      "source": [
        "x_train[0].shape"
      ]
    },
    {
      "cell_type": "code",
      "execution_count": 67,
      "metadata": {
        "colab": {
          "base_uri": "https://localhost:8080/"
        },
        "id": "9kc7fxIbjtVi",
        "outputId": "e45d3db2-2364-4cd5-d577-2244d300bc9d"
      },
      "outputs": [
        {
          "output_type": "execute_result",
          "data": {
            "text/plain": [
              "255"
            ]
          },
          "metadata": {},
          "execution_count": 67
        }
      ],
      "source": [
        "x_train.max()"
      ]
    },
    {
      "cell_type": "code",
      "execution_count": 68,
      "metadata": {
        "id": "nWJcK0w4jtVi"
      },
      "outputs": [],
      "source": [
        "x_train = x_train/225"
      ]
    },
    {
      "cell_type": "code",
      "execution_count": 69,
      "metadata": {
        "id": "6YDN8RdRjtVi"
      },
      "outputs": [],
      "source": [
        "x_test = x_test/255"
      ]
    },
    {
      "cell_type": "code",
      "execution_count": 70,
      "metadata": {
        "colab": {
          "base_uri": "https://localhost:8080/"
        },
        "id": "k4zJJ7TxjtVj",
        "outputId": "2e102a0b-07d7-4f54-c04f-1c1b0bf77c21"
      },
      "outputs": [
        {
          "output_type": "execute_result",
          "data": {
            "text/plain": [
              "(50000, 32, 32, 3)"
            ]
          },
          "metadata": {},
          "execution_count": 70
        }
      ],
      "source": [
        "x_train.shape"
      ]
    },
    {
      "cell_type": "code",
      "execution_count": 71,
      "metadata": {
        "colab": {
          "base_uri": "https://localhost:8080/"
        },
        "id": "5PYK1XDUjtVj",
        "outputId": "80935bd7-dadd-494e-c26b-80681ef5d974"
      },
      "outputs": [
        {
          "output_type": "execute_result",
          "data": {
            "text/plain": [
              "(10000, 32, 32, 3)"
            ]
          },
          "metadata": {},
          "execution_count": 71
        }
      ],
      "source": [
        "x_test.shape"
      ]
    },
    {
      "cell_type": "code",
      "source": [
        "from tensorflow.keras.utils import to_categorical"
      ],
      "metadata": {
        "id": "nnFKNceyq8wj"
      },
      "execution_count": 72,
      "outputs": []
    },
    {
      "cell_type": "markdown",
      "source": [
        "# Explanation of the to_categorical Function\n",
        "The to_categorical function in TensorFlow's Keras utility module is used to convert class labels (usually integers) into a one-hot encoded format.\n",
        "\n",
        "One-hot encoding is a representation where each class label is transformed into a binary vector with a 1 at the index of the class label and 0s elsewhere.\n",
        "\n",
        "\n",
        "The code snippet is using the to_categorical function from tensorflow.keras.utils, which automatically one-hot encodes a target variable, like y or labels.\n",
        "\n",
        "------------------------------\n",
        "# Why Use to_categorical?\n",
        "Many machine learning models, especially in classification tasks, require categorical labels to be in this format.\n",
        "\n",
        "For example, if you're working on a classification problem with 3 classes (0, 1, 2), the integer labels will be transformed into:\n",
        "\n",
        "    Class 0 → [1, 0, 0]\n",
        "    Class 1 → [0, 1, 0]\n",
        "    Class 2 → [0, 0, 1]\n",
        "\n",
        "This format helps neural networks interpret categorical labels more effectively during training.\n",
        "\n",
        "-------------------------\n",
        "#Example Usage:\n",
        "\n",
        "    import numpy as np\n",
        "\n",
        "from tensorflow.keras.utils import to_categorical\n",
        "\n",
        "# Class labels as integers\n",
        "    labels = np.array([0, 1, 2, 1])\n",
        "\n",
        "# Convert to one-hot encoding\n",
        "    one_hot_labels = to_categorical(labels)\n",
        "\n",
        "    print(one_hot_labels)\n",
        "\n",
        "#Output:\n",
        "\n",
        "   [[1. 0. 0.]\n",
        "   [0. 1. 0.]\n",
        "   [0. 0. 1.]\n",
        "  [0. 1. 0.]]\n",
        "\n",
        "In this example, the array of labels [0, 1, 2, 1] is converted into its one-hot encoded equivalent."
      ],
      "metadata": {
        "id": "OPTcsYOGq_kQ"
      }
    },
    {
      "cell_type": "markdown",
      "metadata": {
        "id": "IuYc9uwfjtVj"
      },
      "source": [
        "## Labels"
      ]
    },
    {
      "cell_type": "markdown",
      "source": [],
      "metadata": {
        "id": "lsqB1xmkq1od"
      }
    },
    {
      "cell_type": "code",
      "execution_count": 73,
      "metadata": {
        "colab": {
          "base_uri": "https://localhost:8080/"
        },
        "id": "1OmrD5jnjtVk",
        "outputId": "58d38819-5e89-4e72-8ac5-9475a6b9b647"
      },
      "outputs": [
        {
          "output_type": "execute_result",
          "data": {
            "text/plain": [
              "(50000, 1)"
            ]
          },
          "metadata": {},
          "execution_count": 73
        }
      ],
      "source": [
        "y_train.shape"
      ]
    },
    {
      "cell_type": "code",
      "execution_count": 74,
      "metadata": {
        "colab": {
          "base_uri": "https://localhost:8080/"
        },
        "id": "b0R4LCqKjtVk",
        "outputId": "b952b246-b024-4f45-b616-627b2b0bc8a5"
      },
      "outputs": [
        {
          "output_type": "execute_result",
          "data": {
            "text/plain": [
              "array([6], dtype=uint8)"
            ]
          },
          "metadata": {},
          "execution_count": 74
        }
      ],
      "source": [
        "y_train[0]"
      ]
    },
    {
      "cell_type": "code",
      "execution_count": 75,
      "metadata": {
        "id": "n58RuQqAjtVk"
      },
      "outputs": [],
      "source": [
        "y_cat_train = to_categorical(y_train,10)"
      ]
    },
    {
      "cell_type": "code",
      "execution_count": 76,
      "metadata": {
        "colab": {
          "base_uri": "https://localhost:8080/"
        },
        "id": "KrQ3-PdyjtVk",
        "outputId": "53526b4a-aa5c-4b77-c1b6-907c8162c541"
      },
      "outputs": [
        {
          "output_type": "execute_result",
          "data": {
            "text/plain": [
              "(50000, 10)"
            ]
          },
          "metadata": {},
          "execution_count": 76
        }
      ],
      "source": [
        "y_cat_train.shape"
      ]
    },
    {
      "cell_type": "code",
      "execution_count": 77,
      "metadata": {
        "colab": {
          "base_uri": "https://localhost:8080/"
        },
        "id": "K3Rdzzp2jtVl",
        "outputId": "40d6451e-ff90-4005-81e6-22395012e5dd"
      },
      "outputs": [
        {
          "output_type": "execute_result",
          "data": {
            "text/plain": [
              "array([0., 0., 0., 0., 0., 0., 1., 0., 0., 0.])"
            ]
          },
          "metadata": {},
          "execution_count": 77
        }
      ],
      "source": [
        "y_cat_train[0]"
      ]
    },
    {
      "cell_type": "code",
      "execution_count": 78,
      "metadata": {
        "id": "VzCPRqBQjtVl"
      },
      "outputs": [],
      "source": [
        "y_cat_test = to_categorical(y_test,10)"
      ]
    },
    {
      "cell_type": "markdown",
      "metadata": {
        "id": "q-XrC3-gjtVl"
      },
      "source": [
        "----------\n",
        "# Building the Model"
      ]
    },
    {
      "cell_type": "code",
      "execution_count": 79,
      "metadata": {
        "id": "pS041096jtVl"
      },
      "outputs": [],
      "source": [
        "from tensorflow.keras.models import Sequential\n",
        "from tensorflow.keras.layers import Dense, Conv2D, MaxPool2D, Flatten"
      ]
    },
    {
      "cell_type": "code",
      "execution_count": 80,
      "metadata": {
        "colab": {
          "base_uri": "https://localhost:8080/"
        },
        "id": "T75a3dW5jtVm",
        "outputId": "dd240692-6c35-44a5-8c65-8e0034d6b2c0"
      },
      "outputs": [
        {
          "output_type": "stream",
          "name": "stderr",
          "text": [
            "/usr/local/lib/python3.10/dist-packages/keras/src/layers/convolutional/base_conv.py:107: UserWarning: Do not pass an `input_shape`/`input_dim` argument to a layer. When using Sequential models, prefer using an `Input(shape)` object as the first layer in the model instead.\n",
            "  super().__init__(activity_regularizer=activity_regularizer, **kwargs)\n"
          ]
        }
      ],
      "source": [
        "model = Sequential()\n",
        "\n",
        "## FIRST SET OF LAYERS\n",
        "\n",
        "# CONVOLUTIONAL LAYER\n",
        "model.add(Conv2D(filters=32, kernel_size=(4,4),input_shape=(32, 32, 3), activation='relu',))\n",
        "# POOLING LAYER\n",
        "model.add(MaxPool2D(pool_size=(2, 2)))\n",
        "\n",
        "## SECOND SET OF LAYERS\n",
        "\n",
        "# CONVOLUTIONAL LAYER\n",
        "model.add(Conv2D(filters=32, kernel_size=(4,4),input_shape=(32, 32, 3), activation='relu',))\n",
        "# POOLING LAYER\n",
        "model.add(MaxPool2D(pool_size=(2, 2)))\n",
        "\n",
        "# FLATTEN IMAGES FROM 28 by 28 to 764 BEFORE FINAL LAYER\n",
        "model.add(Flatten())\n",
        "\n",
        "# 256 NEURONS IN DENSE HIDDEN LAYER (YOU CAN CHANGE THIS NUMBER OF NEURONS)\n",
        "model.add(Dense(256, activation='relu'))\n",
        "\n",
        "# LAST LAYER IS THE CLASSIFIER, THUS 10 POSSIBLE CLASSES\n",
        "model.add(Dense(10, activation='softmax'))\n",
        "\n",
        "\n",
        "model.compile(loss='categorical_crossentropy',\n",
        "              optimizer='rmsprop',\n",
        "              metrics=['accuracy'])"
      ]
    },
    {
      "cell_type": "markdown",
      "source": [
        "# Understanding Each Convolutional Layer\n",
        "-------------------------------------------\n",
        "# 1. Convolutional Layer (Conv2D)\n",
        "\n",
        "##Purpose:\n",
        "Detects features in the input images (e.g., edges, textures).\n",
        "Parameters:\n",
        "\n",
        "##filters=32:\n",
        "Number of feature detectors.\n",
        "\n",
        "##kernel_size=(4,4):\n",
        "Size of each filter.\n",
        "\n",
        "##input_shape=(32, 32, 3):\n",
        "Shape of the input images (height, width, channels).\n",
        "activation='relu': Activation function introduces non-linearity.\n",
        "\n",
        "##Pooling Layer (MaxPool2D)\n",
        "\n",
        "Purpose: Reduces the spatial dimensions (height and width) of the feature maps, which decreases computational load and helps prevent overfitting.\n",
        "\n",
        "Parameters:\n",
        "pool_size=(2,2): Size of the pooling window.\n",
        "Flatten Layer (Flatten)\n",
        "\n",
        "Purpose: Converts the 3D feature maps into a 1D vector so that it can be fed into the Dense (fully connected) layers.\n",
        "When to Use: After the convolutional and pooling layers, before the Dense layers.\n",
        "\n",
        "----------------------------\n",
        "#2. Dense Layers (Dense)\n",
        "\n",
        "##Hidden Dense Layer:\n",
        "Dense(256, activation='relu'): Processes the flattened vector with 256 neurons.\n",
        "\n",
        "##Output Dense Layer:\n",
        "Dense(10, activation='softmax'): Outputs probabilities for 10 classes.\n",
        "\n",
        "--------------------------------\n",
        "#3. Compile the Model\n",
        "\n",
        "Loss Function: categorical_crossentropy for multi-class classification.\n",
        "\n",
        "-------------------------------\n",
        "#3. Optimizer\n",
        "Optimizer: rmsprop for optimizing the weights.\n",
        "Metrics: accuracy to monitor the training.\n",
        "\n",
        "------------------------------\n",
        "--------------------------------\n",
        "#Why Flatten Is Placed Before the Output Layer\n",
        "##1. Role of Flatten in the Network Architecture\n",
        "Spatial to Linear Transition: Convolutional and pooling layers process data in a multi-dimensional (spatial) format. However, Dense layers require input in a one-dimensional (linear) format. The Flatten layer bridges this gap by transforming the multi-dimensional output from the previous layers into a 1D vector.\n",
        "\n",
        "Before Dense Layers: Since Dense layers perform operations that require a fixed-size input, flattening is necessary to prepare the data for these layers.\n",
        "\n",
        "##2. Input vs. Internal Flattening\n",
        "Input Layer:\n",
        "No Flattening Needed: When you input images into the model, they retain their spatial structure (height, width, channels).\n",
        "\n",
        "Convolutional layers are designed to work with this structure, so flattening at the input stage would remove the spatial information that convolutional layers need to detect features effectively.\n",
        "\n",
        "Internal Flattening:\n",
        "Required for Dense Layers: After multiple convolutional and pooling layers have extracted and downsampled features, flattening is performed to prepare the data for the Dense layers, which are responsible for classification based on the extracted features.\n",
        "\n",
        "##3. Example Workflow\n",
        "Let’s visualize the data flow through your network:\n",
        "\n",
        "Input Image: Shape (32, 32, 3)\n",
        "\n",
        "After Conv2D: Shape (32, 32, 32) (assuming padding='valid' or 'same')\n",
        "\n",
        "After MaxPool2D: Shape (16, 16, 32) (pooling reduces dimensions by half)\n",
        "\n",
        "After Flatten: Shape (16 * 16 * 32,) = (8192,)\n",
        "\n",
        "After First Dense Layer: Shape (256,)\n",
        "\n",
        "After Output Dense Layer: Shape (10,) (probabilities for 10 classes)\n",
        "\n",
        "##Common Misconception:\n",
        "\n",
        "###Flattening at the Input Layer\n",
        "Why It's Incorrect:\n",
        "Flattening the input images before passing them to convolutional layers would eliminate the spatial relationships between pixels, making it impossible for convolutional layers to detect patterns like edges or textures.\n",
        "\n",
        "###Correct Approach:\n",
        "Keep the input in its original shape to allow convolutional layers to effectively learn spatial hierarchies of features. Only flatten the data after the convolutional and pooling layers have extracted meaningful features.\n",
        "\n",
        "##Visual Illustration\n",
        "Here's a simplified diagram to illustrate the flow:\n",
        "\n",
        "    Input Image (32, 32, 3)\n",
        "        |\n",
        "    Conv2D (32 filters, 4x4)\n",
        "        |\n",
        "    MaxPool2D (2x2)\n",
        "        |\n",
        "     Flatten\n",
        "        |\n",
        "     Dense (256 neurons)\n",
        "        |\n",
        "     Dense (10 neurons, Softmax)\n",
        "\n",
        "-------------------------\n",
        "#Summary\n",
        "Do Not Flatten at Input: Preserve the spatial structure of input images for effective feature extraction by convolutional layers.\n",
        "\n",
        "Flatten Before Dense Layers: Transition from spatial feature maps to linear vectors required by Dense layers for classification.\n",
        "\n",
        "Model Efficiency: This architecture allows the model to learn complex patterns and relationships within the data, leading to better performance on tasks like image classification.\n",
        "\n",
        "Additional Tips\n",
        "Avoid Unnecessary Flattening: Only use Flatten when transitioning from convolutional/pooling layers to Dense layers. Flattening too early or inappropriately can hinder the model’s ability to learn.\n",
        "\n",
        "Alternative to Flatten: Sometimes, instead of using Flatten, you can use GlobalAveragePooling2D or GlobalMaxPooling2D, which can reduce overfitting by summarizing feature maps.\n",
        "\n",
        "Verify Dimensions: Always ensure that the dimensions after each layer align with the expected input shapes of subsequent layers. This can help prevent shape-related errors during model training."
      ],
      "metadata": {
        "id": "HE2PfLuqz7kT"
      }
    },
    {
      "cell_type": "markdown",
      "source": [
        "# Explaining Convolutional Workings\n",
        "-------------------------------\n",
        "# 1. Convolutional Layer (Conv2D)\n",
        "\n",
        "    model.add(Conv2D(filters=32, kernel_size=(4,4), input_shape=(32, 32, 3), activation='relu'))\n",
        "\n",
        "This line adds a 2D convolutional layer to the neural network.\n",
        "\n",
        "Let's break it down:\n",
        "\n",
        "##filters=32:\n",
        "This specifies the number of filters (also called kernels) in this convolutional layer.\n",
        "\n",
        "Each filter will scan the input image and detect a specific feature (like edges, textures, etc.). The more filters, the more features the network can potentially capture. In this case, 32 filters will be used.\n",
        "\n",
        "##kernel_size=(4,4):\n",
        "This defines the size of each filter, also known as the kernel.\n",
        "\n",
        "A (4,4) kernel means each filter will be a 4x4 matrix that slides over the input image to compute feature maps.\n",
        "\n",
        "The kernel's dimensions are chosen based on the task or experimentation.\n",
        "\n",
        "input_shape=(32, 32, 3):\n",
        "\n",
        "This is the shape of the input data that this layer expects. In this case:\n",
        "\n",
        "The input is a 32x32 image (typical for datasets like CIFAR-10).\n",
        "\n",
        "The 3 represents the number of color channels (Red, Green, Blue - RGB) in the image.\n",
        "\n",
        "This parameter is only required for the first layer of the model, as subsequent layers infer the input shape automatically.\n",
        "\n",
        "##activation='relu':\n",
        "\n",
        "This specifies the activation function to be applied after the convolution operation. ReLU (Rectified Linear Unit) is commonly used in CNNs to introduce non-linearity and is defined as:\n",
        "\n",
        "$$f(x)=max(0,x)$$\n",
        "\n",
        "This ensures that any negative values are set to zero, making the model more efficient at learning complex patterns.\n",
        "\n",
        "------------------------\n",
        "#2. Pooling Layer (MaxPool2D)\n",
        "\n",
        "    model.add(MaxPool2D(pool_size=(2, 2)))\n",
        "\n",
        "This line adds a max pooling layer after the convolutional layer. Pooling layers are used to reduce the spatial dimensions (width and height) of the feature maps, which helps in reducing computational complexity and controlling overfitting.\n",
        "\n",
        "Max pooling is the most common type of pooling.\n",
        "\n",
        "##pool_size=(2,2):\n",
        "\n",
        "This defines the size of the window used for pooling. A (2,2) pool size means the layer will take non-overlapping 2x2 sections from the feature map and keep only the maximum value from each section\n",
        "\n",
        "![image.png](data:image/png;base64,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)\n",
        "\n",
        "This operation reduces the feature map size, making it more computationally efficient while still preserving important features.\n",
        "\n",
        "--------------------------------------\n",
        "#Purpose of This Code\n",
        "The convolutional layer is used to detect features in the input images by convolving the filters over the image data.\n",
        "\n",
        "The max pooling layer reduces the dimensionality of the feature maps while retaining the most important information, making the model more efficient and less prone to overfitting.\n",
        "Together, these two layers form the core building blocks of a typical CNN for image classification tasks."
      ],
      "metadata": {
        "id": "wDF6SJMUvJZB"
      }
    },
    {
      "cell_type": "markdown",
      "source": [
        "# 3D, 4D, 5D images\n",
        "\n",
        "------------------------\n",
        "# 1. 4D Images\n",
        "Four-dimensional (4D) images or data commonly refer to 3D images that also change over time. In this context, time is treated as the fourth dimension.\n",
        "\n",
        "Example: 4D Medical Imaging (Dynamic Volumetric Data)\n",
        "In medical imaging, 4D data can arise when capturing a sequence of 3D images over time.\n",
        "\n",
        "This is common in functional MRI (fMRI) or CT scans, where you capture multiple 3D scans over time to observe changes (e.g., brain activity, movement of organs like the heart).\n",
        "\n",
        "Shape: (time, depth, height, width, channels)\n",
        "Example: A sequence of 3D MRI images over time would have a shape like (time, depth, height, width, channels).\n",
        "\n",
        "Code Example (fMRI Data):\n",
        "\n",
        "    from tensorflow.keras.layers import Conv3D\n",
        "\n",
        "----------------------\n",
        "# 2.  4D medical imaging data (e.g., 10 time steps, with a 64x64x64 volumetric image and 1 channel)\n",
        "model.add(Conv3D(filters=32, kernel_size=(3, 3, 3), input_shape=(10, 64, 64, 64, 1), activation='relu'))\n",
        "\n",
        "##Use Case:\n",
        "Functional MRI (fMRI) studies, which track brain activity over time.\n",
        "\n",
        "4D cardiac CT scans, where the movement of the heart is tracked in 3D over time.\n",
        "\n",
        "---------------------------\n",
        "#3. 5D Images\n",
        "Five-dimensional (5D) data would extend the concept of 4D further, incorporating additional information like multiple modalities or various properties of the data.\n",
        "\n",
        "In this case, the fifth dimension might represent modalities, frequency, or other channels of information that capture different perspectives of the data.\n",
        "\n",
        "Example: Multimodal 4D Medical Imaging\n",
        "\n",
        "In certain medical research, you might capture a patient’s body over time using multiple imaging techniques simultaneously (e.g., CT + MRI + PET scans).\n",
        "\n",
        "Each modality provides a different type of image (density, molecular activity, etc.), and combining them yields 5D data.\n",
        "\n",
        "Shape: (time, depth, height, width, modalities)\n",
        "\n",
        "Example: A sequence of 3D scans over time, with multiple imaging modalities (e.g., CT, MRI, and PET), could be stored in a 5D tensor.\n",
        "\n",
        "##Use Case:\n",
        "Multimodal medical diagnostics (CT + MRI + PET scans over time).\n",
        "\n",
        "-------------------------\n",
        "#4. Hyperspectral Imaging (More than 3D)\n",
        "Hyperspectral images capture information across many different wavelengths of the electromagnetic spectrum.\n",
        "\n",
        "In contrast to typical RGB images, which have 3 color channels (red, green, and blue), hyperspectral images might have hundreds of channels, each representing a different wavelength.\n",
        "\n",
        "Example: Hyperspectral Imaging\n",
        "\n",
        "Hyperspectral imaging is widely used in fields such as remote sensing (e.g., satellite imagery), agriculture, and environmental monitoring.\n",
        "\n",
        "Shape: (height, width, channels)\n",
        "A hyperspectral image with 200 different wavelengths could be considered 3D (spatial dimensions + spectral channels). If taken over time, this would become 4D data (time, height, width, channels).\n",
        "\n",
        "##Use Case:\n",
        "Remote sensing (satellite data to analyze vegetation, minerals, etc.).\n",
        "\n",
        "Environmental monitoring.\n",
        "Medical imaging (e.g., distinguishing between tissue types).\n",
        "\n",
        "------------------------\n",
        "#5. Higher-Dimensional Scientific Data\n",
        "In scientific computing, some datasets may go beyond 3D. For example, data from physical simulations, climate models, or particle physics experiments can span multiple dimensions, representing various properties such as position, velocity, time, and energy levels.\n",
        "\n",
        "Example: Climate Modeling\n",
        "A climate model might simulate temperature, humidity, and pressure across latitude, longitude, altitude, and time.\n",
        "\n",
        "Shape: (latitude, longitude, altitude, time)\n",
        "\n",
        "##Use Case:\n",
        "Climate simulation and environmental predictions.\n",
        "Particle physics (e.g., tracking particles in 3D space, with additional dimensions representing velocity, energy, etc.).\n",
        "\n",
        "Practical Considerations\n",
        "Handling data beyond 3D typically requires specialized techniques and architectures. For example, 3D convolutional networks can be extended to handle 4D data by treating the fourth dimension (e.g., time) as an additional temporal input. However, the complexity and computational cost increase with each additional dimension.\n",
        "\n",
        "--------------------------\n",
        "#Summary\n",
        "3D data: Volumetric or spatial data like CT scans or 3D images.\n",
        "\n",
        "4D data: Time-varying 3D data (e.g., video, dynamic MRI).\n",
        "\n",
        "5D data: 3D data over time with multiple modalities or channels (e.g., multimodal medical imaging).\n",
        "\n",
        "Hyperspectral data: Data with many spectral channels, often used in environmental and scientific applications.\n",
        "\n",
        "In most real-world applications, data beyond 3D is rare and typically seen in specialized fields like medical imaging, scientific simulations, and remote sensing."
      ],
      "metadata": {
        "id": "6sAZZyQI6fzS"
      }
    },
    {
      "cell_type": "code",
      "execution_count": 81,
      "metadata": {
        "colab": {
          "base_uri": "https://localhost:8080/",
          "height": 375
        },
        "id": "IRFSsAvXjtVm",
        "outputId": "05236e0e-1b62-4451-e444-95ac75b619a8"
      },
      "outputs": [
        {
          "output_type": "display_data",
          "data": {
            "text/plain": [
              "\u001b[1mModel: \"sequential_1\"\u001b[0m\n"
            ],
            "text/html": [
              "<pre style=\"white-space:pre;overflow-x:auto;line-height:normal;font-family:Menlo,'DejaVu Sans Mono',consolas,'Courier New',monospace\"><span style=\"font-weight: bold\">Model: \"sequential_1\"</span>\n",
              "</pre>\n"
            ]
          },
          "metadata": {}
        },
        {
          "output_type": "display_data",
          "data": {
            "text/plain": [
              "┏━━━━━━━━━━━━━━━━━━━━━━━━━━━━━━━━━━━━━━┳━━━━━━━━━━━━━━━━━━━━━━━━━━━━━┳━━━━━━━━━━━━━━━━━┓\n",
              "┃\u001b[1m \u001b[0m\u001b[1mLayer (type)                        \u001b[0m\u001b[1m \u001b[0m┃\u001b[1m \u001b[0m\u001b[1mOutput Shape               \u001b[0m\u001b[1m \u001b[0m┃\u001b[1m \u001b[0m\u001b[1m        Param #\u001b[0m\u001b[1m \u001b[0m┃\n",
              "┡━━━━━━━━━━━━━━━━━━━━━━━━━━━━━━━━━━━━━━╇━━━━━━━━━━━━━━━━━━━━━━━━━━━━━╇━━━━━━━━━━━━━━━━━┩\n",
              "│ conv2d_2 (\u001b[38;5;33mConv2D\u001b[0m)                    │ (\u001b[38;5;45mNone\u001b[0m, \u001b[38;5;34m29\u001b[0m, \u001b[38;5;34m29\u001b[0m, \u001b[38;5;34m32\u001b[0m)          │           \u001b[38;5;34m1,568\u001b[0m │\n",
              "├──────────────────────────────────────┼─────────────────────────────┼─────────────────┤\n",
              "│ max_pooling2d_2 (\u001b[38;5;33mMaxPooling2D\u001b[0m)       │ (\u001b[38;5;45mNone\u001b[0m, \u001b[38;5;34m14\u001b[0m, \u001b[38;5;34m14\u001b[0m, \u001b[38;5;34m32\u001b[0m)          │               \u001b[38;5;34m0\u001b[0m │\n",
              "├──────────────────────────────────────┼─────────────────────────────┼─────────────────┤\n",
              "│ conv2d_3 (\u001b[38;5;33mConv2D\u001b[0m)                    │ (\u001b[38;5;45mNone\u001b[0m, \u001b[38;5;34m11\u001b[0m, \u001b[38;5;34m11\u001b[0m, \u001b[38;5;34m32\u001b[0m)          │          \u001b[38;5;34m16,416\u001b[0m │\n",
              "├──────────────────────────────────────┼─────────────────────────────┼─────────────────┤\n",
              "│ max_pooling2d_3 (\u001b[38;5;33mMaxPooling2D\u001b[0m)       │ (\u001b[38;5;45mNone\u001b[0m, \u001b[38;5;34m5\u001b[0m, \u001b[38;5;34m5\u001b[0m, \u001b[38;5;34m32\u001b[0m)            │               \u001b[38;5;34m0\u001b[0m │\n",
              "├──────────────────────────────────────┼─────────────────────────────┼─────────────────┤\n",
              "│ flatten_2 (\u001b[38;5;33mFlatten\u001b[0m)                  │ (\u001b[38;5;45mNone\u001b[0m, \u001b[38;5;34m800\u001b[0m)                 │               \u001b[38;5;34m0\u001b[0m │\n",
              "├──────────────────────────────────────┼─────────────────────────────┼─────────────────┤\n",
              "│ dense_2 (\u001b[38;5;33mDense\u001b[0m)                      │ (\u001b[38;5;45mNone\u001b[0m, \u001b[38;5;34m256\u001b[0m)                 │         \u001b[38;5;34m205,056\u001b[0m │\n",
              "├──────────────────────────────────────┼─────────────────────────────┼─────────────────┤\n",
              "│ dense_3 (\u001b[38;5;33mDense\u001b[0m)                      │ (\u001b[38;5;45mNone\u001b[0m, \u001b[38;5;34m10\u001b[0m)                  │           \u001b[38;5;34m2,570\u001b[0m │\n",
              "└──────────────────────────────────────┴─────────────────────────────┴─────────────────┘\n"
            ],
            "text/html": [
              "<pre style=\"white-space:pre;overflow-x:auto;line-height:normal;font-family:Menlo,'DejaVu Sans Mono',consolas,'Courier New',monospace\">┏━━━━━━━━━━━━━━━━━━━━━━━━━━━━━━━━━━━━━━┳━━━━━━━━━━━━━━━━━━━━━━━━━━━━━┳━━━━━━━━━━━━━━━━━┓\n",
              "┃<span style=\"font-weight: bold\"> Layer (type)                         </span>┃<span style=\"font-weight: bold\"> Output Shape                </span>┃<span style=\"font-weight: bold\">         Param # </span>┃\n",
              "┡━━━━━━━━━━━━━━━━━━━━━━━━━━━━━━━━━━━━━━╇━━━━━━━━━━━━━━━━━━━━━━━━━━━━━╇━━━━━━━━━━━━━━━━━┩\n",
              "│ conv2d_2 (<span style=\"color: #0087ff; text-decoration-color: #0087ff\">Conv2D</span>)                    │ (<span style=\"color: #00d7ff; text-decoration-color: #00d7ff\">None</span>, <span style=\"color: #00af00; text-decoration-color: #00af00\">29</span>, <span style=\"color: #00af00; text-decoration-color: #00af00\">29</span>, <span style=\"color: #00af00; text-decoration-color: #00af00\">32</span>)          │           <span style=\"color: #00af00; text-decoration-color: #00af00\">1,568</span> │\n",
              "├──────────────────────────────────────┼─────────────────────────────┼─────────────────┤\n",
              "│ max_pooling2d_2 (<span style=\"color: #0087ff; text-decoration-color: #0087ff\">MaxPooling2D</span>)       │ (<span style=\"color: #00d7ff; text-decoration-color: #00d7ff\">None</span>, <span style=\"color: #00af00; text-decoration-color: #00af00\">14</span>, <span style=\"color: #00af00; text-decoration-color: #00af00\">14</span>, <span style=\"color: #00af00; text-decoration-color: #00af00\">32</span>)          │               <span style=\"color: #00af00; text-decoration-color: #00af00\">0</span> │\n",
              "├──────────────────────────────────────┼─────────────────────────────┼─────────────────┤\n",
              "│ conv2d_3 (<span style=\"color: #0087ff; text-decoration-color: #0087ff\">Conv2D</span>)                    │ (<span style=\"color: #00d7ff; text-decoration-color: #00d7ff\">None</span>, <span style=\"color: #00af00; text-decoration-color: #00af00\">11</span>, <span style=\"color: #00af00; text-decoration-color: #00af00\">11</span>, <span style=\"color: #00af00; text-decoration-color: #00af00\">32</span>)          │          <span style=\"color: #00af00; text-decoration-color: #00af00\">16,416</span> │\n",
              "├──────────────────────────────────────┼─────────────────────────────┼─────────────────┤\n",
              "│ max_pooling2d_3 (<span style=\"color: #0087ff; text-decoration-color: #0087ff\">MaxPooling2D</span>)       │ (<span style=\"color: #00d7ff; text-decoration-color: #00d7ff\">None</span>, <span style=\"color: #00af00; text-decoration-color: #00af00\">5</span>, <span style=\"color: #00af00; text-decoration-color: #00af00\">5</span>, <span style=\"color: #00af00; text-decoration-color: #00af00\">32</span>)            │               <span style=\"color: #00af00; text-decoration-color: #00af00\">0</span> │\n",
              "├──────────────────────────────────────┼─────────────────────────────┼─────────────────┤\n",
              "│ flatten_2 (<span style=\"color: #0087ff; text-decoration-color: #0087ff\">Flatten</span>)                  │ (<span style=\"color: #00d7ff; text-decoration-color: #00d7ff\">None</span>, <span style=\"color: #00af00; text-decoration-color: #00af00\">800</span>)                 │               <span style=\"color: #00af00; text-decoration-color: #00af00\">0</span> │\n",
              "├──────────────────────────────────────┼─────────────────────────────┼─────────────────┤\n",
              "│ dense_2 (<span style=\"color: #0087ff; text-decoration-color: #0087ff\">Dense</span>)                      │ (<span style=\"color: #00d7ff; text-decoration-color: #00d7ff\">None</span>, <span style=\"color: #00af00; text-decoration-color: #00af00\">256</span>)                 │         <span style=\"color: #00af00; text-decoration-color: #00af00\">205,056</span> │\n",
              "├──────────────────────────────────────┼─────────────────────────────┼─────────────────┤\n",
              "│ dense_3 (<span style=\"color: #0087ff; text-decoration-color: #0087ff\">Dense</span>)                      │ (<span style=\"color: #00d7ff; text-decoration-color: #00d7ff\">None</span>, <span style=\"color: #00af00; text-decoration-color: #00af00\">10</span>)                  │           <span style=\"color: #00af00; text-decoration-color: #00af00\">2,570</span> │\n",
              "└──────────────────────────────────────┴─────────────────────────────┴─────────────────┘\n",
              "</pre>\n"
            ]
          },
          "metadata": {}
        },
        {
          "output_type": "display_data",
          "data": {
            "text/plain": [
              "\u001b[1m Total params: \u001b[0m\u001b[38;5;34m225,610\u001b[0m (881.29 KB)\n"
            ],
            "text/html": [
              "<pre style=\"white-space:pre;overflow-x:auto;line-height:normal;font-family:Menlo,'DejaVu Sans Mono',consolas,'Courier New',monospace\"><span style=\"font-weight: bold\"> Total params: </span><span style=\"color: #00af00; text-decoration-color: #00af00\">225,610</span> (881.29 KB)\n",
              "</pre>\n"
            ]
          },
          "metadata": {}
        },
        {
          "output_type": "display_data",
          "data": {
            "text/plain": [
              "\u001b[1m Trainable params: \u001b[0m\u001b[38;5;34m225,610\u001b[0m (881.29 KB)\n"
            ],
            "text/html": [
              "<pre style=\"white-space:pre;overflow-x:auto;line-height:normal;font-family:Menlo,'DejaVu Sans Mono',consolas,'Courier New',monospace\"><span style=\"font-weight: bold\"> Trainable params: </span><span style=\"color: #00af00; text-decoration-color: #00af00\">225,610</span> (881.29 KB)\n",
              "</pre>\n"
            ]
          },
          "metadata": {}
        },
        {
          "output_type": "display_data",
          "data": {
            "text/plain": [
              "\u001b[1m Non-trainable params: \u001b[0m\u001b[38;5;34m0\u001b[0m (0.00 B)\n"
            ],
            "text/html": [
              "<pre style=\"white-space:pre;overflow-x:auto;line-height:normal;font-family:Menlo,'DejaVu Sans Mono',consolas,'Courier New',monospace\"><span style=\"font-weight: bold\"> Non-trainable params: </span><span style=\"color: #00af00; text-decoration-color: #00af00\">0</span> (0.00 B)\n",
              "</pre>\n"
            ]
          },
          "metadata": {}
        }
      ],
      "source": [
        "model.summary()"
      ]
    },
    {
      "cell_type": "code",
      "execution_count": 85,
      "metadata": {
        "colab": {
          "base_uri": "https://localhost:8080/"
        },
        "id": "9WxNf2MajtVn",
        "outputId": "2ff0b14c-0321-4eca-b4bd-242289ee3709"
      },
      "outputs": [
        {
          "output_type": "stream",
          "name": "stdout",
          "text": [
            "Epoch 1/15\n",
            "\u001b[1m1563/1563\u001b[0m \u001b[32m━━━━━━━━━━━━━━━━━━━━\u001b[0m\u001b[37m\u001b[0m \u001b[1m71s\u001b[0m 44ms/step - accuracy: 0.3700 - loss: 1.7367 - val_accuracy: 0.4959 - val_loss: 1.4469\n",
            "Epoch 2/15\n",
            "\u001b[1m1563/1563\u001b[0m \u001b[32m━━━━━━━━━━━━━━━━━━━━\u001b[0m\u001b[37m\u001b[0m \u001b[1m80s\u001b[0m 44ms/step - accuracy: 0.5827 - loss: 1.1933 - val_accuracy: 0.6008 - val_loss: 1.1228\n",
            "Epoch 3/15\n",
            "\u001b[1m1563/1563\u001b[0m \u001b[32m━━━━━━━━━━━━━━━━━━━━\u001b[0m\u001b[37m\u001b[0m \u001b[1m68s\u001b[0m 44ms/step - accuracy: 0.6419 - loss: 1.0279 - val_accuracy: 0.6118 - val_loss: 1.1039\n",
            "Epoch 4/15\n",
            "\u001b[1m1563/1563\u001b[0m \u001b[32m━━━━━━━━━━━━━━━━━━━━\u001b[0m\u001b[37m\u001b[0m \u001b[1m86s\u001b[0m 46ms/step - accuracy: 0.6824 - loss: 0.9098 - val_accuracy: 0.6320 - val_loss: 1.0793\n",
            "Epoch 5/15\n",
            "\u001b[1m1563/1563\u001b[0m \u001b[32m━━━━━━━━━━━━━━━━━━━━\u001b[0m\u001b[37m\u001b[0m \u001b[1m80s\u001b[0m 45ms/step - accuracy: 0.7173 - loss: 0.8193 - val_accuracy: 0.6527 - val_loss: 1.0306\n",
            "Epoch 6/15\n",
            "\u001b[1m1563/1563\u001b[0m \u001b[32m━━━━━━━━━━━━━━━━━━━━\u001b[0m\u001b[37m\u001b[0m \u001b[1m80s\u001b[0m 44ms/step - accuracy: 0.7483 - loss: 0.7384 - val_accuracy: 0.6037 - val_loss: 1.1878\n",
            "Epoch 7/15\n",
            "\u001b[1m1563/1563\u001b[0m \u001b[32m━━━━━━━━━━━━━━━━━━━━\u001b[0m\u001b[37m\u001b[0m \u001b[1m83s\u001b[0m 45ms/step - accuracy: 0.7656 - loss: 0.6797 - val_accuracy: 0.5871 - val_loss: 1.5106\n",
            "Epoch 8/15\n",
            "\u001b[1m1563/1563\u001b[0m \u001b[32m━━━━━━━━━━━━━━━━━━━━\u001b[0m\u001b[37m\u001b[0m \u001b[1m83s\u001b[0m 46ms/step - accuracy: 0.7891 - loss: 0.6202 - val_accuracy: 0.6481 - val_loss: 1.1512\n"
          ]
        },
        {
          "output_type": "execute_result",
          "data": {
            "text/plain": [
              "<keras.src.callbacks.history.History at 0x7f1c3dd6f3a0>"
            ]
          },
          "metadata": {},
          "execution_count": 85
        }
      ],
      "source": [
        "from tensorflow.keras.callbacks import EarlyStopping\n",
        "early_stop = EarlyStopping(monitor='val_loss',patience=3)\n",
        "model.fit(x_train,y_cat_train,epochs=15,validation_data=(x_test,y_cat_test),callbacks=[early_stop])\n"
      ]
    },
    {
      "cell_type": "code",
      "source": [
        "losses = pd.DataFrame(model.history.history)"
      ],
      "metadata": {
        "id": "6vzEfkV2_vqQ"
      },
      "execution_count": 86,
      "outputs": []
    },
    {
      "cell_type": "markdown",
      "source": [],
      "metadata": {
        "id": "IIhxY9FF89mx"
      }
    },
    {
      "cell_type": "code",
      "execution_count": 87,
      "metadata": {
        "colab": {
          "base_uri": "https://localhost:8080/",
          "height": 206
        },
        "id": "PtsWyFP3jtVo",
        "outputId": "a4d4ae05-38f3-4d3c-9733-c5851c2f20f5"
      },
      "outputs": [
        {
          "output_type": "execute_result",
          "data": {
            "text/plain": [
              "   accuracy      loss  val_accuracy  val_loss\n",
              "0   0.45546  1.519457        0.4959  1.446911\n",
              "1   0.59196  1.163578        0.6008  1.122803\n",
              "2   0.64834  1.011650        0.6118  1.103892\n",
              "3   0.68606  0.907813        0.6320  1.079332\n",
              "4   0.71790  0.822404        0.6527  1.030637"
            ],
            "text/html": [
              "\n",
              "  <div id=\"df-81ffe2d1-2300-4f0a-b3d1-a130dd1cc34f\" class=\"colab-df-container\">\n",
              "    <div>\n",
              "<style scoped>\n",
              "    .dataframe tbody tr th:only-of-type {\n",
              "        vertical-align: middle;\n",
              "    }\n",
              "\n",
              "    .dataframe tbody tr th {\n",
              "        vertical-align: top;\n",
              "    }\n",
              "\n",
              "    .dataframe thead th {\n",
              "        text-align: right;\n",
              "    }\n",
              "</style>\n",
              "<table border=\"1\" class=\"dataframe\">\n",
              "  <thead>\n",
              "    <tr style=\"text-align: right;\">\n",
              "      <th></th>\n",
              "      <th>accuracy</th>\n",
              "      <th>loss</th>\n",
              "      <th>val_accuracy</th>\n",
              "      <th>val_loss</th>\n",
              "    </tr>\n",
              "  </thead>\n",
              "  <tbody>\n",
              "    <tr>\n",
              "      <th>0</th>\n",
              "      <td>0.45546</td>\n",
              "      <td>1.519457</td>\n",
              "      <td>0.4959</td>\n",
              "      <td>1.446911</td>\n",
              "    </tr>\n",
              "    <tr>\n",
              "      <th>1</th>\n",
              "      <td>0.59196</td>\n",
              "      <td>1.163578</td>\n",
              "      <td>0.6008</td>\n",
              "      <td>1.122803</td>\n",
              "    </tr>\n",
              "    <tr>\n",
              "      <th>2</th>\n",
              "      <td>0.64834</td>\n",
              "      <td>1.011650</td>\n",
              "      <td>0.6118</td>\n",
              "      <td>1.103892</td>\n",
              "    </tr>\n",
              "    <tr>\n",
              "      <th>3</th>\n",
              "      <td>0.68606</td>\n",
              "      <td>0.907813</td>\n",
              "      <td>0.6320</td>\n",
              "      <td>1.079332</td>\n",
              "    </tr>\n",
              "    <tr>\n",
              "      <th>4</th>\n",
              "      <td>0.71790</td>\n",
              "      <td>0.822404</td>\n",
              "      <td>0.6527</td>\n",
              "      <td>1.030637</td>\n",
              "    </tr>\n",
              "  </tbody>\n",
              "</table>\n",
              "</div>\n",
              "    <div class=\"colab-df-buttons\">\n",
              "\n",
              "  <div class=\"colab-df-container\">\n",
              "    <button class=\"colab-df-convert\" onclick=\"convertToInteractive('df-81ffe2d1-2300-4f0a-b3d1-a130dd1cc34f')\"\n",
              "            title=\"Convert this dataframe to an interactive table.\"\n",
              "            style=\"display:none;\">\n",
              "\n",
              "  <svg xmlns=\"http://www.w3.org/2000/svg\" height=\"24px\" viewBox=\"0 -960 960 960\">\n",
              "    <path d=\"M120-120v-720h720v720H120Zm60-500h600v-160H180v160Zm220 220h160v-160H400v160Zm0 220h160v-160H400v160ZM180-400h160v-160H180v160Zm440 0h160v-160H620v160ZM180-180h160v-160H180v160Zm440 0h160v-160H620v160Z\"/>\n",
              "  </svg>\n",
              "    </button>\n",
              "\n",
              "  <style>\n",
              "    .colab-df-container {\n",
              "      display:flex;\n",
              "      gap: 12px;\n",
              "    }\n",
              "\n",
              "    .colab-df-convert {\n",
              "      background-color: #E8F0FE;\n",
              "      border: none;\n",
              "      border-radius: 50%;\n",
              "      cursor: pointer;\n",
              "      display: none;\n",
              "      fill: #1967D2;\n",
              "      height: 32px;\n",
              "      padding: 0 0 0 0;\n",
              "      width: 32px;\n",
              "    }\n",
              "\n",
              "    .colab-df-convert:hover {\n",
              "      background-color: #E2EBFA;\n",
              "      box-shadow: 0px 1px 2px rgba(60, 64, 67, 0.3), 0px 1px 3px 1px rgba(60, 64, 67, 0.15);\n",
              "      fill: #174EA6;\n",
              "    }\n",
              "\n",
              "    .colab-df-buttons div {\n",
              "      margin-bottom: 4px;\n",
              "    }\n",
              "\n",
              "    [theme=dark] .colab-df-convert {\n",
              "      background-color: #3B4455;\n",
              "      fill: #D2E3FC;\n",
              "    }\n",
              "\n",
              "    [theme=dark] .colab-df-convert:hover {\n",
              "      background-color: #434B5C;\n",
              "      box-shadow: 0px 1px 3px 1px rgba(0, 0, 0, 0.15);\n",
              "      filter: drop-shadow(0px 1px 2px rgba(0, 0, 0, 0.3));\n",
              "      fill: #FFFFFF;\n",
              "    }\n",
              "  </style>\n",
              "\n",
              "    <script>\n",
              "      const buttonEl =\n",
              "        document.querySelector('#df-81ffe2d1-2300-4f0a-b3d1-a130dd1cc34f button.colab-df-convert');\n",
              "      buttonEl.style.display =\n",
              "        google.colab.kernel.accessAllowed ? 'block' : 'none';\n",
              "\n",
              "      async function convertToInteractive(key) {\n",
              "        const element = document.querySelector('#df-81ffe2d1-2300-4f0a-b3d1-a130dd1cc34f');\n",
              "        const dataTable =\n",
              "          await google.colab.kernel.invokeFunction('convertToInteractive',\n",
              "                                                    [key], {});\n",
              "        if (!dataTable) return;\n",
              "\n",
              "        const docLinkHtml = 'Like what you see? Visit the ' +\n",
              "          '<a target=\"_blank\" href=https://colab.research.google.com/notebooks/data_table.ipynb>data table notebook</a>'\n",
              "          + ' to learn more about interactive tables.';\n",
              "        element.innerHTML = '';\n",
              "        dataTable['output_type'] = 'display_data';\n",
              "        await google.colab.output.renderOutput(dataTable, element);\n",
              "        const docLink = document.createElement('div');\n",
              "        docLink.innerHTML = docLinkHtml;\n",
              "        element.appendChild(docLink);\n",
              "      }\n",
              "    </script>\n",
              "  </div>\n",
              "\n",
              "\n",
              "<div id=\"df-352b104a-b3c4-4260-9626-ee940b173155\">\n",
              "  <button class=\"colab-df-quickchart\" onclick=\"quickchart('df-352b104a-b3c4-4260-9626-ee940b173155')\"\n",
              "            title=\"Suggest charts\"\n",
              "            style=\"display:none;\">\n",
              "\n",
              "<svg xmlns=\"http://www.w3.org/2000/svg\" height=\"24px\"viewBox=\"0 0 24 24\"\n",
              "     width=\"24px\">\n",
              "    <g>\n",
              "        <path d=\"M19 3H5c-1.1 0-2 .9-2 2v14c0 1.1.9 2 2 2h14c1.1 0 2-.9 2-2V5c0-1.1-.9-2-2-2zM9 17H7v-7h2v7zm4 0h-2V7h2v10zm4 0h-2v-4h2v4z\"/>\n",
              "    </g>\n",
              "</svg>\n",
              "  </button>\n",
              "\n",
              "<style>\n",
              "  .colab-df-quickchart {\n",
              "      --bg-color: #E8F0FE;\n",
              "      --fill-color: #1967D2;\n",
              "      --hover-bg-color: #E2EBFA;\n",
              "      --hover-fill-color: #174EA6;\n",
              "      --disabled-fill-color: #AAA;\n",
              "      --disabled-bg-color: #DDD;\n",
              "  }\n",
              "\n",
              "  [theme=dark] .colab-df-quickchart {\n",
              "      --bg-color: #3B4455;\n",
              "      --fill-color: #D2E3FC;\n",
              "      --hover-bg-color: #434B5C;\n",
              "      --hover-fill-color: #FFFFFF;\n",
              "      --disabled-bg-color: #3B4455;\n",
              "      --disabled-fill-color: #666;\n",
              "  }\n",
              "\n",
              "  .colab-df-quickchart {\n",
              "    background-color: var(--bg-color);\n",
              "    border: none;\n",
              "    border-radius: 50%;\n",
              "    cursor: pointer;\n",
              "    display: none;\n",
              "    fill: var(--fill-color);\n",
              "    height: 32px;\n",
              "    padding: 0;\n",
              "    width: 32px;\n",
              "  }\n",
              "\n",
              "  .colab-df-quickchart:hover {\n",
              "    background-color: var(--hover-bg-color);\n",
              "    box-shadow: 0 1px 2px rgba(60, 64, 67, 0.3), 0 1px 3px 1px rgba(60, 64, 67, 0.15);\n",
              "    fill: var(--button-hover-fill-color);\n",
              "  }\n",
              "\n",
              "  .colab-df-quickchart-complete:disabled,\n",
              "  .colab-df-quickchart-complete:disabled:hover {\n",
              "    background-color: var(--disabled-bg-color);\n",
              "    fill: var(--disabled-fill-color);\n",
              "    box-shadow: none;\n",
              "  }\n",
              "\n",
              "  .colab-df-spinner {\n",
              "    border: 2px solid var(--fill-color);\n",
              "    border-color: transparent;\n",
              "    border-bottom-color: var(--fill-color);\n",
              "    animation:\n",
              "      spin 1s steps(1) infinite;\n",
              "  }\n",
              "\n",
              "  @keyframes spin {\n",
              "    0% {\n",
              "      border-color: transparent;\n",
              "      border-bottom-color: var(--fill-color);\n",
              "      border-left-color: var(--fill-color);\n",
              "    }\n",
              "    20% {\n",
              "      border-color: transparent;\n",
              "      border-left-color: var(--fill-color);\n",
              "      border-top-color: var(--fill-color);\n",
              "    }\n",
              "    30% {\n",
              "      border-color: transparent;\n",
              "      border-left-color: var(--fill-color);\n",
              "      border-top-color: var(--fill-color);\n",
              "      border-right-color: var(--fill-color);\n",
              "    }\n",
              "    40% {\n",
              "      border-color: transparent;\n",
              "      border-right-color: var(--fill-color);\n",
              "      border-top-color: var(--fill-color);\n",
              "    }\n",
              "    60% {\n",
              "      border-color: transparent;\n",
              "      border-right-color: var(--fill-color);\n",
              "    }\n",
              "    80% {\n",
              "      border-color: transparent;\n",
              "      border-right-color: var(--fill-color);\n",
              "      border-bottom-color: var(--fill-color);\n",
              "    }\n",
              "    90% {\n",
              "      border-color: transparent;\n",
              "      border-bottom-color: var(--fill-color);\n",
              "    }\n",
              "  }\n",
              "</style>\n",
              "\n",
              "  <script>\n",
              "    async function quickchart(key) {\n",
              "      const quickchartButtonEl =\n",
              "        document.querySelector('#' + key + ' button');\n",
              "      quickchartButtonEl.disabled = true;  // To prevent multiple clicks.\n",
              "      quickchartButtonEl.classList.add('colab-df-spinner');\n",
              "      try {\n",
              "        const charts = await google.colab.kernel.invokeFunction(\n",
              "            'suggestCharts', [key], {});\n",
              "      } catch (error) {\n",
              "        console.error('Error during call to suggestCharts:', error);\n",
              "      }\n",
              "      quickchartButtonEl.classList.remove('colab-df-spinner');\n",
              "      quickchartButtonEl.classList.add('colab-df-quickchart-complete');\n",
              "    }\n",
              "    (() => {\n",
              "      let quickchartButtonEl =\n",
              "        document.querySelector('#df-352b104a-b3c4-4260-9626-ee940b173155 button');\n",
              "      quickchartButtonEl.style.display =\n",
              "        google.colab.kernel.accessAllowed ? 'block' : 'none';\n",
              "    })();\n",
              "  </script>\n",
              "</div>\n",
              "\n",
              "    </div>\n",
              "  </div>\n"
            ],
            "application/vnd.google.colaboratory.intrinsic+json": {
              "type": "dataframe",
              "variable_name": "losses",
              "summary": "{\n  \"name\": \"losses\",\n  \"rows\": 8,\n  \"fields\": [\n    {\n      \"column\": \"accuracy\",\n      \"properties\": {\n        \"dtype\": \"number\",\n        \"std\": 0.10774215488328164,\n        \"min\": 0.4554600119590759,\n        \"max\": 0.7800999879837036,\n        \"num_unique_values\": 8,\n        \"samples\": [\n          0.5919600129127502,\n          0.7430400252342224,\n          0.4554600119590759\n        ],\n        \"semantic_type\": \"\",\n        \"description\": \"\"\n      }\n    },\n    {\n      \"column\": \"loss\",\n      \"properties\": {\n        \"dtype\": \"number\",\n        \"std\": 0.2905979788111154,\n        \"min\": 0.6440097093582153,\n        \"max\": 1.519457459449768,\n        \"num_unique_values\": 8,\n        \"samples\": [\n          1.1635781526565552,\n          0.7507620453834534,\n          1.519457459449768\n        ],\n        \"semantic_type\": \"\",\n        \"description\": \"\"\n      }\n    },\n    {\n      \"column\": \"val_accuracy\",\n      \"properties\": {\n        \"dtype\": \"number\",\n        \"std\": 0.04948721478561626,\n        \"min\": 0.4959000051021576,\n        \"max\": 0.6527000069618225,\n        \"num_unique_values\": 8,\n        \"samples\": [\n          0.6007999777793884,\n          0.6036999821662903,\n          0.4959000051021576\n        ],\n        \"semantic_type\": \"\",\n        \"description\": \"\"\n      }\n    },\n    {\n      \"column\": \"val_loss\",\n      \"properties\": {\n        \"dtype\": \"number\",\n        \"std\": 0.1765891594680258,\n        \"min\": 1.030637264251709,\n        \"max\": 1.510621428489685,\n        \"num_unique_values\": 8,\n        \"samples\": [\n          1.1228033304214478,\n          1.1877974271774292,\n          1.4469108581542969\n        ],\n        \"semantic_type\": \"\",\n        \"description\": \"\"\n      }\n    }\n  ]\n}"
            }
          },
          "metadata": {},
          "execution_count": 87
        }
      ],
      "source": [
        "losses.head()"
      ]
    },
    {
      "cell_type": "code",
      "execution_count": 88,
      "metadata": {
        "colab": {
          "base_uri": "https://localhost:8080/",
          "height": 447
        },
        "id": "-Ot2Dt99jtVp",
        "outputId": "e629a793-81c4-4f75-da11-6ec52bbc7bec"
      },
      "outputs": [
        {
          "output_type": "execute_result",
          "data": {
            "text/plain": [
              "<Axes: >"
            ]
          },
          "metadata": {},
          "execution_count": 88
        },
        {
          "output_type": "display_data",
          "data": {
            "text/plain": [
              "<Figure size 640x480 with 1 Axes>"
            ],
            "image/png": "[encoded data removed]"
          },
          "metadata": {}
        }
      ],
      "source": [
        "losses[['accuracy','val_accuracy']].plot()"
      ]
    },
    {
      "cell_type": "code",
      "execution_count": 89,
      "metadata": {
        "colab": {
          "base_uri": "https://localhost:8080/",
          "height": 447
        },
        "id": "N7UbX8sDjtVp",
        "outputId": "b64b656c-8fca-4e45-ef1a-081509fed027"
      },
      "outputs": [
        {
          "output_type": "execute_result",
          "data": {
            "text/plain": [
              "<Axes: >"
            ]
          },
          "metadata": {},
          "execution_count": 89
        },
        {
          "output_type": "display_data",
          "data": {
            "text/plain": [
              "<Figure size 640x480 with 1 Axes>"
            ],
            "image/png": "[encoded data removed]"
          },
          "metadata": {}
        }
      ],
      "source": [
        "losses[['loss','val_loss']].plot()"
      ]
    },
    {
      "cell_type": "code",
      "execution_count": 90,
      "metadata": {
        "colab": {
          "base_uri": "https://localhost:8080/"
        },
        "id": "5OuVrveGjtVp",
        "outputId": "b1322daf-7da9-430e-9859-1f39adcdf736"
      },
      "outputs": [
        {
          "output_type": "execute_result",
          "data": {
            "text/plain": [
              "['loss', 'compile_metrics']"
            ]
          },
          "metadata": {},
          "execution_count": 90
        }
      ],
      "source": [
        "model.metrics_names"
      ]
    },
    {
      "cell_type": "code",
      "execution_count": 91,
      "metadata": {
        "colab": {
          "base_uri": "https://localhost:8080/"
        },
        "id": "dRh7OSCdjtVv",
        "outputId": "6053f1a2-cef7-4c51-d572-05c90ee9baed"
      },
      "outputs": [
        {
          "output_type": "stream",
          "name": "stdout",
          "text": [
            "['loss', 'compile_metrics']\n",
            "[1.151177167892456, 0.6481000185012817]\n"
          ]
        }
      ],
      "source": [
        "print(model.metrics_names)\n",
        "print(model.evaluate(x_test,y_cat_test,verbose=0))"
      ]
    },
    {
      "source": [
        "import numpy as np # import numpy\n",
        "\n",
        "from sklearn.metrics import classification_report,confusion_matrix\n",
        "\n",
        "predictions = np.argmax(model.predict(x_test), axis=-1) # use predict and argmax"
      ],
      "cell_type": "code",
      "metadata": {
        "colab": {
          "base_uri": "https://localhost:8080/"
        },
        "id": "OE3hzOL9FQW2",
        "outputId": "363a58b7-a771-47c6-c310-814578311c32"
      },
      "execution_count": 93,
      "outputs": [
        {
          "output_type": "stream",
          "name": "stdout",
          "text": [
            "\u001b[1m313/313\u001b[0m \u001b[32m━━━━━━━━━━━━━━━━━━━━\u001b[0m\u001b[37m\u001b[0m \u001b[1m5s\u001b[0m 15ms/step\n"
          ]
        }
      ]
    },
    {
      "cell_type": "code",
      "execution_count": 94,
      "metadata": {
        "colab": {
          "base_uri": "https://localhost:8080/"
        },
        "id": "DkFbneAcjtVw",
        "outputId": "4e52a230-68ba-4f37-f6eb-3f6c4db7c1fa"
      },
      "outputs": [
        {
          "output_type": "stream",
          "name": "stdout",
          "text": [
            "              precision    recall  f1-score   support\n",
            "\n",
            "           0       0.72      0.68      0.70      1000\n",
            "           1       0.72      0.84      0.78      1000\n",
            "           2       0.48      0.59      0.53      1000\n",
            "           3       0.48      0.53      0.50      1000\n",
            "           4       0.53      0.74      0.62      1000\n",
            "           5       0.63      0.44      0.52      1000\n",
            "           6       0.70      0.75      0.72      1000\n",
            "           7       0.73      0.69      0.71      1000\n",
            "           8       0.81      0.67      0.73      1000\n",
            "           9       0.87      0.56      0.68      1000\n",
            "\n",
            "    accuracy                           0.65     10000\n",
            "   macro avg       0.67      0.65      0.65     10000\n",
            "weighted avg       0.67      0.65      0.65     10000\n",
            "\n"
          ]
        }
      ],
      "source": [
        "print(classification_report(y_test,predictions))"
      ]
    },
    {
      "cell_type": "code",
      "execution_count": 95,
      "metadata": {
        "colab": {
          "base_uri": "https://localhost:8080/"
        },
        "id": "QuFLY3KHjtVw",
        "outputId": "9dd6eba0-229a-4324-c9e7-c42080e55db5"
      },
      "outputs": [
        {
          "output_type": "execute_result",
          "data": {
            "text/plain": [
              "array([[676,  35,  88,  17,  63,  10,  23,   8,  65,  15],\n",
              "       [ 24, 839,  21,  17,  17,   8,  18,   7,  19,  30],\n",
              "       [ 56,   5, 591,  63, 129,  52,  63,  27,  11,   3],\n",
              "       [ 11,  12, 115, 529, 105,  97,  76,  38,  12,   5],\n",
              "       [  8,   3,  71,  50, 740,  14,  63,  42,   9,   0],\n",
              "       [  7,   4, 117, 235,  93, 441,  30,  71,   0,   2],\n",
              "       [  3,   5,  86,  78,  59,   7, 750,   7,   5,   0],\n",
              "       [ 11,   7,  58,  38, 129,  54,   9, 688,   3,   3],\n",
              "       [ 98,  55,  46,  46,  29,  10,  16,   7, 670,  23],\n",
              "       [ 39, 198,  33,  37,  24,  10,  23,  44,  35, 557]])"
            ]
          },
          "metadata": {},
          "execution_count": 95
        }
      ],
      "source": [
        "confusion_matrix(y_test,predictions)"
      ]
    },
    {
      "cell_type": "code",
      "execution_count": 96,
      "metadata": {
        "colab": {
          "base_uri": "https://localhost:8080/",
          "height": 452
        },
        "id": "P5AlDAmMjtVw",
        "outputId": "7dc31410-ee01-4cb6-afdf-44483cf66031"
      },
      "outputs": [
        {
          "output_type": "execute_result",
          "data": {
            "text/plain": [
              "<Axes: >"
            ]
          },
          "metadata": {},
          "execution_count": 96
        },
        {
          "output_type": "display_data",
          "data": {
            "text/plain": [
              "<Figure size 1000x600 with 2 Axes>"
            ],
            "image/png": "[encoded data removed]"
          },
          "metadata": {}
        }
      ],
      "source": [
        "import seaborn as sns\n",
        "plt.figure(figsize=(10,6))\n",
        "sns.heatmap(confusion_matrix(y_test,predictions),annot=True)\n",
        "# https://github.com/matplotlib/matplotlib/issues/14751"
      ]
    },
    {
      "cell_type": "markdown",
      "source": [
        "# Explanation of 5.3e+2\n",
        "5.3: This is the mantissa, the main number.\n",
        "\n",
        "e+2: This represents the power of 10 by which the mantissa is multiplied. The e stands for \"exponent,\" and the +2 indicates the exponent is positive.\n",
        "\n",
        "-----------------------\n",
        "##How to Interpret It:\n",
        "5.3e+2 means:\n",
        "\n",
        "$$5.3×10^2$$\n",
        "\n",
        "This translates to:\n",
        "\n",
        "$$5.3×100=530$$\n",
        "General Format of Scientific Notation:\n",
        "Scientific notation follows the form:\n",
        "\n",
        "$$a×10^b$$\n",
        "\n",
        "Where:\n",
        "\n",
        "a is a number (the mantissa) between 1 and 10 (or a fraction in the case of negative mantissas).\n",
        "\n",
        "b is the exponent of 10.\n",
        "\n",
        "In this case:\n",
        "\n",
        "a = 5.3\n",
        "\n",
        "b = 2"
      ],
      "metadata": {
        "id": "K7306JR_GTUG"
      }
    },
    {
      "cell_type": "markdown",
      "metadata": {
        "id": "W5W-L4WgjtVx"
      },
      "source": [
        "# Predicting a given image"
      ]
    },
    {
      "cell_type": "code",
      "execution_count": 97,
      "metadata": {
        "id": "TDlUAveyjtVx"
      },
      "outputs": [],
      "source": [
        "my_image = x_test[16]"
      ]
    },
    {
      "cell_type": "code",
      "execution_count": 98,
      "metadata": {
        "colab": {
          "base_uri": "https://localhost:8080/",
          "height": 447
        },
        "id": "farK7XLujtVx",
        "outputId": "00bbeea2-cdcf-490e-c336-b9463122e650"
      },
      "outputs": [
        {
          "output_type": "execute_result",
          "data": {
            "text/plain": [
              "<matplotlib.image.AxesImage at 0x7f1c3cb09c00>"
            ]
          },
          "metadata": {},
          "execution_count": 98
        },
        {
          "output_type": "display_data",
          "data": {
            "text/plain": [
              "<Figure size 640x480 with 1 Axes>"
            ],
            "image/png": "[encoded data removed]"
          },
          "metadata": {}
        }
      ],
      "source": [
        "plt.imshow(my_image)"
      ]
    },
    {
      "source": [
        "# Use model.predict, then take the argmax to find the predicted class\n",
        "predictions = model.predict(my_image.reshape(1,32,32,3))\n",
        "predicted_class = predictions.argmax()\n",
        "\n",
        "# Print or use the predicted_class as needed\n",
        "print(f\"Predicted class: {predicted_class}\")"
      ],
      "cell_type": "code",
      "metadata": {
        "colab": {
          "base_uri": "https://localhost:8080/"
        },
        "id": "zituwtilHDkC",
        "outputId": "bf0fee4d-5c5b-4373-d9a5-8e8a0f11d4e0"
      },
      "execution_count": 100,
      "outputs": [
        {
          "output_type": "stream",
          "name": "stdout",
          "text": [
            "\u001b[1m1/1\u001b[0m \u001b[32m━━━━━━━━━━━━━━━━━━━━\u001b[0m\u001b[37m\u001b[0m \u001b[1m0s\u001b[0m 51ms/step\n",
            "Predicted class: 5\n"
          ]
        }
      ]
    },
    {
      "cell_type": "code",
      "execution_count": 101,
      "metadata": {
        "id": "UTXXulhXjtVy"
      },
      "outputs": [],
      "source": [
        "# 5 is DOG\n",
        "# https://www.cs.toronto.edu/~kriz/cifar.html"
      ]
    }
  ],
  "metadata": {
    "kernelspec": {
      "display_name": "Python 3",
      "language": "python",
      "name": "python3"
    },
    "language_info": {
      "codemirror_mode": {
        "name": "ipython",
        "version": 3
      },
      "file_extension": ".py",
      "mimetype": "text/x-python",
      "name": "python",
      "nbconvert_exporter": "python",
      "pygments_lexer": "ipython3",
      "version": "3.7.4"
    },
    "colab": {
      "provenance": [],
      "include_colab_link": true
    }
  },
  "nbformat": 4,
  "nbformat_minor": 0
}
{
  "cells": [
    {
      "cell_type": "markdown",
      "metadata": {
        "id": "view-in-github",
        "colab_type": "text"
      },
      "source": [
        "<a href=\"https://colab.research.google.com/github/drpetros11111/Tensorflow_Portilia/blob/CNN/02_Keras_CNN_CIFAR_10.ipynb\" target=\"_parent\"><img src=\"https://colab.research.google.com/assets/colab-badge.svg\" alt=\"Open In Colab\"/></a>"
      ]
    },
    {
      "cell_type": "markdown",
      "metadata": {
        "id": "xOkhN0ZFjtVZ"
      },
      "source": [
        "<a href=\"https://www.pieriandata.com\"><img src=\"../Pierian_Data_Logo.PNG\"></a>\n",
        "<strong><center>Copyright by Pierian Data Inc.</center></strong>\n",
        "<strong><center>Created by Jose Marcial Portilla.</center></strong>\n",
        "# CIFAR-10 Multiple Classes\n",
        "\n",
        "Let's go over another example of using Keras and building out CNNs. This time will use another famous data set, the CIFAR-10 dataset which consists of 10 different image types."
      ]
    },
    {
      "cell_type": "code",
      "execution_count": 1,
      "metadata": {
        "id": "VhuKbz-rjtVc"
      },
      "outputs": [],
      "source": [
        "import pandas as pd\n",
        "import numpy as np"
      ]
    },
    {
      "cell_type": "markdown",
      "metadata": {
        "id": "iN3sSA8yjtVd"
      },
      "source": [
        "-----"
      ]
    },
    {
      "cell_type": "markdown",
      "metadata": {
        "id": "15Hitbi0jtVd"
      },
      "source": [
        "# The Data\n",
        "\n",
        "CIFAR-10 is a dataset of 50,000 32x32 color training images, labeled over 10 categories, and 10,000 test images."
      ]
    },
    {
      "cell_type": "code",
      "execution_count": 2,
      "metadata": {
        "colab": {
          "base_uri": "https://localhost:8080/"
        },
        "id": "AiqZAqFGjtVd",
        "outputId": "ca0465be-594f-4d3f-c898-1e1d9ca83cbc"
      },
      "outputs": [
        {
          "output_type": "stream",
          "name": "stdout",
          "text": [
            "Downloading data from https://www.cs.toronto.edu/~kriz/cifar-10-python.tar.gz\n",
            "\u001b[1m170498071/170498071\u001b[0m \u001b[32m━━━━━━━━━━━━━━━━━━━━\u001b[0m\u001b[37m\u001b[0m \u001b[1m2s\u001b[0m 0us/step\n"
          ]
        }
      ],
      "source": [
        "from tensorflow.keras.datasets import cifar10\n",
        "\n",
        "(x_train, y_train), (x_test, y_test) = cifar10.load_data()"
      ]
    },
    {
      "cell_type": "code",
      "execution_count": 3,
      "metadata": {
        "colab": {
          "base_uri": "https://localhost:8080/"
        },
        "id": "u4mCbKBHjtVe",
        "outputId": "c8d3108e-0cbf-4562-c10d-99bd87d08e83"
      },
      "outputs": [
        {
          "output_type": "execute_result",
          "data": {
            "text/plain": [
              "(50000, 32, 32, 3)"
            ]
          },
          "metadata": {},
          "execution_count": 3
        }
      ],
      "source": [
        "x_train.shape"
      ]
    },
    {
      "cell_type": "code",
      "execution_count": 4,
      "metadata": {
        "colab": {
          "base_uri": "https://localhost:8080/"
        },
        "id": "wdSj5HwIjtVf",
        "outputId": "cd4cac88-80bc-44ee-d6a3-26fc4289970a"
      },
      "outputs": [
        {
          "output_type": "execute_result",
          "data": {
            "text/plain": [
              "(32, 32, 3)"
            ]
          },
          "metadata": {},
          "execution_count": 4
        }
      ],
      "source": [
        "x_train[0].shape"
      ]
    },
    {
      "source": [
        "import matplotlib.pyplot as plt # Import the pyplot module from matplotlib and alias it as plt.\n",
        "\n",
        "plt.imshow(x_train[0]) # Now you can use plt to access the imshow function."
      ],
      "cell_type": "code",
      "metadata": {
        "colab": {
          "base_uri": "https://localhost:8080/",
          "height": 447
        },
        "id": "hTZU04FjpFdl",
        "outputId": "019d0aa3-591c-4bdd-a604-927b10a05c95"
      },
      "execution_count": 6,
      "outputs": [
        {
          "output_type": "execute_result",
          "data": {
            "text/plain": [
              "<matplotlib.image.AxesImage at 0x7f1c479c55a0>"
            ]
          },
          "metadata": {},
          "execution_count": 6
        },
        {
          "output_type": "display_data",
          "data": {
            "text/plain": [
              "<Figure size 640x480 with 1 Axes>"
            ],
            "image/png": "[encoded data removed]"
          },
          "metadata": {}
        }
      ]
    },
    {
      "cell_type": "code",
      "execution_count": 8,
      "metadata": {
        "colab": {
          "base_uri": "https://localhost:8080/",
          "height": 447
        },
        "id": "S3QINOp_jtVg",
        "outputId": "04abfe16-eec4-4fdb-ba65-0f9f466c8fdd"
      },
      "outputs": [
        {
          "output_type": "execute_result",
          "data": {
            "text/plain": [
              "<matplotlib.image.AxesImage at 0x7f1c45f049a0>"
            ]
          },
          "metadata": {},
          "execution_count": 8
        },
        {
          "output_type": "display_data",
          "data": {
            "text/plain": [
              "<Figure size 640x480 with 1 Axes>"
            ],
            "image/png": "[encoded data removed]"
          },
          "metadata": {}
        }
      ],
      "source": [
        "# FROG\n",
        "plt.imshow(x_train[12])"
      ]
    },
    {
      "cell_type": "code",
      "execution_count": 9,
      "metadata": {
        "colab": {
          "base_uri": "https://localhost:8080/",
          "height": 447
        },
        "id": "Oc5tCXftjtVg",
        "outputId": "6e1aec47-9cdd-426c-d100-2ce7f9fab9d3"
      },
      "outputs": [
        {
          "output_type": "execute_result",
          "data": {
            "text/plain": [
              "<matplotlib.image.AxesImage at 0x7f1c45de6a10>"
            ]
          },
          "metadata": {},
          "execution_count": 9
        },
        {
          "output_type": "display_data",
          "data": {
            "text/plain": [
              "<Figure size 640x480 with 1 Axes>"
            ],
            "image/png": "[encoded data removed]"
          },
          "metadata": {}
        }
      ],
      "source": [
        "# HORSE\n",
        "plt.imshow(x_train[12])"
      ]
    },
    {
      "cell_type": "markdown",
      "metadata": {
        "id": "srRxHsVBjtVh"
      },
      "source": [
        "# PreProcessing"
      ]
    },
    {
      "cell_type": "code",
      "execution_count": 10,
      "metadata": {
        "colab": {
          "base_uri": "https://localhost:8080/",
          "height": 72
        },
        "id": "DP0BISL_jtVh",
        "outputId": "dfdb3539-e891-4f80-864a-37c7e34a3bcb"
      },
      "outputs": [
        {
          "output_type": "execute_result",
          "data": {
            "text/plain": [
              "array([[[ 59,  62,  63],\n",
              "        [ 43,  46,  45],\n",
              "        [ 50,  48,  43],\n",
              "        ...,\n",
              "        [158, 132, 108],\n",
              "        [152, 125, 102],\n",
              "        [148, 124, 103]],\n",
              "\n",
              "       [[ 16,  20,  20],\n",
              "        [  0,   0,   0],\n",
              "        [ 18,   8,   0],\n",
              "        ...,\n",
              "        [123,  88,  55],\n",
              "        [119,  83,  50],\n",
              "        [122,  87,  57]],\n",
              "\n",
              "       [[ 25,  24,  21],\n",
              "        [ 16,   7,   0],\n",
              "        [ 49,  27,   8],\n",
              "        ...,\n",
              "        [118,  84,  50],\n",
              "        [120,  84,  50],\n",
              "        [109,  73,  42]],\n",
              "\n",
              "       ...,\n",
              "\n",
              "       [[208, 170,  96],\n",
              "        [201, 153,  34],\n",
              "        [198, 161,  26],\n",
              "        ...,\n",
              "        [160, 133,  70],\n",
              "        [ 56,  31,   7],\n",
              "        [ 53,  34,  20]],\n",
              "\n",
              "       [[180, 139,  96],\n",
              "        [173, 123,  42],\n",
              "        [186, 144,  30],\n",
              "        ...,\n",
              "        [184, 148,  94],\n",
              "        [ 97,  62,  34],\n",
              "        [ 83,  53,  34]],\n",
              "\n",
              "       [[177, 144, 116],\n",
              "        [168, 129,  94],\n",
              "        [179, 142,  87],\n",
              "        ...,\n",
              "        [216, 184, 140],\n",
              "        [151, 118,  84],\n",
              "        [123,  92,  72]]], dtype=uint8)"
            ],
            "text/html": [
              "<style>\n",
              "      .ndarray_repr .ndarray_raw_data {\n",
              "        display: none;\n",
              "      }\n",
              "      .ndarray_repr.show_array .ndarray_raw_data {\n",
              "        display: block;\n",
              "      }\n",
              "      .ndarray_repr.show_array .ndarray_image_preview {\n",
              "        display: none;\n",
              "      }\n",
              "      </style>\n",
              "      <div id=\"id-1fef90d8-8b2a-48b3-a7c1-a50144ba39aa\" class=\"ndarray_repr\"><pre>ndarray (32, 32, 3) <button style=\"padding: 0 2px;\">show data</button></pre><img src=\"data:image/png;base64,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\" class=\"ndarray_image_preview\" /><pre class=\"ndarray_raw_data\">array([[[ 59,  62,  63],\n",
              "        [ 43,  46,  45],\n",
              "        [ 50,  48,  43],\n",
              "        ...,\n",
              "        [158, 132, 108],\n",
              "        [152, 125, 102],\n",
              "        [148, 124, 103]],\n",
              "\n",
              "       [[ 16,  20,  20],\n",
              "        [  0,   0,   0],\n",
              "        [ 18,   8,   0],\n",
              "        ...,\n",
              "        [123,  88,  55],\n",
              "        [119,  83,  50],\n",
              "        [122,  87,  57]],\n",
              "\n",
              "       [[ 25,  24,  21],\n",
              "        [ 16,   7,   0],\n",
              "        [ 49,  27,   8],\n",
              "        ...,\n",
              "        [118,  84,  50],\n",
              "        [120,  84,  50],\n",
              "        [109,  73,  42]],\n",
              "\n",
              "       ...,\n",
              "\n",
              "       [[208, 170,  96],\n",
              "        [201, 153,  34],\n",
              "        [198, 161,  26],\n",
              "        ...,\n",
              "        [160, 133,  70],\n",
              "        [ 56,  31,   7],\n",
              "        [ 53,  34,  20]],\n",
              "\n",
              "       [[180, 139,  96],\n",
              "        [173, 123,  42],\n",
              "        [186, 144,  30],\n",
              "        ...,\n",
              "        [184, 148,  94],\n",
              "        [ 97,  62,  34],\n",
              "        [ 83,  53,  34]],\n",
              "\n",
              "       [[177, 144, 116],\n",
              "        [168, 129,  94],\n",
              "        [179, 142,  87],\n",
              "        ...,\n",
              "        [216, 184, 140],\n",
              "        [151, 118,  84],\n",
              "        [123,  92,  72]]], dtype=uint8)</pre></div><script>\n",
              "      (() => {\n",
              "      const titles = ['show data', 'hide data'];\n",
              "      let index = 0\n",
              "      document.querySelector('#id-1fef90d8-8b2a-48b3-a7c1-a50144ba39aa button').onclick = (e) => {\n",
              "        document.querySelector('#id-1fef90d8-8b2a-48b3-a7c1-a50144ba39aa').classList.toggle('show_array');\n",
              "        index = (++index) % 2;\n",
              "        document.querySelector('#id-1fef90d8-8b2a-48b3-a7c1-a50144ba39aa button').textContent = titles[index];\n",
              "        e.preventDefault();\n",
              "        e.stopPropagation();\n",
              "      }\n",
              "      })();\n",
              "    </script>"
            ]
          },
          "metadata": {},
          "execution_count": 10
        }
      ],
      "source": [
        "x_train[0]"
      ]
    },
    {
      "cell_type": "code",
      "execution_count": 11,
      "metadata": {
        "colab": {
          "base_uri": "https://localhost:8080/"
        },
        "id": "IRojTR8SjtVh",
        "outputId": "a97a8de9-5433-41a1-960b-368c7498171c"
      },
      "outputs": [
        {
          "output_type": "execute_result",
          "data": {
            "text/plain": [
              "(32, 32, 3)"
            ]
          },
          "metadata": {},
          "execution_count": 11
        }
      ],
      "source": [
        "x_train[0].shape"
      ]
    },
    {
      "cell_type": "code",
      "execution_count": 12,
      "metadata": {
        "colab": {
          "base_uri": "https://localhost:8080/"
        },
        "id": "9kc7fxIbjtVi",
        "outputId": "a7b15f35-8f42-444d-b44f-752f86bb4c17"
      },
      "outputs": [
        {
          "output_type": "execute_result",
          "data": {
            "text/plain": [
              "255"
            ]
          },
          "metadata": {},
          "execution_count": 12
        }
      ],
      "source": [
        "x_train.max()"
      ]
    },
    {
      "cell_type": "code",
      "execution_count": 13,
      "metadata": {
        "id": "nWJcK0w4jtVi"
      },
      "outputs": [],
      "source": [
        "x_train = x_train/225"
      ]
    },
    {
      "cell_type": "code",
      "execution_count": 14,
      "metadata": {
        "id": "6YDN8RdRjtVi"
      },
      "outputs": [],
      "source": [
        "x_test = x_test/255"
      ]
    },
    {
      "cell_type": "code",
      "execution_count": 15,
      "metadata": {
        "colab": {
          "base_uri": "https://localhost:8080/"
        },
        "id": "k4zJJ7TxjtVj",
        "outputId": "9a540389-c508-406b-d37b-f3962c88f825"
      },
      "outputs": [
        {
          "output_type": "execute_result",
          "data": {
            "text/plain": [
              "(50000, 32, 32, 3)"
            ]
          },
          "metadata": {},
          "execution_count": 15
        }
      ],
      "source": [
        "x_train.shape"
      ]
    },
    {
      "cell_type": "code",
      "execution_count": 16,
      "metadata": {
        "colab": {
          "base_uri": "https://localhost:8080/"
        },
        "id": "5PYK1XDUjtVj",
        "outputId": "d33bca10-0a11-4ef3-d674-10fa6e13a66a"
      },
      "outputs": [
        {
          "output_type": "execute_result",
          "data": {
            "text/plain": [
              "(10000, 32, 32, 3)"
            ]
          },
          "metadata": {},
          "execution_count": 16
        }
      ],
      "source": [
        "x_test.shape"
      ]
    },
    {
      "cell_type": "code",
      "source": [
        "from tensorflow.keras.utils import to_categorical"
      ],
      "metadata": {
        "id": "nnFKNceyq8wj"
      },
      "execution_count": null,
      "outputs": []
    },
    {
      "cell_type": "markdown",
      "source": [
        "# Explanation of the to_categorical Function\n",
        "The to_categorical function in TensorFlow's Keras utility module is used to convert class labels (usually integers) into a one-hot encoded format.\n",
        "\n",
        "One-hot encoding is a representation where each class label is transformed into a binary vector with a 1 at the index of the class label and 0s elsewhere.\n",
        "\n",
        "------------------------------\n",
        "# Why Use to_categorical?\n",
        "Many machine learning models, especially in classification tasks, require categorical labels to be in this format.\n",
        "\n",
        "For example, if you're working on a classification problem with 3 classes (0, 1, 2), the integer labels will be transformed into:\n",
        "\n",
        "    Class 0 → [1, 0, 0]\n",
        "    Class 1 → [0, 1, 0]\n",
        "    Class 2 → [0, 0, 1]\n",
        "\n",
        "This format helps neural networks interpret categorical labels more effectively during training.\n",
        "\n",
        "-------------------------\n",
        "#Example Usage:\n",
        "\n",
        "    import numpy as np\n",
        "\n",
        "from tensorflow.keras.utils import to_categorical\n",
        "\n",
        "# Class labels as integers\n",
        "    labels = np.array([0, 1, 2, 1])\n",
        "\n",
        "# Convert to one-hot encoding\n",
        "    one_hot_labels = to_categorical(labels)\n",
        "\n",
        "    print(one_hot_labels)\n",
        "\n",
        "#Output:\n",
        "\n",
        "   [[1. 0. 0.]\n",
        "   [0. 1. 0.]\n",
        "   [0. 0. 1.]\n",
        "  [0. 1. 0.]]\n",
        "  \n",
        "In this example, the array of labels [0, 1, 2, 1] is converted into its one-hot encoded equivalent."
      ],
      "metadata": {
        "id": "OPTcsYOGq_kQ"
      }
    },
    {
      "cell_type": "markdown",
      "metadata": {
        "id": "IuYc9uwfjtVj"
      },
      "source": [
        "## Labels"
      ]
    },
    {
      "cell_type": "markdown",
      "source": [],
      "metadata": {
        "id": "lsqB1xmkq1od"
      }
    },
    {
      "cell_type": "code",
      "execution_count": 18,
      "metadata": {
        "colab": {
          "base_uri": "https://localhost:8080/"
        },
        "id": "1OmrD5jnjtVk",
        "outputId": "4d4c4234-29ec-42e2-b8a8-3e093fa4fa27"
      },
      "outputs": [
        {
          "output_type": "execute_result",
          "data": {
            "text/plain": [
              "(50000, 1)"
            ]
          },
          "metadata": {},
          "execution_count": 18
        }
      ],
      "source": [
        "y_train.shape"
      ]
    },
    {
      "cell_type": "code",
      "execution_count": 19,
      "metadata": {
        "colab": {
          "base_uri": "https://localhost:8080/"
        },
        "id": "b0R4LCqKjtVk",
        "outputId": "030c59b2-ca85-47a4-bcb0-23371ff677d6"
      },
      "outputs": [
        {
          "output_type": "execute_result",
          "data": {
            "text/plain": [
              "array([6], dtype=uint8)"
            ]
          },
          "metadata": {},
          "execution_count": 19
        }
      ],
      "source": [
        "y_train[0]"
      ]
    },
    {
      "cell_type": "code",
      "execution_count": null,
      "metadata": {
        "id": "n58RuQqAjtVk"
      },
      "outputs": [],
      "source": [
        "y_cat_train = to_categorical(y_train,10)"
      ]
    },
    {
      "cell_type": "code",
      "execution_count": null,
      "metadata": {
        "id": "KrQ3-PdyjtVk",
        "outputId": "d060b707-0180-465c-c18e-cbdcef80fa59"
      },
      "outputs": [
        {
          "data": {
            "text/plain": [
              "(50000, 10)"
            ]
          },
          "execution_count": 19,
          "metadata": {},
          "output_type": "execute_result"
        }
      ],
      "source": [
        "y_cat_train.shape"
      ]
    },
    {
      "cell_type": "code",
      "execution_count": null,
      "metadata": {
        "id": "K3Rdzzp2jtVl",
        "outputId": "5c9912f2-4618-44ce-a474-3367a29a23b1"
      },
      "outputs": [
        {
          "data": {
            "text/plain": [
              "array([0., 0., 0., 0., 0., 0., 1., 0., 0., 0.], dtype=float32)"
            ]
          },
          "execution_count": 20,
          "metadata": {},
          "output_type": "execute_result"
        }
      ],
      "source": [
        "y_cat_train[0]"
      ]
    },
    {
      "cell_type": "code",
      "execution_count": null,
      "metadata": {
        "id": "VzCPRqBQjtVl"
      },
      "outputs": [],
      "source": [
        "y_cat_test = to_categorical(y_test,10)"
      ]
    },
    {
      "cell_type": "markdown",
      "metadata": {
        "id": "q-XrC3-gjtVl"
      },
      "source": [
        "----------\n",
        "# Building the Model"
      ]
    },
    {
      "cell_type": "code",
      "execution_count": null,
      "metadata": {
        "id": "pS041096jtVl"
      },
      "outputs": [],
      "source": [
        "from tensorflow.keras.models import Sequential\n",
        "from tensorflow.keras.layers import Dense, Conv2D, MaxPool2D, Flatten"
      ]
    },
    {
      "cell_type": "code",
      "execution_count": null,
      "metadata": {
        "id": "T75a3dW5jtVm"
      },
      "outputs": [],
      "source": [
        "model = Sequential()\n",
        "\n",
        "## FIRST SET OF LAYERS\n",
        "\n",
        "# CONVOLUTIONAL LAYER\n",
        "model.add(Conv2D(filters=32, kernel_size=(4,4),input_shape=(32, 32, 3), activation='relu',))\n",
        "# POOLING LAYER\n",
        "model.add(MaxPool2D(pool_size=(2, 2)))\n",
        "\n",
        "## SECOND SET OF LAYERS\n",
        "\n",
        "# CONVOLUTIONAL LAYER\n",
        "model.add(Conv2D(filters=32, kernel_size=(4,4),input_shape=(32, 32, 3), activation='relu',))\n",
        "# POOLING LAYER\n",
        "model.add(MaxPool2D(pool_size=(2, 2)))\n",
        "\n",
        "# FLATTEN IMAGES FROM 28 by 28 to 764 BEFORE FINAL LAYER\n",
        "model.add(Flatten())\n",
        "\n",
        "# 256 NEURONS IN DENSE HIDDEN LAYER (YOU CAN CHANGE THIS NUMBER OF NEURONS)\n",
        "model.add(Dense(256, activation='relu'))\n",
        "\n",
        "# LAST LAYER IS THE CLASSIFIER, THUS 10 POSSIBLE CLASSES\n",
        "model.add(Dense(10, activation='softmax'))\n",
        "\n",
        "\n",
        "model.compile(loss='categorical_crossentropy',\n",
        "              optimizer='rmsprop',\n",
        "              metrics=['accuracy'])"
      ]
    },
    {
      "cell_type": "code",
      "execution_count": null,
      "metadata": {
        "id": "IRFSsAvXjtVm",
        "outputId": "5212d082-9647-49a6-a421-4f31e5584f6b"
      },
      "outputs": [
        {
          "name": "stdout",
          "output_type": "stream",
          "text": [
            "Model: \"sequential_2\"\n",
            "_________________________________________________________________\n",
            "Layer (type)                 Output Shape              Param #   \n",
            "=================================================================\n",
            "conv2d_4 (Conv2D)            (None, 29, 29, 32)        1568      \n",
            "_________________________________________________________________\n",
            "max_pooling2d_4 (MaxPooling2 (None, 14, 14, 32)        0         \n",
            "_________________________________________________________________\n",
            "conv2d_5 (Conv2D)            (None, 11, 11, 32)        16416     \n",
            "_________________________________________________________________\n",
            "max_pooling2d_5 (MaxPooling2 (None, 5, 5, 32)          0         \n",
            "_________________________________________________________________\n",
            "flatten_2 (Flatten)          (None, 800)               0         \n",
            "_________________________________________________________________\n",
            "dense_4 (Dense)              (None, 256)               205056    \n",
            "_________________________________________________________________\n",
            "dense_5 (Dense)              (None, 10)                2570      \n",
            "=================================================================\n",
            "Total params: 225,610\n",
            "Trainable params: 225,610\n",
            "Non-trainable params: 0\n",
            "_________________________________________________________________\n"
          ]
        }
      ],
      "source": [
        "model.summary()"
      ]
    },
    {
      "cell_type": "code",
      "execution_count": null,
      "metadata": {
        "id": "9WxNf2MajtVn"
      },
      "outputs": [],
      "source": [
        "from tensorflow.keras.callbacks import EarlyStopping"
      ]
    },
    {
      "cell_type": "code",
      "execution_count": null,
      "metadata": {
        "id": "3zMAwuNLjtVn"
      },
      "outputs": [],
      "source": [
        "early_stop = EarlyStopping(monitor='val_loss',patience=3)"
      ]
    },
    {
      "cell_type": "code",
      "execution_count": null,
      "metadata": {
        "id": "sixq9l-0jtVn",
        "outputId": "8fee1122-8419-4420-8fd7-f1d041c27398"
      },
      "outputs": [
        {
          "name": "stdout",
          "output_type": "stream",
          "text": [
            "Train on 50000 samples, validate on 10000 samples\n",
            "Epoch 1/15\n",
            "50000/50000 [==============================] - 6s 129us/sample - loss: 1.5199 - accuracy: 0.4534 - val_loss: 1.3075 - val_accuracy: 0.5498\n",
            "Epoch 2/15\n",
            "50000/50000 [==============================] - 6s 113us/sample - loss: 1.1533 - accuracy: 0.5974 - val_loss: 1.1743 - val_accuracy: 0.5795\n",
            "Epoch 3/15\n",
            "50000/50000 [==============================] - 6s 113us/sample - loss: 0.9973 - accuracy: 0.6571 - val_loss: 1.0654 - val_accuracy: 0.6274\n",
            "Epoch 4/15\n",
            "50000/50000 [==============================] - 6s 113us/sample - loss: 0.8939 - accuracy: 0.6938 - val_loss: 0.9890 - val_accuracy: 0.6568\n",
            "Epoch 5/15\n",
            "50000/50000 [==============================] - 6s 113us/sample - loss: 0.8153 - accuracy: 0.7177 - val_loss: 0.9994 - val_accuracy: 0.6601\n",
            "Epoch 6/15\n",
            "50000/50000 [==============================] - 6s 113us/sample - loss: 0.7567 - accuracy: 0.7445 - val_loss: 1.0006 - val_accuracy: 0.6600\n",
            "Epoch 7/15\n",
            "50000/50000 [==============================] - 6s 113us/sample - loss: 0.7085 - accuracy: 0.7622 - val_loss: 0.9845 - val_accuracy: 0.6905\n",
            "Epoch 8/15\n",
            "50000/50000 [==============================] - 6s 113us/sample - loss: 0.6649 - accuracy: 0.7775 - val_loss: 1.2024 - val_accuracy: 0.6537\n",
            "Epoch 9/15\n",
            "50000/50000 [==============================] - 6s 115us/sample - loss: 0.6293 - accuracy: 0.7864 - val_loss: 1.1578 - val_accuracy: 0.6267\n",
            "Epoch 10/15\n",
            "50000/50000 [==============================] - 6s 112us/sample - loss: 0.6069 - accuracy: 0.7972 - val_loss: 1.0988 - val_accuracy: 0.6544\n"
          ]
        },
        {
          "data": {
            "text/plain": [
              "<tensorflow.python.keras.callbacks.History at 0x29ad5463c08>"
            ]
          },
          "execution_count": 40,
          "metadata": {},
          "output_type": "execute_result"
        }
      ],
      "source": [
        "model.fit(x_train,y_cat_train,epochs=15,validation_data=(x_test,y_cat_test),callbacks=[early_stop])"
      ]
    },
    {
      "cell_type": "code",
      "execution_count": null,
      "metadata": {
        "id": "XpGYEuHNjtVo"
      },
      "outputs": [],
      "source": [
        "# Careful, don't overwrite our file!\n",
        "# model.save('cifar_10epochs.h5')"
      ]
    },
    {
      "cell_type": "code",
      "execution_count": null,
      "metadata": {
        "id": "2tb6cEe8jtVo"
      },
      "outputs": [],
      "source": [
        "losses = pd.DataFrame(model.history.history)"
      ]
    },
    {
      "cell_type": "code",
      "execution_count": null,
      "metadata": {
        "id": "PtsWyFP3jtVo",
        "outputId": "fe450e4b-36cf-4a61-bd7f-5a01e99d0911"
      },
      "outputs": [
        {
          "data": {
            "text/html": [
              "<div>\n",
              "<style scoped>\n",
              "    .dataframe tbody tr th:only-of-type {\n",
              "        vertical-align: middle;\n",
              "    }\n",
              "\n",
              "    .dataframe tbody tr th {\n",
              "        vertical-align: top;\n",
              "    }\n",
              "\n",
              "    .dataframe thead th {\n",
              "        text-align: right;\n",
              "    }\n",
              "</style>\n",
              "<table border=\"1\" class=\"dataframe\">\n",
              "  <thead>\n",
              "    <tr style=\"text-align: right;\">\n",
              "      <th></th>\n",
              "      <th>loss</th>\n",
              "      <th>accuracy</th>\n",
              "      <th>val_loss</th>\n",
              "      <th>val_accuracy</th>\n",
              "    </tr>\n",
              "  </thead>\n",
              "  <tbody>\n",
              "    <tr>\n",
              "      <th>0</th>\n",
              "      <td>1.519891</td>\n",
              "      <td>0.45336</td>\n",
              "      <td>1.307454</td>\n",
              "      <td>0.5498</td>\n",
              "    </tr>\n",
              "    <tr>\n",
              "      <th>1</th>\n",
              "      <td>1.153265</td>\n",
              "      <td>0.59738</td>\n",
              "      <td>1.174292</td>\n",
              "      <td>0.5795</td>\n",
              "    </tr>\n",
              "    <tr>\n",
              "      <th>2</th>\n",
              "      <td>0.997324</td>\n",
              "      <td>0.65712</td>\n",
              "      <td>1.065440</td>\n",
              "      <td>0.6274</td>\n",
              "    </tr>\n",
              "    <tr>\n",
              "      <th>3</th>\n",
              "      <td>0.893939</td>\n",
              "      <td>0.69382</td>\n",
              "      <td>0.988995</td>\n",
              "      <td>0.6568</td>\n",
              "    </tr>\n",
              "    <tr>\n",
              "      <th>4</th>\n",
              "      <td>0.815260</td>\n",
              "      <td>0.71768</td>\n",
              "      <td>0.999398</td>\n",
              "      <td>0.6601</td>\n",
              "    </tr>\n",
              "  </tbody>\n",
              "</table>\n",
              "</div>"
            ],
            "text/plain": [
              "       loss  accuracy  val_loss  val_accuracy\n",
              "0  1.519891   0.45336  1.307454        0.5498\n",
              "1  1.153265   0.59738  1.174292        0.5795\n",
              "2  0.997324   0.65712  1.065440        0.6274\n",
              "3  0.893939   0.69382  0.988995        0.6568\n",
              "4  0.815260   0.71768  0.999398        0.6601"
            ]
          },
          "execution_count": 44,
          "metadata": {},
          "output_type": "execute_result"
        }
      ],
      "source": [
        "losses.head()"
      ]
    },
    {
      "cell_type": "code",
      "execution_count": null,
      "metadata": {
        "id": "-Ot2Dt99jtVp",
        "outputId": "9fcbd33f-802b-487e-dc11-827a59249f0d"
      },
      "outputs": [
        {
          "data": {
            "text/plain": [
              "<matplotlib.axes._subplots.AxesSubplot at 0x29ae4b5e348>"
            ]
          },
          "execution_count": 45,
          "metadata": {},
          "output_type": "execute_result"
        },
        {
          "data": {
            "image/png": "[encoded data removed]",
            "text/plain": [
              "<Figure size 432x288 with 1 Axes>"
            ]
          },
          "metadata": {
            "needs_background": "light"
          },
          "output_type": "display_data"
        }
      ],
      "source": [
        "losses[['accuracy','val_accuracy']].plot()"
      ]
    },
    {
      "cell_type": "code",
      "execution_count": null,
      "metadata": {
        "id": "N7UbX8sDjtVp",
        "outputId": "9b435fc9-eddc-46fd-a09b-5a3e2218a072"
      },
      "outputs": [
        {
          "data": {
            "text/plain": [
              "<matplotlib.axes._subplots.AxesSubplot at 0x29ae5be1c48>"
            ]
          },
          "execution_count": 46,
          "metadata": {},
          "output_type": "execute_result"
        },
        {
          "data": {
            "image/png": "[encoded data removed]",
            "text/plain": [
              "<Figure size 432x288 with 1 Axes>"
            ]
          },
          "metadata": {
            "needs_background": "light"
          },
          "output_type": "display_data"
        }
      ],
      "source": [
        "losses[['loss','val_loss']].plot()"
      ]
    },
    {
      "cell_type": "code",
      "execution_count": null,
      "metadata": {
        "id": "5OuVrveGjtVp",
        "outputId": "83f111bb-74f9-44c6-cb0e-39fd503506b7"
      },
      "outputs": [
        {
          "data": {
            "text/plain": [
              "['loss', 'acc']"
            ]
          },
          "execution_count": 27,
          "metadata": {},
          "output_type": "execute_result"
        }
      ],
      "source": [
        "model.metrics_names"
      ]
    },
    {
      "cell_type": "code",
      "execution_count": null,
      "metadata": {
        "id": "dRh7OSCdjtVv",
        "outputId": "b8711726-c5f9-4fb3-a02d-e878cfbe359b"
      },
      "outputs": [
        {
          "name": "stdout",
          "output_type": "stream",
          "text": [
            "['loss', 'accuracy']\n",
            "[1.0987777906417846, 0.6544]\n"
          ]
        }
      ],
      "source": [
        "print(model.metrics_names)\n",
        "print(model.evaluate(x_test,y_cat_test,verbose=0))"
      ]
    },
    {
      "cell_type": "code",
      "execution_count": null,
      "metadata": {
        "id": "OhuGFflojtVv"
      },
      "outputs": [],
      "source": []
    },
    {
      "cell_type": "code",
      "execution_count": null,
      "metadata": {
        "id": "MSHbclaDjtVw"
      },
      "outputs": [],
      "source": [
        "from sklearn.metrics import classification_report,confusion_matrix\n",
        "\n",
        "predictions = model.predict_classes(x_test)"
      ]
    },
    {
      "cell_type": "code",
      "execution_count": null,
      "metadata": {
        "id": "DkFbneAcjtVw",
        "outputId": "91b786d0-09a5-4ffd-e493-e26b3c473ae1"
      },
      "outputs": [
        {
          "name": "stdout",
          "output_type": "stream",
          "text": [
            "              precision    recall  f1-score   support\n",
            "\n",
            "           0       0.68      0.67      0.67      1000\n",
            "           1       0.81      0.77      0.79      1000\n",
            "           2       0.48      0.61      0.54      1000\n",
            "           3       0.54      0.39      0.46      1000\n",
            "           4       0.70      0.55      0.61      1000\n",
            "           5       0.55      0.61      0.58      1000\n",
            "           6       0.74      0.76      0.75      1000\n",
            "           7       0.88      0.55      0.68      1000\n",
            "           8       0.58      0.92      0.71      1000\n",
            "           9       0.77      0.71      0.74      1000\n",
            "\n",
            "    accuracy                           0.65     10000\n",
            "   macro avg       0.67      0.65      0.65     10000\n",
            "weighted avg       0.67      0.65      0.65     10000\n",
            "\n"
          ]
        }
      ],
      "source": [
        "print(classification_report(y_test,predictions))"
      ]
    },
    {
      "cell_type": "code",
      "execution_count": null,
      "metadata": {
        "id": "QuFLY3KHjtVw",
        "outputId": "6e318192-bbca-4cc8-8591-b90c94dea6f8"
      },
      "outputs": [
        {
          "data": {
            "text/plain": [
              "array([[665,  25,  50,   5,   8,   9,   9,   3, 206,  20],\n",
              "       [ 22, 769,  13,   9,   1,   5,  10,   1, 105,  65],\n",
              "       [ 83,   8, 613,  35,  45,  71,  60,   9,  59,  17],\n",
              "       [ 34,  22, 138, 394,  48, 210,  62,  11,  58,  23],\n",
              "       [ 41,   4, 145,  49, 550,  58,  67,  24,  54,   8],\n",
              "       [ 20,   7,  99, 131,  37, 614,  39,  16,  25,  12],\n",
              "       [ 15,  10,  74,  52,  30,  19, 757,   1,  30,  12],\n",
              "       [ 32,   7, 104,  44,  69, 122,  12, 548,  23,  39],\n",
              "       [ 27,  13,  14,   4,   3,   3,   1,   0, 924,  11],\n",
              "       [ 39,  89,  17,   8,   0,   9,   3,   7, 118, 710]], dtype=int64)"
            ]
          },
          "execution_count": 53,
          "metadata": {},
          "output_type": "execute_result"
        }
      ],
      "source": [
        "confusion_matrix(y_test,predictions)"
      ]
    },
    {
      "cell_type": "code",
      "execution_count": null,
      "metadata": {
        "id": "P5AlDAmMjtVw",
        "outputId": "cf9dccc2-5eb6-42a1-c413-6a1c39b9504d"
      },
      "outputs": [
        {
          "data": {
            "text/plain": [
              "<matplotlib.axes._subplots.AxesSubplot at 0x29ae7106fc8>"
            ]
          },
          "execution_count": 54,
          "metadata": {},
          "output_type": "execute_result"
        },
        {
          "data": {
            "image/png": "[encoded data removed]",
            "text/plain": [
              "<Figure size 720x432 with 2 Axes>"
            ]
          },
          "metadata": {
            "needs_background": "light"
          },
          "output_type": "display_data"
        }
      ],
      "source": [
        "import seaborn as sns\n",
        "plt.figure(figsize=(10,6))\n",
        "sns.heatmap(confusion_matrix(y_test,predictions),annot=True)\n",
        "# https://github.com/matplotlib/matplotlib/issues/14751"
      ]
    },
    {
      "cell_type": "markdown",
      "metadata": {
        "id": "W5W-L4WgjtVx"
      },
      "source": [
        "# Predicting a given image"
      ]
    },
    {
      "cell_type": "code",
      "execution_count": null,
      "metadata": {
        "id": "TDlUAveyjtVx"
      },
      "outputs": [],
      "source": [
        "my_image = x_test[16]"
      ]
    },
    {
      "cell_type": "code",
      "execution_count": null,
      "metadata": {
        "id": "farK7XLujtVx",
        "outputId": "c7cbef62-5ab4-4965-f164-0cf1c489a885"
      },
      "outputs": [
        {
          "data": {
            "text/plain": [
              "<matplotlib.image.AxesImage at 0x29ae76a3b48>"
            ]
          },
          "execution_count": 66,
          "metadata": {},
          "output_type": "execute_result"
        },
        {
          "data": {
            "image/png": "[encoded data removed]",
            "text/plain": [
              "<Figure size 432x288 with 1 Axes>"
            ]
          },
          "metadata": {
            "needs_background": "light"
          },
          "output_type": "display_data"
        }
      ],
      "source": [
        "plt.imshow(my_image)"
      ]
    },
    {
      "cell_type": "code",
      "execution_count": null,
      "metadata": {
        "id": "LWLDzpc1jtVy",
        "outputId": "793d6019-bcf0-4401-f40b-aeac321ce773"
      },
      "outputs": [
        {
          "data": {
            "text/plain": [
              "array([5], dtype=int64)"
            ]
          },
          "execution_count": 68,
          "metadata": {},
          "output_type": "execute_result"
        }
      ],
      "source": [
        "# SHAPE --> (num_images,width,height,color_channels)\n",
        "model.predict_classes(my_image.reshape(1,32,32,3))"
      ]
    },
    {
      "cell_type": "code",
      "execution_count": null,
      "metadata": {
        "id": "UTXXulhXjtVy"
      },
      "outputs": [],
      "source": [
        "# 5 is DOG\n",
        "# https://www.cs.toronto.edu/~kriz/cifar.html"
      ]
    }
  ],
  "metadata": {
    "kernelspec": {
      "display_name": "Python 3",
      "language": "python",
      "name": "python3"
    },
    "language_info": {
      "codemirror_mode": {
        "name": "ipython",
        "version": 3
      },
      "file_extension": ".py",
      "mimetype": "text/x-python",
      "name": "python",
      "nbconvert_exporter": "python",
      "pygments_lexer": "ipython3",
      "version": "3.7.4"
    },
    "colab": {
      "provenance": [],
      "include_colab_link": true
    }
  },
  "nbformat": 4,
  "nbformat_minor": 0
}
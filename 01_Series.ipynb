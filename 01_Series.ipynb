{
  "cells": [
    {
      "cell_type": "markdown",
      "metadata": {
        "id": "view-in-github",
        "colab_type": "text"
      },
      "source": [
        "<a href=\"https://colab.research.google.com/github/drpetros11111/Tensorflow_Portilia/blob/Numpy/01_Series.ipynb\" target=\"_parent\"><img src=\"https://colab.research.google.com/assets/colab-badge.svg\" alt=\"Open In Colab\"/></a>"
      ]
    },
    {
      "cell_type": "markdown",
      "metadata": {
        "id": "2FNzJ20dK8Q8"
      },
      "source": [
        "___\n",
        "\n",
        "<a href='http://www.pieriandata.com'><img src='../Pierian_Data_Logo.png'/></a>\n",
        "___\n",
        "<center><em>Copyright Pierian Data</em></center>\n",
        "<center><em>For more information, visit us at <a href='http://www.pieriandata.com'>www.pieriandata.com</a></em></center>"
      ]
    },
    {
      "cell_type": "markdown",
      "metadata": {
        "id": "_HgnGbVaK8Q-"
      },
      "source": [
        "# Series\n",
        "The first main data type we will learn about for pandas is the Series data type. Let's import Pandas and explore the Series object.\n",
        "\n",
        "A Series is very similar to a NumPy array (in fact it is built on top of the NumPy array object). What differentiates the NumPy array from a Series, is that a Series can have axis labels, meaning it can be indexed by a label, instead of just a number location. It also doesn't need to hold numeric data, it can hold any arbitrary Python Object.\n",
        "\n",
        "Let's explore this concept through some examples:"
      ]
    },
    {
      "cell_type": "code",
      "execution_count": 1,
      "metadata": {
        "id": "oN6-QMmQK8Q_"
      },
      "outputs": [],
      "source": [
        "import numpy as np\n",
        "import pandas as pd"
      ]
    },
    {
      "cell_type": "markdown",
      "metadata": {
        "id": "ZLSo1x7CK8RI"
      },
      "source": [
        "## Creating a Series\n",
        "\n",
        "You can convert a list,numpy array, or dictionary to a Series:"
      ]
    },
    {
      "cell_type": "code",
      "execution_count": 2,
      "metadata": {
        "collapsed": true,
        "id": "aQQIkb-CK8RJ"
      },
      "outputs": [],
      "source": [
        "labels = ['a','b','c']\n",
        "my_list = [10,20,30]\n",
        "arr = np.array([10,20,30])\n",
        "d = {'a':10,'b':20,'c':30}"
      ]
    },
    {
      "cell_type": "markdown",
      "source": [
        "# 1. labels = ['a', 'b', 'c']\n",
        "This line creates a list called labels, containing the strings 'a', 'b', and 'c'.\n",
        "\n",
        "    labels = ['a', 'b', 'c']\n",
        "\n",
        "List: A list is a mutable, ordered sequence of elements in Python. It can contain various data types (e.g., strings, integers, etc.).\n",
        "\n",
        "In this case, the list contains three strings: 'a', 'b', and 'c'.\n",
        "\n",
        "--------------------------\n",
        "# 2. my_list = [10, 20, 30]\n",
        "This line creates another list called my_list, containing the integers 10, 20, and 30.\n",
        "\n",
        "    my_list = [10, 20, 30]\n",
        "\n",
        "This is another Python list, but this time it holds integers instead of strings.\n",
        "\n",
        "The list contains the numbers 10, 20, and 30 in sequence.\n",
        "\n",
        "---------------------------------\n",
        "#3. arr = np.array([10, 20, 30])\n",
        "This line creates a NumPy array called arr from the list [10, 20, 30].\n",
        "\n",
        "    import numpy as np\n",
        "    arr = np.array([10, 20, 30])\n",
        "\n",
        "NumPy array:\n",
        "\n",
        "A NumPy array is a powerful data structure provided by the NumPy library. It's more efficient for numerical computations than Python lists because it supports element-wise operations, matrix operations, etc.\n",
        "\n",
        "The array contains the same values as my_list, but it is now a NumPy array instead of a regular Python list. This allows for more efficient mathematical operations.\n",
        "\n",
        "------------------------------\n",
        "#4. d = {'a': 10, 'b': 20, 'c': 30}\n",
        "This line creates a dictionary called d, with key-value pairs.\n",
        "\n",
        "    d = {'a': 10, 'b': 20, 'c': 30}\n",
        "\n",
        "Dictionary:\n",
        "\n",
        "A dictionary is a collection of key-value pairs in Python. It is unordered and indexed by unique keys. You can access values using the keys.\n",
        "\n",
        "In this case, the dictionary d contains three key-value pairs:\n",
        "\n",
        "'a' maps to 10.\n",
        "'b' maps to 20.\n",
        "'c' maps to 30.\n",
        "\n",
        "--------------------\n",
        "#Summary of the Code\n",
        "labels is a list of string labels: ['a', 'b', 'c'].\n",
        "\n",
        "my_list is a list of integers: [10, 20, 30].\n",
        "\n",
        "arr is a NumPy array holding the same integers as my_list: [10, 20, 30].\n",
        "d is a dictionary where the labels 'a', 'b', and 'c' are keys, and their corresponding values are 10, 20, and 30.\n",
        "\n",
        "Each of these data structures serves a different purpose and is used in different contexts in Python:\n",
        "\n",
        "Lists are useful for general-purpose collections.\n",
        "\n",
        "NumPy arrays are great for numerical and scientific computing.\n",
        "\n",
        "Dictionaries are used for mapping or associating data via keys and values."
      ],
      "metadata": {
        "id": "AqWXvcEJMEz_"
      }
    },
    {
      "cell_type": "markdown",
      "source": [
        "# Lists vs. Series vs. Arrays\n",
        "## 1. Python Lists\n",
        "\n",
        "###Basic Structure:\n",
        "\n",
        "A Python list is a built-in data structure that can hold multiple elements. It is ordered and mutable (elements can be changed).\n",
        "\n",
        "###Data Types:\n",
        "\n",
        "Lists can contain elements of different data types, such as integers, strings, floats, or even other lists.\n",
        "\n",
        "###Indexing:\n",
        "\n",
        "Lists are indexed using integers, starting from 0.\n",
        "\n",
        "###Operations:\n",
        "Lists support basic operations like appending, slicing, and removing elements, but they don't support element-wise operations as efficiently as NumPy arrays.\n",
        "\n",
        "##Example:\n",
        "\n",
        "    my_list = [10, \"a\", 3.14, [1, 2, 3]]\n",
        "    print(my_list[0])  # Output: 10\n",
        "\n",
        "----------------------------\n",
        "##2. NumPy Arrays\n",
        "###Basic Structure:\n",
        "\n",
        "A NumPy array is a more efficient structure provided by the NumPy library, designed specifically for numerical computations.\n",
        "\n",
        "###Data Types:\n",
        "\n",
        "Unlike lists, a NumPy array is homogeneous—it can only store elements of the same data type (e.g., all integers or all floats).\n",
        "\n",
        "###Indexing:\n",
        "\n",
        "Like lists, NumPy arrays use integer-based indexing starting at 0, but they can be multi-dimensional (1D, 2D, etc.).\n",
        "\n",
        "###Operations:\n",
        "\n",
        "NumPy arrays are highly optimized for mathematical operations.\n",
        "\n",
        "You can perform element-wise operations (e.g., addition, multiplication) across the entire array easily.\n",
        "\n",
        "Example:\n",
        "\n",
        "    import numpy as np\n",
        "    arr = np.array([10, 20, 30])\n",
        "    print(arr * 2)  # Output: [20 40 60]\n",
        "\n",
        "------------------------\n",
        "##3. Pandas Series\n",
        "###Basic Structure:\n",
        "\n",
        "A Pandas Series is a one-dimensional labeled array provided by the Pandas library.\n",
        "\n",
        "It combines the functionality of both a list and a NumPy array, with labels (index) and efficient numerical operations.\n",
        "\n",
        "###Data Types:\n",
        "\n",
        "A Pandas Series can hold any data type, like lists, but it is often used for numerical data. The key feature is that it has an index (which can be custom labels or default integers).\n",
        "\n",
        "###Indexing:\n",
        "\n",
        "You can access elements using either the integer position or the custom labels.\n",
        "\n",
        "###Operations:\n",
        "\n",
        "Like NumPy arrays, you can perform element-wise operations on a Series, and it automatically aligns data by the index for operations like addition.\n",
        "\n",
        "Example:\n",
        "\n",
        "    import pandas as pd\n",
        "    series = pd.Series([10, 20, 30], index=['a', 'b', 'c'])\n",
        "    print(series['a'])  # Output: 10\n",
        "\n",
        "----------------------------\n",
        "#Key Differences\n",
        "\n",
        "Structure\tGeneral-purpose collection\tEfficient, homogeneous array\tLabeled 1D array\n",
        "\n",
        "Data Types\tMixed data types allowed\tHomogeneous (single type)\tMixed data types allowed\n",
        "\n",
        "Indexing\tInteger-based (0, 1, 2, ...)\tInteger-based (0, 1, 2, ...)\tCustom index or integer-based\n",
        "\n",
        "Operations\tNot efficient for math\tEfficient for math (element-wise)\tEfficient and label-aware\n",
        "\n",
        "Mutability\tMutable\tMutable\tMutable\n",
        "Performance\tSlower for large data\tFast for numerical computations\tGood for labeled data\n",
        "\n",
        "Main Use\tGeneral-purpose lists\tFast mathematical calculations\tLabeled data, especially in data analysis\n",
        "\n",
        "----------------------\n",
        "#Summary\n",
        "Python lists are general-purpose, can hold different data types, and are useful for basic collection needs.\n",
        "\n",
        "NumPy arrays are specialized for efficient numerical computations, especially with large datasets. They are faster than lists for operations like addition, multiplication, etc.\n",
        "\n",
        "Pandas Series are like 1D labeled arrays. They combine the benefits of lists and NumPy arrays, providing labeled data structures with efficient math operations and automatic alignment by index.\n",
        "\n",
        "Each structure serves different needs, so choosing the right one depends on your use case."
      ],
      "metadata": {
        "id": "VD2Y9jOVRa6Z"
      }
    },
    {
      "cell_type": "code",
      "source": [
        "arr = np.array([10, 20, 30])\n",
        "arr"
      ],
      "metadata": {
        "colab": {
          "base_uri": "https://localhost:8080/"
        },
        "id": "jy_0nRNJPV2D",
        "outputId": "1a7642c3-ad1f-4229-bd31-24249e701540"
      },
      "execution_count": 6,
      "outputs": [
        {
          "output_type": "execute_result",
          "data": {
            "text/plain": [
              "array([10, 20, 30])"
            ]
          },
          "metadata": {},
          "execution_count": 6
        }
      ]
    },
    {
      "cell_type": "markdown",
      "metadata": {
        "id": "GZLx7rgRK8RJ"
      },
      "source": [
        "### Using Lists"
      ]
    },
    {
      "cell_type": "code",
      "execution_count": 7,
      "metadata": {
        "colab": {
          "base_uri": "https://localhost:8080/",
          "height": 178
        },
        "id": "mklRG6aYK8RJ",
        "outputId": "1ea94cae-bc96-4085-d019-70de26f5c9e3"
      },
      "outputs": [
        {
          "output_type": "execute_result",
          "data": {
            "text/plain": [
              "0    10\n",
              "1    20\n",
              "2    30\n",
              "dtype: int64"
            ],
            "text/html": [
              "<div>\n",
              "<style scoped>\n",
              "    .dataframe tbody tr th:only-of-type {\n",
              "        vertical-align: middle;\n",
              "    }\n",
              "\n",
              "    .dataframe tbody tr th {\n",
              "        vertical-align: top;\n",
              "    }\n",
              "\n",
              "    .dataframe thead th {\n",
              "        text-align: right;\n",
              "    }\n",
              "</style>\n",
              "<table border=\"1\" class=\"dataframe\">\n",
              "  <thead>\n",
              "    <tr style=\"text-align: right;\">\n",
              "      <th></th>\n",
              "      <th>0</th>\n",
              "    </tr>\n",
              "  </thead>\n",
              "  <tbody>\n",
              "    <tr>\n",
              "      <th>0</th>\n",
              "      <td>10</td>\n",
              "    </tr>\n",
              "    <tr>\n",
              "      <th>1</th>\n",
              "      <td>20</td>\n",
              "    </tr>\n",
              "    <tr>\n",
              "      <th>2</th>\n",
              "      <td>30</td>\n",
              "    </tr>\n",
              "  </tbody>\n",
              "</table>\n",
              "</div><br><label><b>dtype:</b> int64</label>"
            ]
          },
          "metadata": {},
          "execution_count": 7
        }
      ],
      "source": [
        "pd.Series(data=my_list)"
      ]
    },
    {
      "cell_type": "code",
      "execution_count": 3,
      "metadata": {
        "colab": {
          "base_uri": "https://localhost:8080/",
          "height": 178
        },
        "id": "F0YtG3KhK8RK",
        "outputId": "4bf09987-6af9-43ed-a4b7-76ebd726f8a3"
      },
      "outputs": [
        {
          "output_type": "execute_result",
          "data": {
            "text/plain": [
              "a    10\n",
              "b    20\n",
              "c    30\n",
              "dtype: int64"
            ],
            "text/html": [
              "<div>\n",
              "<style scoped>\n",
              "    .dataframe tbody tr th:only-of-type {\n",
              "        vertical-align: middle;\n",
              "    }\n",
              "\n",
              "    .dataframe tbody tr th {\n",
              "        vertical-align: top;\n",
              "    }\n",
              "\n",
              "    .dataframe thead th {\n",
              "        text-align: right;\n",
              "    }\n",
              "</style>\n",
              "<table border=\"1\" class=\"dataframe\">\n",
              "  <thead>\n",
              "    <tr style=\"text-align: right;\">\n",
              "      <th></th>\n",
              "      <th>0</th>\n",
              "    </tr>\n",
              "  </thead>\n",
              "  <tbody>\n",
              "    <tr>\n",
              "      <th>a</th>\n",
              "      <td>10</td>\n",
              "    </tr>\n",
              "    <tr>\n",
              "      <th>b</th>\n",
              "      <td>20</td>\n",
              "    </tr>\n",
              "    <tr>\n",
              "      <th>c</th>\n",
              "      <td>30</td>\n",
              "    </tr>\n",
              "  </tbody>\n",
              "</table>\n",
              "</div><br><label><b>dtype:</b> int64</label>"
            ]
          },
          "metadata": {},
          "execution_count": 3
        }
      ],
      "source": [
        "pd.Series(data=my_list,index=labels)"
      ]
    },
    {
      "cell_type": "code",
      "execution_count": 5,
      "metadata": {
        "colab": {
          "base_uri": "https://localhost:8080/",
          "height": 178
        },
        "id": "IMfo-VbnK8RL",
        "outputId": "57fb806c-84b0-4efb-edba-ffaf69a7b0f2"
      },
      "outputs": [
        {
          "output_type": "execute_result",
          "data": {
            "text/plain": [
              "a    10\n",
              "b    20\n",
              "c    30\n",
              "dtype: int64"
            ],
            "text/html": [
              "<div>\n",
              "<style scoped>\n",
              "    .dataframe tbody tr th:only-of-type {\n",
              "        vertical-align: middle;\n",
              "    }\n",
              "\n",
              "    .dataframe tbody tr th {\n",
              "        vertical-align: top;\n",
              "    }\n",
              "\n",
              "    .dataframe thead th {\n",
              "        text-align: right;\n",
              "    }\n",
              "</style>\n",
              "<table border=\"1\" class=\"dataframe\">\n",
              "  <thead>\n",
              "    <tr style=\"text-align: right;\">\n",
              "      <th></th>\n",
              "      <th>0</th>\n",
              "    </tr>\n",
              "  </thead>\n",
              "  <tbody>\n",
              "    <tr>\n",
              "      <th>a</th>\n",
              "      <td>10</td>\n",
              "    </tr>\n",
              "    <tr>\n",
              "      <th>b</th>\n",
              "      <td>20</td>\n",
              "    </tr>\n",
              "    <tr>\n",
              "      <th>c</th>\n",
              "      <td>30</td>\n",
              "    </tr>\n",
              "  </tbody>\n",
              "</table>\n",
              "</div><br><label><b>dtype:</b> int64</label>"
            ]
          },
          "metadata": {},
          "execution_count": 5
        }
      ],
      "source": [
        "pd.Series(my_list,labels)"
      ]
    },
    {
      "cell_type": "markdown",
      "metadata": {
        "id": "ICa_EmOzK8RL"
      },
      "source": [
        "### Using NumPy Arrays"
      ]
    },
    {
      "cell_type": "code",
      "execution_count": 8,
      "metadata": {
        "colab": {
          "base_uri": "https://localhost:8080/",
          "height": 178
        },
        "id": "VyWrWm7gK8RL",
        "outputId": "83b41282-55c4-460f-911e-6f8e56c68e36"
      },
      "outputs": [
        {
          "output_type": "execute_result",
          "data": {
            "text/plain": [
              "0    10\n",
              "1    20\n",
              "2    30\n",
              "dtype: int64"
            ],
            "text/html": [
              "<div>\n",
              "<style scoped>\n",
              "    .dataframe tbody tr th:only-of-type {\n",
              "        vertical-align: middle;\n",
              "    }\n",
              "\n",
              "    .dataframe tbody tr th {\n",
              "        vertical-align: top;\n",
              "    }\n",
              "\n",
              "    .dataframe thead th {\n",
              "        text-align: right;\n",
              "    }\n",
              "</style>\n",
              "<table border=\"1\" class=\"dataframe\">\n",
              "  <thead>\n",
              "    <tr style=\"text-align: right;\">\n",
              "      <th></th>\n",
              "      <th>0</th>\n",
              "    </tr>\n",
              "  </thead>\n",
              "  <tbody>\n",
              "    <tr>\n",
              "      <th>0</th>\n",
              "      <td>10</td>\n",
              "    </tr>\n",
              "    <tr>\n",
              "      <th>1</th>\n",
              "      <td>20</td>\n",
              "    </tr>\n",
              "    <tr>\n",
              "      <th>2</th>\n",
              "      <td>30</td>\n",
              "    </tr>\n",
              "  </tbody>\n",
              "</table>\n",
              "</div><br><label><b>dtype:</b> int64</label>"
            ]
          },
          "metadata": {},
          "execution_count": 8
        }
      ],
      "source": [
        "pd.Series(arr)"
      ]
    },
    {
      "cell_type": "code",
      "execution_count": 9,
      "metadata": {
        "colab": {
          "base_uri": "https://localhost:8080/",
          "height": 178
        },
        "id": "y-fY9Qy0K8RM",
        "outputId": "1e56cee6-8d11-4ad2-f656-16af20af0eb7"
      },
      "outputs": [
        {
          "output_type": "execute_result",
          "data": {
            "text/plain": [
              "a    10\n",
              "b    20\n",
              "c    30\n",
              "dtype: int64"
            ],
            "text/html": [
              "<div>\n",
              "<style scoped>\n",
              "    .dataframe tbody tr th:only-of-type {\n",
              "        vertical-align: middle;\n",
              "    }\n",
              "\n",
              "    .dataframe tbody tr th {\n",
              "        vertical-align: top;\n",
              "    }\n",
              "\n",
              "    .dataframe thead th {\n",
              "        text-align: right;\n",
              "    }\n",
              "</style>\n",
              "<table border=\"1\" class=\"dataframe\">\n",
              "  <thead>\n",
              "    <tr style=\"text-align: right;\">\n",
              "      <th></th>\n",
              "      <th>0</th>\n",
              "    </tr>\n",
              "  </thead>\n",
              "  <tbody>\n",
              "    <tr>\n",
              "      <th>a</th>\n",
              "      <td>10</td>\n",
              "    </tr>\n",
              "    <tr>\n",
              "      <th>b</th>\n",
              "      <td>20</td>\n",
              "    </tr>\n",
              "    <tr>\n",
              "      <th>c</th>\n",
              "      <td>30</td>\n",
              "    </tr>\n",
              "  </tbody>\n",
              "</table>\n",
              "</div><br><label><b>dtype:</b> int64</label>"
            ]
          },
          "metadata": {},
          "execution_count": 9
        }
      ],
      "source": [
        "pd.Series(arr,labels)"
      ]
    },
    {
      "cell_type": "markdown",
      "metadata": {
        "id": "j19RpYXYK8RM"
      },
      "source": [
        "### Using Dictionaries"
      ]
    },
    {
      "cell_type": "code",
      "execution_count": 10,
      "metadata": {
        "colab": {
          "base_uri": "https://localhost:8080/",
          "height": 178
        },
        "id": "C2FKlncmK8RM",
        "outputId": "70b42840-debd-4ab7-c7f6-a1dac619e7a1"
      },
      "outputs": [
        {
          "output_type": "execute_result",
          "data": {
            "text/plain": [
              "a    10\n",
              "b    20\n",
              "c    30\n",
              "dtype: int64"
            ],
            "text/html": [
              "<div>\n",
              "<style scoped>\n",
              "    .dataframe tbody tr th:only-of-type {\n",
              "        vertical-align: middle;\n",
              "    }\n",
              "\n",
              "    .dataframe tbody tr th {\n",
              "        vertical-align: top;\n",
              "    }\n",
              "\n",
              "    .dataframe thead th {\n",
              "        text-align: right;\n",
              "    }\n",
              "</style>\n",
              "<table border=\"1\" class=\"dataframe\">\n",
              "  <thead>\n",
              "    <tr style=\"text-align: right;\">\n",
              "      <th></th>\n",
              "      <th>0</th>\n",
              "    </tr>\n",
              "  </thead>\n",
              "  <tbody>\n",
              "    <tr>\n",
              "      <th>a</th>\n",
              "      <td>10</td>\n",
              "    </tr>\n",
              "    <tr>\n",
              "      <th>b</th>\n",
              "      <td>20</td>\n",
              "    </tr>\n",
              "    <tr>\n",
              "      <th>c</th>\n",
              "      <td>30</td>\n",
              "    </tr>\n",
              "  </tbody>\n",
              "</table>\n",
              "</div><br><label><b>dtype:</b> int64</label>"
            ]
          },
          "metadata": {},
          "execution_count": 10
        }
      ],
      "source": [
        "pd.Series(d)"
      ]
    },
    {
      "cell_type": "markdown",
      "metadata": {
        "id": "zFLcgKrHK8RM"
      },
      "source": [
        "### Data in a Series\n",
        "\n",
        "A pandas Series can hold a variety of object types:"
      ]
    },
    {
      "cell_type": "code",
      "execution_count": 11,
      "metadata": {
        "colab": {
          "base_uri": "https://localhost:8080/",
          "height": 178
        },
        "id": "6FKkTvC_K8RM",
        "outputId": "d2be1b0c-1c16-414e-8d79-bbfeede8e207"
      },
      "outputs": [
        {
          "output_type": "execute_result",
          "data": {
            "text/plain": [
              "0    a\n",
              "1    b\n",
              "2    c\n",
              "dtype: object"
            ],
            "text/html": [
              "<div>\n",
              "<style scoped>\n",
              "    .dataframe tbody tr th:only-of-type {\n",
              "        vertical-align: middle;\n",
              "    }\n",
              "\n",
              "    .dataframe tbody tr th {\n",
              "        vertical-align: top;\n",
              "    }\n",
              "\n",
              "    .dataframe thead th {\n",
              "        text-align: right;\n",
              "    }\n",
              "</style>\n",
              "<table border=\"1\" class=\"dataframe\">\n",
              "  <thead>\n",
              "    <tr style=\"text-align: right;\">\n",
              "      <th></th>\n",
              "      <th>0</th>\n",
              "    </tr>\n",
              "  </thead>\n",
              "  <tbody>\n",
              "    <tr>\n",
              "      <th>0</th>\n",
              "      <td>a</td>\n",
              "    </tr>\n",
              "    <tr>\n",
              "      <th>1</th>\n",
              "      <td>b</td>\n",
              "    </tr>\n",
              "    <tr>\n",
              "      <th>2</th>\n",
              "      <td>c</td>\n",
              "    </tr>\n",
              "  </tbody>\n",
              "</table>\n",
              "</div><br><label><b>dtype:</b> object</label>"
            ]
          },
          "metadata": {},
          "execution_count": 11
        }
      ],
      "source": [
        "pd.Series(data=labels)"
      ]
    },
    {
      "cell_type": "code",
      "execution_count": 12,
      "metadata": {
        "colab": {
          "base_uri": "https://localhost:8080/",
          "height": 178
        },
        "id": "8DkVewCVK8RN",
        "outputId": "87783193-404e-4d31-ac56-8f9b84df86bc"
      },
      "outputs": [
        {
          "output_type": "execute_result",
          "data": {
            "text/plain": [
              "0      <built-in function sum>\n",
              "1    <built-in function print>\n",
              "2      <built-in function len>\n",
              "dtype: object"
            ],
            "text/html": [
              "<div>\n",
              "<style scoped>\n",
              "    .dataframe tbody tr th:only-of-type {\n",
              "        vertical-align: middle;\n",
              "    }\n",
              "\n",
              "    .dataframe tbody tr th {\n",
              "        vertical-align: top;\n",
              "    }\n",
              "\n",
              "    .dataframe thead th {\n",
              "        text-align: right;\n",
              "    }\n",
              "</style>\n",
              "<table border=\"1\" class=\"dataframe\">\n",
              "  <thead>\n",
              "    <tr style=\"text-align: right;\">\n",
              "      <th></th>\n",
              "      <th>0</th>\n",
              "    </tr>\n",
              "  </thead>\n",
              "  <tbody>\n",
              "    <tr>\n",
              "      <th>0</th>\n",
              "      <td>&lt;built-in function sum&gt;</td>\n",
              "    </tr>\n",
              "    <tr>\n",
              "      <th>1</th>\n",
              "      <td>&lt;built-in function print&gt;</td>\n",
              "    </tr>\n",
              "    <tr>\n",
              "      <th>2</th>\n",
              "      <td>&lt;built-in function len&gt;</td>\n",
              "    </tr>\n",
              "  </tbody>\n",
              "</table>\n",
              "</div><br><label><b>dtype:</b> object</label>"
            ]
          },
          "metadata": {},
          "execution_count": 12
        }
      ],
      "source": [
        "# Even functions (although unlikely that you will use this)\n",
        "pd.Series([sum,print,len])"
      ]
    },
    {
      "cell_type": "markdown",
      "metadata": {
        "id": "c6uglcAaK8RN"
      },
      "source": [
        "## Using an Index\n",
        "\n",
        "The key to using a Series is understanding its index. Pandas makes use of these index names or numbers by allowing for fast look ups of information (works like a hash table or dictionary).\n",
        "\n",
        "Let's see some examples of how to grab information from a Series. Let us create two sereis, ser1 and ser2:"
      ]
    },
    {
      "cell_type": "code",
      "execution_count": 13,
      "metadata": {
        "id": "Nzd5SukBK8RN"
      },
      "outputs": [],
      "source": [
        "sales_Q1 = pd.Series(data=[250,450,200,150],index = ['USA', 'China','India', 'Brazil'])"
      ]
    },
    {
      "cell_type": "code",
      "execution_count": 14,
      "metadata": {
        "colab": {
          "base_uri": "https://localhost:8080/",
          "height": 209
        },
        "id": "AUVlvg_3K8RO",
        "outputId": "f0cd01a1-be2c-467e-f777-f7bb7e2963f0"
      },
      "outputs": [
        {
          "output_type": "execute_result",
          "data": {
            "text/plain": [
              "USA       250\n",
              "China     450\n",
              "India     200\n",
              "Brazil    150\n",
              "dtype: int64"
            ],
            "text/html": [
              "<div>\n",
              "<style scoped>\n",
              "    .dataframe tbody tr th:only-of-type {\n",
              "        vertical-align: middle;\n",
              "    }\n",
              "\n",
              "    .dataframe tbody tr th {\n",
              "        vertical-align: top;\n",
              "    }\n",
              "\n",
              "    .dataframe thead th {\n",
              "        text-align: right;\n",
              "    }\n",
              "</style>\n",
              "<table border=\"1\" class=\"dataframe\">\n",
              "  <thead>\n",
              "    <tr style=\"text-align: right;\">\n",
              "      <th></th>\n",
              "      <th>0</th>\n",
              "    </tr>\n",
              "  </thead>\n",
              "  <tbody>\n",
              "    <tr>\n",
              "      <th>USA</th>\n",
              "      <td>250</td>\n",
              "    </tr>\n",
              "    <tr>\n",
              "      <th>China</th>\n",
              "      <td>450</td>\n",
              "    </tr>\n",
              "    <tr>\n",
              "      <th>India</th>\n",
              "      <td>200</td>\n",
              "    </tr>\n",
              "    <tr>\n",
              "      <th>Brazil</th>\n",
              "      <td>150</td>\n",
              "    </tr>\n",
              "  </tbody>\n",
              "</table>\n",
              "</div><br><label><b>dtype:</b> int64</label>"
            ]
          },
          "metadata": {},
          "execution_count": 14
        }
      ],
      "source": [
        "sales_Q1"
      ]
    },
    {
      "cell_type": "code",
      "execution_count": 15,
      "metadata": {
        "id": "7yg40RxMK8RO"
      },
      "outputs": [],
      "source": [
        "sales_Q2 = pd.Series([260,500,210,100],index = ['USA', 'China','India', 'Japan'])"
      ]
    },
    {
      "cell_type": "code",
      "execution_count": 17,
      "metadata": {
        "colab": {
          "base_uri": "https://localhost:8080/",
          "height": 209
        },
        "id": "S1ckoGUSK8RO",
        "outputId": "f6c32bdc-7c88-40de-c3e5-fdef60f9fb45"
      },
      "outputs": [
        {
          "output_type": "execute_result",
          "data": {
            "text/plain": [
              "USA      260\n",
              "China    500\n",
              "India    210\n",
              "Japan    100\n",
              "dtype: int64"
            ],
            "text/html": [
              "<div>\n",
              "<style scoped>\n",
              "    .dataframe tbody tr th:only-of-type {\n",
              "        vertical-align: middle;\n",
              "    }\n",
              "\n",
              "    .dataframe tbody tr th {\n",
              "        vertical-align: top;\n",
              "    }\n",
              "\n",
              "    .dataframe thead th {\n",
              "        text-align: right;\n",
              "    }\n",
              "</style>\n",
              "<table border=\"1\" class=\"dataframe\">\n",
              "  <thead>\n",
              "    <tr style=\"text-align: right;\">\n",
              "      <th></th>\n",
              "      <th>0</th>\n",
              "    </tr>\n",
              "  </thead>\n",
              "  <tbody>\n",
              "    <tr>\n",
              "      <th>USA</th>\n",
              "      <td>260</td>\n",
              "    </tr>\n",
              "    <tr>\n",
              "      <th>China</th>\n",
              "      <td>500</td>\n",
              "    </tr>\n",
              "    <tr>\n",
              "      <th>India</th>\n",
              "      <td>210</td>\n",
              "    </tr>\n",
              "    <tr>\n",
              "      <th>Japan</th>\n",
              "      <td>100</td>\n",
              "    </tr>\n",
              "  </tbody>\n",
              "</table>\n",
              "</div><br><label><b>dtype:</b> int64</label>"
            ]
          },
          "metadata": {},
          "execution_count": 17
        }
      ],
      "source": [
        "sales_Q2"
      ]
    },
    {
      "cell_type": "code",
      "execution_count": 16,
      "metadata": {
        "colab": {
          "base_uri": "https://localhost:8080/"
        },
        "id": "unjfNmGOK8RO",
        "outputId": "e0567c3d-44a2-40a4-abba-ab7fdf88089e"
      },
      "outputs": [
        {
          "output_type": "execute_result",
          "data": {
            "text/plain": [
              "250"
            ]
          },
          "metadata": {},
          "execution_count": 16
        }
      ],
      "source": [
        "sales_Q1['USA']"
      ]
    },
    {
      "cell_type": "code",
      "execution_count": 18,
      "metadata": {
        "id": "Z6wwAz1XK8RP"
      },
      "outputs": [],
      "source": [
        "# KEY ERROR!\n",
        "# sales_Q1['Russia'] # wrong name!\n",
        "# sales_Q1['USA '] # wrong string spacing!"
      ]
    },
    {
      "cell_type": "markdown",
      "metadata": {
        "id": "hpsGGuHAK8RP"
      },
      "source": [
        "Operations are then also done based off of index:"
      ]
    },
    {
      "cell_type": "code",
      "execution_count": 19,
      "metadata": {
        "colab": {
          "base_uri": "https://localhost:8080/",
          "height": 241
        },
        "id": "Wx0Uml3IK8RP",
        "outputId": "fda5ad9d-47d6-44c9-c4aa-fa57625d7dea"
      },
      "outputs": [
        {
          "output_type": "execute_result",
          "data": {
            "text/plain": [
              "Brazil      NaN\n",
              "China     950.0\n",
              "India     410.0\n",
              "Japan       NaN\n",
              "USA       510.0\n",
              "dtype: float64"
            ],
            "text/html": [
              "<div>\n",
              "<style scoped>\n",
              "    .dataframe tbody tr th:only-of-type {\n",
              "        vertical-align: middle;\n",
              "    }\n",
              "\n",
              "    .dataframe tbody tr th {\n",
              "        vertical-align: top;\n",
              "    }\n",
              "\n",
              "    .dataframe thead th {\n",
              "        text-align: right;\n",
              "    }\n",
              "</style>\n",
              "<table border=\"1\" class=\"dataframe\">\n",
              "  <thead>\n",
              "    <tr style=\"text-align: right;\">\n",
              "      <th></th>\n",
              "      <th>0</th>\n",
              "    </tr>\n",
              "  </thead>\n",
              "  <tbody>\n",
              "    <tr>\n",
              "      <th>Brazil</th>\n",
              "      <td>NaN</td>\n",
              "    </tr>\n",
              "    <tr>\n",
              "      <th>China</th>\n",
              "      <td>950.0</td>\n",
              "    </tr>\n",
              "    <tr>\n",
              "      <th>India</th>\n",
              "      <td>410.0</td>\n",
              "    </tr>\n",
              "    <tr>\n",
              "      <th>Japan</th>\n",
              "      <td>NaN</td>\n",
              "    </tr>\n",
              "    <tr>\n",
              "      <th>USA</th>\n",
              "      <td>510.0</td>\n",
              "    </tr>\n",
              "  </tbody>\n",
              "</table>\n",
              "</div><br><label><b>dtype:</b> float64</label>"
            ]
          },
          "metadata": {},
          "execution_count": 19
        }
      ],
      "source": [
        "# We'll explore how to deal with this later on!\n",
        "sales_Q1 + sales_Q2"
      ]
    },
    {
      "cell_type": "markdown",
      "metadata": {
        "id": "FadXUsRMK8RP"
      },
      "source": [
        "Let's stop here for now and move on to DataFrames, which will expand on the concept of Series!\n",
        "# Great Job!"
      ]
    }
  ],
  "metadata": {
    "kernelspec": {
      "display_name": "Python 3",
      "language": "python",
      "name": "python3"
    },
    "language_info": {
      "codemirror_mode": {
        "name": "ipython",
        "version": 3
      },
      "file_extension": ".py",
      "mimetype": "text/x-python",
      "name": "python",
      "nbconvert_exporter": "python",
      "pygments_lexer": "ipython3",
      "version": "3.7.4"
    },
    "colab": {
      "provenance": [],
      "include_colab_link": true
    }
  },
  "nbformat": 4,
  "nbformat_minor": 0
}
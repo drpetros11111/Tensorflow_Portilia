{
  "cells": [
    {
      "cell_type": "markdown",
      "metadata": {
        "id": "view-in-github",
        "colab_type": "text"
      },
      "source": [
        "<a href=\"https://colab.research.google.com/github/drpetros11111/Tensorflow_Portilia/blob/Classification/04_Keras_Project_Exercise_Solutions.ipynb\" target=\"_parent\"><img src=\"https://colab.research.google.com/assets/colab-badge.svg\" alt=\"Open In Colab\"/></a>"
      ]
    },
    {
      "cell_type": "markdown",
      "metadata": {
        "id": "fATBaLaJZYlO"
      },
      "source": [
        "<a href=\"https://www.pieriandata.com\"><img src=\"../Pierian_Data_Logo.PNG\"></a>\n",
        "<strong><center>Copyright by Pierian Data Inc.</center></strong>\n",
        "<strong><center>Created by Jose Marcial Portilla.</center></strong>"
      ]
    },
    {
      "cell_type": "markdown",
      "metadata": {
        "id": "9gOGsyPbZYlT"
      },
      "source": [
        "# Keras API Project Exercise - Solutions\n",
        "\n",
        "## The Data\n",
        "\n",
        "We will be using a subset of the LendingClub DataSet obtained from Kaggle: https://www.kaggle.com/wordsforthewise/lending-club\n",
        "\n",
        "## NOTE: Do not download the full zip from the link! We provide a special version of this file that has some extra feature engineering for you to do. You won't be able to follow along with the original file!\n",
        "\n",
        "LendingClub is a US peer-to-peer lending company, headquartered in San Francisco, California.[3] It was the first peer-to-peer lender to register its offerings as securities with the Securities and Exchange Commission (SEC), and to offer loan trading on a secondary market. LendingClub is the world's largest peer-to-peer lending platform.\n",
        "\n",
        "### Our Goal\n",
        "\n",
        "Given historical data on loans given out with information on whether or not the borrower defaulted (charge-off), can we build a model thatcan predict wether or nor a borrower will pay back their loan? This way in the future when we get a new potential customer we can assess whether or not they are likely to pay back the loan. Keep in mind classification metrics when evaluating the performance of your model!\n",
        "\n",
        "The \"loan_status\" column contains our label.\n",
        "\n",
        "### Data Overview"
      ]
    },
    {
      "cell_type": "markdown",
      "metadata": {
        "id": "DSA2bh63ZYlU"
      },
      "source": [
        "----\n",
        "-----\n",
        "There are many LendingClub data sets on Kaggle. Here is the information on this particular data set:\n",
        "\n",
        "<table border=\"1\" class=\"dataframe\">\n",
        "  <thead>\n",
        "    <tr style=\"text-align: right;\">\n",
        "      <th></th>\n",
        "      <th>LoanStatNew</th>\n",
        "      <th>Description</th>\n",
        "    </tr>\n",
        "  </thead>\n",
        "  <tbody>\n",
        "    <tr>\n",
        "      <th>0</th>\n",
        "      <td>loan_amnt</td>\n",
        "      <td>The listed amount of the loan applied for by the borrower. If at some point in time, the credit department reduces the loan amount, then it will be reflected in this value.</td>\n",
        "    </tr>\n",
        "    <tr>\n",
        "      <th>1</th>\n",
        "      <td>term</td>\n",
        "      <td>The number of payments on the loan. Values are in months and can be either 36 or 60.</td>\n",
        "    </tr>\n",
        "    <tr>\n",
        "      <th>2</th>\n",
        "      <td>int_rate</td>\n",
        "      <td>Interest Rate on the loan</td>\n",
        "    </tr>\n",
        "    <tr>\n",
        "      <th>3</th>\n",
        "      <td>installment</td>\n",
        "      <td>The monthly payment owed by the borrower if the loan originates.</td>\n",
        "    </tr>\n",
        "    <tr>\n",
        "      <th>4</th>\n",
        "      <td>grade</td>\n",
        "      <td>LC assigned loan grade</td>\n",
        "    </tr>\n",
        "    <tr>\n",
        "      <th>5</th>\n",
        "      <td>sub_grade</td>\n",
        "      <td>LC assigned loan subgrade</td>\n",
        "    </tr>\n",
        "    <tr>\n",
        "      <th>6</th>\n",
        "      <td>emp_title</td>\n",
        "      <td>The job title supplied by the Borrower when applying for the loan.*</td>\n",
        "    </tr>\n",
        "    <tr>\n",
        "      <th>7</th>\n",
        "      <td>emp_length</td>\n",
        "      <td>Employment length in years. Possible values are between 0 and 10 where 0 means less than one year and 10 means ten or more years.</td>\n",
        "    </tr>\n",
        "    <tr>\n",
        "      <th>8</th>\n",
        "      <td>home_ownership</td>\n",
        "      <td>The home ownership status provided by the borrower during registration or obtained from the credit report. Our values are: RENT, OWN, MORTGAGE, OTHER</td>\n",
        "    </tr>\n",
        "    <tr>\n",
        "      <th>9</th>\n",
        "      <td>annual_inc</td>\n",
        "      <td>The self-reported annual income provided by the borrower during registration.</td>\n",
        "    </tr>\n",
        "    <tr>\n",
        "      <th>10</th>\n",
        "      <td>verification_status</td>\n",
        "      <td>Indicates if income was verified by LC, not verified, or if the income source was verified</td>\n",
        "    </tr>\n",
        "    <tr>\n",
        "      <th>11</th>\n",
        "      <td>issue_d</td>\n",
        "      <td>The month which the loan was funded</td>\n",
        "    </tr>\n",
        "    <tr>\n",
        "      <th>12</th>\n",
        "      <td>loan_status</td>\n",
        "      <td>Current status of the loan</td>\n",
        "    </tr>\n",
        "    <tr>\n",
        "      <th>13</th>\n",
        "      <td>purpose</td>\n",
        "      <td>A category provided by the borrower for the loan request.</td>\n",
        "    </tr>\n",
        "    <tr>\n",
        "      <th>14</th>\n",
        "      <td>title</td>\n",
        "      <td>The loan title provided by the borrower</td>\n",
        "    </tr>\n",
        "    <tr>\n",
        "      <th>15</th>\n",
        "      <td>zip_code</td>\n",
        "      <td>The first 3 numbers of the zip code provided by the borrower in the loan application.</td>\n",
        "    </tr>\n",
        "    <tr>\n",
        "      <th>16</th>\n",
        "      <td>addr_state</td>\n",
        "      <td>The state provided by the borrower in the loan application</td>\n",
        "    </tr>\n",
        "    <tr>\n",
        "      <th>17</th>\n",
        "      <td>dti</td>\n",
        "      <td>A ratio calculated using the borrower’s total monthly debt payments on the total debt obligations, excluding mortgage and the requested LC loan, divided by the borrower’s self-reported monthly income.</td>\n",
        "    </tr>\n",
        "    <tr>\n",
        "      <th>18</th>\n",
        "      <td>earliest_cr_line</td>\n",
        "      <td>The month the borrower's earliest reported credit line was opened</td>\n",
        "    </tr>\n",
        "    <tr>\n",
        "      <th>19</th>\n",
        "      <td>open_acc</td>\n",
        "      <td>The number of open credit lines in the borrower's credit file.</td>\n",
        "    </tr>\n",
        "    <tr>\n",
        "      <th>20</th>\n",
        "      <td>pub_rec</td>\n",
        "      <td>Number of derogatory public records</td>\n",
        "    </tr>\n",
        "    <tr>\n",
        "      <th>21</th>\n",
        "      <td>revol_bal</td>\n",
        "      <td>Total credit revolving balance</td>\n",
        "    </tr>\n",
        "    <tr>\n",
        "      <th>22</th>\n",
        "      <td>revol_util</td>\n",
        "      <td>Revolving line utilization rate, or the amount of credit the borrower is using relative to all available revolving credit.</td>\n",
        "    </tr>\n",
        "    <tr>\n",
        "      <th>23</th>\n",
        "      <td>total_acc</td>\n",
        "      <td>The total number of credit lines currently in the borrower's credit file</td>\n",
        "    </tr>\n",
        "    <tr>\n",
        "      <th>24</th>\n",
        "      <td>initial_list_status</td>\n",
        "      <td>The initial listing status of the loan. Possible values are – W, F</td>\n",
        "    </tr>\n",
        "    <tr>\n",
        "      <th>25</th>\n",
        "      <td>application_type</td>\n",
        "      <td>Indicates whether the loan is an individual application or a joint application with two co-borrowers</td>\n",
        "    </tr>\n",
        "    <tr>\n",
        "      <th>26</th>\n",
        "      <td>mort_acc</td>\n",
        "      <td>Number of mortgage accounts.</td>\n",
        "    </tr>\n",
        "    <tr>\n",
        "      <th>27</th>\n",
        "      <td>pub_rec_bankruptcies</td>\n",
        "      <td>Number of public record bankruptcies</td>\n",
        "    </tr>\n",
        "  </tbody>\n",
        "</table>\n",
        "\n",
        "---\n",
        "----"
      ]
    },
    {
      "cell_type": "markdown",
      "metadata": {
        "id": "djkm8oc9ZYlV"
      },
      "source": [
        "## Starter Code\n",
        "\n",
        "#### Note: We also provide feature information on the data as a .csv file for easy lookup throughout the notebook:"
      ]
    },
    {
      "cell_type": "code",
      "execution_count": 1,
      "metadata": {
        "id": "oWIj0Nr5ZYlV"
      },
      "outputs": [],
      "source": [
        "import pandas as pd"
      ]
    },
    {
      "cell_type": "code",
      "execution_count": 3,
      "metadata": {
        "id": "JvRU3PUbZYlW"
      },
      "outputs": [],
      "source": [
        "data_info = pd.read_csv('/content/lending_club_info.csv')"
      ]
    },
    {
      "cell_type": "code",
      "source": [
        "data_info.head()"
      ],
      "metadata": {
        "colab": {
          "base_uri": "https://localhost:8080/",
          "height": 206
        },
        "id": "_Dg8bdikVn5w",
        "outputId": "f32279d4-5b04-4008-cfcd-13a879055651"
      },
      "execution_count": 4,
      "outputs": [
        {
          "output_type": "execute_result",
          "data": {
            "text/plain": [
              "   LoanStatNew                                        Description\n",
              "0    loan_amnt  The listed amount of the loan applied for by t...\n",
              "1         term  The number of payments on the loan. Values are...\n",
              "2     int_rate                          Interest Rate on the loan\n",
              "3  installment  The monthly payment owed by the borrower if th...\n",
              "4        grade                             LC assigned loan grade"
            ],
            "text/html": [
              "\n",
              "  <div id=\"df-ddb3809b-9447-4418-99fb-c6c0e9646eb9\" class=\"colab-df-container\">\n",
              "    <div>\n",
              "<style scoped>\n",
              "    .dataframe tbody tr th:only-of-type {\n",
              "        vertical-align: middle;\n",
              "    }\n",
              "\n",
              "    .dataframe tbody tr th {\n",
              "        vertical-align: top;\n",
              "    }\n",
              "\n",
              "    .dataframe thead th {\n",
              "        text-align: right;\n",
              "    }\n",
              "</style>\n",
              "<table border=\"1\" class=\"dataframe\">\n",
              "  <thead>\n",
              "    <tr style=\"text-align: right;\">\n",
              "      <th></th>\n",
              "      <th>LoanStatNew</th>\n",
              "      <th>Description</th>\n",
              "    </tr>\n",
              "  </thead>\n",
              "  <tbody>\n",
              "    <tr>\n",
              "      <th>0</th>\n",
              "      <td>loan_amnt</td>\n",
              "      <td>The listed amount of the loan applied for by t...</td>\n",
              "    </tr>\n",
              "    <tr>\n",
              "      <th>1</th>\n",
              "      <td>term</td>\n",
              "      <td>The number of payments on the loan. Values are...</td>\n",
              "    </tr>\n",
              "    <tr>\n",
              "      <th>2</th>\n",
              "      <td>int_rate</td>\n",
              "      <td>Interest Rate on the loan</td>\n",
              "    </tr>\n",
              "    <tr>\n",
              "      <th>3</th>\n",
              "      <td>installment</td>\n",
              "      <td>The monthly payment owed by the borrower if th...</td>\n",
              "    </tr>\n",
              "    <tr>\n",
              "      <th>4</th>\n",
              "      <td>grade</td>\n",
              "      <td>LC assigned loan grade</td>\n",
              "    </tr>\n",
              "  </tbody>\n",
              "</table>\n",
              "</div>\n",
              "    <div class=\"colab-df-buttons\">\n",
              "\n",
              "  <div class=\"colab-df-container\">\n",
              "    <button class=\"colab-df-convert\" onclick=\"convertToInteractive('df-ddb3809b-9447-4418-99fb-c6c0e9646eb9')\"\n",
              "            title=\"Convert this dataframe to an interactive table.\"\n",
              "            style=\"display:none;\">\n",
              "\n",
              "  <svg xmlns=\"http://www.w3.org/2000/svg\" height=\"24px\" viewBox=\"0 -960 960 960\">\n",
              "    <path d=\"M120-120v-720h720v720H120Zm60-500h600v-160H180v160Zm220 220h160v-160H400v160Zm0 220h160v-160H400v160ZM180-400h160v-160H180v160Zm440 0h160v-160H620v160ZM180-180h160v-160H180v160Zm440 0h160v-160H620v160Z\"/>\n",
              "  </svg>\n",
              "    </button>\n",
              "\n",
              "  <style>\n",
              "    .colab-df-container {\n",
              "      display:flex;\n",
              "      gap: 12px;\n",
              "    }\n",
              "\n",
              "    .colab-df-convert {\n",
              "      background-color: #E8F0FE;\n",
              "      border: none;\n",
              "      border-radius: 50%;\n",
              "      cursor: pointer;\n",
              "      display: none;\n",
              "      fill: #1967D2;\n",
              "      height: 32px;\n",
              "      padding: 0 0 0 0;\n",
              "      width: 32px;\n",
              "    }\n",
              "\n",
              "    .colab-df-convert:hover {\n",
              "      background-color: #E2EBFA;\n",
              "      box-shadow: 0px 1px 2px rgba(60, 64, 67, 0.3), 0px 1px 3px 1px rgba(60, 64, 67, 0.15);\n",
              "      fill: #174EA6;\n",
              "    }\n",
              "\n",
              "    .colab-df-buttons div {\n",
              "      margin-bottom: 4px;\n",
              "    }\n",
              "\n",
              "    [theme=dark] .colab-df-convert {\n",
              "      background-color: #3B4455;\n",
              "      fill: #D2E3FC;\n",
              "    }\n",
              "\n",
              "    [theme=dark] .colab-df-convert:hover {\n",
              "      background-color: #434B5C;\n",
              "      box-shadow: 0px 1px 3px 1px rgba(0, 0, 0, 0.15);\n",
              "      filter: drop-shadow(0px 1px 2px rgba(0, 0, 0, 0.3));\n",
              "      fill: #FFFFFF;\n",
              "    }\n",
              "  </style>\n",
              "\n",
              "    <script>\n",
              "      const buttonEl =\n",
              "        document.querySelector('#df-ddb3809b-9447-4418-99fb-c6c0e9646eb9 button.colab-df-convert');\n",
              "      buttonEl.style.display =\n",
              "        google.colab.kernel.accessAllowed ? 'block' : 'none';\n",
              "\n",
              "      async function convertToInteractive(key) {\n",
              "        const element = document.querySelector('#df-ddb3809b-9447-4418-99fb-c6c0e9646eb9');\n",
              "        const dataTable =\n",
              "          await google.colab.kernel.invokeFunction('convertToInteractive',\n",
              "                                                    [key], {});\n",
              "        if (!dataTable) return;\n",
              "\n",
              "        const docLinkHtml = 'Like what you see? Visit the ' +\n",
              "          '<a target=\"_blank\" href=https://colab.research.google.com/notebooks/data_table.ipynb>data table notebook</a>'\n",
              "          + ' to learn more about interactive tables.';\n",
              "        element.innerHTML = '';\n",
              "        dataTable['output_type'] = 'display_data';\n",
              "        await google.colab.output.renderOutput(dataTable, element);\n",
              "        const docLink = document.createElement('div');\n",
              "        docLink.innerHTML = docLinkHtml;\n",
              "        element.appendChild(docLink);\n",
              "      }\n",
              "    </script>\n",
              "  </div>\n",
              "\n",
              "\n",
              "<div id=\"df-8c91ac2f-cb39-49b1-b0f0-989dc7b8f2c9\">\n",
              "  <button class=\"colab-df-quickchart\" onclick=\"quickchart('df-8c91ac2f-cb39-49b1-b0f0-989dc7b8f2c9')\"\n",
              "            title=\"Suggest charts\"\n",
              "            style=\"display:none;\">\n",
              "\n",
              "<svg xmlns=\"http://www.w3.org/2000/svg\" height=\"24px\"viewBox=\"0 0 24 24\"\n",
              "     width=\"24px\">\n",
              "    <g>\n",
              "        <path d=\"M19 3H5c-1.1 0-2 .9-2 2v14c0 1.1.9 2 2 2h14c1.1 0 2-.9 2-2V5c0-1.1-.9-2-2-2zM9 17H7v-7h2v7zm4 0h-2V7h2v10zm4 0h-2v-4h2v4z\"/>\n",
              "    </g>\n",
              "</svg>\n",
              "  </button>\n",
              "\n",
              "<style>\n",
              "  .colab-df-quickchart {\n",
              "      --bg-color: #E8F0FE;\n",
              "      --fill-color: #1967D2;\n",
              "      --hover-bg-color: #E2EBFA;\n",
              "      --hover-fill-color: #174EA6;\n",
              "      --disabled-fill-color: #AAA;\n",
              "      --disabled-bg-color: #DDD;\n",
              "  }\n",
              "\n",
              "  [theme=dark] .colab-df-quickchart {\n",
              "      --bg-color: #3B4455;\n",
              "      --fill-color: #D2E3FC;\n",
              "      --hover-bg-color: #434B5C;\n",
              "      --hover-fill-color: #FFFFFF;\n",
              "      --disabled-bg-color: #3B4455;\n",
              "      --disabled-fill-color: #666;\n",
              "  }\n",
              "\n",
              "  .colab-df-quickchart {\n",
              "    background-color: var(--bg-color);\n",
              "    border: none;\n",
              "    border-radius: 50%;\n",
              "    cursor: pointer;\n",
              "    display: none;\n",
              "    fill: var(--fill-color);\n",
              "    height: 32px;\n",
              "    padding: 0;\n",
              "    width: 32px;\n",
              "  }\n",
              "\n",
              "  .colab-df-quickchart:hover {\n",
              "    background-color: var(--hover-bg-color);\n",
              "    box-shadow: 0 1px 2px rgba(60, 64, 67, 0.3), 0 1px 3px 1px rgba(60, 64, 67, 0.15);\n",
              "    fill: var(--button-hover-fill-color);\n",
              "  }\n",
              "\n",
              "  .colab-df-quickchart-complete:disabled,\n",
              "  .colab-df-quickchart-complete:disabled:hover {\n",
              "    background-color: var(--disabled-bg-color);\n",
              "    fill: var(--disabled-fill-color);\n",
              "    box-shadow: none;\n",
              "  }\n",
              "\n",
              "  .colab-df-spinner {\n",
              "    border: 2px solid var(--fill-color);\n",
              "    border-color: transparent;\n",
              "    border-bottom-color: var(--fill-color);\n",
              "    animation:\n",
              "      spin 1s steps(1) infinite;\n",
              "  }\n",
              "\n",
              "  @keyframes spin {\n",
              "    0% {\n",
              "      border-color: transparent;\n",
              "      border-bottom-color: var(--fill-color);\n",
              "      border-left-color: var(--fill-color);\n",
              "    }\n",
              "    20% {\n",
              "      border-color: transparent;\n",
              "      border-left-color: var(--fill-color);\n",
              "      border-top-color: var(--fill-color);\n",
              "    }\n",
              "    30% {\n",
              "      border-color: transparent;\n",
              "      border-left-color: var(--fill-color);\n",
              "      border-top-color: var(--fill-color);\n",
              "      border-right-color: var(--fill-color);\n",
              "    }\n",
              "    40% {\n",
              "      border-color: transparent;\n",
              "      border-right-color: var(--fill-color);\n",
              "      border-top-color: var(--fill-color);\n",
              "    }\n",
              "    60% {\n",
              "      border-color: transparent;\n",
              "      border-right-color: var(--fill-color);\n",
              "    }\n",
              "    80% {\n",
              "      border-color: transparent;\n",
              "      border-right-color: var(--fill-color);\n",
              "      border-bottom-color: var(--fill-color);\n",
              "    }\n",
              "    90% {\n",
              "      border-color: transparent;\n",
              "      border-bottom-color: var(--fill-color);\n",
              "    }\n",
              "  }\n",
              "</style>\n",
              "\n",
              "  <script>\n",
              "    async function quickchart(key) {\n",
              "      const quickchartButtonEl =\n",
              "        document.querySelector('#' + key + ' button');\n",
              "      quickchartButtonEl.disabled = true;  // To prevent multiple clicks.\n",
              "      quickchartButtonEl.classList.add('colab-df-spinner');\n",
              "      try {\n",
              "        const charts = await google.colab.kernel.invokeFunction(\n",
              "            'suggestCharts', [key], {});\n",
              "      } catch (error) {\n",
              "        console.error('Error during call to suggestCharts:', error);\n",
              "      }\n",
              "      quickchartButtonEl.classList.remove('colab-df-spinner');\n",
              "      quickchartButtonEl.classList.add('colab-df-quickchart-complete');\n",
              "    }\n",
              "    (() => {\n",
              "      let quickchartButtonEl =\n",
              "        document.querySelector('#df-8c91ac2f-cb39-49b1-b0f0-989dc7b8f2c9 button');\n",
              "      quickchartButtonEl.style.display =\n",
              "        google.colab.kernel.accessAllowed ? 'block' : 'none';\n",
              "    })();\n",
              "  </script>\n",
              "</div>\n",
              "\n",
              "    </div>\n",
              "  </div>\n"
            ],
            "application/vnd.google.colaboratory.intrinsic+json": {
              "type": "dataframe",
              "variable_name": "data_info",
              "summary": "{\n  \"name\": \"data_info\",\n  \"rows\": 28,\n  \"fields\": [\n    {\n      \"column\": \"LoanStatNew\",\n      \"properties\": {\n        \"dtype\": \"string\",\n        \"num_unique_values\": 28,\n        \"samples\": [\n          \"annual_inc\",\n          \"application_type\",\n          \"home_ownership\"\n        ],\n        \"semantic_type\": \"\",\n        \"description\": \"\"\n      }\n    },\n    {\n      \"column\": \"Description\",\n      \"properties\": {\n        \"dtype\": \"string\",\n        \"num_unique_values\": 28,\n        \"samples\": [\n          \"The self-reported annual income provided by the borrower during registration.\",\n          \"Indicates whether the loan is an individual application or a joint application with two co-borrowers\",\n          \"The home ownership status provided by the borrower during registration\\u00a0or obtained from the credit report.\\u00a0Our values are: RENT, OWN, MORTGAGE, OTHER\"\n        ],\n        \"semantic_type\": \"\",\n        \"description\": \"\"\n      }\n    }\n  ]\n}"
            }
          },
          "metadata": {},
          "execution_count": 4
        }
      ]
    },
    {
      "cell_type": "code",
      "source": [
        "data_info.describe().transpose"
      ],
      "metadata": {
        "colab": {
          "base_uri": "https://localhost:8080/",
          "height": 185
        },
        "id": "4uYowztwV0Po",
        "outputId": "2f2d9aca-afef-4ca1-c3bc-0c715a2659e0"
      },
      "execution_count": 6,
      "outputs": [
        {
          "output_type": "execute_result",
          "data": {
            "text/plain": [
              "<bound method DataFrame.transpose of        LoanStatNew                                        Description\n",
              "count           28                                                 28\n",
              "unique          28                                                 28\n",
              "top      loan_amnt  The listed amount of the loan applied for by t...\n",
              "freq             1                                                  1>"
            ],
            "text/html": [
              "<div style=\"max-width:800px; border: 1px solid var(--colab-border-color);\"><style>\n",
              "      pre.function-repr-contents {\n",
              "        overflow-x: auto;\n",
              "        padding: 8px 12px;\n",
              "        max-height: 500px;\n",
              "      }\n",
              "\n",
              "      pre.function-repr-contents.function-repr-contents-collapsed {\n",
              "        cursor: pointer;\n",
              "        max-height: 100px;\n",
              "      }\n",
              "    </style>\n",
              "    <pre style=\"white-space: initial; background:\n",
              "         var(--colab-secondary-surface-color); padding: 8px 12px;\n",
              "         border-bottom: 1px solid var(--colab-border-color);\"><b>pandas.core.frame.DataFrame.transpose</b><br/>def transpose(*args, copy: bool=False) -&gt; DataFrame</pre><pre class=\"function-repr-contents function-repr-contents-collapsed\" style=\"\"><a class=\"filepath\" style=\"display:none\" href=\"#\">/usr/local/lib/python3.10/dist-packages/pandas/core/frame.py</a>Transpose index and columns.\n",
              "\n",
              "Reflect the DataFrame over its main diagonal by writing rows as columns\n",
              "and vice-versa. The property :attr:`.T` is an accessor to the method\n",
              ":meth:`transpose`.\n",
              "\n",
              "Parameters\n",
              "----------\n",
              "*args : tuple, optional\n",
              "    Accepted for compatibility with NumPy.\n",
              "copy : bool, default False\n",
              "    Whether to copy the data after transposing, even for DataFrames\n",
              "    with a single dtype.\n",
              "\n",
              "    Note that a copy is always required for mixed dtype DataFrames,\n",
              "    or for DataFrames with any extension types.\n",
              "\n",
              "Returns\n",
              "-------\n",
              "DataFrame\n",
              "    The transposed DataFrame.\n",
              "\n",
              "See Also\n",
              "--------\n",
              "numpy.transpose : Permute the dimensions of a given array.\n",
              "\n",
              "Notes\n",
              "-----\n",
              "Transposing a DataFrame with mixed dtypes will result in a homogeneous\n",
              "DataFrame with the `object` dtype. In such a case, a copy of the data\n",
              "is always made.\n",
              "\n",
              "Examples\n",
              "--------\n",
              "**Square DataFrame with homogeneous dtype**\n",
              "\n",
              "&gt;&gt;&gt; d1 = {&#x27;col1&#x27;: [1, 2], &#x27;col2&#x27;: [3, 4]}\n",
              "&gt;&gt;&gt; df1 = pd.DataFrame(data=d1)\n",
              "&gt;&gt;&gt; df1\n",
              "   col1  col2\n",
              "0     1     3\n",
              "1     2     4\n",
              "\n",
              "&gt;&gt;&gt; df1_transposed = df1.T  # or df1.transpose()\n",
              "&gt;&gt;&gt; df1_transposed\n",
              "      0  1\n",
              "col1  1  2\n",
              "col2  3  4\n",
              "\n",
              "When the dtype is homogeneous in the original DataFrame, we get a\n",
              "transposed DataFrame with the same dtype:\n",
              "\n",
              "&gt;&gt;&gt; df1.dtypes\n",
              "col1    int64\n",
              "col2    int64\n",
              "dtype: object\n",
              "&gt;&gt;&gt; df1_transposed.dtypes\n",
              "0    int64\n",
              "1    int64\n",
              "dtype: object\n",
              "\n",
              "**Non-square DataFrame with mixed dtypes**\n",
              "\n",
              "&gt;&gt;&gt; d2 = {&#x27;name&#x27;: [&#x27;Alice&#x27;, &#x27;Bob&#x27;],\n",
              "...       &#x27;score&#x27;: [9.5, 8],\n",
              "...       &#x27;employed&#x27;: [False, True],\n",
              "...       &#x27;kids&#x27;: [0, 0]}\n",
              "&gt;&gt;&gt; df2 = pd.DataFrame(data=d2)\n",
              "&gt;&gt;&gt; df2\n",
              "    name  score  employed  kids\n",
              "0  Alice    9.5     False     0\n",
              "1    Bob    8.0      True     0\n",
              "\n",
              "&gt;&gt;&gt; df2_transposed = df2.T  # or df2.transpose()\n",
              "&gt;&gt;&gt; df2_transposed\n",
              "              0     1\n",
              "name      Alice   Bob\n",
              "score       9.5   8.0\n",
              "employed  False  True\n",
              "kids          0     0\n",
              "\n",
              "When the DataFrame has mixed dtypes, we get a transposed DataFrame with\n",
              "the `object` dtype:\n",
              "\n",
              "&gt;&gt;&gt; df2.dtypes\n",
              "name         object\n",
              "score       float64\n",
              "employed       bool\n",
              "kids          int64\n",
              "dtype: object\n",
              "&gt;&gt;&gt; df2_transposed.dtypes\n",
              "0    object\n",
              "1    object\n",
              "dtype: object</pre>\n",
              "      <script>\n",
              "      if (google.colab.kernel.accessAllowed && google.colab.files && google.colab.files.view) {\n",
              "        for (const element of document.querySelectorAll('.filepath')) {\n",
              "          element.style.display = 'block'\n",
              "          element.onclick = (event) => {\n",
              "            event.preventDefault();\n",
              "            event.stopPropagation();\n",
              "            google.colab.files.view(element.textContent, 3572);\n",
              "          };\n",
              "        }\n",
              "      }\n",
              "      for (const element of document.querySelectorAll('.function-repr-contents')) {\n",
              "        element.onclick = (event) => {\n",
              "          event.preventDefault();\n",
              "          event.stopPropagation();\n",
              "          element.classList.toggle('function-repr-contents-collapsed');\n",
              "        };\n",
              "      }\n",
              "      </script>\n",
              "      </div>"
            ]
          },
          "metadata": {},
          "execution_count": 6
        }
      ]
    },
    {
      "source": [
        "print(data_info[data_info['LoanStatNew'] == 'revol_util']['Description'].iloc[0])\n",
        "# Access the row where the 'LoanStatNew' column is 'revol_util',\n",
        "# then the 'Description' column, and finally get the first value of the result"
      ],
      "cell_type": "code",
      "metadata": {
        "colab": {
          "base_uri": "https://localhost:8080/"
        },
        "id": "ifGZfPmMWXaD",
        "outputId": "05d1d9f3-4b81-416e-8ceb-d2b7554ab0a1"
      },
      "execution_count": 8,
      "outputs": [
        {
          "output_type": "stream",
          "name": "stdout",
          "text": [
            "Revolving line utilization rate, or the amount of credit the borrower is using relative to all available revolving credit.\n"
          ]
        }
      ]
    },
    {
      "cell_type": "markdown",
      "source": [
        "# Filtering a Column\n",
        "\n",
        "---------------------------\n",
        "# 1. data_info[data_info['LoanStatNew'] == 'revol_util']\n",
        "This part selects a subset of rows from the data_info DataFrame where the value in the LoanStatNew column is equal to 'revol_util'.\n",
        "\n",
        "# data_info['LoanStatNew'] == 'revol_util'\n",
        "\n",
        "creates a boolean mask that is True for rows where the LoanStatNew column is 'revol_util', and False otherwise.\n",
        "\n",
        "Applying this mask to data_info filters the DataFrame, giving you all the rows where LoanStatNew is 'revol_util'.\n",
        "\n",
        "------------------------------\n",
        "#2. ['Description']\n",
        "After filtering, this part selects the Description column from the filtered DataFrame.\n",
        "\n",
        "The filtered DataFrame might have multiple rows, but this selects only the Description column for those rows.\n",
        "\n",
        "-------------------------\n",
        "#3. .iloc[0]\n",
        ".iloc[0] selects the first row from the filtered Description column.\n",
        "\n",
        "iloc stands for \"integer location,\" and it is used to index the rows based on their position. Here, 0 indicates the first row.\n",
        "\n",
        "----------------------\n",
        "#4. print():\n",
        "The print() function outputs the value of the first row of the Description column where LoanStatNew is 'revol_util'.\n",
        "\n",
        "---------------------------------------\n",
        "#What This Line Does:\n",
        "This line is designed to:\n",
        "\n",
        "Filter the data_info DataFrame to find the row(s) where LoanStatNew is 'revol_util'.\n",
        "\n",
        "Select the Description column from that filtered result.\n",
        "\n",
        "Get the first description (if there are multiple rows) using .iloc[0].\n",
        "\n",
        "Print that description.\n",
        "\n",
        "----------------------------\n",
        "#Practical Example:\n",
        "Assume data_info contains a list of variables and their descriptions, like:\n",
        "\n",
        "LoanStatNew\tDescription\n",
        "\n",
        "loan_amnt\tAmount of the loan\n",
        "\n",
        "revol_util\tRevolving credit utilization ratio term\n",
        "\n",
        "The term of the loan in months\n",
        "\n",
        "The code will:\n",
        "\n",
        "Find the row where LoanStatNew == 'revol_util'.\n",
        "\n",
        "Access the description: \"Revolving credit utilization ratio\".\n",
        "\n",
        "Print that description to the console.\n",
        "\n",
        "So, you’ll see the output:\n",
        "\n",
        "**Revolving credit utilization ratio**"
      ],
      "metadata": {
        "id": "7u_b0AnjYLhg"
      }
    },
    {
      "source": [
        "def feat_info(col_name):\n",
        "    \"\"\"\n",
        "    Display the description of a specific column in the 'data_info' DataFrame.\n",
        "\n",
        "    Args:\n",
        "      col_name: The name of the column to retrieve the description for.\n",
        "    \"\"\"\n",
        "    print(data_info[data_info['LoanStatNew'] == col_name]['Description'].iloc[0])\n",
        "    # Access the description where the 'LoanStatNew' column matches the provided 'col_name'"
      ],
      "cell_type": "code",
      "metadata": {
        "id": "7snGbs_LcaDF"
      },
      "execution_count": 11,
      "outputs": []
    },
    {
      "cell_type": "markdown",
      "source": [
        "# Locate and print the description of a Column\n",
        "The purpose of this function is to retrieve and print the description of a column from the data_info DataFrame based on the provided col_name (i.e., the name of the column for which you want the description).\n",
        "\n",
        "-------------------\n",
        "#How It Works:\n",
        "\n",
        "##Function Definition:\n",
        "\n",
        "    def feat_info(col_name):\n",
        "The function feat_info takes one argument, col_name, which is the name of the column (as a string) for which you want to retrieve the description.\n",
        "\n",
        "---------------------\n",
        "##Docstring:\n",
        "\n",
        "    \"\"\"\n",
        "     Display the description of a specific column in the 'data_info' DataFrame.\n",
        "\n",
        "    Args:\n",
        "     col_name: The name of the column to retrieve the description for.\n",
        "    \"\"\"\n",
        "This is a docstring, which explains what the function does and describes the input arguments.\n",
        "\n",
        "It helps anyone reading the code understand the purpose of the function.\n",
        "\n",
        "------------------\n",
        "#Retrieve and Print the Description:\n",
        "   \n",
        "    print(data_info[data_info['LoanStatNew'] == col_name]['Description'].iloc[0])\n",
        "\n",
        "##data_info[data_info['LoanStatNew'] == col_name]:\n",
        "\n",
        "This line filters the rows of data_info where the LoanStatNew column matches the value of col_name.\n",
        "For example, if col_name = 'revol_util', it selects all rows where 'LoanStatNew' == 'revol_util'.\n",
        "\n",
        "-----------------------\n",
        "##['Description']:\n",
        "\n",
        "After filtering the rows, it selects the Description column from the filtered rows.\n",
        "\n",
        "The Description column contains the explanation or definition of the variable (or column name).\n",
        "\n",
        "##.iloc[0]:\n",
        "\n",
        "This selects the first row of the Description column.\n",
        "If multiple rows match the filter, it ensures that the description from the first matching row is printed.\n",
        "\n",
        "##print():\n",
        "\n",
        "This prints the retrieved description to the console.\n",
        "\n",
        "-----------------------\n",
        "#Example of How It Works:\n",
        "Assume the data_info DataFrame looks like this:\n",
        "\n",
        "LoanStatNew\tDescription\n",
        "\n",
        "loan_amnt\tAmount of the loan\n",
        "\n",
        "revol_util\tRevolving credit utilization ratio\n",
        "\n",
        "term\tThe term of the loan in months\n",
        "\n",
        "Now, if you call the function with 'revol_util' as the column name:\n",
        "\n",
        "    feat_info('revol_util')\n",
        "The code will:\n",
        "\n",
        "Filter data_info to find the row where LoanStatNew == 'revol_util'.\n",
        "\n",
        "Select the Description column from that row.\n",
        "\n",
        "Retrieve the first (and likely only) row's description.\n",
        "\n",
        "Print the result:\n",
        "\n",
        "    Revolving credit utilization ratio\n",
        "\n",
        "-----------------------\n",
        "#Summary\n",
        "This function is a utility to easily look up descriptions of columns in the data_info DataFrame, which likely contains metadata about a dataset (like explanations for each feature or variable)."
      ],
      "metadata": {
        "id": "uLCwKuDPdZgK"
      }
    },
    {
      "cell_type": "code",
      "execution_count": 12,
      "metadata": {
        "id": "qlK1vgFaZYlY",
        "outputId": "9facc59c-d216-49e8-a9c1-d1eb1cb2998a",
        "colab": {
          "base_uri": "https://localhost:8080/"
        }
      },
      "outputs": [
        {
          "output_type": "stream",
          "name": "stdout",
          "text": [
            "Number of mortgage accounts.\n"
          ]
        }
      ],
      "source": [
        "feat_info('mort_acc')"
      ]
    },
    {
      "cell_type": "markdown",
      "metadata": {
        "id": "soCj_2hPZYlY"
      },
      "source": [
        "## Loading the data and other imports"
      ]
    },
    {
      "cell_type": "code",
      "execution_count": 13,
      "metadata": {
        "id": "YTaR7-tOZYlZ"
      },
      "outputs": [],
      "source": [
        "import pandas as pd\n",
        "import numpy as np\n",
        "import matplotlib.pyplot as plt\n",
        "import seaborn as sns\n",
        "\n",
        "# might be needed depending on your version of Jupyter\n",
        "%matplotlib inline"
      ]
    },
    {
      "cell_type": "code",
      "execution_count": 15,
      "metadata": {
        "id": "5LRLZXUnZYlZ"
      },
      "outputs": [],
      "source": [
        "df = pd.read_csv('/content/lending_club_loan_two.csv')"
      ]
    },
    {
      "cell_type": "code",
      "execution_count": 16,
      "metadata": {
        "colab": {
          "base_uri": "https://localhost:8080/"
        },
        "id": "UuhJEQmXZYlZ",
        "outputId": "8d4fc49d-56a4-42a4-bfea-2c2e5fbcb7a1"
      },
      "outputs": [
        {
          "output_type": "stream",
          "name": "stdout",
          "text": [
            "<class 'pandas.core.frame.DataFrame'>\n",
            "RangeIndex: 396030 entries, 0 to 396029\n",
            "Data columns (total 27 columns):\n",
            " #   Column                Non-Null Count   Dtype  \n",
            "---  ------                --------------   -----  \n",
            " 0   loan_amnt             396030 non-null  float64\n",
            " 1   term                  396030 non-null  object \n",
            " 2   int_rate              396030 non-null  float64\n",
            " 3   installment           396030 non-null  float64\n",
            " 4   grade                 396030 non-null  object \n",
            " 5   sub_grade             396030 non-null  object \n",
            " 6   emp_title             373103 non-null  object \n",
            " 7   emp_length            377729 non-null  object \n",
            " 8   home_ownership        396030 non-null  object \n",
            " 9   annual_inc            396030 non-null  float64\n",
            " 10  verification_status   396030 non-null  object \n",
            " 11  issue_d               396030 non-null  object \n",
            " 12  loan_status           396030 non-null  object \n",
            " 13  purpose               396030 non-null  object \n",
            " 14  title                 394274 non-null  object \n",
            " 15  dti                   396030 non-null  float64\n",
            " 16  earliest_cr_line      396030 non-null  object \n",
            " 17  open_acc              396030 non-null  float64\n",
            " 18  pub_rec               396030 non-null  float64\n",
            " 19  revol_bal             396030 non-null  float64\n",
            " 20  revol_util            395754 non-null  float64\n",
            " 21  total_acc             396030 non-null  float64\n",
            " 22  initial_list_status   396030 non-null  object \n",
            " 23  application_type      396030 non-null  object \n",
            " 24  mort_acc              358235 non-null  float64\n",
            " 25  pub_rec_bankruptcies  395495 non-null  float64\n",
            " 26  address               396030 non-null  object \n",
            "dtypes: float64(12), object(15)\n",
            "memory usage: 81.6+ MB\n"
          ]
        }
      ],
      "source": [
        "df.info()"
      ]
    },
    {
      "cell_type": "markdown",
      "metadata": {
        "id": "BWOGeSdaZYla"
      },
      "source": [
        "# Project Tasks\n",
        "\n",
        "**Complete the tasks below! Keep in mind is usually more than one way to complete the task! Enjoy**\n",
        "\n",
        "-----\n",
        "------\n",
        "\n",
        "# Section 1: Exploratory Data Analysis\n",
        "\n",
        "**OVERALL GOAL: Get an understanding for which variables are important, view summary statistics, and visualize the data**\n",
        "\n",
        "\n",
        "----"
      ]
    },
    {
      "cell_type": "markdown",
      "metadata": {
        "id": "xY1HLY_gZYla"
      },
      "source": [
        "**TASK: Since we will be attempting to predict loan_status, create a countplot as shown below.**"
      ]
    },
    {
      "cell_type": "code",
      "execution_count": 17,
      "metadata": {
        "colab": {
          "base_uri": "https://localhost:8080/",
          "height": 467
        },
        "id": "ZY-mA2QoZYla",
        "outputId": "4d395704-ac8c-4f88-8ca4-ace9195c224b"
      },
      "outputs": [
        {
          "output_type": "execute_result",
          "data": {
            "text/plain": [
              "<Axes: xlabel='loan_status', ylabel='count'>"
            ]
          },
          "metadata": {},
          "execution_count": 17
        },
        {
          "output_type": "display_data",
          "data": {
            "text/plain": [
              "<Figure size 640x480 with 1 Axes>"
            ],
            "image/png": "[encoded data removed]"
          },
          "metadata": {}
        }
      ],
      "source": [
        "# CODE HERE\n",
        "sns.countplot(x='loan_status', data=df, hue='loan_status')"
      ]
    },
    {
      "cell_type": "markdown",
      "source": [
        "# Creates a bar plot to show the counts of observations in each categorical bin\n",
        "\n",
        "----------------\n",
        "##sns.countplot(x='loan_status', data=df, hue='loan_status')\n",
        "sns.countplot() is a Seaborn function that creates a bar plot to show the counts of observations in each categorical bin.\n",
        "\n",
        "------------------\n",
        "##x='loan_status':\n",
        "This means that the values of the loan_status column in the df DataFrame are placed on the x-axis. Each unique value in loan_status will have a bar showing how many times that category appears in the dataset.\n",
        "\n",
        "-----------------------\n",
        "##data=df:\n",
        "\n",
        "This specifies that the data is coming from the DataFrame df.\n",
        "\n",
        "----------------------\n",
        "##hue='loan_status'\n",
        "\n",
        "The hue parameter adds color coding by loan_status categories. Since the hue is the same as the x variable, this will color each bar separately, but it will not add additional information beyond what is shown on the x-axis.\n",
        "\n",
        "-----------------\n",
        "##What Happens\n",
        "The plot will display one bar for each category in loan_status.\n",
        "Since hue is also set to loan_status, the plot will color the bars based on the loan_status categories, but this is redundant as the bars are already separated by loan_status.\n",
        "\n",
        "As a result, each bar will be colored in sections, but all sections will be the same because the hue doesn't introduce new groupings.\n",
        "\n",
        "--------------------\n",
        "#Example\n",
        "If loan_status has two categories like Fully Paid and Charged Off, the plot will show two bars, one for each category.\n",
        "\n",
        "The hue='loan_status' will color the bar for Fully Paid in one color and the bar for Charged Off in another, but each bar will be a solid color.\n",
        "\n",
        "#Redundancy:\n",
        "Using hue='loan_status' in this case doesn't provide any extra insight because it is the same as the x axis.\n",
        "\n",
        "The plot would look the same without the hue parameter, except without the extra coloring of the bars.\n",
        "\n",
        "##Improved Version:\n",
        "If you want to remove the redundant hue and just get the count of each category in loan_status:\n",
        "\n",
        "    sns.countplot(x='loan_status', data=df)\n",
        "\n",
        "This will create a simpler plot where each unique value in loan_status is represented by one bar with its corresponding count."
      ],
      "metadata": {
        "id": "H1dr2Uquk5ZM"
      }
    },
    {
      "cell_type": "code",
      "execution_count": 18,
      "metadata": {
        "colab": {
          "base_uri": "https://localhost:8080/",
          "height": 467
        },
        "id": "AjNJAFjcZYla",
        "outputId": "4c1ed7e2-f139-42f8-848d-c9d7385338e1"
      },
      "outputs": [
        {
          "output_type": "execute_result",
          "data": {
            "text/plain": [
              "<Axes: xlabel='loan_status', ylabel='count'>"
            ]
          },
          "metadata": {},
          "execution_count": 18
        },
        {
          "output_type": "display_data",
          "data": {
            "text/plain": [
              "<Figure size 640x480 with 1 Axes>"
            ],
            "image/png": "[encoded data removed]"
          },
          "metadata": {}
        }
      ],
      "source": [
        "sns.countplot(x='loan_status',data=df)"
      ]
    },
    {
      "cell_type": "markdown",
      "metadata": {
        "id": "g9Epxe7vZYlb"
      },
      "source": [
        "**TASK: Create a histogram of the loan_amnt column.**"
      ]
    },
    {
      "cell_type": "code",
      "execution_count": 19,
      "metadata": {
        "colab": {
          "base_uri": "https://localhost:8080/",
          "height": 553
        },
        "id": "F3Kbiur0ZYlb",
        "outputId": "56d36743-97d4-48ba-88d7-74ef46be8c0d"
      },
      "outputs": [
        {
          "output_type": "stream",
          "name": "stderr",
          "text": [
            "<ipython-input-19-8424084d7d86>:3: UserWarning: \n",
            "\n",
            "`distplot` is a deprecated function and will be removed in seaborn v0.14.0.\n",
            "\n",
            "Please adapt your code to use either `displot` (a figure-level function with\n",
            "similar flexibility) or `histplot` (an axes-level function for histograms).\n",
            "\n",
            "For a guide to updating your code to use the new functions, please see\n",
            "https://gist.github.com/mwaskom/de44147ed2974457ad6372750bbe5751\n",
            "\n",
            "  sns.distplot(df['loan_amnt'], kde=False, bins=40)\n"
          ]
        },
        {
          "output_type": "execute_result",
          "data": {
            "text/plain": [
              "(0.0, 45000.0)"
            ]
          },
          "metadata": {},
          "execution_count": 19
        },
        {
          "output_type": "display_data",
          "data": {
            "text/plain": [
              "<Figure size 1300x400 with 1 Axes>"
            ],
            "image/png": "[encoded data removed]"
          },
          "metadata": {}
        }
      ],
      "source": [
        "# CODE HERE\n",
        "plt.figure(figsize=(13,4))\n",
        "sns.distplot(df['loan_amnt'], kde=False, bins=40)\n",
        "plt.xlim(0, 45000)"
      ]
    },
    {
      "cell_type": "markdown",
      "source": [],
      "metadata": {
        "id": "GHJ5AIKzljGY"
      }
    },
    {
      "cell_type": "code",
      "execution_count": 20,
      "metadata": {
        "colab": {
          "base_uri": "https://localhost:8080/",
          "height": 597
        },
        "id": "ytxJN3jfZYlb",
        "outputId": "6a4ba352-f95d-475f-db51-78f2d70373de"
      },
      "outputs": [
        {
          "output_type": "stream",
          "name": "stderr",
          "text": [
            "<ipython-input-20-68368f93dfba>:2: UserWarning: \n",
            "\n",
            "`distplot` is a deprecated function and will be removed in seaborn v0.14.0.\n",
            "\n",
            "Please adapt your code to use either `displot` (a figure-level function with\n",
            "similar flexibility) or `histplot` (an axes-level function for histograms).\n",
            "\n",
            "For a guide to updating your code to use the new functions, please see\n",
            "https://gist.github.com/mwaskom/de44147ed2974457ad6372750bbe5751\n",
            "\n",
            "  sns.distplot(df['loan_amnt'],kde=True, bins=40)\n"
          ]
        },
        {
          "output_type": "execute_result",
          "data": {
            "text/plain": [
              "(0.0, 45000.0)"
            ]
          },
          "metadata": {},
          "execution_count": 20
        },
        {
          "output_type": "display_data",
          "data": {
            "text/plain": [
              "<Figure size 1200x400 with 1 Axes>"
            ],
            "image/png": "[encoded data removed]"
          },
          "metadata": {}
        }
      ],
      "source": [
        "plt.figure(figsize=(12,4))\n",
        "sns.distplot(df['loan_amnt'],kde=True, bins=40)\n",
        "plt.xlim(0,45000)"
      ]
    },
    {
      "cell_type": "markdown",
      "source": [
        "# Plot a Histogram\n",
        "\n",
        "---------------------------\n",
        "# 1. plt.figure(figsize=(13, 4)):\n",
        "This sets the size of the plot using Matplotlib.\n",
        "\n",
        "The figsize parameter controls the width and height of the plot in inches.\n",
        "\n",
        "Width: 13 inches.\n",
        "\n",
        "Height: 4 inches.\n",
        "\n",
        "It creates a horizontally long and relatively short figure.\n",
        "\n",
        "----------------\n",
        "#2. sns.distplot(df['loan_amnt'], kde=False, bins=40):\n",
        "This uses Seaborn's distplot to plot a histogram of the loan amounts.\n",
        "\n",
        "df['loan_amnt']: This refers to the column loan_amnt in the DataFrame df, which contains loan amounts.\n",
        "------------------------\n",
        "##kde=False:\n",
        "KDE stands for Kernel Density Estimate, which is a smoothed line showing the probability distribution of the data.\n",
        "\n",
        "By setting kde=False, the plot will not show this density line, and you'll only see the histogram (i.e., the bar chart of the distribution).\n",
        "\n",
        "##bins=40:\n",
        "The number of bins in the histogram is set to 40.\n",
        "\n",
        "This divides the loan amounts into 40 intervals or ranges, and counts how many values fall within each range.\n",
        "\n",
        "----------------------------\n",
        "##3. plt.xlim(0, 45000):\n",
        "This sets the limits of the x-axis, restricting it to show only loan amounts between 0 and 45,000.\n",
        "\n",
        "This is useful if you want to focus on a specific range of loan amounts and ignore others beyond that.\n",
        "\n",
        "------------------------------------\n",
        "#What Will the Plot Show?\n",
        "The plot will be a histogram where the x-axis represents different ranges of loan amounts (from 0 to 45,000), and the y-axis shows the frequency of loans that fall within each range.\n",
        "\n",
        "Since the kde is turned off, only the histogram bars will be visible.\n",
        "\n",
        "The histogram will be divided into 40 bins, so there will be 40 bars representing different ranges of loan amounts.\n",
        "\n",
        "-------------------------\n",
        "#Visual Example\n",
        "If most loans are between 5,000 and 20,000, you’ll see higher bars in that region. Lower bars may appear in other regions depending on how the data is distributed.\n",
        "\n",
        "----------------------\n",
        "#Key Concepts:\n",
        "Histogram: A bar chart that represents the distribution of data by counting the number of data points that fall within certain ranges (bins).\n",
        "\n",
        "Bins: The intervals into which the data is divided, and for each bin, the height of the bar represents how many data points fall into that interval.\n",
        "\n",
        "xlim: Limits the x-axis to a specific range, controlling what part of the data is visible."
      ],
      "metadata": {
        "id": "DQ_dPBMTlnj5"
      }
    },
    {
      "cell_type": "markdown",
      "metadata": {
        "id": "ZJvVjlF0ZYlb"
      },
      "source": [
        "**TASK: Let's explore correlation between the continuous feature variables. Calculate the correlation between all continuous numeric variables using .corr() method.**"
      ]
    },
    {
      "cell_type": "code",
      "execution_count": null,
      "metadata": {
        "id": "BXG5NF1DZYlb"
      },
      "outputs": [],
      "source": [
        "# CODE HERE\n"
      ]
    },
    {
      "source": [
        "# Identify columns with non-numeric values\n",
        "for col in df.columns:\n",
        "    try:\n",
        "        df[col].astype(float)\n",
        "    except ValueError:\n",
        "        print(f\"Column '{col}' contains non-numeric values.\")"
      ],
      "cell_type": "code",
      "metadata": {
        "colab": {
          "base_uri": "https://localhost:8080/"
        },
        "id": "qs-pdGQBn7_2",
        "outputId": "0b2160c2-173e-456d-88c5-56d01eb6674d"
      },
      "execution_count": 21,
      "outputs": [
        {
          "output_type": "stream",
          "name": "stdout",
          "text": [
            "Column 'term' contains non-numeric values.\n",
            "Column 'grade' contains non-numeric values.\n",
            "Column 'sub_grade' contains non-numeric values.\n",
            "Column 'emp_title' contains non-numeric values.\n",
            "Column 'emp_length' contains non-numeric values.\n",
            "Column 'home_ownership' contains non-numeric values.\n",
            "Column 'verification_status' contains non-numeric values.\n",
            "Column 'issue_d' contains non-numeric values.\n",
            "Column 'loan_status' contains non-numeric values.\n",
            "Column 'purpose' contains non-numeric values.\n",
            "Column 'title' contains non-numeric values.\n",
            "Column 'earliest_cr_line' contains non-numeric values.\n",
            "Column 'initial_list_status' contains non-numeric values.\n",
            "Column 'application_type' contains non-numeric values.\n",
            "Column 'address' contains non-numeric values.\n"
          ]
        }
      ]
    },
    {
      "cell_type": "markdown",
      "source": [
        "# Heatmap Plot without dropping NaN columns"
      ],
      "metadata": {
        "id": "TbaAHRuo1WtC"
      }
    },
    {
      "cell_type": "markdown",
      "metadata": {
        "id": "91rJDX3SZYlc"
      },
      "source": [
        "**TASK: Visualize this using a heatmap. Depending on your version of matplotlib, you may need to manually adjust the heatmap.**\n",
        "\n",
        "* [Heatmap info](https://seaborn.pydata.org/generated/seaborn.heatmap.html#seaborn.heatmap)\n",
        "* [Help with resizing](https://stackoverflow.com/questions/56942670/matplotlib-seaborn-first-and-last-row-cut-in-half-of-heatmap-plot)"
      ]
    },
    {
      "cell_type": "code",
      "execution_count": 24,
      "metadata": {
        "id": "ouxmrNSCZYlc",
        "outputId": "87709a4d-0dab-44b0-a744-7cdb8ee3c262",
        "colab": {
          "base_uri": "https://localhost:8080/",
          "height": 1000
        }
      },
      "outputs": [
        {
          "output_type": "execute_result",
          "data": {
            "text/plain": [
              "(10.0, 0.0)"
            ]
          },
          "metadata": {},
          "execution_count": 24
        },
        {
          "output_type": "display_data",
          "data": {
            "text/plain": [
              "<Figure size 1200x700 with 2 Axes>"
            ],
            "image/png": "[encoded data removed]"
          },
          "metadata": {}
        }
      ],
      "source": [
        "plt.figure(figsize=(12,7))\n",
        "sns.heatmap(df.corr(),annot=True,cmap='viridis')\n",
        "plt.ylim(10, 0)"
      ]
    },
    {
      "cell_type": "markdown",
      "source": [
        "# Heatmap Plot with dropping the NaN columns - scale, lighter color represents higher Correlation"
      ],
      "metadata": {
        "id": "J8fV8yQq1sur"
      }
    },
    {
      "source": [
        "# Identify columns with non-numeric values\n",
        "# Loop through columns and coerce non-numeric values to NaN\n",
        "\n",
        "for col in df.columns:\n",
        "    df[col] = pd.to_numeric(df[col], errors='coerce')  # Convert all columns to numeric, non-numeric values become NaN\n",
        "\n",
        "# Drop columns that contain any NaN values\n",
        "df_clean = df.dropna(axis=1)\n",
        "\n",
        "# Now you can create the heatmap without NaN columns\n",
        "plt.figure(figsize=(12,7))\n",
        "sns.heatmap(df_clean.corr(), annot=True)\n",
        "plt.ylim(len(df_clean.columns), 0)  # Adjust y-axis based on the number of columns"
      ],
      "cell_type": "code",
      "metadata": {
        "colab": {
          "base_uri": "https://localhost:8080/",
          "height": 622
        },
        "id": "sRY1hpSdqXMe",
        "outputId": "dbe553be-d8d4-46d0-99d6-17c443e3b1d9"
      },
      "execution_count": 26,
      "outputs": [
        {
          "output_type": "execute_result",
          "data": {
            "text/plain": [
              "(9.0, 0.0)"
            ]
          },
          "metadata": {},
          "execution_count": 26
        },
        {
          "output_type": "display_data",
          "data": {
            "text/plain": [
              "<Figure size 1200x700 with 2 Axes>"
            ],
            "image/png": "[encoded data removed]"
          },
          "metadata": {}
        }
      ]
    },
    {
      "cell_type": "markdown",
      "source": [
        "# Heatmap Plot with dropping the NaN columns - scale, darker color represents higher Correlation"
      ],
      "metadata": {
        "id": "B5tA36Vb2BGk"
      }
    },
    {
      "cell_type": "markdown",
      "source": [
        "# Convert  columns to numeric values and Create a Correlation Heatmap matrix\n",
        "\n",
        "-------------------\n",
        "    for col in df.columns:\n",
        "\n",
        "This loop iterates over every column in the DataFrame df.\n",
        "\n",
        "----------------------\n",
        "\n",
        "    try:\n",
        "\n",
        "The code inside the try block attempts to perform a specific operation (in this case, converting a column to numeric values).\n",
        "\n",
        "If an error occurs (e.g., the column contains non-numeric values), the except block will handle it.\n",
        "\n",
        "------------------------\n",
        "    pd.to_numeric(df[col], errors='coerce')\n",
        "\n",
        "This function tries to convert the values in the column col to numeric data (i.e., integers or floats).\n",
        "\n",
        "----------------------\n",
        "    errors='coerce'\n",
        "\n",
        "If a value in the column cannot be converted (for example, it's a string like \"abc\"), it will replace that value with NaN (Not a Number).\n",
        "\n",
        "----------------------\n",
        "    except ValueError:\n",
        "\n",
        "If the column cannot be converted (e.g., it contains non-numeric data that can't be coerced), the code will print a message identifying the column with non-numeric values.\n",
        "\n",
        "This step ensures that all columns are either numeric or contain NaN values.\n",
        "\n",
        "This is important because correlation matrices (used in heatmaps) require numeric data to compute relationships between columns.\n",
        "\n",
        "--------------------\n",
        "#Step 2: Creating the Heatmap\n",
        "\n",
        "    plt.figure(figsize=(12,7))\n",
        "    sns.heatmap(df.corr(), annot=True)\n",
        "    plt.ylim(10, 0)\n",
        "\n",
        "\n",
        "##plt.figure(figsize=(12,7)):\n",
        "\n",
        "This line sets the figure size for the heatmap plot.\n",
        "\n",
        "The size is 12 inches in width and 7 inches in height.\n",
        "\n",
        "##sns.heatmap(df.corr(), annot=True):\n",
        "\n",
        "##sns.heatmap():\n",
        "\n",
        "This creates a heatmap using Seaborn.\n",
        "\n",
        "##df.corr():\n",
        "\n",
        "This calculates the pairwise correlation matrix for the DataFrame df.\n",
        "\n",
        "The correlation matrix contains correlation coefficients (values between -1 and 1) that describe the strength and direction of the linear relationship between pairs of numeric columns.\n",
        "\n",
        "----------------\n",
        "#Correlation values:\n",
        "    1: Perfect positive correlation.\n",
        "   -1: Perfect negative correlation.\n",
        "    0: No linear relationship.\n",
        "\n",
        "##annot=True:\n",
        "\n",
        "This adds the correlation values as annotations inside each cell of the heatmap, so you can see the exact correlation values for each pair of features.\n",
        "\n",
        "------------------\n",
        "##plt.ylim(10, 0):\n",
        "\n",
        "This line inverts the y-axis. Heatmaps often display the top of the matrix starting at 0 (the first row), but this setting changes the limits so that the axis starts from 10 and goes to 0, which might be necessary depending on the shape of the data.\n",
        "\n",
        "10 refers to the number of rows (or features) being correlated.\n",
        "\n",
        "Adjusting ylim helps fix potential clipping issues with larger datasets.\n",
        "\n",
        "-----------------\n",
        "#Summary\n",
        "First, the loop attempts to convert all columns in the DataFrame to numeric values.\n",
        "\n",
        "Non-numeric entries are coerced to NaN, which ensures that the correlation matrix can be computed correctly.\n",
        "\n",
        "Next, a heatmap is created to visualize the pairwise correlations between numeric columns, with annotations showing the exact correlation values.\n",
        "\n",
        "Finally, the y-axis is inverted to ensure proper display of the heatmap.\n",
        "\n",
        "This workflow is particularly useful when you are trying to analyze relationships between features in a dataset, but you have some non-numeric columns that need to be handled before creating a heatmap."
      ],
      "metadata": {
        "id": "lkNnOdiNq0zr"
      }
    },
    {
      "cell_type": "code",
      "source": [
        "# Create the heatmap with a reversed colormap for higher correlations to be darker\n",
        "plt.figure(figsize=(12,7))\n",
        "sns.heatmap(df_clean.corr(), annot=True, cmap='coolwarm_r')  # Reverse colormap\n",
        "plt.ylim(len(df_clean.columns), 0)  # Adjust y-axis based on the number of columns\n"
      ],
      "metadata": {
        "colab": {
          "base_uri": "https://localhost:8080/",
          "height": 622
        },
        "id": "cyJAUWjX1CA1",
        "outputId": "a9de100a-c2cf-410e-8cf3-28443961029f"
      },
      "execution_count": 27,
      "outputs": [
        {
          "output_type": "execute_result",
          "data": {
            "text/plain": [
              "(9.0, 0.0)"
            ]
          },
          "metadata": {},
          "execution_count": 27
        },
        {
          "output_type": "display_data",
          "data": {
            "text/plain": [
              "<Figure size 1200x700 with 2 Axes>"
            ],
            "image/png": "[encoded data removed]"
          },
          "metadata": {}
        }
      ]
    },
    {
      "cell_type": "markdown",
      "metadata": {
        "id": "o-6PAgepZYld"
      },
      "source": [
        "**TASK: You should have noticed almost perfect correlation with the \"installment\" feature. Explore this feature further. Print out their descriptions and perform a scatterplot between them. Does this relationship make sense to you? Do you think there is duplicate information here?**"
      ]
    },
    {
      "cell_type": "markdown",
      "source": [
        "# Reversing the Colormap\n",
        "## cmap='coolwarm_r':\n",
        "\n",
        "The _r at the end reverses the color map. You can choose other colormaps as well, such as RdYlBu_r, Greens_r, etc., depending on your preference.\n",
        "\n",
        "This setup will ensure that higher correlation values (closer to 1 or -1) are represented with darker colors, making it easier to identify strong correlations visually.\n",
        "\n",
        "Feel free to experiment with different colormaps to see which one works best for your visualization!\n"
      ],
      "metadata": {
        "id": "N8aTyhyn2tKN"
      }
    },
    {
      "cell_type": "code",
      "execution_count": 29,
      "metadata": {
        "id": "S1a9AhIGZYld",
        "colab": {
          "base_uri": "https://localhost:8080/"
        },
        "outputId": "740ecebf-f874-404b-982f-cfdbdce016ed"
      },
      "outputs": [
        {
          "output_type": "stream",
          "name": "stdout",
          "text": [
            "The monthly payment owed by the borrower if the loan originates.\n"
          ]
        }
      ],
      "source": [
        "# CODE HERE\n",
        "feat_info('installment')"
      ]
    },
    {
      "cell_type": "code",
      "execution_count": 28,
      "metadata": {
        "id": "4ydK7vcmZYld",
        "outputId": "bd83f195-d033-4bc1-98f5-13adfc429030",
        "colab": {
          "base_uri": "https://localhost:8080/"
        }
      },
      "outputs": [
        {
          "output_type": "stream",
          "name": "stdout",
          "text": [
            "The monthly payment owed by the borrower if the loan originates.\n"
          ]
        }
      ],
      "source": [
        "feat_info('installment')"
      ]
    },
    {
      "cell_type": "markdown",
      "source": [
        "# Using the feat_info function with the 'installment' column\n",
        "The function feat_info('installment') is intended to retrieve and display the description of the column named \"installment\" from a DataFrame called data_info. Here's how it works:\n",
        "\n",
        "---------------------\n",
        "# Function Call:\n",
        "\n",
        "When you call feat_info('installment'), you are passing the string 'installment' as the argument to the function.\n",
        "\n",
        "--------------------\n",
        "##Filtering the DataFrame:\n",
        "\n",
        "    data_info[data_info['LoanStatNew'] == col_name]\n",
        "This line filters the data_info DataFrame to find rows where the LoanStatNew column matches the provided column name (in this case, \"installment\").\n",
        "\n",
        "--------------------------\n",
        "##Accessing the Description:\n",
        "\n",
        "    ['Description'].iloc[0]\n",
        "\n",
        "After filtering, this part retrieves the value in the Description column from the first matching row. It gives you the explanation or definition of the \"installment\" feature.\n",
        "\n",
        "-------------------\n",
        "##Printing the Result:\n",
        "\n",
        "    print(...)\n",
        "##Finally, it prints the description to the console.\n",
        "\n",
        "-------------------------\n",
        "#Example Output\n",
        "Assuming your data_info DataFrame looks something like this:\n",
        "\n",
        "    LoanStatNew\tDescription\n",
        "    installment\tThe monthly payment owed on the loan.\n",
        "    loan_amnt\tAmount of the loan.\n",
        "    term\tThe term of the loan in months.\n",
        "When you call feat_info('installment'), the output would be:\n",
        "\n",
        "    The monthly payment owed on the loan.\n",
        "-------------------\n",
        "#Summary\n",
        "The feat_info function is a utility that makes it easier to look up the descriptions of various features in your dataset, providing valuable context for understanding the data you are working with.\n",
        "\n",
        "If you want to see the description for another feature, you simply call the function with the appropriate column name."
      ],
      "metadata": {
        "id": "P9Nx9zvC3iam"
      }
    },
    {
      "cell_type": "code",
      "execution_count": null,
      "metadata": {
        "id": "3w5rISR5ZYld",
        "outputId": "bd52c13c-fcd1-4e1b-96e5-57132df9ed74"
      },
      "outputs": [
        {
          "name": "stdout",
          "output_type": "stream",
          "text": [
            "The listed amount of the loan applied for by the borrower. If at some point in time, the credit department reduces the loan amount, then it will be reflected in this value.\n"
          ]
        }
      ],
      "source": [
        "feat_info('loan_amnt')"
      ]
    },
    {
      "cell_type": "code",
      "execution_count": null,
      "metadata": {
        "id": "Z_TZTFpMZYld",
        "outputId": "a9cd3efa-bb2e-44f8-8a28-7d7d4feda621"
      },
      "outputs": [
        {
          "data": {
            "text/plain": [
              "<matplotlib.axes._subplots.AxesSubplot at 0x20798026f48>"
            ]
          },
          "execution_count": 20,
          "metadata": {},
          "output_type": "execute_result"
        },
        {
          "data": {
            "image/png": "[encoded data removed]",
            "text/plain": [
              "<Figure size 432x288 with 1 Axes>"
            ]
          },
          "metadata": {
            "needs_background": "light"
          },
          "output_type": "display_data"
        }
      ],
      "source": [
        "sns.scatterplot(x='installment',y='loan_amnt',data=df,)"
      ]
    },
    {
      "cell_type": "markdown",
      "metadata": {
        "id": "QOKdk5Z0ZYle"
      },
      "source": [
        "**TASK: Create a boxplot showing the relationship between the loan_status and the Loan Amount.**"
      ]
    },
    {
      "cell_type": "code",
      "execution_count": null,
      "metadata": {
        "id": "TDQ-VQRSZYle"
      },
      "outputs": [],
      "source": [
        "# CODE HERE"
      ]
    },
    {
      "cell_type": "code",
      "execution_count": null,
      "metadata": {
        "id": "h7SFXz0RZYle",
        "outputId": "3da93ecc-4f61-478b-ac97-749040f0064c"
      },
      "outputs": [
        {
          "data": {
            "text/plain": [
              "<matplotlib.axes._subplots.AxesSubplot at 0x20798056c48>"
            ]
          },
          "execution_count": 22,
          "metadata": {},
          "output_type": "execute_result"
        },
        {
          "data": {
            "image/png": "[encoded data removed]",
            "text/plain": [
              "<Figure size 432x288 with 1 Axes>"
            ]
          },
          "metadata": {
            "needs_background": "light"
          },
          "output_type": "display_data"
        }
      ],
      "source": [
        "sns.boxplot(x='loan_status',y='loan_amnt',data=df)"
      ]
    },
    {
      "cell_type": "markdown",
      "metadata": {
        "id": "VEwcZF3eZYle"
      },
      "source": [
        "**TASK: Calculate the summary statistics for the loan amount, grouped by the loan_status.**"
      ]
    },
    {
      "cell_type": "code",
      "execution_count": null,
      "metadata": {
        "id": "FXvnXOsJZYle"
      },
      "outputs": [],
      "source": [
        "# CODE HERE"
      ]
    },
    {
      "cell_type": "code",
      "execution_count": null,
      "metadata": {
        "id": "oANn45AVZYle",
        "outputId": "3a942ad2-5603-4ec5-ceb2-c31b548f4b12"
      },
      "outputs": [
        {
          "data": {
            "text/html": [
              "<div>\n",
              "<style scoped>\n",
              "    .dataframe tbody tr th:only-of-type {\n",
              "        vertical-align: middle;\n",
              "    }\n",
              "\n",
              "    .dataframe tbody tr th {\n",
              "        vertical-align: top;\n",
              "    }\n",
              "\n",
              "    .dataframe thead th {\n",
              "        text-align: right;\n",
              "    }\n",
              "</style>\n",
              "<table border=\"1\" class=\"dataframe\">\n",
              "  <thead>\n",
              "    <tr style=\"text-align: right;\">\n",
              "      <th></th>\n",
              "      <th>count</th>\n",
              "      <th>mean</th>\n",
              "      <th>std</th>\n",
              "      <th>min</th>\n",
              "      <th>25%</th>\n",
              "      <th>50%</th>\n",
              "      <th>75%</th>\n",
              "      <th>max</th>\n",
              "    </tr>\n",
              "    <tr>\n",
              "      <th>loan_status</th>\n",
              "      <th></th>\n",
              "      <th></th>\n",
              "      <th></th>\n",
              "      <th></th>\n",
              "      <th></th>\n",
              "      <th></th>\n",
              "      <th></th>\n",
              "      <th></th>\n",
              "    </tr>\n",
              "  </thead>\n",
              "  <tbody>\n",
              "    <tr>\n",
              "      <th>Charged Off</th>\n",
              "      <td>77673.0</td>\n",
              "      <td>15126.300967</td>\n",
              "      <td>8505.090557</td>\n",
              "      <td>1000.0</td>\n",
              "      <td>8525.0</td>\n",
              "      <td>14000.0</td>\n",
              "      <td>20000.0</td>\n",
              "      <td>40000.0</td>\n",
              "    </tr>\n",
              "    <tr>\n",
              "      <th>Fully Paid</th>\n",
              "      <td>318357.0</td>\n",
              "      <td>13866.878771</td>\n",
              "      <td>8302.319699</td>\n",
              "      <td>500.0</td>\n",
              "      <td>7500.0</td>\n",
              "      <td>12000.0</td>\n",
              "      <td>19225.0</td>\n",
              "      <td>40000.0</td>\n",
              "    </tr>\n",
              "  </tbody>\n",
              "</table>\n",
              "</div>"
            ],
            "text/plain": [
              "                count          mean          std     min     25%      50%  \\\n",
              "loan_status                                                                 \n",
              "Charged Off   77673.0  15126.300967  8505.090557  1000.0  8525.0  14000.0   \n",
              "Fully Paid   318357.0  13866.878771  8302.319699   500.0  7500.0  12000.0   \n",
              "\n",
              "                 75%      max  \n",
              "loan_status                    \n",
              "Charged Off  20000.0  40000.0  \n",
              "Fully Paid   19225.0  40000.0  "
            ]
          },
          "execution_count": 24,
          "metadata": {},
          "output_type": "execute_result"
        }
      ],
      "source": [
        "df.groupby('loan_status')['loan_amnt'].describe()"
      ]
    },
    {
      "cell_type": "markdown",
      "metadata": {
        "id": "vgOgpV_7ZYle"
      },
      "source": [
        "**TASK: Let's explore the Grade and SubGrade columns that LendingClub attributes to the loans. What are the unique possible grades and subgrades?**"
      ]
    },
    {
      "cell_type": "code",
      "execution_count": null,
      "metadata": {
        "id": "nJGBLGcRZYlf"
      },
      "outputs": [],
      "source": [
        "# CODE HERE"
      ]
    },
    {
      "cell_type": "code",
      "execution_count": null,
      "metadata": {
        "id": "DLMC61rnZYlj",
        "outputId": "33d4472f-196e-4fea-c4f5-d99cbf30b303"
      },
      "outputs": [
        {
          "data": {
            "text/plain": [
              "['A', 'B', 'C', 'D', 'E', 'F', 'G']"
            ]
          },
          "execution_count": 26,
          "metadata": {},
          "output_type": "execute_result"
        }
      ],
      "source": [
        "sorted(df['grade'].unique())"
      ]
    },
    {
      "cell_type": "code",
      "execution_count": null,
      "metadata": {
        "id": "gaNJ2LYDZYlk",
        "outputId": "357293a5-8165-4f4e-d59d-055d1f5f6854"
      },
      "outputs": [
        {
          "data": {
            "text/plain": [
              "['A1',\n",
              " 'A2',\n",
              " 'A3',\n",
              " 'A4',\n",
              " 'A5',\n",
              " 'B1',\n",
              " 'B2',\n",
              " 'B3',\n",
              " 'B4',\n",
              " 'B5',\n",
              " 'C1',\n",
              " 'C2',\n",
              " 'C3',\n",
              " 'C4',\n",
              " 'C5',\n",
              " 'D1',\n",
              " 'D2',\n",
              " 'D3',\n",
              " 'D4',\n",
              " 'D5',\n",
              " 'E1',\n",
              " 'E2',\n",
              " 'E3',\n",
              " 'E4',\n",
              " 'E5',\n",
              " 'F1',\n",
              " 'F2',\n",
              " 'F3',\n",
              " 'F4',\n",
              " 'F5',\n",
              " 'G1',\n",
              " 'G2',\n",
              " 'G3',\n",
              " 'G4',\n",
              " 'G5']"
            ]
          },
          "execution_count": 27,
          "metadata": {},
          "output_type": "execute_result"
        }
      ],
      "source": [
        "sorted(df['sub_grade'].unique())"
      ]
    },
    {
      "cell_type": "markdown",
      "metadata": {
        "id": "oUveU9bvZYlk"
      },
      "source": [
        "**TASK: Create a countplot per grade. Set the hue to the loan_status label.**"
      ]
    },
    {
      "cell_type": "code",
      "execution_count": null,
      "metadata": {
        "id": "VhihKm-2ZYlk",
        "outputId": "94dd86d6-0242-4cfc-d919-5c237f03b039"
      },
      "outputs": [
        {
          "data": {
            "text/plain": [
              "<matplotlib.axes._subplots.AxesSubplot at 0x2078f679ac8>"
            ]
          },
          "execution_count": 28,
          "metadata": {},
          "output_type": "execute_result"
        },
        {
          "data": {
            "image/png": "[encoded data removed]",
            "text/plain": [
              "<Figure size 432x288 with 1 Axes>"
            ]
          },
          "metadata": {
            "needs_background": "light"
          },
          "output_type": "display_data"
        }
      ],
      "source": [
        "sns.countplot(x='grade',data=df,hue='loan_status')"
      ]
    },
    {
      "cell_type": "markdown",
      "metadata": {
        "id": "d6WSIQOyZYlk"
      },
      "source": [
        "**TASK: Display a count plot per subgrade. You may need to resize for this plot and reorder the x axis. Feel free to edit the color palette. Explore both all loans made per subgrade as well being separated based on the loan_status**"
      ]
    },
    {
      "cell_type": "code",
      "execution_count": null,
      "metadata": {
        "id": "LeuFVbJaZYlk"
      },
      "outputs": [],
      "source": [
        "#CODE HERE"
      ]
    },
    {
      "cell_type": "code",
      "execution_count": null,
      "metadata": {
        "id": "MZq4WhDDZYlk",
        "outputId": "d9c7bd2e-f573-4808-afa0-4b31b783eb0d"
      },
      "outputs": [
        {
          "data": {
            "text/plain": [
              "<matplotlib.axes._subplots.AxesSubplot at 0x20798504288>"
            ]
          },
          "execution_count": 30,
          "metadata": {},
          "output_type": "execute_result"
        },
        {
          "data": {
            "image/png": "[encoded data removed]",
            "text/plain": [
              "<Figure size 864x288 with 1 Axes>"
            ]
          },
          "metadata": {
            "needs_background": "light"
          },
          "output_type": "display_data"
        }
      ],
      "source": [
        "plt.figure(figsize=(12,4))\n",
        "subgrade_order = sorted(df['sub_grade'].unique())\n",
        "sns.countplot(x='sub_grade',data=df,order = subgrade_order,palette='coolwarm' )"
      ]
    },
    {
      "cell_type": "code",
      "execution_count": null,
      "metadata": {
        "id": "B-5LhypYZYll"
      },
      "outputs": [],
      "source": [
        "# CODE HERE"
      ]
    },
    {
      "cell_type": "code",
      "execution_count": null,
      "metadata": {
        "id": "E9gdQgRhZYll",
        "outputId": "557c42d1-e92d-44fe-d3a8-280f26915651"
      },
      "outputs": [
        {
          "data": {
            "text/plain": [
              "<matplotlib.axes._subplots.AxesSubplot at 0x20798359608>"
            ]
          },
          "execution_count": 32,
          "metadata": {},
          "output_type": "execute_result"
        },
        {
          "data": {
            "image/png": "[encoded data removed]",
            "text/plain": [
              "<Figure size 864x288 with 1 Axes>"
            ]
          },
          "metadata": {
            "needs_background": "light"
          },
          "output_type": "display_data"
        }
      ],
      "source": [
        "plt.figure(figsize=(12,4))\n",
        "subgrade_order = sorted(df['sub_grade'].unique())\n",
        "sns.countplot(x='sub_grade',data=df,order = subgrade_order,palette='coolwarm' ,hue='loan_status')"
      ]
    },
    {
      "cell_type": "markdown",
      "metadata": {
        "id": "hpJRic9sZYll"
      },
      "source": [
        "**TASK: It looks like F and G subgrades don't get paid back that often. Isloate those and recreate the countplot just for those subgrades.**"
      ]
    },
    {
      "cell_type": "code",
      "execution_count": null,
      "metadata": {
        "id": "RfNeQj53ZYll"
      },
      "outputs": [],
      "source": [
        "# CODE HERE"
      ]
    },
    {
      "cell_type": "code",
      "execution_count": null,
      "metadata": {
        "id": "S5GrHKd7ZYll",
        "outputId": "b745f687-98f1-403f-be72-0554ddfac9d2"
      },
      "outputs": [
        {
          "data": {
            "text/plain": [
              "<matplotlib.axes._subplots.AxesSubplot at 0x20795ef7a88>"
            ]
          },
          "execution_count": 34,
          "metadata": {},
          "output_type": "execute_result"
        },
        {
          "data": {
            "image/png": "[encoded data removed]",
            "text/plain": [
              "<Figure size 864x288 with 1 Axes>"
            ]
          },
          "metadata": {
            "needs_background": "light"
          },
          "output_type": "display_data"
        }
      ],
      "source": [
        "f_and_g = df[(df['grade']=='G') | (df['grade']=='F')]\n",
        "\n",
        "plt.figure(figsize=(12,4))\n",
        "subgrade_order = sorted(f_and_g['sub_grade'].unique())\n",
        "sns.countplot(x='sub_grade',data=f_and_g,order = subgrade_order,hue='loan_status')"
      ]
    },
    {
      "cell_type": "markdown",
      "metadata": {
        "id": "FWX8B51wZYll"
      },
      "source": [
        "**TASK: Create a new column called 'load_repaid' which will contain a 1 if the loan status was \"Fully Paid\" and a 0 if it was \"Charged Off\".**"
      ]
    },
    {
      "cell_type": "code",
      "execution_count": null,
      "metadata": {
        "id": "iHKY0-ykZYlm"
      },
      "outputs": [],
      "source": [
        "# CODE HERE"
      ]
    },
    {
      "cell_type": "code",
      "execution_count": null,
      "metadata": {
        "id": "SpfysmMqZYlm",
        "outputId": "7fe251fd-b0ed-4b31-eae5-d53ae85d9d16"
      },
      "outputs": [
        {
          "data": {
            "text/plain": [
              "array(['Fully Paid', 'Charged Off'], dtype=object)"
            ]
          },
          "execution_count": 36,
          "metadata": {},
          "output_type": "execute_result"
        }
      ],
      "source": [
        "df['loan_status'].unique()"
      ]
    },
    {
      "cell_type": "code",
      "execution_count": null,
      "metadata": {
        "id": "34XUSKFfZYlm"
      },
      "outputs": [],
      "source": [
        "df['loan_repaid'] = df['loan_status'].map({'Fully Paid':1,'Charged Off':0})"
      ]
    },
    {
      "cell_type": "code",
      "execution_count": null,
      "metadata": {
        "id": "4wCvaz7cZYlm",
        "outputId": "811cab7b-85c7-4beb-b7a4-a8ba6240d0bd"
      },
      "outputs": [
        {
          "data": {
            "text/html": [
              "<div>\n",
              "<style scoped>\n",
              "    .dataframe tbody tr th:only-of-type {\n",
              "        vertical-align: middle;\n",
              "    }\n",
              "\n",
              "    .dataframe tbody tr th {\n",
              "        vertical-align: top;\n",
              "    }\n",
              "\n",
              "    .dataframe thead th {\n",
              "        text-align: right;\n",
              "    }\n",
              "</style>\n",
              "<table border=\"1\" class=\"dataframe\">\n",
              "  <thead>\n",
              "    <tr style=\"text-align: right;\">\n",
              "      <th></th>\n",
              "      <th>loan_repaid</th>\n",
              "      <th>loan_status</th>\n",
              "    </tr>\n",
              "  </thead>\n",
              "  <tbody>\n",
              "    <tr>\n",
              "      <th>0</th>\n",
              "      <td>1</td>\n",
              "      <td>Fully Paid</td>\n",
              "    </tr>\n",
              "    <tr>\n",
              "      <th>1</th>\n",
              "      <td>1</td>\n",
              "      <td>Fully Paid</td>\n",
              "    </tr>\n",
              "    <tr>\n",
              "      <th>2</th>\n",
              "      <td>1</td>\n",
              "      <td>Fully Paid</td>\n",
              "    </tr>\n",
              "    <tr>\n",
              "      <th>3</th>\n",
              "      <td>1</td>\n",
              "      <td>Fully Paid</td>\n",
              "    </tr>\n",
              "    <tr>\n",
              "      <th>4</th>\n",
              "      <td>0</td>\n",
              "      <td>Charged Off</td>\n",
              "    </tr>\n",
              "    <tr>\n",
              "      <th>...</th>\n",
              "      <td>...</td>\n",
              "      <td>...</td>\n",
              "    </tr>\n",
              "    <tr>\n",
              "      <th>396025</th>\n",
              "      <td>1</td>\n",
              "      <td>Fully Paid</td>\n",
              "    </tr>\n",
              "    <tr>\n",
              "      <th>396026</th>\n",
              "      <td>1</td>\n",
              "      <td>Fully Paid</td>\n",
              "    </tr>\n",
              "    <tr>\n",
              "      <th>396027</th>\n",
              "      <td>1</td>\n",
              "      <td>Fully Paid</td>\n",
              "    </tr>\n",
              "    <tr>\n",
              "      <th>396028</th>\n",
              "      <td>1</td>\n",
              "      <td>Fully Paid</td>\n",
              "    </tr>\n",
              "    <tr>\n",
              "      <th>396029</th>\n",
              "      <td>1</td>\n",
              "      <td>Fully Paid</td>\n",
              "    </tr>\n",
              "  </tbody>\n",
              "</table>\n",
              "<p>396030 rows × 2 columns</p>\n",
              "</div>"
            ],
            "text/plain": [
              "        loan_repaid  loan_status\n",
              "0                 1   Fully Paid\n",
              "1                 1   Fully Paid\n",
              "2                 1   Fully Paid\n",
              "3                 1   Fully Paid\n",
              "4                 0  Charged Off\n",
              "...             ...          ...\n",
              "396025            1   Fully Paid\n",
              "396026            1   Fully Paid\n",
              "396027            1   Fully Paid\n",
              "396028            1   Fully Paid\n",
              "396029            1   Fully Paid\n",
              "\n",
              "[396030 rows x 2 columns]"
            ]
          },
          "execution_count": 38,
          "metadata": {},
          "output_type": "execute_result"
        }
      ],
      "source": [
        "df[['loan_repaid','loan_status']]"
      ]
    },
    {
      "cell_type": "markdown",
      "metadata": {
        "id": "2TA7zy-XZYln"
      },
      "source": [
        "**CHALLENGE TASK: (Note this is hard, but can be done in one line!) Create a bar plot showing the correlation of the numeric features to the new loan_repaid column. [Helpful Link](https://pandas.pydata.org/pandas-docs/stable/reference/api/pandas.DataFrame.plot.bar.html)**"
      ]
    },
    {
      "cell_type": "code",
      "execution_count": null,
      "metadata": {
        "id": "Ox2n9cbjZYln"
      },
      "outputs": [],
      "source": [
        "#CODE HERE"
      ]
    },
    {
      "cell_type": "code",
      "execution_count": null,
      "metadata": {
        "id": "_wJ7r-lwZYln",
        "outputId": "38394ef7-d1e8-4a55-a647-ef066cc26c43"
      },
      "outputs": [
        {
          "data": {
            "text/plain": [
              "<matplotlib.axes._subplots.AxesSubplot at 0x20795034cc8>"
            ]
          },
          "execution_count": 40,
          "metadata": {},
          "output_type": "execute_result"
        },
        {
          "data": {
            "image/png": "[encoded data removed]",
            "text/plain": [
              "<Figure size 432x288 with 1 Axes>"
            ]
          },
          "metadata": {
            "needs_background": "light"
          },
          "output_type": "display_data"
        }
      ],
      "source": [
        "df.corr()['loan_repaid'].sort_values().drop('loan_repaid').plot(kind='bar')"
      ]
    },
    {
      "cell_type": "markdown",
      "metadata": {
        "id": "zvnuSvXSZYln"
      },
      "source": [
        "---\n",
        "---\n",
        "# Section 2: Data PreProcessing\n",
        "\n",
        "**Section Goals: Remove or fill any missing data. Remove unnecessary or repetitive features. Convert categorical string features to dummy variables.**\n",
        "\n"
      ]
    },
    {
      "cell_type": "code",
      "execution_count": null,
      "metadata": {
        "id": "J28kfM3LZYln",
        "outputId": "6884c10a-8106-4339-9f23-5781c6640d69"
      },
      "outputs": [
        {
          "data": {
            "text/html": [
              "<div>\n",
              "<style scoped>\n",
              "    .dataframe tbody tr th:only-of-type {\n",
              "        vertical-align: middle;\n",
              "    }\n",
              "\n",
              "    .dataframe tbody tr th {\n",
              "        vertical-align: top;\n",
              "    }\n",
              "\n",
              "    .dataframe thead th {\n",
              "        text-align: right;\n",
              "    }\n",
              "</style>\n",
              "<table border=\"1\" class=\"dataframe\">\n",
              "  <thead>\n",
              "    <tr style=\"text-align: right;\">\n",
              "      <th></th>\n",
              "      <th>loan_amnt</th>\n",
              "      <th>term</th>\n",
              "      <th>int_rate</th>\n",
              "      <th>installment</th>\n",
              "      <th>grade</th>\n",
              "      <th>sub_grade</th>\n",
              "      <th>emp_title</th>\n",
              "      <th>emp_length</th>\n",
              "      <th>home_ownership</th>\n",
              "      <th>annual_inc</th>\n",
              "      <th>...</th>\n",
              "      <th>pub_rec</th>\n",
              "      <th>revol_bal</th>\n",
              "      <th>revol_util</th>\n",
              "      <th>total_acc</th>\n",
              "      <th>initial_list_status</th>\n",
              "      <th>application_type</th>\n",
              "      <th>mort_acc</th>\n",
              "      <th>pub_rec_bankruptcies</th>\n",
              "      <th>address</th>\n",
              "      <th>loan_repaid</th>\n",
              "    </tr>\n",
              "  </thead>\n",
              "  <tbody>\n",
              "    <tr>\n",
              "      <th>0</th>\n",
              "      <td>10000.0</td>\n",
              "      <td>36 months</td>\n",
              "      <td>11.44</td>\n",
              "      <td>329.48</td>\n",
              "      <td>B</td>\n",
              "      <td>B4</td>\n",
              "      <td>Marketing</td>\n",
              "      <td>10+ years</td>\n",
              "      <td>RENT</td>\n",
              "      <td>117000.0</td>\n",
              "      <td>...</td>\n",
              "      <td>0.0</td>\n",
              "      <td>36369.0</td>\n",
              "      <td>41.8</td>\n",
              "      <td>25.0</td>\n",
              "      <td>w</td>\n",
              "      <td>INDIVIDUAL</td>\n",
              "      <td>0.0</td>\n",
              "      <td>0.0</td>\n",
              "      <td>0174 Michelle Gateway\\nMendozaberg, OK 22690</td>\n",
              "      <td>1</td>\n",
              "    </tr>\n",
              "    <tr>\n",
              "      <th>1</th>\n",
              "      <td>8000.0</td>\n",
              "      <td>36 months</td>\n",
              "      <td>11.99</td>\n",
              "      <td>265.68</td>\n",
              "      <td>B</td>\n",
              "      <td>B5</td>\n",
              "      <td>Credit analyst</td>\n",
              "      <td>4 years</td>\n",
              "      <td>MORTGAGE</td>\n",
              "      <td>65000.0</td>\n",
              "      <td>...</td>\n",
              "      <td>0.0</td>\n",
              "      <td>20131.0</td>\n",
              "      <td>53.3</td>\n",
              "      <td>27.0</td>\n",
              "      <td>f</td>\n",
              "      <td>INDIVIDUAL</td>\n",
              "      <td>3.0</td>\n",
              "      <td>0.0</td>\n",
              "      <td>1076 Carney Fort Apt. 347\\nLoganmouth, SD 05113</td>\n",
              "      <td>1</td>\n",
              "    </tr>\n",
              "    <tr>\n",
              "      <th>2</th>\n",
              "      <td>15600.0</td>\n",
              "      <td>36 months</td>\n",
              "      <td>10.49</td>\n",
              "      <td>506.97</td>\n",
              "      <td>B</td>\n",
              "      <td>B3</td>\n",
              "      <td>Statistician</td>\n",
              "      <td>&lt; 1 year</td>\n",
              "      <td>RENT</td>\n",
              "      <td>43057.0</td>\n",
              "      <td>...</td>\n",
              "      <td>0.0</td>\n",
              "      <td>11987.0</td>\n",
              "      <td>92.2</td>\n",
              "      <td>26.0</td>\n",
              "      <td>f</td>\n",
              "      <td>INDIVIDUAL</td>\n",
              "      <td>0.0</td>\n",
              "      <td>0.0</td>\n",
              "      <td>87025 Mark Dale Apt. 269\\nNew Sabrina, WV 05113</td>\n",
              "      <td>1</td>\n",
              "    </tr>\n",
              "    <tr>\n",
              "      <th>3</th>\n",
              "      <td>7200.0</td>\n",
              "      <td>36 months</td>\n",
              "      <td>6.49</td>\n",
              "      <td>220.65</td>\n",
              "      <td>A</td>\n",
              "      <td>A2</td>\n",
              "      <td>Client Advocate</td>\n",
              "      <td>6 years</td>\n",
              "      <td>RENT</td>\n",
              "      <td>54000.0</td>\n",
              "      <td>...</td>\n",
              "      <td>0.0</td>\n",
              "      <td>5472.0</td>\n",
              "      <td>21.5</td>\n",
              "      <td>13.0</td>\n",
              "      <td>f</td>\n",
              "      <td>INDIVIDUAL</td>\n",
              "      <td>0.0</td>\n",
              "      <td>0.0</td>\n",
              "      <td>823 Reid Ford\\nDelacruzside, MA 00813</td>\n",
              "      <td>1</td>\n",
              "    </tr>\n",
              "    <tr>\n",
              "      <th>4</th>\n",
              "      <td>24375.0</td>\n",
              "      <td>60 months</td>\n",
              "      <td>17.27</td>\n",
              "      <td>609.33</td>\n",
              "      <td>C</td>\n",
              "      <td>C5</td>\n",
              "      <td>Destiny Management Inc.</td>\n",
              "      <td>9 years</td>\n",
              "      <td>MORTGAGE</td>\n",
              "      <td>55000.0</td>\n",
              "      <td>...</td>\n",
              "      <td>0.0</td>\n",
              "      <td>24584.0</td>\n",
              "      <td>69.8</td>\n",
              "      <td>43.0</td>\n",
              "      <td>f</td>\n",
              "      <td>INDIVIDUAL</td>\n",
              "      <td>1.0</td>\n",
              "      <td>0.0</td>\n",
              "      <td>679 Luna Roads\\nGreggshire, VA 11650</td>\n",
              "      <td>0</td>\n",
              "    </tr>\n",
              "  </tbody>\n",
              "</table>\n",
              "<p>5 rows × 28 columns</p>\n",
              "</div>"
            ],
            "text/plain": [
              "   loan_amnt        term  int_rate  installment grade sub_grade  \\\n",
              "0    10000.0   36 months     11.44       329.48     B        B4   \n",
              "1     8000.0   36 months     11.99       265.68     B        B5   \n",
              "2    15600.0   36 months     10.49       506.97     B        B3   \n",
              "3     7200.0   36 months      6.49       220.65     A        A2   \n",
              "4    24375.0   60 months     17.27       609.33     C        C5   \n",
              "\n",
              "                 emp_title emp_length home_ownership  annual_inc  ... pub_rec  \\\n",
              "0                Marketing  10+ years           RENT    117000.0  ...     0.0   \n",
              "1          Credit analyst     4 years       MORTGAGE     65000.0  ...     0.0   \n",
              "2             Statistician   < 1 year           RENT     43057.0  ...     0.0   \n",
              "3          Client Advocate    6 years           RENT     54000.0  ...     0.0   \n",
              "4  Destiny Management Inc.    9 years       MORTGAGE     55000.0  ...     0.0   \n",
              "\n",
              "  revol_bal revol_util total_acc initial_list_status  application_type  \\\n",
              "0   36369.0       41.8      25.0                   w        INDIVIDUAL   \n",
              "1   20131.0       53.3      27.0                   f        INDIVIDUAL   \n",
              "2   11987.0       92.2      26.0                   f        INDIVIDUAL   \n",
              "3    5472.0       21.5      13.0                   f        INDIVIDUAL   \n",
              "4   24584.0       69.8      43.0                   f        INDIVIDUAL   \n",
              "\n",
              "  mort_acc  pub_rec_bankruptcies  \\\n",
              "0      0.0                   0.0   \n",
              "1      3.0                   0.0   \n",
              "2      0.0                   0.0   \n",
              "3      0.0                   0.0   \n",
              "4      1.0                   0.0   \n",
              "\n",
              "                                           address  loan_repaid  \n",
              "0     0174 Michelle Gateway\\nMendozaberg, OK 22690            1  \n",
              "1  1076 Carney Fort Apt. 347\\nLoganmouth, SD 05113            1  \n",
              "2  87025 Mark Dale Apt. 269\\nNew Sabrina, WV 05113            1  \n",
              "3            823 Reid Ford\\nDelacruzside, MA 00813            1  \n",
              "4             679 Luna Roads\\nGreggshire, VA 11650            0  \n",
              "\n",
              "[5 rows x 28 columns]"
            ]
          },
          "execution_count": 41,
          "metadata": {},
          "output_type": "execute_result"
        }
      ],
      "source": [
        "df.head()"
      ]
    },
    {
      "cell_type": "markdown",
      "metadata": {
        "id": "iwwoyDL9ZYlo"
      },
      "source": [
        "# Missing Data\n",
        "\n",
        "**Let's explore this missing data columns. We use a variety of factors to decide whether or not they would be useful, to see if we should keep, discard, or fill in the missing data.**"
      ]
    },
    {
      "cell_type": "markdown",
      "metadata": {
        "id": "CaONa-euZYlo"
      },
      "source": [
        "**TASK: What is the length of the dataframe?**"
      ]
    },
    {
      "cell_type": "code",
      "execution_count": null,
      "metadata": {
        "id": "oGnoIJ6xZYlo"
      },
      "outputs": [],
      "source": [
        "# CODE HERE"
      ]
    },
    {
      "cell_type": "code",
      "execution_count": null,
      "metadata": {
        "id": "EanCCBhyZYlo",
        "outputId": "cd35049b-78b1-4fb2-d2ab-677b938d1828"
      },
      "outputs": [
        {
          "data": {
            "text/plain": [
              "396030"
            ]
          },
          "execution_count": 43,
          "metadata": {},
          "output_type": "execute_result"
        }
      ],
      "source": [
        "len(df)"
      ]
    },
    {
      "cell_type": "markdown",
      "metadata": {
        "id": "fllw1K0cZYlo"
      },
      "source": [
        "**TASK: Create a Series that displays the total count of missing values per column.**"
      ]
    },
    {
      "cell_type": "code",
      "execution_count": null,
      "metadata": {
        "id": "Mry_0QlyZYlo"
      },
      "outputs": [],
      "source": [
        "# CODE HERE"
      ]
    },
    {
      "cell_type": "code",
      "execution_count": null,
      "metadata": {
        "id": "P-jSkI-0ZYlp",
        "outputId": "8c4813ef-091a-4ed5-e358-e1683e0d831a"
      },
      "outputs": [
        {
          "data": {
            "text/plain": [
              "loan_amnt                   0\n",
              "term                        0\n",
              "int_rate                    0\n",
              "installment                 0\n",
              "grade                       0\n",
              "sub_grade                   0\n",
              "emp_title               22927\n",
              "emp_length              18301\n",
              "home_ownership              0\n",
              "annual_inc                  0\n",
              "verification_status         0\n",
              "issue_d                     0\n",
              "loan_status                 0\n",
              "purpose                     0\n",
              "title                    1755\n",
              "dti                         0\n",
              "earliest_cr_line            0\n",
              "open_acc                    0\n",
              "pub_rec                     0\n",
              "revol_bal                   0\n",
              "revol_util                276\n",
              "total_acc                   0\n",
              "initial_list_status         0\n",
              "application_type            0\n",
              "mort_acc                37795\n",
              "pub_rec_bankruptcies      535\n",
              "address                     0\n",
              "loan_repaid                 0\n",
              "dtype: int64"
            ]
          },
          "execution_count": 45,
          "metadata": {},
          "output_type": "execute_result"
        }
      ],
      "source": [
        "df.isnull().sum()"
      ]
    },
    {
      "cell_type": "markdown",
      "metadata": {
        "id": "dSuoKzyLZYlp"
      },
      "source": [
        "**TASK: Convert this Series to be in term of percentage of the total DataFrame**"
      ]
    },
    {
      "cell_type": "code",
      "execution_count": null,
      "metadata": {
        "id": "5z1bY7ELZYlp"
      },
      "outputs": [],
      "source": [
        "# CODE HERE"
      ]
    },
    {
      "cell_type": "code",
      "execution_count": null,
      "metadata": {
        "id": "s5aBfMMNZYlp",
        "outputId": "f6f443bc-6702-44ae-8838-2840a20354b8"
      },
      "outputs": [
        {
          "data": {
            "text/plain": [
              "loan_amnt               0.000000\n",
              "term                    0.000000\n",
              "int_rate                0.000000\n",
              "installment             0.000000\n",
              "grade                   0.000000\n",
              "sub_grade               0.000000\n",
              "emp_title               5.789208\n",
              "emp_length              4.621115\n",
              "home_ownership          0.000000\n",
              "annual_inc              0.000000\n",
              "verification_status     0.000000\n",
              "issue_d                 0.000000\n",
              "loan_status             0.000000\n",
              "purpose                 0.000000\n",
              "title                   0.443148\n",
              "dti                     0.000000\n",
              "earliest_cr_line        0.000000\n",
              "open_acc                0.000000\n",
              "pub_rec                 0.000000\n",
              "revol_bal               0.000000\n",
              "revol_util              0.069692\n",
              "total_acc               0.000000\n",
              "initial_list_status     0.000000\n",
              "application_type        0.000000\n",
              "mort_acc                9.543469\n",
              "pub_rec_bankruptcies    0.135091\n",
              "address                 0.000000\n",
              "loan_repaid             0.000000\n",
              "dtype: float64"
            ]
          },
          "execution_count": 47,
          "metadata": {},
          "output_type": "execute_result"
        }
      ],
      "source": [
        "100* df.isnull().sum()/len(df)"
      ]
    },
    {
      "cell_type": "markdown",
      "metadata": {
        "id": "n2MTesJ5ZYlp"
      },
      "source": [
        "**TASK: Let's examine emp_title and emp_length to see whether it will be okay to drop them. Print out their feature information using the feat_info() function from the top of this notebook.**"
      ]
    },
    {
      "cell_type": "code",
      "execution_count": null,
      "metadata": {
        "id": "Ua6BxQ2JZYlq"
      },
      "outputs": [],
      "source": [
        "# CODE HERE"
      ]
    },
    {
      "cell_type": "code",
      "execution_count": null,
      "metadata": {
        "id": "9bfpoI9AZYlq",
        "outputId": "af9470ae-a3e1-4b17-acf8-d1ea589bcf3d"
      },
      "outputs": [
        {
          "name": "stdout",
          "output_type": "stream",
          "text": [
            "The job title supplied by the Borrower when applying for the loan.*\n",
            "\n",
            "\n",
            "Employment length in years. Possible values are between 0 and 10 where 0 means less than one year and 10 means ten or more years. \n"
          ]
        }
      ],
      "source": [
        "feat_info('emp_title')\n",
        "print('\\n')\n",
        "feat_info('emp_length')"
      ]
    },
    {
      "cell_type": "markdown",
      "metadata": {
        "id": "taoINbfjZYlq"
      },
      "source": [
        "**TASK: How many unique employment job titles are there?**"
      ]
    },
    {
      "cell_type": "code",
      "execution_count": null,
      "metadata": {
        "id": "1R8ueb3wZYlq"
      },
      "outputs": [],
      "source": [
        "# CODE HERE"
      ]
    },
    {
      "cell_type": "code",
      "execution_count": null,
      "metadata": {
        "id": "Ap4rRWzsZYlr",
        "outputId": "2b2aedd4-3123-4d6f-8db4-b3f81fc37ddb"
      },
      "outputs": [
        {
          "data": {
            "text/plain": [
              "173105"
            ]
          },
          "execution_count": 51,
          "metadata": {},
          "output_type": "execute_result"
        }
      ],
      "source": [
        "df['emp_title'].nunique()"
      ]
    },
    {
      "cell_type": "code",
      "execution_count": null,
      "metadata": {
        "id": "jNhVAwCjZYlr",
        "outputId": "87e169f4-142f-44b1-b424-4a9f574c4611"
      },
      "outputs": [
        {
          "data": {
            "text/plain": [
              "Teacher                           4389\n",
              "Manager                           4250\n",
              "Registered Nurse                  1856\n",
              "RN                                1846\n",
              "Supervisor                        1830\n",
              "                                  ... \n",
              "mechanic/lead                        1\n",
              "SUPV. MECHINE SHOP                   1\n",
              "Mcccd                                1\n",
              "Dr. Dennis Norkiewicz DDS            1\n",
              "bernie little distributing llc       1\n",
              "Name: emp_title, Length: 173105, dtype: int64"
            ]
          },
          "execution_count": 52,
          "metadata": {},
          "output_type": "execute_result"
        }
      ],
      "source": [
        "df['emp_title'].value_counts()"
      ]
    },
    {
      "cell_type": "markdown",
      "metadata": {
        "id": "DUON64o5ZYlr"
      },
      "source": [
        "**TASK: Realistically there are too many unique job titles to try to convert this to a dummy variable feature. Let's remove that emp_title column.**"
      ]
    },
    {
      "cell_type": "code",
      "execution_count": null,
      "metadata": {
        "id": "zf09HysYZYlr"
      },
      "outputs": [],
      "source": [
        "# CODE HERE"
      ]
    },
    {
      "cell_type": "code",
      "execution_count": null,
      "metadata": {
        "id": "IXH_984kZYls"
      },
      "outputs": [],
      "source": [
        "df = df.drop('emp_title',axis=1)"
      ]
    },
    {
      "cell_type": "markdown",
      "metadata": {
        "id": "srxMHRvUZYls"
      },
      "source": [
        "**TASK: Create a count plot of the emp_length feature column. Challenge: Sort the order of the values.**"
      ]
    },
    {
      "cell_type": "code",
      "execution_count": null,
      "metadata": {
        "id": "Y-4opGwbZYls"
      },
      "outputs": [],
      "source": [
        "# CODE HERE"
      ]
    },
    {
      "cell_type": "code",
      "execution_count": null,
      "metadata": {
        "id": "drbVow1TZYls",
        "outputId": "77429073-9f67-4dc1-db1c-c7831fb3a412"
      },
      "outputs": [
        {
          "data": {
            "text/plain": [
              "['1 year',\n",
              " '10+ years',\n",
              " '2 years',\n",
              " '3 years',\n",
              " '4 years',\n",
              " '5 years',\n",
              " '6 years',\n",
              " '7 years',\n",
              " '8 years',\n",
              " '9 years',\n",
              " '< 1 year']"
            ]
          },
          "execution_count": 56,
          "metadata": {},
          "output_type": "execute_result"
        }
      ],
      "source": [
        "sorted(df['emp_length'].dropna().unique())"
      ]
    },
    {
      "cell_type": "code",
      "execution_count": null,
      "metadata": {
        "id": "cej5HbTOZYls"
      },
      "outputs": [],
      "source": [
        "emp_length_order = [ '< 1 year',\n",
        "                      '1 year',\n",
        "                     '2 years',\n",
        "                     '3 years',\n",
        "                     '4 years',\n",
        "                     '5 years',\n",
        "                     '6 years',\n",
        "                     '7 years',\n",
        "                     '8 years',\n",
        "                     '9 years',\n",
        "                     '10+ years']"
      ]
    },
    {
      "cell_type": "code",
      "execution_count": null,
      "metadata": {
        "id": "i6N7sRa-ZYlt",
        "outputId": "4eb12a2b-7347-42d4-b890-1617e54dc9ec"
      },
      "outputs": [
        {
          "data": {
            "text/plain": [
              "<matplotlib.axes._subplots.AxesSubplot at 0x2079cee4f48>"
            ]
          },
          "execution_count": 58,
          "metadata": {},
          "output_type": "execute_result"
        },
        {
          "data": {
            "image/png": "[encoded data removed]",
            "text/plain": [
              "<Figure size 864x288 with 1 Axes>"
            ]
          },
          "metadata": {
            "needs_background": "light"
          },
          "output_type": "display_data"
        }
      ],
      "source": [
        "plt.figure(figsize=(12,4))\n",
        "\n",
        "sns.countplot(x='emp_length',data=df,order=emp_length_order)"
      ]
    },
    {
      "cell_type": "markdown",
      "metadata": {
        "id": "cQz-qkqSZYlt"
      },
      "source": [
        "**TASK: Plot out the countplot with a hue separating Fully Paid vs Charged Off**"
      ]
    },
    {
      "cell_type": "code",
      "execution_count": null,
      "metadata": {
        "id": "lR9l3sntZYlt"
      },
      "outputs": [],
      "source": [
        "# CODE HERE"
      ]
    },
    {
      "cell_type": "code",
      "execution_count": null,
      "metadata": {
        "id": "xDslJrTiZYlt",
        "outputId": "855b7fbc-831c-421f-d60e-7dabb191cda0"
      },
      "outputs": [
        {
          "data": {
            "text/plain": [
              "<matplotlib.axes._subplots.AxesSubplot at 0x20797fc6f48>"
            ]
          },
          "execution_count": 60,
          "metadata": {},
          "output_type": "execute_result"
        },
        {
          "data": {
            "image/png": "[encoded data removed]",
            "text/plain": [
              "<Figure size 864x288 with 1 Axes>"
            ]
          },
          "metadata": {
            "needs_background": "light"
          },
          "output_type": "display_data"
        }
      ],
      "source": [
        "plt.figure(figsize=(12,4))\n",
        "sns.countplot(x='emp_length',data=df,order=emp_length_order,hue='loan_status')"
      ]
    },
    {
      "cell_type": "markdown",
      "metadata": {
        "id": "3mEhdFphZYlt"
      },
      "source": [
        "**CHALLENGE TASK: This still doesn't really inform us if there is a strong relationship between employment length and being charged off, what we want is the percentage of charge offs per category. Essentially informing us what percent of people per employment category didn't pay back their loan. There are a multitude of ways to create this Series. Once you've created it, see if visualize it with a [bar plot](https://pandas.pydata.org/pandas-docs/version/0.23.4/generated/pandas.DataFrame.plot.html). This may be tricky, refer to solutions if you get stuck on creating this Series.**"
      ]
    },
    {
      "cell_type": "code",
      "execution_count": null,
      "metadata": {
        "id": "CF6zv5c0ZYlu"
      },
      "outputs": [],
      "source": [
        "# CODE HERE"
      ]
    },
    {
      "cell_type": "code",
      "execution_count": null,
      "metadata": {
        "id": "xbX3G2ZEZYlu"
      },
      "outputs": [],
      "source": [
        "emp_co = df[df['loan_status']==\"Charged Off\"].groupby(\"emp_length\").count()['loan_status']"
      ]
    },
    {
      "cell_type": "code",
      "execution_count": null,
      "metadata": {
        "id": "3EhoX_QtZYlu"
      },
      "outputs": [],
      "source": [
        "emp_fp = df[df['loan_status']==\"Fully Paid\"].groupby(\"emp_length\").count()['loan_status']"
      ]
    },
    {
      "cell_type": "code",
      "execution_count": null,
      "metadata": {
        "id": "TDUCQeH-ZYlu"
      },
      "outputs": [],
      "source": [
        "emp_len = emp_co/emp_fp"
      ]
    },
    {
      "cell_type": "code",
      "execution_count": null,
      "metadata": {
        "id": "ob56YQX5ZYlu",
        "outputId": "0302666b-e64a-435d-eb78-133ed5dfcc6c"
      },
      "outputs": [
        {
          "data": {
            "text/plain": [
              "emp_length\n",
              "1 year       0.248649\n",
              "10+ years    0.225770\n",
              "2 years      0.239560\n",
              "3 years      0.242593\n",
              "4 years      0.238213\n",
              "5 years      0.237911\n",
              "6 years      0.233341\n",
              "7 years      0.241887\n",
              "8 years      0.249625\n",
              "9 years      0.250735\n",
              "< 1 year     0.260830\n",
              "Name: loan_status, dtype: float64"
            ]
          },
          "execution_count": 65,
          "metadata": {},
          "output_type": "execute_result"
        }
      ],
      "source": [
        "emp_len"
      ]
    },
    {
      "cell_type": "code",
      "execution_count": null,
      "metadata": {
        "id": "GNSlhVBMZYlu",
        "outputId": "4d370a9b-a998-4028-a34a-7ab7511fd997"
      },
      "outputs": [
        {
          "data": {
            "text/plain": [
              "<matplotlib.axes._subplots.AxesSubplot at 0x20798297d88>"
            ]
          },
          "execution_count": 66,
          "metadata": {},
          "output_type": "execute_result"
        },
        {
          "data": {
            "image/png": "[encoded data removed]",
            "text/plain": [
              "<Figure size 432x288 with 1 Axes>"
            ]
          },
          "metadata": {
            "needs_background": "light"
          },
          "output_type": "display_data"
        }
      ],
      "source": [
        "emp_len.plot(kind='bar')"
      ]
    },
    {
      "cell_type": "markdown",
      "metadata": {
        "id": "kTEY-WB1ZYlu"
      },
      "source": [
        "**TASK: Charge off rates are extremely similar across all employment lengths. Go ahead and drop the emp_length column.**"
      ]
    },
    {
      "cell_type": "code",
      "execution_count": null,
      "metadata": {
        "id": "J6W34mxZZYlu"
      },
      "outputs": [],
      "source": [
        "# CODE HERE"
      ]
    },
    {
      "cell_type": "code",
      "execution_count": null,
      "metadata": {
        "id": "_uUe-g-XZYlv"
      },
      "outputs": [],
      "source": [
        "df = df.drop('emp_length',axis=1)"
      ]
    },
    {
      "cell_type": "markdown",
      "metadata": {
        "id": "QNKYmb3gZYlv"
      },
      "source": [
        "**TASK: Revisit the DataFrame to see what feature columns still have missing data.**"
      ]
    },
    {
      "cell_type": "code",
      "execution_count": null,
      "metadata": {
        "id": "7ez2y84xZYlv"
      },
      "outputs": [],
      "source": []
    },
    {
      "cell_type": "code",
      "execution_count": null,
      "metadata": {
        "id": "2sG3R-SNZYlv",
        "outputId": "f93b2e31-f012-41f7-e613-14e96777503d"
      },
      "outputs": [
        {
          "data": {
            "text/plain": [
              "loan_amnt                   0\n",
              "term                        0\n",
              "int_rate                    0\n",
              "installment                 0\n",
              "grade                       0\n",
              "sub_grade                   0\n",
              "home_ownership              0\n",
              "annual_inc                  0\n",
              "verification_status         0\n",
              "issue_d                     0\n",
              "loan_status                 0\n",
              "purpose                     0\n",
              "title                    1755\n",
              "dti                         0\n",
              "earliest_cr_line            0\n",
              "open_acc                    0\n",
              "pub_rec                     0\n",
              "revol_bal                   0\n",
              "revol_util                276\n",
              "total_acc                   0\n",
              "initial_list_status         0\n",
              "application_type            0\n",
              "mort_acc                37795\n",
              "pub_rec_bankruptcies      535\n",
              "address                     0\n",
              "loan_repaid                 0\n",
              "dtype: int64"
            ]
          },
          "execution_count": 69,
          "metadata": {},
          "output_type": "execute_result"
        }
      ],
      "source": [
        "df.isnull().sum()"
      ]
    },
    {
      "cell_type": "markdown",
      "metadata": {
        "id": "kNvhi6dJZYlv"
      },
      "source": [
        "**TASK: Review the title column vs the purpose column. Is this repeated information?**"
      ]
    },
    {
      "cell_type": "code",
      "execution_count": null,
      "metadata": {
        "id": "JKhmz56HZYlv"
      },
      "outputs": [],
      "source": [
        "# CODE HERE"
      ]
    },
    {
      "cell_type": "code",
      "execution_count": null,
      "metadata": {
        "id": "JgN8g8j1ZYlv",
        "outputId": "a545cf73-612b-4fba-de56-2cc91bd9479c"
      },
      "outputs": [
        {
          "data": {
            "text/plain": [
              "0              vacation\n",
              "1    debt_consolidation\n",
              "2           credit_card\n",
              "3           credit_card\n",
              "4           credit_card\n",
              "5    debt_consolidation\n",
              "6      home_improvement\n",
              "7           credit_card\n",
              "8    debt_consolidation\n",
              "9    debt_consolidation\n",
              "Name: purpose, dtype: object"
            ]
          },
          "execution_count": 71,
          "metadata": {},
          "output_type": "execute_result"
        }
      ],
      "source": [
        "df['purpose'].head(10)"
      ]
    },
    {
      "cell_type": "code",
      "execution_count": null,
      "metadata": {
        "id": "eWYVMN-kZYlw",
        "outputId": "bd8ef2cb-57b7-4ca6-a35d-0ab015f7f0a9"
      },
      "outputs": [
        {
          "data": {
            "text/plain": [
              "0                   Vacation\n",
              "1         Debt consolidation\n",
              "2    Credit card refinancing\n",
              "3    Credit card refinancing\n",
              "4      Credit Card Refinance\n",
              "5         Debt consolidation\n",
              "6           Home improvement\n",
              "7       No More Credit Cards\n",
              "8         Debt consolidation\n",
              "9         Debt Consolidation\n",
              "Name: title, dtype: object"
            ]
          },
          "execution_count": 72,
          "metadata": {},
          "output_type": "execute_result"
        }
      ],
      "source": [
        "df['title'].head(10)"
      ]
    },
    {
      "cell_type": "markdown",
      "metadata": {
        "id": "K5wKA79tZYlw"
      },
      "source": [
        "**TASK: The title column is simply a string subcategory/description of the purpose column. Go ahead and drop the title column.**"
      ]
    },
    {
      "cell_type": "code",
      "execution_count": null,
      "metadata": {
        "id": "BplznCJOZYlw"
      },
      "outputs": [],
      "source": [
        "# CODE HERE"
      ]
    },
    {
      "cell_type": "code",
      "execution_count": null,
      "metadata": {
        "id": "Q0vDZcJTZYlw"
      },
      "outputs": [],
      "source": [
        "df = df.drop('title',axis=1)"
      ]
    },
    {
      "cell_type": "markdown",
      "metadata": {
        "id": "F7soUUGvZYlw"
      },
      "source": [
        "---\n",
        "**NOTE: This is one of the hardest parts of the project! Refer to the solutions video if you need guidance, feel free to fill or drop the missing values of the mort_acc however you see fit! Here we're going with a very specific approach.**\n",
        "\n",
        "\n",
        "---\n",
        "**TASK: Find out what the mort_acc feature represents**"
      ]
    },
    {
      "cell_type": "code",
      "execution_count": null,
      "metadata": {
        "id": "36HpHgeCZYlw"
      },
      "outputs": [],
      "source": [
        "# CODE HERE"
      ]
    },
    {
      "cell_type": "code",
      "execution_count": null,
      "metadata": {
        "id": "0S_Fq_JNZYlx",
        "outputId": "1c8e7508-df5a-435f-f7a3-e0bbc25ce381"
      },
      "outputs": [
        {
          "name": "stdout",
          "output_type": "stream",
          "text": [
            "Number of mortgage accounts.\n"
          ]
        }
      ],
      "source": [
        "feat_info('mort_acc')"
      ]
    },
    {
      "cell_type": "markdown",
      "metadata": {
        "id": "5wJndtnRZYlx"
      },
      "source": [
        "**TASK: Create a value_counts of the mort_acc column.**"
      ]
    },
    {
      "cell_type": "code",
      "execution_count": null,
      "metadata": {
        "id": "2muOgKUiZYlx"
      },
      "outputs": [],
      "source": [
        "# CODE HERE"
      ]
    },
    {
      "cell_type": "code",
      "execution_count": null,
      "metadata": {
        "id": "Kzn6xGBnZYlx",
        "outputId": "14f7e34f-9ea0-41cd-d271-346cc80080b7"
      },
      "outputs": [
        {
          "data": {
            "text/plain": [
              "0.0     139777\n",
              "1.0      60416\n",
              "2.0      49948\n",
              "3.0      38049\n",
              "4.0      27887\n",
              "5.0      18194\n",
              "6.0      11069\n",
              "7.0       6052\n",
              "8.0       3121\n",
              "9.0       1656\n",
              "10.0       865\n",
              "11.0       479\n",
              "12.0       264\n",
              "13.0       146\n",
              "14.0       107\n",
              "15.0        61\n",
              "16.0        37\n",
              "17.0        22\n",
              "18.0        18\n",
              "19.0        15\n",
              "20.0        13\n",
              "24.0        10\n",
              "22.0         7\n",
              "21.0         4\n",
              "25.0         4\n",
              "27.0         3\n",
              "23.0         2\n",
              "32.0         2\n",
              "26.0         2\n",
              "31.0         2\n",
              "30.0         1\n",
              "28.0         1\n",
              "34.0         1\n",
              "Name: mort_acc, dtype: int64"
            ]
          },
          "execution_count": 78,
          "metadata": {},
          "output_type": "execute_result"
        }
      ],
      "source": [
        "df['mort_acc'].value_counts()"
      ]
    },
    {
      "cell_type": "markdown",
      "metadata": {
        "id": "JEzXSuLTZYl0"
      },
      "source": [
        "**TASK: There are many ways we could deal with this missing data. We could attempt to build a simple model to fill it in, such as a linear model, we could just fill it in based on the mean of the other columns, or you could even bin the columns into categories and then set NaN as its own category. There is no 100% correct approach! Let's review the other columsn to see which most highly correlates to mort_acc**"
      ]
    },
    {
      "cell_type": "code",
      "execution_count": null,
      "metadata": {
        "id": "EWrsElb3ZYl0"
      },
      "outputs": [],
      "source": []
    },
    {
      "cell_type": "code",
      "execution_count": null,
      "metadata": {
        "id": "ERGOilCbZYl0",
        "outputId": "e66ac879-c7a9-4059-ea33-c24596831ae0"
      },
      "outputs": [
        {
          "name": "stdout",
          "output_type": "stream",
          "text": [
            "Correlation with the mort_acc column\n"
          ]
        },
        {
          "data": {
            "text/plain": [
              "int_rate               -0.082583\n",
              "dti                    -0.025439\n",
              "revol_util              0.007514\n",
              "pub_rec                 0.011552\n",
              "pub_rec_bankruptcies    0.027239\n",
              "loan_repaid             0.073111\n",
              "open_acc                0.109205\n",
              "installment             0.193694\n",
              "revol_bal               0.194925\n",
              "loan_amnt               0.222315\n",
              "annual_inc              0.236320\n",
              "total_acc               0.381072\n",
              "mort_acc                1.000000\n",
              "Name: mort_acc, dtype: float64"
            ]
          },
          "execution_count": 79,
          "metadata": {},
          "output_type": "execute_result"
        }
      ],
      "source": [
        "print(\"Correlation with the mort_acc column\")\n",
        "df.corr()['mort_acc'].sort_values()"
      ]
    },
    {
      "cell_type": "markdown",
      "metadata": {
        "id": "5IO3f46SZYl1"
      },
      "source": [
        "**TASK: Looks like the total_acc feature correlates with the mort_acc , this makes sense! Let's try this fillna() approach. We will group the dataframe by the total_acc and calculate the mean value for the mort_acc per total_acc entry. To get the result below:**"
      ]
    },
    {
      "cell_type": "code",
      "execution_count": null,
      "metadata": {
        "id": "pxPL171UZYl1"
      },
      "outputs": [],
      "source": []
    },
    {
      "cell_type": "code",
      "execution_count": null,
      "metadata": {
        "id": "GvGKlsIkZYl1",
        "outputId": "2cdbf5cc-c8e9-4d57-b9d4-cf787923160b"
      },
      "outputs": [
        {
          "name": "stdout",
          "output_type": "stream",
          "text": [
            "Mean of mort_acc column per total_acc\n"
          ]
        },
        {
          "data": {
            "text/plain": [
              "total_acc\n",
              "2.0      0.000000\n",
              "3.0      0.052023\n",
              "4.0      0.066743\n",
              "5.0      0.103289\n",
              "6.0      0.151293\n",
              "           ...   \n",
              "124.0    1.000000\n",
              "129.0    1.000000\n",
              "135.0    3.000000\n",
              "150.0    2.000000\n",
              "151.0    0.000000\n",
              "Name: mort_acc, Length: 118, dtype: float64"
            ]
          },
          "execution_count": 80,
          "metadata": {},
          "output_type": "execute_result"
        }
      ],
      "source": [
        "print(\"Mean of mort_acc column per total_acc\")\n",
        "df.groupby('total_acc').mean()['mort_acc']"
      ]
    },
    {
      "cell_type": "markdown",
      "metadata": {
        "id": "ytuXUctQZYl1"
      },
      "source": [
        "**CHALLENGE TASK: Let's fill in the missing mort_acc values based on their total_acc value. If the mort_acc is missing, then we will fill in that missing value with the mean value corresponding to its total_acc value from the Series we created above. This involves using an .apply() method with two columns. Check out the link below for more info, or review the solutions video/notebook.**\n",
        "\n",
        "[Helpful Link](https://stackoverflow.com/questions/13331698/how-to-apply-a-function-to-two-columns-of-pandas-dataframe)"
      ]
    },
    {
      "cell_type": "code",
      "execution_count": null,
      "metadata": {
        "id": "1BwB8Vw8ZYl1"
      },
      "outputs": [],
      "source": [
        "# CODE HERE"
      ]
    },
    {
      "cell_type": "code",
      "execution_count": null,
      "metadata": {
        "id": "raxD-I3wZYl1"
      },
      "outputs": [],
      "source": [
        "total_acc_avg = df.groupby('total_acc').mean()['mort_acc']"
      ]
    },
    {
      "cell_type": "code",
      "execution_count": null,
      "metadata": {
        "id": "HZWuiGKxZYl2",
        "outputId": "a822e79c-270a-42f2-b04f-c071007c463c"
      },
      "outputs": [
        {
          "data": {
            "text/plain": [
              "0.0"
            ]
          },
          "execution_count": 83,
          "metadata": {},
          "output_type": "execute_result"
        }
      ],
      "source": [
        "total_acc_avg[2.0]"
      ]
    },
    {
      "cell_type": "code",
      "execution_count": null,
      "metadata": {
        "id": "QOnTKpfaZYl2"
      },
      "outputs": [],
      "source": [
        "def fill_mort_acc(total_acc,mort_acc):\n",
        "    '''\n",
        "    Accepts the total_acc and mort_acc values for the row.\n",
        "    Checks if the mort_acc is NaN , if so, it returns the avg mort_acc value\n",
        "    for the corresponding total_acc value for that row.\n",
        "\n",
        "    total_acc_avg here should be a Series or dictionary containing the mapping of the\n",
        "    groupby averages of mort_acc per total_acc values.\n",
        "    '''\n",
        "    if np.isnan(mort_acc):\n",
        "        return total_acc_avg[total_acc]\n",
        "    else:\n",
        "        return mort_acc"
      ]
    },
    {
      "cell_type": "code",
      "execution_count": null,
      "metadata": {
        "id": "VwaEElTNZYl2"
      },
      "outputs": [],
      "source": [
        "df['mort_acc'] = df.apply(lambda x: fill_mort_acc(x['total_acc'], x['mort_acc']), axis=1)"
      ]
    },
    {
      "cell_type": "code",
      "execution_count": null,
      "metadata": {
        "id": "TmxBCCj1ZYl2",
        "outputId": "a5d72aee-4760-46ed-b24d-e5b4489bfe0d"
      },
      "outputs": [
        {
          "data": {
            "text/plain": [
              "loan_amnt                 0\n",
              "term                      0\n",
              "int_rate                  0\n",
              "installment               0\n",
              "grade                     0\n",
              "sub_grade                 0\n",
              "home_ownership            0\n",
              "annual_inc                0\n",
              "verification_status       0\n",
              "issue_d                   0\n",
              "loan_status               0\n",
              "purpose                   0\n",
              "dti                       0\n",
              "earliest_cr_line          0\n",
              "open_acc                  0\n",
              "pub_rec                   0\n",
              "revol_bal                 0\n",
              "revol_util              276\n",
              "total_acc                 0\n",
              "initial_list_status       0\n",
              "application_type          0\n",
              "mort_acc                  0\n",
              "pub_rec_bankruptcies    535\n",
              "address                   0\n",
              "loan_repaid               0\n",
              "dtype: int64"
            ]
          },
          "execution_count": 86,
          "metadata": {},
          "output_type": "execute_result"
        }
      ],
      "source": [
        "df.isnull().sum()"
      ]
    },
    {
      "cell_type": "markdown",
      "metadata": {
        "id": "1HYlS4aHZYl3"
      },
      "source": [
        "**TASK: revol_util and the pub_rec_bankruptcies have missing data points, but they account for less than 0.5% of the total data. Go ahead and remove the rows that are missing those values in those columns with dropna().**"
      ]
    },
    {
      "cell_type": "code",
      "execution_count": null,
      "metadata": {
        "id": "EDHpCp35ZYl3"
      },
      "outputs": [],
      "source": [
        "# CODE HERE"
      ]
    },
    {
      "cell_type": "code",
      "execution_count": null,
      "metadata": {
        "id": "Lcw_MmYEZYl3"
      },
      "outputs": [],
      "source": [
        "df = df.dropna()"
      ]
    },
    {
      "cell_type": "code",
      "execution_count": null,
      "metadata": {
        "scrolled": true,
        "id": "H1zyaJMAZYl3",
        "outputId": "370902f6-7611-47fb-a846-977754d47e3e"
      },
      "outputs": [
        {
          "data": {
            "text/plain": [
              "loan_amnt               0\n",
              "term                    0\n",
              "int_rate                0\n",
              "installment             0\n",
              "grade                   0\n",
              "sub_grade               0\n",
              "home_ownership          0\n",
              "annual_inc              0\n",
              "verification_status     0\n",
              "issue_d                 0\n",
              "loan_status             0\n",
              "purpose                 0\n",
              "dti                     0\n",
              "earliest_cr_line        0\n",
              "open_acc                0\n",
              "pub_rec                 0\n",
              "revol_bal               0\n",
              "revol_util              0\n",
              "total_acc               0\n",
              "initial_list_status     0\n",
              "application_type        0\n",
              "mort_acc                0\n",
              "pub_rec_bankruptcies    0\n",
              "address                 0\n",
              "loan_repaid             0\n",
              "dtype: int64"
            ]
          },
          "execution_count": 89,
          "metadata": {},
          "output_type": "execute_result"
        }
      ],
      "source": [
        "df.isnull().sum()"
      ]
    },
    {
      "cell_type": "markdown",
      "metadata": {
        "id": "u8Ezsf82ZYl3"
      },
      "source": [
        "## Categorical Variables and Dummy Variables\n",
        "\n",
        "**We're done working with the missing data! Now we just need to deal with the string values due to the categorical columns.**\n",
        "\n",
        "**TASK: List all the columns that are currently non-numeric. [Helpful Link](https://stackoverflow.com/questions/22470690/get-list-of-pandas-dataframe-columns-based-on-data-type)**\n",
        "\n",
        "[Another very useful method call](https://pandas.pydata.org/pandas-docs/stable/reference/api/pandas.DataFrame.select_dtypes.html)"
      ]
    },
    {
      "cell_type": "code",
      "execution_count": null,
      "metadata": {
        "id": "YFn_mmq1ZYl3"
      },
      "outputs": [],
      "source": [
        "# CODE HERE"
      ]
    },
    {
      "cell_type": "code",
      "execution_count": null,
      "metadata": {
        "id": "56QczTLXZYl4",
        "outputId": "d0a4594f-0217-4efa-ce24-6453e726ef62"
      },
      "outputs": [
        {
          "data": {
            "text/plain": [
              "Index(['term', 'grade', 'sub_grade', 'home_ownership', 'verification_status',\n",
              "       'issue_d', 'loan_status', 'purpose', 'earliest_cr_line',\n",
              "       'initial_list_status', 'application_type', 'address'],\n",
              "      dtype='object')"
            ]
          },
          "execution_count": 91,
          "metadata": {},
          "output_type": "execute_result"
        }
      ],
      "source": [
        "df.select_dtypes(['object']).columns"
      ]
    },
    {
      "cell_type": "markdown",
      "metadata": {
        "id": "TaWvS3R2ZYl4"
      },
      "source": [
        "---\n",
        "**Let's now go through all the string features to see what we should do with them.**\n",
        "\n",
        "---\n",
        "\n",
        "\n",
        "### term feature\n",
        "\n",
        "**TASK: Convert the term feature into either a 36 or 60 integer numeric data type using .apply() or .map().**"
      ]
    },
    {
      "cell_type": "code",
      "execution_count": null,
      "metadata": {
        "id": "MJV2O0dvZYl4"
      },
      "outputs": [],
      "source": [
        "# CODE HERE"
      ]
    },
    {
      "cell_type": "code",
      "execution_count": null,
      "metadata": {
        "id": "xIgm6JbYZYl4",
        "outputId": "646fa13c-223b-47a3-ebd6-2cc31eb6aaf5"
      },
      "outputs": [
        {
          "data": {
            "text/plain": [
              " 36 months    301247\n",
              " 60 months     93972\n",
              "Name: term, dtype: int64"
            ]
          },
          "execution_count": 93,
          "metadata": {},
          "output_type": "execute_result"
        }
      ],
      "source": [
        "df['term'].value_counts()"
      ]
    },
    {
      "cell_type": "code",
      "execution_count": null,
      "metadata": {
        "id": "jJ1Ei21CZYl4"
      },
      "outputs": [],
      "source": [
        "# Or just use .map()\n",
        "df['term'] = df['term'].apply(lambda term: int(term[:3]))"
      ]
    },
    {
      "cell_type": "markdown",
      "metadata": {
        "id": "J3xCQU2vZYl4"
      },
      "source": [
        "### grade feature\n",
        "\n",
        "**TASK: We already know grade is part of sub_grade, so just drop the grade feature.**"
      ]
    },
    {
      "cell_type": "code",
      "execution_count": null,
      "metadata": {
        "id": "dNl-2WP-ZYl5"
      },
      "outputs": [],
      "source": [
        "# CODE HERE"
      ]
    },
    {
      "cell_type": "code",
      "execution_count": null,
      "metadata": {
        "id": "carTWkT3ZYl5"
      },
      "outputs": [],
      "source": [
        "df = df.drop('grade',axis=1)"
      ]
    },
    {
      "cell_type": "markdown",
      "metadata": {
        "id": "bCwsLRTUZYl5"
      },
      "source": [
        "**TASK: Convert the subgrade into dummy variables. Then concatenate these new columns to the original dataframe. Remember to drop the original subgrade column and to add drop_first=True to your get_dummies call.**"
      ]
    },
    {
      "cell_type": "code",
      "execution_count": null,
      "metadata": {
        "id": "GXFdRv-DZYl5"
      },
      "outputs": [],
      "source": [
        "# CODE HERE"
      ]
    },
    {
      "cell_type": "code",
      "execution_count": null,
      "metadata": {
        "id": "sSPKWWPHZYl5"
      },
      "outputs": [],
      "source": [
        "subgrade_dummies = pd.get_dummies(df['sub_grade'],drop_first=True)"
      ]
    },
    {
      "cell_type": "code",
      "execution_count": null,
      "metadata": {
        "id": "mt8wu7HxZYl5"
      },
      "outputs": [],
      "source": [
        "df = pd.concat([df.drop('sub_grade',axis=1),subgrade_dummies],axis=1)"
      ]
    },
    {
      "cell_type": "code",
      "execution_count": null,
      "metadata": {
        "id": "b6l4rC9MZYl6",
        "outputId": "798bfccb-ca9f-4e3e-9eb7-608390afdb71"
      },
      "outputs": [
        {
          "data": {
            "text/plain": [
              "Index(['loan_amnt', 'term', 'int_rate', 'installment', 'home_ownership',\n",
              "       'annual_inc', 'verification_status', 'issue_d', 'loan_status',\n",
              "       'purpose', 'dti', 'earliest_cr_line', 'open_acc', 'pub_rec',\n",
              "       'revol_bal', 'revol_util', 'total_acc', 'initial_list_status',\n",
              "       'application_type', 'mort_acc', 'pub_rec_bankruptcies', 'address',\n",
              "       'loan_repaid', 'A2', 'A3', 'A4', 'A5', 'B1', 'B2', 'B3', 'B4', 'B5',\n",
              "       'C1', 'C2', 'C3', 'C4', 'C5', 'D1', 'D2', 'D3', 'D4', 'D5', 'E1', 'E2',\n",
              "       'E3', 'E4', 'E5', 'F1', 'F2', 'F3', 'F4', 'F5', 'G1', 'G2', 'G3', 'G4',\n",
              "       'G5'],\n",
              "      dtype='object')"
            ]
          },
          "execution_count": 100,
          "metadata": {},
          "output_type": "execute_result"
        }
      ],
      "source": [
        "df.columns"
      ]
    },
    {
      "cell_type": "code",
      "execution_count": null,
      "metadata": {
        "id": "_TjncxLyZYl6",
        "outputId": "d773a6a3-95d7-40cc-de5e-55f703a1b543"
      },
      "outputs": [
        {
          "data": {
            "text/plain": [
              "Index(['home_ownership', 'verification_status', 'issue_d', 'loan_status',\n",
              "       'purpose', 'earliest_cr_line', 'initial_list_status',\n",
              "       'application_type', 'address'],\n",
              "      dtype='object')"
            ]
          },
          "execution_count": 101,
          "metadata": {},
          "output_type": "execute_result"
        }
      ],
      "source": [
        "df.select_dtypes(['object']).columns"
      ]
    },
    {
      "cell_type": "markdown",
      "metadata": {
        "id": "T2hsoT0TZYl6"
      },
      "source": [
        "### verification_status, application_type,initial_list_status,purpose\n",
        "**TASK: Convert these columns: ['verification_status', 'application_type','initial_list_status','purpose'] into dummy variables and concatenate them with the original dataframe. Remember to set drop_first=True and to drop the original columns.**"
      ]
    },
    {
      "cell_type": "code",
      "execution_count": null,
      "metadata": {
        "id": "mrTmYBmzZYl6"
      },
      "outputs": [],
      "source": [
        "# CODE HERE"
      ]
    },
    {
      "cell_type": "code",
      "execution_count": null,
      "metadata": {
        "id": "zEb9hY52ZYl6"
      },
      "outputs": [],
      "source": [
        "dummies = pd.get_dummies(df[['verification_status', 'application_type','initial_list_status','purpose' ]],drop_first=True)\n",
        "df = df.drop(['verification_status', 'application_type','initial_list_status','purpose'],axis=1)\n",
        "df = pd.concat([df,dummies],axis=1)"
      ]
    },
    {
      "cell_type": "code",
      "execution_count": null,
      "metadata": {
        "id": "lPk6IpVIZYl6"
      },
      "outputs": [],
      "source": []
    },
    {
      "cell_type": "markdown",
      "metadata": {
        "id": "ac2R9XReZYl7"
      },
      "source": [
        "### home_ownership\n",
        "**TASK:Review the value_counts for the home_ownership column.**"
      ]
    },
    {
      "cell_type": "code",
      "execution_count": null,
      "metadata": {
        "id": "vQMCld-jZYl7"
      },
      "outputs": [],
      "source": [
        "#CODE HERE"
      ]
    },
    {
      "cell_type": "code",
      "execution_count": null,
      "metadata": {
        "id": "t2E7gYOJZYl7",
        "outputId": "a6875c65-a587-4f6e-f38a-d818ac8e22e5"
      },
      "outputs": [
        {
          "data": {
            "text/plain": [
              "MORTGAGE    198022\n",
              "RENT        159395\n",
              "OWN          37660\n",
              "OTHER          110\n",
              "NONE            29\n",
              "ANY              3\n",
              "Name: home_ownership, dtype: int64"
            ]
          },
          "execution_count": 105,
          "metadata": {},
          "output_type": "execute_result"
        }
      ],
      "source": [
        "df['home_ownership'].value_counts()"
      ]
    },
    {
      "cell_type": "markdown",
      "metadata": {
        "id": "XI359JXFZYl7"
      },
      "source": [
        "**TASK: Convert these to dummy variables, but [replace](https://pandas.pydata.org/pandas-docs/stable/reference/api/pandas.DataFrame.replace.html) NONE and ANY with OTHER, so that we end up with just 4 categories, MORTGAGE, RENT, OWN, OTHER. Then concatenate them with the original dataframe. Remember to set drop_first=True and to drop the original columns.**"
      ]
    },
    {
      "cell_type": "code",
      "execution_count": null,
      "metadata": {
        "id": "oTFs7YB2ZYl7"
      },
      "outputs": [],
      "source": [
        "#CODE HERE"
      ]
    },
    {
      "cell_type": "code",
      "execution_count": null,
      "metadata": {
        "id": "a45MLMWtZYl7"
      },
      "outputs": [],
      "source": [
        "df['home_ownership']=df['home_ownership'].replace(['NONE', 'ANY'], 'OTHER')\n",
        "\n",
        "dummies = pd.get_dummies(df['home_ownership'],drop_first=True)\n",
        "df = df.drop('home_ownership',axis=1)\n",
        "df = pd.concat([df,dummies],axis=1)"
      ]
    },
    {
      "cell_type": "markdown",
      "metadata": {
        "id": "eZwBfq59ZYl8"
      },
      "source": [
        "### address\n",
        "**TASK: Let's feature engineer a zip code column from the address in the data set. Create a column called 'zip_code' that extracts the zip code from the address column.**"
      ]
    },
    {
      "cell_type": "code",
      "execution_count": null,
      "metadata": {
        "id": "kv6ZDxXtZYl8"
      },
      "outputs": [],
      "source": [
        "#CODE HERE"
      ]
    },
    {
      "cell_type": "code",
      "execution_count": null,
      "metadata": {
        "id": "wLIDdOdMZYl8"
      },
      "outputs": [],
      "source": [
        "df['zip_code'] = df['address'].apply(lambda address:address[-5:])"
      ]
    },
    {
      "cell_type": "markdown",
      "metadata": {
        "id": "EAly0H7EZYl8"
      },
      "source": [
        "**TASK: Now make this zip_code column into dummy variables using pandas. Concatenate the result and drop the original zip_code column along with dropping the address column.**"
      ]
    },
    {
      "cell_type": "code",
      "execution_count": null,
      "metadata": {
        "id": "V9xfQEYSZYl8"
      },
      "outputs": [],
      "source": []
    },
    {
      "cell_type": "code",
      "execution_count": null,
      "metadata": {
        "id": "y-pWA-DOZYl8"
      },
      "outputs": [],
      "source": [
        "dummies = pd.get_dummies(df['zip_code'],drop_first=True)\n",
        "df = df.drop(['zip_code','address'],axis=1)\n",
        "df = pd.concat([df,dummies],axis=1)"
      ]
    },
    {
      "cell_type": "markdown",
      "metadata": {
        "id": "UqLoRbtLZYl8"
      },
      "source": [
        "### issue_d\n",
        "\n",
        "**TASK: This would be data leakage, we wouldn't know beforehand whether or not a loan would be issued when using our model, so in theory we wouldn't have an issue_date, drop this feature.**"
      ]
    },
    {
      "cell_type": "code",
      "execution_count": null,
      "metadata": {
        "id": "q05d6njIZYl9"
      },
      "outputs": [],
      "source": [
        "#CODE HERE"
      ]
    },
    {
      "cell_type": "code",
      "execution_count": null,
      "metadata": {
        "id": "AdD8fOfIZYl9"
      },
      "outputs": [],
      "source": [
        "df = df.drop('issue_d',axis=1)"
      ]
    },
    {
      "cell_type": "markdown",
      "metadata": {
        "id": "_32F22fjZYl9"
      },
      "source": [
        "### earliest_cr_line\n",
        "**TASK: This appears to be a historical time stamp feature. Extract the year from this feature using a .apply function, then convert it to a numeric feature. Set this new data to a feature column called 'earliest_cr_year'.Then drop the earliest_cr_line feature.**"
      ]
    },
    {
      "cell_type": "code",
      "execution_count": null,
      "metadata": {
        "id": "lqpm0e6oZYl9"
      },
      "outputs": [],
      "source": [
        "#CODE HERE"
      ]
    },
    {
      "cell_type": "code",
      "execution_count": null,
      "metadata": {
        "id": "kxa9j3lLZYl9"
      },
      "outputs": [],
      "source": [
        "df['earliest_cr_year'] = df['earliest_cr_line'].apply(lambda date:int(date[-4:]))\n",
        "df = df.drop('earliest_cr_line',axis=1)"
      ]
    },
    {
      "cell_type": "code",
      "execution_count": null,
      "metadata": {
        "id": "5So0cyF8ZYl9",
        "outputId": "94cccdb0-1b09-4cbe-9c82-3bb8c136d4a0"
      },
      "outputs": [
        {
          "data": {
            "text/plain": [
              "Index(['loan_status'], dtype='object')"
            ]
          },
          "execution_count": 115,
          "metadata": {},
          "output_type": "execute_result"
        }
      ],
      "source": [
        "df.select_dtypes(['object']).columns"
      ]
    },
    {
      "cell_type": "markdown",
      "metadata": {
        "id": "hSVhUrYQZYl-"
      },
      "source": [
        "## Train Test Split"
      ]
    },
    {
      "cell_type": "markdown",
      "metadata": {
        "id": "m079pdSKZYl-"
      },
      "source": [
        "**TASK: Import train_test_split from sklearn.**"
      ]
    },
    {
      "cell_type": "code",
      "execution_count": null,
      "metadata": {
        "id": "ON9jlQvuZYl-"
      },
      "outputs": [],
      "source": [
        "from sklearn.model_selection import train_test_split"
      ]
    },
    {
      "cell_type": "markdown",
      "metadata": {
        "id": "X8ykyPYyZYl-"
      },
      "source": [
        "**TASK: drop the load_status column we created earlier, since its a duplicate of the loan_repaid column. We'll use the loan_repaid column since its already in 0s and 1s.**"
      ]
    },
    {
      "cell_type": "code",
      "execution_count": null,
      "metadata": {
        "id": "EVS1RULMZYl-"
      },
      "outputs": [],
      "source": [
        "# CODE HERE"
      ]
    },
    {
      "cell_type": "code",
      "execution_count": null,
      "metadata": {
        "id": "SdK7CWDSZYl_"
      },
      "outputs": [],
      "source": [
        "df = df.drop('loan_status',axis=1)"
      ]
    },
    {
      "cell_type": "markdown",
      "metadata": {
        "id": "1RBETUI9ZYl_"
      },
      "source": [
        "**TASK: Set X and y variables to the .values of the features and label.**"
      ]
    },
    {
      "cell_type": "code",
      "execution_count": null,
      "metadata": {
        "id": "3h5xgBWIZYl_"
      },
      "outputs": [],
      "source": [
        "#CODE HERE"
      ]
    },
    {
      "cell_type": "code",
      "execution_count": null,
      "metadata": {
        "id": "nt9A4pNvZYl_"
      },
      "outputs": [],
      "source": [
        "X = df.drop('loan_repaid',axis=1).values\n",
        "y = df['loan_repaid'].values"
      ]
    },
    {
      "cell_type": "markdown",
      "metadata": {
        "id": "zcgaZko1ZYl_"
      },
      "source": [
        "----\n",
        "----\n",
        "\n",
        "# OPTIONAL\n",
        "\n",
        "## Grabbing a Sample for Training Time\n",
        "\n",
        "### OPTIONAL: Use .sample() to grab a sample of the 490k+ entries to save time on training. Highly recommended for lower RAM computers or if you are not using GPU.\n",
        "\n",
        "----\n",
        "----"
      ]
    },
    {
      "cell_type": "code",
      "execution_count": null,
      "metadata": {
        "id": "DNek0lGtZYl_",
        "outputId": "b13ced82-5fdc-4017-fbd7-a3fac28870f6"
      },
      "outputs": [
        {
          "name": "stdout",
          "output_type": "stream",
          "text": [
            "395219\n"
          ]
        }
      ],
      "source": [
        "# df = df.sample(frac=0.1,random_state=101)\n",
        "print(len(df))"
      ]
    },
    {
      "cell_type": "markdown",
      "metadata": {
        "id": "HE_do2u-ZYmA"
      },
      "source": [
        "**TASK: Perform a train/test split with test_size=0.2 and a random_state of 101.**"
      ]
    },
    {
      "cell_type": "code",
      "execution_count": null,
      "metadata": {
        "id": "tLH9aZ_2ZYmA"
      },
      "outputs": [],
      "source": [
        "#CODE HERE"
      ]
    },
    {
      "cell_type": "code",
      "execution_count": null,
      "metadata": {
        "id": "jNx7ffBFZYmA"
      },
      "outputs": [],
      "source": [
        "X_train, X_test, y_train, y_test = train_test_split(X, y, test_size=0.20, random_state=101)"
      ]
    },
    {
      "cell_type": "markdown",
      "metadata": {
        "id": "pW0bW1WHZYmA"
      },
      "source": [
        "## Normalizing the Data\n",
        "\n",
        "**TASK: Use a MinMaxScaler to normalize the feature data X_train and X_test. Recall we don't want data leakge from the test set so we only fit on the X_train data.**"
      ]
    },
    {
      "cell_type": "code",
      "execution_count": null,
      "metadata": {
        "id": "VTwTHE7lZYmA"
      },
      "outputs": [],
      "source": [
        "# CODE HERE"
      ]
    },
    {
      "cell_type": "code",
      "execution_count": null,
      "metadata": {
        "id": "seuq8LA8ZYmA"
      },
      "outputs": [],
      "source": [
        "from sklearn.preprocessing import MinMaxScaler"
      ]
    },
    {
      "cell_type": "code",
      "execution_count": null,
      "metadata": {
        "id": "zyzZo8rpZYmA"
      },
      "outputs": [],
      "source": [
        "scaler = MinMaxScaler()"
      ]
    },
    {
      "cell_type": "code",
      "execution_count": null,
      "metadata": {
        "id": "vlBWFHJzZYmA"
      },
      "outputs": [],
      "source": [
        "X_train = scaler.fit_transform(X_train)"
      ]
    },
    {
      "cell_type": "code",
      "execution_count": null,
      "metadata": {
        "id": "mH1k3hP0ZYmB"
      },
      "outputs": [],
      "source": [
        "X_test = scaler.transform(X_test)"
      ]
    },
    {
      "cell_type": "markdown",
      "metadata": {
        "id": "3JJVFkjiZYmB"
      },
      "source": [
        "# Creating the Model\n",
        "\n",
        "**TASK: Run the cell below to import the necessary Keras functions.**"
      ]
    },
    {
      "cell_type": "code",
      "execution_count": null,
      "metadata": {
        "id": "7Gzbvyg-ZYmB"
      },
      "outputs": [],
      "source": [
        "import tensorflow as tf\n",
        "from tensorflow.keras.models import Sequential\n",
        "from tensorflow.keras.layers import Dense, Activation,Dropout\n",
        "from tensorflow.keras.constraints import max_norm"
      ]
    },
    {
      "cell_type": "markdown",
      "metadata": {
        "id": "YJ7cVdKTZYmB"
      },
      "source": [
        "**TASK: Build a sequential model to will be trained on the data. You have unlimited options here, but here is what the solution uses: a model that goes 78 --> 39 --> 19--> 1 output neuron. OPTIONAL: Explore adding [Dropout layers](https://keras.io/layers/core/) [1](https://en.wikipedia.org/wiki/Dropout_(neural_networks)) [2](https://towardsdatascience.com/machine-learning-part-20-dropout-keras-layers-explained-8c9f6dc4c9ab)**"
      ]
    },
    {
      "cell_type": "code",
      "execution_count": null,
      "metadata": {
        "id": "eqOoEdN8ZYmB"
      },
      "outputs": [],
      "source": [
        "# CODE HERE\n",
        "model = Sequential()\n",
        "\n",
        "# Choose whatever number of layers/neurons you want.\n",
        "\n",
        "# https://stats.stackexchange.com/questions/181/how-to-choose-the-number-of-hidden-layers-and-nodes-in-a-feedforward-neural-netw\n",
        "\n",
        "# Remember to compile()"
      ]
    },
    {
      "cell_type": "code",
      "execution_count": null,
      "metadata": {
        "id": "-FWv25SOZYmB"
      },
      "outputs": [],
      "source": [
        "model = Sequential()\n",
        "\n",
        "# https://stats.stackexchange.com/questions/181/how-to-choose-the-number-of-hidden-layers-and-nodes-in-a-feedforward-neural-netw\n",
        "\n",
        "\n",
        "# input layer\n",
        "model.add(Dense(78,  activation='relu'))\n",
        "model.add(Dropout(0.2))\n",
        "\n",
        "# hidden layer\n",
        "model.add(Dense(39, activation='relu'))\n",
        "model.add(Dropout(0.2))\n",
        "\n",
        "# hidden layer\n",
        "model.add(Dense(19, activation='relu'))\n",
        "model.add(Dropout(0.2))\n",
        "\n",
        "# output layer\n",
        "model.add(Dense(units=1,activation='sigmoid'))\n",
        "\n",
        "# Compile model\n",
        "model.compile(loss='binary_crossentropy', optimizer='adam')"
      ]
    },
    {
      "cell_type": "markdown",
      "metadata": {
        "id": "fjw-T3fEZYmC"
      },
      "source": [
        "**TASK: Fit the model to the training data for at least 25 epochs. Also add in the validation data for later plotting. Optional: add in a batch_size of 256.**"
      ]
    },
    {
      "cell_type": "code",
      "execution_count": null,
      "metadata": {
        "id": "KVILzbQyZYmC"
      },
      "outputs": [],
      "source": [
        "# CODE HERE"
      ]
    },
    {
      "cell_type": "code",
      "execution_count": null,
      "metadata": {
        "id": "P_PgR5rmZYmC",
        "outputId": "b887fbe9-f5db-4eaa-b090-65bf2da69f5b"
      },
      "outputs": [
        {
          "name": "stdout",
          "output_type": "stream",
          "text": [
            "Train on 316175 samples, validate on 79044 samples\n",
            "Epoch 1/25\n",
            "316175/316175 [==============================] - 4s 13us/sample - loss: 0.2959 - val_loss: 0.2652\n",
            "Epoch 2/25\n",
            "316175/316175 [==============================] - 3s 10us/sample - loss: 0.2652 - val_loss: 0.2643\n",
            "Epoch 3/25\n",
            "316175/316175 [==============================] - 3s 10us/sample - loss: 0.2628 - val_loss: 0.2626\n",
            "Epoch 4/25\n",
            "316175/316175 [==============================] - 3s 10us/sample - loss: 0.2613 - val_loss: 0.2621\n",
            "Epoch 5/25\n",
            "316175/316175 [==============================] - 3s 10us/sample - loss: 0.2609 - val_loss: 0.2621\n",
            "Epoch 6/25\n",
            "316175/316175 [==============================] - 3s 10us/sample - loss: 0.2603 - val_loss: 0.2618\n",
            "Epoch 7/25\n",
            "316175/316175 [==============================] - 3s 10us/sample - loss: 0.2600 - val_loss: 0.2616\n",
            "Epoch 8/25\n",
            "316175/316175 [==============================] - 3s 10us/sample - loss: 0.2595 - val_loss: 0.2616\n",
            "Epoch 9/25\n",
            "316175/316175 [==============================] - 3s 10us/sample - loss: 0.2593 - val_loss: 0.2620\n",
            "Epoch 10/25\n",
            "316175/316175 [==============================] - 3s 10us/sample - loss: 0.2589 - val_loss: 0.2609\n",
            "Epoch 11/25\n",
            "316175/316175 [==============================] - 3s 10us/sample - loss: 0.2588 - val_loss: 0.2613\n",
            "Epoch 12/25\n",
            "316175/316175 [==============================] - 3s 10us/sample - loss: 0.2584 - val_loss: 0.2607\n",
            "Epoch 13/25\n",
            "316175/316175 [==============================] - 3s 10us/sample - loss: 0.2581 - val_loss: 0.2613\n",
            "Epoch 14/25\n",
            "316175/316175 [==============================] - 3s 10us/sample - loss: 0.2580 - val_loss: 0.2605\n",
            "Epoch 15/25\n",
            "316175/316175 [==============================] - 3s 10us/sample - loss: 0.2580 - val_loss: 0.2607\n",
            "Epoch 16/25\n",
            "316175/316175 [==============================] - 3s 10us/sample - loss: 0.2574 - val_loss: 0.2609\n",
            "Epoch 17/25\n",
            "316175/316175 [==============================] - 3s 10us/sample - loss: 0.2575 - val_loss: 0.2606\n",
            "Epoch 18/25\n",
            "316175/316175 [==============================] - 3s 10us/sample - loss: 0.2573 - val_loss: 0.2614\n",
            "Epoch 19/25\n",
            "316175/316175 [==============================] - 3s 10us/sample - loss: 0.2572 - val_loss: 0.2611\n",
            "Epoch 20/25\n",
            "316175/316175 [==============================] - 3s 10us/sample - loss: 0.2567 - val_loss: 0.2606\n",
            "Epoch 21/25\n",
            "316175/316175 [==============================] - 3s 10us/sample - loss: 0.2569 - val_loss: 0.2606\n",
            "Epoch 22/25\n",
            "316175/316175 [==============================] - 3s 10us/sample - loss: 0.2565 - val_loss: 0.2608\n",
            "Epoch 23/25\n",
            "316175/316175 [==============================] - 3s 10us/sample - loss: 0.2564 - val_loss: 0.2612\n",
            "Epoch 24/25\n",
            "316175/316175 [==============================] - 3s 10us/sample - loss: 0.2561 - val_loss: 0.2609\n",
            "Epoch 25/25\n",
            "316175/316175 [==============================] - 3s 11us/sample - loss: 0.2560 - val_loss: 0.2612\n"
          ]
        },
        {
          "data": {
            "text/plain": [
              "<tensorflow.python.keras.callbacks.History at 0x20a2a8474c8>"
            ]
          },
          "execution_count": 133,
          "metadata": {},
          "output_type": "execute_result"
        }
      ],
      "source": [
        "model.fit(x=X_train,\n",
        "          y=y_train,\n",
        "          epochs=25,\n",
        "          batch_size=256,\n",
        "          validation_data=(X_test, y_test),\n",
        "          )"
      ]
    },
    {
      "cell_type": "markdown",
      "metadata": {
        "id": "wTja3t4YZYmC"
      },
      "source": [
        "**TASK: OPTIONAL: Save your model.**"
      ]
    },
    {
      "cell_type": "code",
      "execution_count": null,
      "metadata": {
        "id": "jLNl3XBPZYmD"
      },
      "outputs": [],
      "source": [
        "# CODE HERE"
      ]
    },
    {
      "cell_type": "code",
      "execution_count": null,
      "metadata": {
        "id": "p00UoAsSZYmD"
      },
      "outputs": [],
      "source": [
        "from tensorflow.keras.models import load_model"
      ]
    },
    {
      "cell_type": "code",
      "execution_count": null,
      "metadata": {
        "id": "7pCFuDCOZYmD"
      },
      "outputs": [],
      "source": [
        "model.save('full_data_project_model.h5')"
      ]
    },
    {
      "cell_type": "markdown",
      "metadata": {
        "id": "NsGsXKIPZYmD"
      },
      "source": [
        "# Section 3: Evaluating Model Performance.\n",
        "\n",
        "**TASK: Plot out the validation loss versus the training loss.**"
      ]
    },
    {
      "cell_type": "code",
      "execution_count": null,
      "metadata": {
        "id": "IODf1ZKbZYmD"
      },
      "outputs": [],
      "source": [
        "# CODE HERE"
      ]
    },
    {
      "cell_type": "code",
      "execution_count": null,
      "metadata": {
        "id": "C1oUULGfZYmD"
      },
      "outputs": [],
      "source": [
        "losses = pd.DataFrame(model.history.history)"
      ]
    },
    {
      "cell_type": "code",
      "execution_count": null,
      "metadata": {
        "id": "yET131XOZYmD",
        "outputId": "0dec1f91-1473-4a11-9f9b-8041fd30852a"
      },
      "outputs": [
        {
          "data": {
            "text/plain": [
              "<matplotlib.axes._subplots.AxesSubplot at 0x20a2cf62f48>"
            ]
          },
          "execution_count": 139,
          "metadata": {},
          "output_type": "execute_result"
        },
        {
          "data": {
            "image/png": "[encoded data removed]",
            "text/plain": [
              "<Figure size 432x288 with 1 Axes>"
            ]
          },
          "metadata": {
            "needs_background": "light"
          },
          "output_type": "display_data"
        }
      ],
      "source": [
        "losses[['loss','val_loss']].plot()"
      ]
    },
    {
      "cell_type": "markdown",
      "metadata": {
        "id": "gth-EMQMZYmE"
      },
      "source": [
        "**TASK: Create predictions from the X_test set and display a classification report and confusion matrix for the X_test set.**"
      ]
    },
    {
      "cell_type": "code",
      "execution_count": null,
      "metadata": {
        "id": "k6kc-KnMZYmE"
      },
      "outputs": [],
      "source": [
        "# CODE HERE"
      ]
    },
    {
      "cell_type": "code",
      "execution_count": null,
      "metadata": {
        "id": "grSSRdiLZYmE"
      },
      "outputs": [],
      "source": [
        "from sklearn.metrics import classification_report,confusion_matrix"
      ]
    },
    {
      "cell_type": "code",
      "execution_count": null,
      "metadata": {
        "id": "0v3CTUGpZYmE"
      },
      "outputs": [],
      "source": [
        "predictions = model.predict_classes(X_test)"
      ]
    },
    {
      "cell_type": "code",
      "execution_count": null,
      "metadata": {
        "id": "IP9eGq65ZYmE",
        "outputId": "3c73c86f-d8b9-4162-e229-65a43f794e2b"
      },
      "outputs": [
        {
          "name": "stdout",
          "output_type": "stream",
          "text": [
            "              precision    recall  f1-score   support\n",
            "\n",
            "           0       0.99      0.44      0.61     15658\n",
            "           1       0.88      1.00      0.93     63386\n",
            "\n",
            "    accuracy                           0.89     79044\n",
            "   macro avg       0.93      0.72      0.77     79044\n",
            "weighted avg       0.90      0.89      0.87     79044\n",
            "\n"
          ]
        }
      ],
      "source": [
        "print(classification_report(y_test,predictions))"
      ]
    },
    {
      "cell_type": "code",
      "execution_count": null,
      "metadata": {
        "id": "WvceS0WMZYmF",
        "outputId": "494c4171-a691-47b6-8aa5-9b9555e8d9e4"
      },
      "outputs": [
        {
          "data": {
            "text/plain": [
              "array([[ 6850,  8808],\n",
              "       [  100, 63286]], dtype=int64)"
            ]
          },
          "execution_count": 144,
          "metadata": {},
          "output_type": "execute_result"
        }
      ],
      "source": [
        "confusion_matrix(y_test,predictions)"
      ]
    },
    {
      "cell_type": "markdown",
      "metadata": {
        "id": "Dp7EZZurZYmF"
      },
      "source": [
        "**TASK: Given the customer below, would you offer this person a loan?**"
      ]
    },
    {
      "cell_type": "code",
      "execution_count": null,
      "metadata": {
        "id": "SLIf6ZbVZYmF",
        "outputId": "10fa151b-b6df-4c39-ca11-d5e417b83ac8"
      },
      "outputs": [
        {
          "data": {
            "text/plain": [
              "loan_amnt           25000.00\n",
              "term                    6.00\n",
              "int_rate               18.24\n",
              "installment           638.11\n",
              "annual_inc          61665.00\n",
              "                      ...   \n",
              "48052                   0.00\n",
              "70466                   0.00\n",
              "86630                   0.00\n",
              "93700                   0.00\n",
              "earliest_cr_year     1996.00\n",
              "Name: 305323, Length: 78, dtype: float64"
            ]
          },
          "execution_count": 145,
          "metadata": {},
          "output_type": "execute_result"
        }
      ],
      "source": [
        "import random\n",
        "random.seed(101)\n",
        "random_ind = random.randint(0,len(df))\n",
        "\n",
        "new_customer = df.drop('loan_repaid',axis=1).iloc[random_ind]\n",
        "new_customer"
      ]
    },
    {
      "cell_type": "code",
      "execution_count": null,
      "metadata": {
        "id": "krREap4kZYmF"
      },
      "outputs": [],
      "source": [
        "# CODE HERE"
      ]
    },
    {
      "cell_type": "code",
      "execution_count": null,
      "metadata": {
        "id": "NDgyrOd0ZYmF",
        "outputId": "3e94f198-9fb2-4658-97ce-6f6a2d6acf71"
      },
      "outputs": [
        {
          "data": {
            "text/plain": [
              "array([[1]])"
            ]
          },
          "execution_count": 147,
          "metadata": {},
          "output_type": "execute_result"
        }
      ],
      "source": [
        "model.predict_classes(new_customer.values.reshape(1,78))"
      ]
    },
    {
      "cell_type": "markdown",
      "metadata": {
        "id": "Fzx-41-jZYmG"
      },
      "source": [
        "**TASK: Now check, did this person actually end up paying back their loan?**"
      ]
    },
    {
      "cell_type": "code",
      "execution_count": null,
      "metadata": {
        "id": "UCCoeuzvZYmG"
      },
      "outputs": [],
      "source": [
        "# CODE HERE"
      ]
    },
    {
      "cell_type": "code",
      "execution_count": null,
      "metadata": {
        "id": "EzqZrfrlZYmG",
        "outputId": "ae97e263-7822-40b0-da00-f827ffbae68d"
      },
      "outputs": [
        {
          "data": {
            "text/plain": [
              "1.0"
            ]
          },
          "execution_count": 149,
          "metadata": {},
          "output_type": "execute_result"
        }
      ],
      "source": [
        "df.iloc[random_ind]['loan_repaid']"
      ]
    },
    {
      "cell_type": "markdown",
      "metadata": {
        "id": "sXc5JMFVZYmG"
      },
      "source": [
        "# GREAT JOB!"
      ]
    }
  ],
  "metadata": {
    "kernelspec": {
      "display_name": "Python 3",
      "language": "python",
      "name": "python3"
    },
    "language_info": {
      "codemirror_mode": {
        "name": "ipython",
        "version": 3
      },
      "file_extension": ".py",
      "mimetype": "text/x-python",
      "name": "python",
      "nbconvert_exporter": "python",
      "pygments_lexer": "ipython3",
      "version": "3.7.4"
    },
    "colab": {
      "provenance": [],
      "include_colab_link": true
    }
  },
  "nbformat": 4,
  "nbformat_minor": 0
}
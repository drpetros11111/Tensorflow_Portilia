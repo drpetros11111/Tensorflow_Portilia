{
  "cells": [
    {
      "cell_type": "markdown",
      "metadata": {
        "id": "view-in-github",
        "colab_type": "text"
      },
      "source": [
        "<a href=\"https://colab.research.google.com/github/drpetros11111/Tensorflow_Portilia/blob/Numpy/00_NumPy_Arrays.ipynb\" target=\"_parent\"><img src=\"https://colab.research.google.com/assets/colab-badge.svg\" alt=\"Open In Colab\"/></a>"
      ]
    },
    {
      "cell_type": "markdown",
      "metadata": {
        "id": "6ardfFjRJcNK"
      },
      "source": [
        "___\n",
        "\n",
        "<a href='http://www.pieriandata.com'><img src='../Pierian_Data_Logo.png'/></a>\n",
        "___\n",
        "<center><em>Copyright Pierian Data</em></center>\n",
        "<center><em>For more information, visit us at <a href='http://www.pieriandata.com'>www.pieriandata.com</a></em></center>"
      ]
    },
    {
      "cell_type": "markdown",
      "metadata": {
        "id": "bchnyjRBJcNM"
      },
      "source": [
        "# NumPy\n",
        "\n",
        "NumPy is a powerful linear algebra library for Python. What makes it so important is that almost all of the libraries in the <a href='https://pydata.org/'>PyData</a> ecosystem (pandas, scipy, scikit-learn, etc.) rely on NumPy as one of their main building blocks. Plus we will use it to generate data for our analysis examples later on!\n",
        "\n",
        "NumPy is also incredibly fast, as it has bindings to C libraries. For more info on why you would want to use arrays instead of lists, check out this great [StackOverflow post](http://stackoverflow.com/questions/993984/why-numpy-instead-of-python-lists).\n",
        "\n",
        "We will only learn the basics of NumPy."
      ]
    },
    {
      "cell_type": "markdown",
      "metadata": {
        "id": "ml9iKH_RJcNN"
      },
      "source": [
        "## Using NumPy\n",
        "\n",
        "Once you've installed NumPy you can import it as a library:"
      ]
    },
    {
      "cell_type": "code",
      "execution_count": null,
      "metadata": {
        "collapsed": true,
        "id": "tVbSAGz-JcNN"
      },
      "outputs": [],
      "source": [
        "import numpy as np"
      ]
    },
    {
      "cell_type": "markdown",
      "metadata": {
        "id": "-iHt04dNJcNO"
      },
      "source": [
        "NumPy has many built-in functions and capabilities. We won't cover them all but instead we will focus on some of the most important aspects of NumPy: vectors, arrays, matrices and number generation. Let's start by discussing arrays.\n",
        "\n",
        "# NumPy Arrays\n",
        "\n",
        "NumPy arrays are the main way we will use NumPy throughout the course. NumPy arrays essentially come in two flavors: vectors and matrices. Vectors are strictly 1-dimensional (1D) arrays and matrices are 2D (but you should note a matrix can still have only one row or one column).\n",
        "\n",
        "Let's begin our introduction by exploring how to create NumPy arrays.\n",
        "\n",
        "## Creating NumPy Arrays\n",
        "\n",
        "### From a Python List\n",
        "\n",
        "We can create an array by directly converting a list or list of lists:"
      ]
    },
    {
      "cell_type": "code",
      "execution_count": 1,
      "metadata": {
        "colab": {
          "base_uri": "https://localhost:8080/"
        },
        "id": "0Wuk70qBJcNO",
        "outputId": "821e1dcb-3114-4052-a752-fc87c606e3c9"
      },
      "outputs": [
        {
          "output_type": "execute_result",
          "data": {
            "text/plain": [
              "[1, 2, 3]"
            ]
          },
          "metadata": {},
          "execution_count": 1
        }
      ],
      "source": [
        "my_list = [1,2,3]\n",
        "my_list"
      ]
    },
    {
      "cell_type": "code",
      "execution_count": 3,
      "metadata": {
        "colab": {
          "base_uri": "https://localhost:8080/"
        },
        "id": "N-Xdw9plJcNP",
        "outputId": "4f89598c-54eb-48e0-b270-5571a3b38bd2"
      },
      "outputs": [
        {
          "output_type": "execute_result",
          "data": {
            "text/plain": [
              "array([1, 2, 3])"
            ]
          },
          "metadata": {},
          "execution_count": 3
        }
      ],
      "source": [
        "import numpy as np\n",
        "\n",
        "np.array(my_list)"
      ]
    },
    {
      "cell_type": "code",
      "execution_count": 4,
      "metadata": {
        "colab": {
          "base_uri": "https://localhost:8080/"
        },
        "id": "2N-bzpnBJcNP",
        "outputId": "eef07469-a056-440a-9436-af379a9864f5"
      },
      "outputs": [
        {
          "output_type": "execute_result",
          "data": {
            "text/plain": [
              "[[1, 2, 3], [4, 5, 6], [7, 8, 9]]"
            ]
          },
          "metadata": {},
          "execution_count": 4
        }
      ],
      "source": [
        "my_matrix = [[1,2,3],[4,5,6],[7,8,9]]\n",
        "my_matrix"
      ]
    },
    {
      "cell_type": "code",
      "execution_count": 5,
      "metadata": {
        "colab": {
          "base_uri": "https://localhost:8080/"
        },
        "id": "O_ire6IWJcNP",
        "outputId": "8a6c7469-1788-4783-8373-172ff9847aa3"
      },
      "outputs": [
        {
          "output_type": "execute_result",
          "data": {
            "text/plain": [
              "array([[1, 2, 3],\n",
              "       [4, 5, 6],\n",
              "       [7, 8, 9]])"
            ]
          },
          "metadata": {},
          "execution_count": 5
        }
      ],
      "source": [
        "np.array(my_matrix)"
      ]
    },
    {
      "cell_type": "markdown",
      "source": [
        "# Np Array\n",
        "When you use np.array(my_matrix) to transform a matrix into an array, you're converting a matrix-like object (such as a NumPy matrix or a nested list) into a NumPy array. Here's what you achieve by doing this:\n",
        "\n",
        "--------------------------\n",
        "#1. Convert to a General NumPy Array\n",
        "NumPy matrix objects are specifically designed for matrix algebra, but they have some limitations.\n",
        "\n",
        "For example, a matrix is always 2-dimensional.\n",
        "\n",
        "NumPy arrays are more flexible and can be multi-dimensional (1D, 2D, 3D, etc.), making them more versatile for numerical computations beyond just matrix operations.\n",
        "\n",
        "By converting a matrix to an array, you unlock the broader functionality of NumPy arrays, which are used in more contexts than just linear algebra.\n",
        "\n",
        "-----------------------------------\n",
        "#2. Access to Element-Wise Operations\n",
        "With NumPy arrays, operations are typically performed element-wise by default.\n",
        "\n",
        "This means that if you perform operations like addition, subtraction, multiplication, or division on two arrays, the operations will be applied element by element.\n",
        "\n",
        "In contrast, with NumPy matrices, * refers to matrix multiplication, and element-wise multiplication requires explicit functions like np.multiply().\n",
        "For example:\n",
        "\n",
        "    a = np.array([[1, 2], [3, 4]])\n",
        "    b = np.array([[2, 2], [2, 2]])\n",
        "    print(a * b)  # element-wise multiplication\n",
        "\n",
        "This is different from a NumPy matrix, where * would perform matrix multiplication.\n",
        "\n",
        "---------------------\n",
        "\n",
        "#3. More Consistency in NumPy Functions\n",
        "Many NumPy functions expect arrays rather than matrices as input.\n",
        "\n",
        "While NumPy supports both arrays and matrices, many high-level functions and libraries (like scipy, pandas, and matplotlib) work more smoothly with arrays.\n",
        "\n",
        "Converting a matrix to an array ensures compatibility with a wider range of NumPy functions and avoids unexpected behavior.\n",
        "\n",
        "-------------------------------------\n",
        "#4. Access to Multi-Dimensional Data Structures\n",
        "NumPy matrices are restricted to 2 dimensions, while arrays can have more dimensions. Converting to a NumPy array allows you to represent data with higher dimensions, such as tensors (used in deep learning).\n",
        "\n",
        "For example:\n",
        "\n",
        "    my_3d_array = np.array([[[1, 2], [3, 4]], [[5, 6], [7, 8]]])\n",
        "    print(my_3d_array.shape)  # Outputs (2, 2, 2) - a 3D array\n",
        "\n",
        "----------------------------\n",
        "#5. Deprecation of the Matrix Class\n",
        "The NumPy matrix class is discouraged for new code and is considered less flexible than arrays.\n",
        "\n",
        "The array class is preferred in modern NumPy code due to its greater versatility and generality.\n",
        "\n",
        "If you're working with matrices, converting them to arrays makes your code more future-proof and easier to integrate with current NumPy practices.\n",
        "\n",
        "Example:\n",
        "\n",
        "    import numpy as np\n",
        "    my_matrix = np.matrix([[1, 2], [3, 4]])\n",
        "    print(type(my_matrix))  # <class 'numpy.matrix'>\n",
        "\n",
        "    my_array = np.array(my_matrix)\n",
        "    print(type(my_array))  # <class 'numpy.ndarray'>\n",
        "\n",
        "Here, my_matrix is a NumPy matrix, and after the conversion, my_array is a NumPy array (numpy.ndarray).\n",
        "\n",
        "-------------------------------------\n",
        "\n",
        "#Summary of Benefits:\n",
        "Flexibility: Arrays support more than two dimensions.\n",
        "\n",
        "Element-wise operations: By default, operations are performed element-wise with arrays.\n",
        "\n",
        "Wider compatibility: NumPy arrays work with more functions and libraries.\n",
        "\n",
        "Future-proofing: Arrays are preferred in modern code over matrices.\n",
        "\n",
        "In short, converting a matrix to an array makes the data structure more flexible, consistent, and widely compatible for various operations in NumPy and other libraries."
      ],
      "metadata": {
        "id": "QMFHkJSwMWB7"
      }
    },
    {
      "cell_type": "markdown",
      "metadata": {
        "id": "9sOAy9FzJcNQ"
      },
      "source": [
        "## Built-in Methods\n",
        "\n",
        "There are lots of built-in ways to generate arrays."
      ]
    },
    {
      "cell_type": "markdown",
      "metadata": {
        "id": "cvMbJNLCJcNQ"
      },
      "source": [
        "### arange\n",
        "\n",
        "Return evenly spaced values within a given interval. [[reference](https://docs.scipy.org/doc/numpy-1.15.0/reference/generated/numpy.arange.html)]"
      ]
    },
    {
      "cell_type": "code",
      "execution_count": null,
      "metadata": {
        "id": "SD8xs_XGJcNQ",
        "outputId": "74007286-346f-4eed-9d03-5ab5bab2ea42"
      },
      "outputs": [
        {
          "data": {
            "text/plain": [
              "array([0, 1, 2, 3, 4, 5, 6, 7, 8, 9])"
            ]
          },
          "execution_count": 6,
          "metadata": {},
          "output_type": "execute_result"
        }
      ],
      "source": [
        "np.arange(0,10)"
      ]
    },
    {
      "cell_type": "code",
      "execution_count": null,
      "metadata": {
        "id": "vP_7IbykJcNQ",
        "outputId": "9c3f47ab-d6d7-415f-955c-dad7451572a3"
      },
      "outputs": [
        {
          "data": {
            "text/plain": [
              "array([ 0,  2,  4,  6,  8, 10])"
            ]
          },
          "execution_count": 7,
          "metadata": {},
          "output_type": "execute_result"
        }
      ],
      "source": [
        "np.arange(0,11,2)"
      ]
    },
    {
      "cell_type": "markdown",
      "metadata": {
        "id": "8ioTKp7hJcNR"
      },
      "source": [
        "### zeros and ones\n",
        "\n",
        "Generate arrays of zeros or ones. [[reference](https://docs.scipy.org/doc/numpy-1.15.0/reference/generated/numpy.zeros.html)]"
      ]
    },
    {
      "cell_type": "code",
      "execution_count": null,
      "metadata": {
        "id": "xbeiggP6JcNR",
        "outputId": "146ec87b-4531-4b4e-cbc1-dcd3882ade52"
      },
      "outputs": [
        {
          "data": {
            "text/plain": [
              "array([0., 0., 0.])"
            ]
          },
          "execution_count": 8,
          "metadata": {},
          "output_type": "execute_result"
        }
      ],
      "source": [
        "np.zeros(3)"
      ]
    },
    {
      "cell_type": "code",
      "execution_count": null,
      "metadata": {
        "id": "5s9eryThJcNR",
        "outputId": "a41e5201-8a78-4f91-8ffc-14596f149b84"
      },
      "outputs": [
        {
          "data": {
            "text/plain": [
              "array([[0., 0., 0., 0., 0.],\n",
              "       [0., 0., 0., 0., 0.],\n",
              "       [0., 0., 0., 0., 0.],\n",
              "       [0., 0., 0., 0., 0.],\n",
              "       [0., 0., 0., 0., 0.]])"
            ]
          },
          "execution_count": 9,
          "metadata": {},
          "output_type": "execute_result"
        }
      ],
      "source": [
        "np.zeros((5,5))"
      ]
    },
    {
      "cell_type": "code",
      "execution_count": null,
      "metadata": {
        "id": "Fj3lC6BNJcNR",
        "outputId": "5ed4105a-85c6-4c31-9bf0-32545cd9fa4b"
      },
      "outputs": [
        {
          "data": {
            "text/plain": [
              "array([1., 1., 1.])"
            ]
          },
          "execution_count": 10,
          "metadata": {},
          "output_type": "execute_result"
        }
      ],
      "source": [
        "np.ones(3)"
      ]
    },
    {
      "cell_type": "code",
      "execution_count": 6,
      "metadata": {
        "colab": {
          "base_uri": "https://localhost:8080/"
        },
        "id": "SuFSNs_FJcNR",
        "outputId": "b3a380fb-83ca-4356-f744-c3dd8d244fa9"
      },
      "outputs": [
        {
          "output_type": "execute_result",
          "data": {
            "text/plain": [
              "array([[1., 1., 1.],\n",
              "       [1., 1., 1.],\n",
              "       [1., 1., 1.]])"
            ]
          },
          "metadata": {},
          "execution_count": 6
        }
      ],
      "source": [
        "np.ones((3,3))"
      ]
    },
    {
      "cell_type": "markdown",
      "metadata": {
        "id": "UFYUrQG-JcNS"
      },
      "source": [
        "### linspace\n",
        "Return evenly spaced numbers over a specified interval. [[reference](https://www.numpy.org/devdocs/reference/generated/numpy.linspace.html)]"
      ]
    },
    {
      "cell_type": "code",
      "execution_count": 7,
      "metadata": {
        "colab": {
          "base_uri": "https://localhost:8080/"
        },
        "id": "PshddSo7JcNS",
        "outputId": "1b9b61c3-ba30-40ad-fee4-35e45ce0d073"
      },
      "outputs": [
        {
          "output_type": "execute_result",
          "data": {
            "text/plain": [
              "array([ 0.,  5., 10.])"
            ]
          },
          "metadata": {},
          "execution_count": 7
        }
      ],
      "source": [
        "np.linspace(0,10,3)"
      ]
    },
    {
      "cell_type": "code",
      "execution_count": 8,
      "metadata": {
        "colab": {
          "base_uri": "https://localhost:8080/"
        },
        "id": "V6LsF46wJcNS",
        "outputId": "f39ef5eb-c080-45ce-ccc0-3f9db8b8318c"
      },
      "outputs": [
        {
          "output_type": "execute_result",
          "data": {
            "text/plain": [
              "array([0.        , 0.26315789, 0.52631579, 0.78947368, 1.05263158,\n",
              "       1.31578947, 1.57894737, 1.84210526, 2.10526316, 2.36842105,\n",
              "       2.63157895, 2.89473684, 3.15789474, 3.42105263, 3.68421053,\n",
              "       3.94736842, 4.21052632, 4.47368421, 4.73684211, 5.        ])"
            ]
          },
          "metadata": {},
          "execution_count": 8
        }
      ],
      "source": [
        "np.linspace(0,5,20)"
      ]
    },
    {
      "cell_type": "markdown",
      "source": [
        "# Linespace\n",
        "The np.linspace(0, 5, 20) function from the NumPy library generates an array of evenly spaced numbers over a specified range. Here's a detailed explanation of its components:\n",
        "\n",
        "-------------------------\n",
        "Syntax:\n",
        "    np.linspace(start, stop, num)\n",
        "\n",
        "Where:\n",
        "\n",
        "start: The starting value of the range (in this case, 0).\n",
        "\n",
        "stop: The ending value of the range (in this case, 5).\n",
        "\n",
        "num: The number of evenly spaced samples to generate (in this case, 20).\n",
        "\n",
        "Explanation of np.linspace(0, 5, 20):\n",
        "\n",
        "Range:\n",
        "\n",
        "The function generates numbers from 0 to 5 (inclusive of both endpoints).\n",
        "Number of Samples:\n",
        "\n",
        "20 means that it will create 20 evenly spaced numbers between 0 and 5.\n",
        "Evenly Spaced:\n",
        "\n",
        "The interval between each number is calculated so that the numbers are evenly distributed between the starting value 0 and the ending value 5.\n",
        "\n",
        "Example:\n",
        "\n",
        "    import numpy as np\n",
        "    result = np.linspace(0, 5, 20)\n",
        "    print(result)\n",
        "\n",
        "This produces an array:\n",
        "\n",
        "[0.         0.26315789 0.52631579 0.78947368 1.05263158 1.31578947\n",
        " 1.57894737 1.84210526 2.10526316 2.36842105 2.63157895 2.89473684\n",
        " 3.15789474 3.42105263 3.68421053 3.94736842 4.21052632 4.47368421\n",
        " 4.73684211 5.        ]\n",
        "\n",
        "As you can see, the numbers start at 0, end at 5, and there are exactly 20 values between them, evenly spaced.\n",
        "\n",
        "-----------------------------\n",
        "#Key Points:\n",
        "Inclusive of endpoints: Both 0 (start) and 5 (stop) are included in the result.\n",
        "\n",
        "Even spacing: The values are evenly distributed, meaning the distance between consecutive elements is constant.\n",
        "\n",
        "Useful for plotting: np.linspace() is often used to generate values for the x-axis in plotting functions (e.g., creating a smooth curve).\n",
        "\n",
        "Formula for the spacing:\n",
        "The spacing between consecutive elements is:\n",
        "\n",
        "$$spacing\n",
        "=\n",
        "𝑠\n",
        "𝑡\n",
        "𝑜\n",
        "𝑝\n",
        "−\n",
        "𝑠\n",
        "𝑡\n",
        "𝑎\n",
        "𝑟\n",
        "𝑡\n",
        "𝑛\n",
        "𝑢\n",
        "𝑚\n",
        "−\n",
        "1\n",
        "spacing=\n",
        "num−1\n",
        "stop−start$$\n",
        "​\n",
        "So each consecutive value is separated by approximately 0.2632.\n",
        "\n",
        "----------------------\n",
        "#Summary\n",
        "np.linspace(0, 5, 20) generates 20 equally spaced numbers from 0 to 5, including both 0 and 5.\n",
        "\n",
        "It's commonly used in numerical computations and plotting where evenly spaced values over a specific range are needed."
      ],
      "metadata": {
        "id": "lFlEUjpMP_5V"
      }
    },
    {
      "cell_type": "markdown",
      "metadata": {
        "id": "0Q14wivVJcNS"
      },
      "source": [
        "<font color=green>Note that `.linspace()` *includes* the stop value. To obtain an array of common fractions, increase the number of items:</font>"
      ]
    },
    {
      "cell_type": "code",
      "execution_count": null,
      "metadata": {
        "id": "ii2QDrpUJcNS",
        "outputId": "6cb66a35-cf82-4818-8b8c-e5e7a6a314dc"
      },
      "outputs": [
        {
          "data": {
            "text/plain": [
              "array([0.  , 0.25, 0.5 , 0.75, 1.  , 1.25, 1.5 , 1.75, 2.  , 2.25, 2.5 ,\n",
              "       2.75, 3.  , 3.25, 3.5 , 3.75, 4.  , 4.25, 4.5 , 4.75, 5.  ])"
            ]
          },
          "execution_count": 14,
          "metadata": {},
          "output_type": "execute_result"
        }
      ],
      "source": [
        "np.linspace(0,5,21)"
      ]
    },
    {
      "cell_type": "markdown",
      "metadata": {
        "id": "X9kmk7DkJcNS"
      },
      "source": [
        "### eye\n",
        "\n",
        "Creates an identity matrix [[reference](https://docs.scipy.org/doc/numpy-1.15.0/reference/generated/numpy.eye.html)]"
      ]
    },
    {
      "cell_type": "code",
      "execution_count": null,
      "metadata": {
        "id": "KuTs17IqJcNT",
        "outputId": "62998790-c47a-4f62-c9b6-a411332168f7"
      },
      "outputs": [
        {
          "data": {
            "text/plain": [
              "array([[1., 0., 0., 0.],\n",
              "       [0., 1., 0., 0.],\n",
              "       [0., 0., 1., 0.],\n",
              "       [0., 0., 0., 1.]])"
            ]
          },
          "execution_count": 15,
          "metadata": {},
          "output_type": "execute_result"
        }
      ],
      "source": [
        "np.eye(4)"
      ]
    },
    {
      "cell_type": "markdown",
      "metadata": {
        "id": "sYSjhC08JcNT"
      },
      "source": [
        "## Random\n",
        "Numpy also has lots of ways to create random number arrays:\n",
        "\n",
        "### rand\n",
        "Creates an array of the given shape and populates it with random samples from a uniform distribution over ``[0, 1)``. [[reference](https://docs.scipy.org/doc/numpy-1.15.0/reference/generated/numpy.random.rand.html)]"
      ]
    },
    {
      "cell_type": "code",
      "execution_count": 9,
      "metadata": {
        "colab": {
          "base_uri": "https://localhost:8080/"
        },
        "id": "09jxEGVNJcNT",
        "outputId": "aa501a02-295a-41f6-a0f1-f8ed10bb5d73"
      },
      "outputs": [
        {
          "output_type": "execute_result",
          "data": {
            "text/plain": [
              "array([0.41891664, 0.2684813 ])"
            ]
          },
          "metadata": {},
          "execution_count": 9
        }
      ],
      "source": [
        "np.random.rand(2)"
      ]
    },
    {
      "cell_type": "code",
      "execution_count": 10,
      "metadata": {
        "colab": {
          "base_uri": "https://localhost:8080/"
        },
        "id": "dPphdJXtJcNT",
        "outputId": "0a833a51-b6d7-466f-f677-53e7b1ce13be"
      },
      "outputs": [
        {
          "output_type": "execute_result",
          "data": {
            "text/plain": [
              "array([[0.6195457 , 0.86845742, 0.06145989, 0.54057133, 0.42789311],\n",
              "       [0.40057192, 0.73054891, 0.38779001, 0.61517892, 0.99134199],\n",
              "       [0.46921519, 0.26025239, 0.20410361, 0.74921543, 0.14842917],\n",
              "       [0.07579683, 0.82750188, 0.8459314 , 0.44299275, 0.70651644],\n",
              "       [0.7228766 , 0.33269093, 0.76077668, 0.67342665, 0.84068824]])"
            ]
          },
          "metadata": {},
          "execution_count": 10
        }
      ],
      "source": [
        "np.random.rand(5,5)"
      ]
    },
    {
      "cell_type": "markdown",
      "metadata": {
        "id": "_K2EHD0IJcNU"
      },
      "source": [
        "### randn\n",
        "\n",
        "Returns a sample (or samples) from the \"standard normal\" distribution [σ = 1]. Unlike **rand** which is uniform, values closer to zero are more likely to appear. [[reference](https://docs.scipy.org/doc/numpy-1.15.0/reference/generated/numpy.random.randn.html)]"
      ]
    },
    {
      "cell_type": "code",
      "execution_count": 11,
      "metadata": {
        "colab": {
          "base_uri": "https://localhost:8080/"
        },
        "id": "v_vde0-LJcNU",
        "outputId": "47b8e517-3a46-4f5f-8419-3a5b3e0e846e"
      },
      "outputs": [
        {
          "output_type": "execute_result",
          "data": {
            "text/plain": [
              "array([ 2.19051732, -0.57149105])"
            ]
          },
          "metadata": {},
          "execution_count": 11
        }
      ],
      "source": [
        "np.random.randn(2)"
      ]
    },
    {
      "cell_type": "code",
      "execution_count": null,
      "metadata": {
        "id": "DquKrHT7JcNV",
        "outputId": "00e477f4-a1fd-4691-80ac-ce29c9fae87d"
      },
      "outputs": [
        {
          "data": {
            "text/plain": [
              "array([[-0.45241033,  1.07491082,  1.95698188,  0.40660223, -1.50445807],\n",
              "       [ 0.31434506, -2.16912609, -0.51237235,  0.78663583, -0.61824678],\n",
              "       [-0.17569928, -2.39139828,  0.30905559,  0.1616695 ,  0.33783857],\n",
              "       [-0.2206597 , -0.05768918,  0.74882883, -1.01241629, -1.81729966],\n",
              "       [-0.74891671,  0.88934796,  1.32275912, -0.71605188,  0.0450718 ]])"
            ]
          },
          "execution_count": 19,
          "metadata": {},
          "output_type": "execute_result"
        }
      ],
      "source": [
        "np.random.randn(5,5)"
      ]
    },
    {
      "cell_type": "markdown",
      "metadata": {
        "id": "lZgV1WPnJcNV"
      },
      "source": [
        "### randint\n",
        "Returns random integers from `low` (inclusive) to `high` (exclusive).  [[reference](https://docs.scipy.org/doc/numpy-1.15.0/reference/generated/numpy.random.randint.html)]"
      ]
    },
    {
      "cell_type": "code",
      "execution_count": 12,
      "metadata": {
        "colab": {
          "base_uri": "https://localhost:8080/"
        },
        "id": "l9OM0c5lJcNV",
        "outputId": "0ec07a7d-d432-4dae-cb54-7e45b87ec893"
      },
      "outputs": [
        {
          "output_type": "execute_result",
          "data": {
            "text/plain": [
              "19"
            ]
          },
          "metadata": {},
          "execution_count": 12
        }
      ],
      "source": [
        "np.random.randint(1,100)"
      ]
    },
    {
      "cell_type": "code",
      "execution_count": 13,
      "metadata": {
        "colab": {
          "base_uri": "https://localhost:8080/"
        },
        "id": "WoWrSdLiJcNV",
        "outputId": "2862777e-ca7c-4430-8003-400dac755368"
      },
      "outputs": [
        {
          "output_type": "execute_result",
          "data": {
            "text/plain": [
              "array([ 1, 28, 48, 11, 62, 92,  8,  9, 88, 55])"
            ]
          },
          "metadata": {},
          "execution_count": 13
        }
      ],
      "source": [
        "np.random.randint(1,100,10)"
      ]
    },
    {
      "cell_type": "markdown",
      "metadata": {
        "id": "Iceeq69BJcNV"
      },
      "source": [
        "### seed\n",
        "Can be used to set the random state, so that the same \"random\" results can be reproduced. [[reference](https://docs.scipy.org/doc/numpy-1.15.0/reference/generated/numpy.random.seed.html)]"
      ]
    },
    {
      "cell_type": "code",
      "execution_count": 14,
      "metadata": {
        "colab": {
          "base_uri": "https://localhost:8080/"
        },
        "id": "cfBEMrb5JcNW",
        "outputId": "4de39628-ca8c-4841-9a34-6ae2e7d916d7"
      },
      "outputs": [
        {
          "output_type": "execute_result",
          "data": {
            "text/plain": [
              "array([0.37454012, 0.95071431, 0.73199394, 0.59865848])"
            ]
          },
          "metadata": {},
          "execution_count": 14
        }
      ],
      "source": [
        "np.random.seed(42)\n",
        "np.random.rand(4)"
      ]
    },
    {
      "cell_type": "code",
      "execution_count": 15,
      "metadata": {
        "colab": {
          "base_uri": "https://localhost:8080/"
        },
        "id": "Bxxc-fveJcNW",
        "outputId": "564e145b-960f-4df5-c215-304e75d6dd94"
      },
      "outputs": [
        {
          "output_type": "execute_result",
          "data": {
            "text/plain": [
              "array([0.37454012, 0.95071431, 0.73199394, 0.59865848])"
            ]
          },
          "metadata": {},
          "execution_count": 15
        }
      ],
      "source": [
        "np.random.seed(42)\n",
        "np.random.rand(4)"
      ]
    },
    {
      "cell_type": "markdown",
      "metadata": {
        "id": "4XvfYXryJcNW"
      },
      "source": [
        "## Array Attributes and Methods\n",
        "\n",
        "Let's discuss some useful attributes and methods for an array:"
      ]
    },
    {
      "cell_type": "code",
      "execution_count": 16,
      "metadata": {
        "collapsed": true,
        "id": "OMaWxZg1JcNW"
      },
      "outputs": [],
      "source": [
        "arr = np.arange(25)\n",
        "ranarr = np.random.randint(0,50,10)"
      ]
    },
    {
      "cell_type": "code",
      "execution_count": 17,
      "metadata": {
        "colab": {
          "base_uri": "https://localhost:8080/"
        },
        "id": "g72GFe3yJcNm",
        "outputId": "a11e32fa-1c7d-45e3-b0f5-21874548fabf"
      },
      "outputs": [
        {
          "output_type": "execute_result",
          "data": {
            "text/plain": [
              "array([ 0,  1,  2,  3,  4,  5,  6,  7,  8,  9, 10, 11, 12, 13, 14, 15, 16,\n",
              "       17, 18, 19, 20, 21, 22, 23, 24])"
            ]
          },
          "metadata": {},
          "execution_count": 17
        }
      ],
      "source": [
        "arr"
      ]
    },
    {
      "cell_type": "code",
      "execution_count": 18,
      "metadata": {
        "colab": {
          "base_uri": "https://localhost:8080/"
        },
        "id": "RPaaI1ynJcNm",
        "outputId": "2a4691ae-dee0-4f79-8bb0-b424c72a079b"
      },
      "outputs": [
        {
          "output_type": "execute_result",
          "data": {
            "text/plain": [
              "array([38, 18, 22, 10, 10, 23, 35, 39, 23,  2])"
            ]
          },
          "metadata": {},
          "execution_count": 18
        }
      ],
      "source": [
        "ranarr"
      ]
    },
    {
      "cell_type": "markdown",
      "metadata": {
        "id": "nfb_HjH9JcNn"
      },
      "source": [
        "## Reshape\n",
        "Returns an array containing the same data with a new shape. [[reference](https://docs.scipy.org/doc/numpy-1.15.0/reference/generated/numpy.reshape.html)]"
      ]
    },
    {
      "cell_type": "code",
      "execution_count": 19,
      "metadata": {
        "colab": {
          "base_uri": "https://localhost:8080/"
        },
        "id": "XdUEWcVNJcNn",
        "outputId": "44a93022-a3b8-471c-a1af-bfd59ff95f85"
      },
      "outputs": [
        {
          "output_type": "execute_result",
          "data": {
            "text/plain": [
              "array([[ 0,  1,  2,  3,  4],\n",
              "       [ 5,  6,  7,  8,  9],\n",
              "       [10, 11, 12, 13, 14],\n",
              "       [15, 16, 17, 18, 19],\n",
              "       [20, 21, 22, 23, 24]])"
            ]
          },
          "metadata": {},
          "execution_count": 19
        }
      ],
      "source": [
        "arr.reshape(5,5)"
      ]
    },
    {
      "cell_type": "markdown",
      "metadata": {
        "id": "N46VmCD5JcNn"
      },
      "source": [
        "### max, min, argmax, argmin\n",
        "\n",
        "These are useful methods for finding max or min values. Or to find their index locations using argmin or argmax"
      ]
    },
    {
      "cell_type": "code",
      "execution_count": 20,
      "metadata": {
        "colab": {
          "base_uri": "https://localhost:8080/"
        },
        "id": "jYanJqf3JcNo",
        "outputId": "72f1b102-60ca-4379-d9f9-b2a4f2794a66"
      },
      "outputs": [
        {
          "output_type": "execute_result",
          "data": {
            "text/plain": [
              "array([38, 18, 22, 10, 10, 23, 35, 39, 23,  2])"
            ]
          },
          "metadata": {},
          "execution_count": 20
        }
      ],
      "source": [
        "ranarr"
      ]
    },
    {
      "cell_type": "code",
      "execution_count": 21,
      "metadata": {
        "colab": {
          "base_uri": "https://localhost:8080/"
        },
        "id": "fDv5I7HCJcNo",
        "outputId": "6e981b25-01be-429d-f0e4-e01df0136f2d"
      },
      "outputs": [
        {
          "output_type": "execute_result",
          "data": {
            "text/plain": [
              "39"
            ]
          },
          "metadata": {},
          "execution_count": 21
        }
      ],
      "source": [
        "ranarr.max()"
      ]
    },
    {
      "cell_type": "code",
      "execution_count": 22,
      "metadata": {
        "colab": {
          "base_uri": "https://localhost:8080/"
        },
        "id": "KXhiyIrqJcNo",
        "outputId": "b1b5f808-970b-4520-f2b8-d5cc7f519fd2"
      },
      "outputs": [
        {
          "output_type": "execute_result",
          "data": {
            "text/plain": [
              "7"
            ]
          },
          "metadata": {},
          "execution_count": 22
        }
      ],
      "source": [
        "ranarr.argmax()"
      ]
    },
    {
      "cell_type": "markdown",
      "source": [
        "\n",
        "The function ranarr.argmax() is a NumPy method that returns the index of the maximum value in the array ranarr."
      ],
      "metadata": {
        "id": "xn28plNrT2Mh"
      }
    },
    {
      "cell_type": "code",
      "execution_count": null,
      "metadata": {
        "id": "iS_YBsi9JcNp",
        "outputId": "56d48bca-5f93-4c67-a561-234259706147"
      },
      "outputs": [
        {
          "data": {
            "text/plain": [
              "2"
            ]
          },
          "execution_count": 31,
          "metadata": {},
          "output_type": "execute_result"
        }
      ],
      "source": [
        "ranarr.min()"
      ]
    },
    {
      "cell_type": "code",
      "execution_count": null,
      "metadata": {
        "id": "5sbQhQchJcNp",
        "outputId": "21b3cfb6-8a9c-4dae-8260-dce1733b26bf"
      },
      "outputs": [
        {
          "data": {
            "text/plain": [
              "9"
            ]
          },
          "execution_count": 32,
          "metadata": {},
          "output_type": "execute_result"
        }
      ],
      "source": [
        "ranarr.argmin()"
      ]
    },
    {
      "cell_type": "markdown",
      "metadata": {
        "id": "wgPe9doZJcNq"
      },
      "source": [
        "## Shape\n",
        "\n",
        "Shape is an attribute that arrays have (not a method):  [[reference](https://docs.scipy.org/doc/numpy-1.15.0/reference/generated/numpy.ndarray.shape.html)]"
      ]
    },
    {
      "cell_type": "code",
      "execution_count": null,
      "metadata": {
        "id": "LMky06i2JcNq",
        "outputId": "71535886-de06-4620-bbba-29ed75c34957"
      },
      "outputs": [
        {
          "data": {
            "text/plain": [
              "(25,)"
            ]
          },
          "execution_count": 33,
          "metadata": {},
          "output_type": "execute_result"
        }
      ],
      "source": [
        "# Vector\n",
        "arr.shape"
      ]
    },
    {
      "cell_type": "code",
      "execution_count": null,
      "metadata": {
        "id": "zvXjFQ3UJcNq",
        "outputId": "90c8db2a-48d3-4772-826e-be8080e28644"
      },
      "outputs": [
        {
          "data": {
            "text/plain": [
              "array([[ 0,  1,  2,  3,  4,  5,  6,  7,  8,  9, 10, 11, 12, 13, 14, 15,\n",
              "        16, 17, 18, 19, 20, 21, 22, 23, 24]])"
            ]
          },
          "execution_count": 34,
          "metadata": {},
          "output_type": "execute_result"
        }
      ],
      "source": [
        "# Notice the two sets of brackets\n",
        "arr.reshape(1,25)"
      ]
    },
    {
      "cell_type": "code",
      "execution_count": null,
      "metadata": {
        "id": "_E2x6mWoJcNr",
        "outputId": "350e9291-fbff-4dd4-ffec-5b3bf9b37e8a"
      },
      "outputs": [
        {
          "data": {
            "text/plain": [
              "(1, 25)"
            ]
          },
          "execution_count": 35,
          "metadata": {},
          "output_type": "execute_result"
        }
      ],
      "source": [
        "arr.reshape(1,25).shape"
      ]
    },
    {
      "cell_type": "code",
      "execution_count": null,
      "metadata": {
        "id": "v7hUB3cVJcNr",
        "outputId": "e56dd019-840c-4bee-de5b-9ae0968d0f58"
      },
      "outputs": [
        {
          "data": {
            "text/plain": [
              "array([[ 0],\n",
              "       [ 1],\n",
              "       [ 2],\n",
              "       [ 3],\n",
              "       [ 4],\n",
              "       [ 5],\n",
              "       [ 6],\n",
              "       [ 7],\n",
              "       [ 8],\n",
              "       [ 9],\n",
              "       [10],\n",
              "       [11],\n",
              "       [12],\n",
              "       [13],\n",
              "       [14],\n",
              "       [15],\n",
              "       [16],\n",
              "       [17],\n",
              "       [18],\n",
              "       [19],\n",
              "       [20],\n",
              "       [21],\n",
              "       [22],\n",
              "       [23],\n",
              "       [24]])"
            ]
          },
          "execution_count": 36,
          "metadata": {},
          "output_type": "execute_result"
        }
      ],
      "source": [
        "arr.reshape(25,1)"
      ]
    },
    {
      "cell_type": "code",
      "execution_count": null,
      "metadata": {
        "id": "8T1AkrOAJcNr",
        "outputId": "7a848399-7ba7-4709-ff2e-3be2e78bcaa8"
      },
      "outputs": [
        {
          "data": {
            "text/plain": [
              "(25, 1)"
            ]
          },
          "execution_count": 37,
          "metadata": {},
          "output_type": "execute_result"
        }
      ],
      "source": [
        "arr.reshape(25,1).shape"
      ]
    },
    {
      "cell_type": "markdown",
      "metadata": {
        "id": "B1xDWj0vJcNs"
      },
      "source": [
        "### dtype\n",
        "\n",
        "You can also grab the data type of the object in the array: [[reference](https://docs.scipy.org/doc/numpy-1.15.0/reference/generated/numpy.ndarray.dtype.html)]"
      ]
    },
    {
      "cell_type": "code",
      "execution_count": null,
      "metadata": {
        "id": "VUCDf8n3JcNs",
        "outputId": "d4f80a74-3d3e-48e6-f85e-32a116d00211"
      },
      "outputs": [
        {
          "data": {
            "text/plain": [
              "dtype('int32')"
            ]
          },
          "execution_count": 38,
          "metadata": {},
          "output_type": "execute_result"
        }
      ],
      "source": [
        "arr.dtype"
      ]
    },
    {
      "cell_type": "code",
      "execution_count": null,
      "metadata": {
        "id": "y0xbwtxYJcNt",
        "outputId": "354e7175-155d-4942-fe40-f8cfddbf281f"
      },
      "outputs": [
        {
          "data": {
            "text/plain": [
              "dtype('float64')"
            ]
          },
          "execution_count": 39,
          "metadata": {},
          "output_type": "execute_result"
        }
      ],
      "source": [
        "arr2 = np.array([1.2, 3.4, 5.6])\n",
        "arr2.dtype"
      ]
    },
    {
      "cell_type": "markdown",
      "metadata": {
        "id": "G7QATWQ7JcNt"
      },
      "source": [
        "# Great Job!"
      ]
    }
  ],
  "metadata": {
    "anaconda-cloud": {},
    "kernelspec": {
      "display_name": "Python 3",
      "language": "python",
      "name": "python3"
    },
    "language_info": {
      "codemirror_mode": {
        "name": "ipython",
        "version": 3
      },
      "file_extension": ".py",
      "mimetype": "text/x-python",
      "name": "python",
      "nbconvert_exporter": "python",
      "pygments_lexer": "ipython3",
      "version": "3.7.4"
    },
    "colab": {
      "provenance": [],
      "include_colab_link": true
    }
  },
  "nbformat": 4,
  "nbformat_minor": 0
}